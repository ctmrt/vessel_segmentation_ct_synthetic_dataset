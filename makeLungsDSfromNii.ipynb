{
 "cells": [
  {
   "cell_type": "markdown",
   "metadata": {},
   "source": [
    "This script creates .png dataset from initial .nii pairs ./nii/PXXX.nii -> ./niimasks/PXXX_mask.nii"
   ]
  },
  {
   "cell_type": "code",
   "execution_count": 1,
   "metadata": {},
   "outputs": [],
   "source": [
    "SRCNIIDIR = \"D:/_DIAG/datasets/sklif/norma/nii/\"\n",
    "SRCMASKDIR = \"D:/_DIAG/datasets/sklif/norma/niimasks/\"\n",
    "OUTIMGDIR = \"./ds_lungseg/images5/\"\n",
    "OUTMASKDIR = \"./ds_lungseg/masks5/\""
   ]
  },
  {
   "cell_type": "code",
   "execution_count": 4,
   "metadata": {},
   "outputs": [],
   "source": [
    "SRCNIIDIR = \"D:/_DIAG/datasets/sklif/mat_steklo_kons/nii/\"\n",
    "SRCMASKDIR = \"D:/_DIAG/datasets/sklif/mat_steklo_kons/niimasks/\"\n",
    "OUTIMGDIR = \"./ds_lungseg/imagestest/\"\n",
    "OUTMASKDIR = \"./ds_lungseg/maskstest/\""
   ]
  },
  {
   "cell_type": "code",
   "execution_count": 5,
   "metadata": {},
   "outputs": [],
   "source": [
    "import scipy, numpy, shutil, os, nibabel\n",
    "import sys, getopt\n",
    "\n",
    "import imageio\n",
    "\n",
    "\n",
    "def convertAndSave(inputfile = '',outputfile = ''):\n",
    "    \n",
    "    print('Input file is ', inputfile)\n",
    "    print('Output folder is ', outputfile)\n",
    "    ask_rotate = 'y'\n",
    "    ask_rotate_num = 270\n",
    "\n",
    "    # set fn as your 4d nifti file\n",
    "    image_array = nibabel.load(inputfile).get_fdata()\n",
    "    \n",
    "    #b = nib.load(msk)   b=b.get_fdata()   print(\"mask case_{:05d}\".format(i))   b=resize(b,(b.shape[0],128,128))   b=b[:,:,:]\n",
    "    \n",
    "    print(len(image_array.shape))\n",
    "\n",
    "    if len(image_array.shape) == 3:\n",
    "        # set 4d array dimension values\n",
    "        nx, ny, nz = image_array.shape\n",
    "\n",
    "        # set destination folder\n",
    "        if not os.path.exists(outputfile):\n",
    "            os.makedirs(outputfile)\n",
    "            print(\"Created ouput directory: \" + outputfile)\n",
    "\n",
    "        print('Reading NIfTI file...')\n",
    "\n",
    "        total_slices = image_array.shape[2]\n",
    "\n",
    "        slice_counter = 0\n",
    "        # iterate through slices\n",
    "        for current_slice in range(0, total_slices):\n",
    "            slice_counter += 1\n",
    "            # alternate slices\n",
    "            #we take every 5th slice\n",
    "            if (slice_counter % 5) == 0:\n",
    "                # rotate or no rotate\n",
    "                if ask_rotate.lower() == 'y':\n",
    "                    if ask_rotate_num == 90 or ask_rotate_num == 180 or ask_rotate_num == 270:\n",
    "                        if ask_rotate_num == 90:\n",
    "                            data = numpy.rot90(image_array[:, :, current_slice])\n",
    "                        elif ask_rotate_num == 180:\n",
    "                            data = numpy.rot90(numpy.rot90(image_array[:, :, current_slice]))\n",
    "                        elif ask_rotate_num == 270:\n",
    "                            data = numpy.rot90(numpy.rot90(numpy.rot90(image_array[:, :, current_slice])))\n",
    "                elif ask_rotate.lower() == 'n':\n",
    "                    data = image_array[:, :, current_slice]\n",
    "\n",
    "                #alternate slices and save as png\n",
    "                if (slice_counter % 1) == 0:\n",
    "                    print('Saving image...')\n",
    "                    image_name = inputfile[:-4] + \"_z\" + \"{:0>3}\".format(str(current_slice+1))+ \".png\"\n",
    "\n",
    "                    #remove \"mask\" from the name\n",
    "                    image_name = image_name.replace('_mask', '')\n",
    "\n",
    "                    imageio.imwrite(image_name, data)\n",
    "                    print('Saved.')\n",
    "\n",
    "                    #move images to folder\n",
    "                    print('Moving image...')\n",
    "                    src = image_name\n",
    "                    shutil.move(src, outputfile)\n",
    "                    slice_counter += 1\n",
    "                    print('Moved.')\n",
    "\n",
    "        print('Finished converting images')\n",
    "    else:\n",
    "        print('Not a 3D or 4D Image. Please try again.')\n",
    "\n"
   ]
  },
  {
   "cell_type": "code",
   "execution_count": 6,
   "metadata": {},
   "outputs": [],
   "source": [
    "pname=\"P012\"\n",
    "pname=\"P019\" #blank\n",
    "pname=\"P029\"\n",
    "pname=\"P044\"\n",
    "pname=\"P050\"\n",
    "pname=\"P051\"\n",
    "pname=\"P053\"\n",
    "pname=\"P056\"\n",
    "pname=\"P061\"\n",
    "pname=\"P073\"\n",
    "#pname=\"P076\" #for test!!\n",
    "pname=\"P120\""
   ]
  },
  {
   "cell_type": "code",
   "execution_count": 7,
   "metadata": {},
   "outputs": [
    {
     "name": "stdout",
     "output_type": "stream",
     "text": [
      "Input file is  D:/_DIAG/datasets/sklif/mat_steklo_kons/nii/P120.nii\n",
      "Output folder is  ./ds_lungseg/imagestest/\n"
     ]
    },
    {
     "name": "stderr",
     "output_type": "stream",
     "text": [
      "Lossy conversion from float64 to uint8. Range [-1024.0, 1105.0]. Convert image to uint8 prior to saving to suppress this warning.\n"
     ]
    },
    {
     "name": "stdout",
     "output_type": "stream",
     "text": [
      "3\n",
      "Reading NIfTI file...\n",
      "Saving image...\n",
      "Saved."
     ]
    },
    {
     "name": "stderr",
     "output_type": "stream",
     "text": [
      "Lossy conversion from float64 to uint8. Range [-1024.0, 1022.0]. Convert image to uint8 prior to saving to suppress this warning.\n",
      "Lossy conversion from float64 to uint8. Range [-1024.0, 1105.0]. Convert image to uint8 prior to saving to suppress this warning.\n"
     ]
    },
    {
     "name": "stdout",
     "output_type": "stream",
     "text": [
      "\n",
      "Moving image...\n",
      "Moved.\n",
      "Saving image...\n",
      "Saved.\n",
      "Moving image...\n",
      "Moved.\n",
      "Saving image...\n"
     ]
    },
    {
     "name": "stderr",
     "output_type": "stream",
     "text": [
      "Lossy conversion from float64 to uint8. Range [-1024.0, 1116.0]. Convert image to uint8 prior to saving to suppress this warning.\n",
      "Lossy conversion from float64 to uint8. Range [-1024.0, 1140.0]. Convert image to uint8 prior to saving to suppress this warning.\n"
     ]
    },
    {
     "name": "stdout",
     "output_type": "stream",
     "text": [
      "Saved.\n",
      "Moving image...\n",
      "Moved.\n",
      "Saving image...\n",
      "Saved.\n",
      "Moving image...\n",
      "Moved.\n",
      "Saving image...\n"
     ]
    },
    {
     "name": "stderr",
     "output_type": "stream",
     "text": [
      "Lossy conversion from float64 to uint8. Range [-1024.0, 1151.0]. Convert image to uint8 prior to saving to suppress this warning.\n",
      "Lossy conversion from float64 to uint8. Range [-1024.0, 1043.0]. Convert image to uint8 prior to saving to suppress this warning.\n"
     ]
    },
    {
     "name": "stdout",
     "output_type": "stream",
     "text": [
      "Saved.\n",
      "Moving image...\n",
      "Moved.\n",
      "Saving image...\n",
      "Saved.\n",
      "Moving image...\n",
      "Moved.\n",
      "Saving image...\n"
     ]
    },
    {
     "name": "stderr",
     "output_type": "stream",
     "text": [
      "Lossy conversion from float64 to uint8. Range [-1024.0, 1095.0]. Convert image to uint8 prior to saving to suppress this warning.\n",
      "Lossy conversion from float64 to uint8. Range [-1024.0, 1012.0]. Convert image to uint8 prior to saving to suppress this warning.\n"
     ]
    },
    {
     "name": "stdout",
     "output_type": "stream",
     "text": [
      "Saved.\n",
      "Moving image...\n",
      "Moved.\n",
      "Saving image...\n",
      "Saved.\n",
      "Moving image...\n",
      "Moved.\n",
      "Saving image...\n"
     ]
    },
    {
     "name": "stderr",
     "output_type": "stream",
     "text": [
      "Lossy conversion from float64 to uint8. Range [-1024.0, 1055.0]. Convert image to uint8 prior to saving to suppress this warning.\n",
      "Lossy conversion from float64 to uint8. Range [-1024.0, 1004.0]. Convert image to uint8 prior to saving to suppress this warning.\n"
     ]
    },
    {
     "name": "stdout",
     "output_type": "stream",
     "text": [
      "Saved.\n",
      "Moving image...\n",
      "Moved.\n",
      "Saving image...\n",
      "Saved.\n",
      "Moving image...\n",
      "Moved.\n",
      "Saving image...\n"
     ]
    },
    {
     "name": "stderr",
     "output_type": "stream",
     "text": [
      "Lossy conversion from float64 to uint8. Range [-1024.0, 1132.0]. Convert image to uint8 prior to saving to suppress this warning.\n",
      "Lossy conversion from float64 to uint8. Range [-1024.0, 1095.0]. Convert image to uint8 prior to saving to suppress this warning.\n"
     ]
    },
    {
     "name": "stdout",
     "output_type": "stream",
     "text": [
      "Saved.\n",
      "Moving image...\n",
      "Moved.\n",
      "Saving image...\n",
      "Saved.\n",
      "Moving image...\n",
      "Moved.\n",
      "Saving image...\n"
     ]
    },
    {
     "name": "stderr",
     "output_type": "stream",
     "text": [
      "Lossy conversion from float64 to uint8. Range [-1024.0, 998.0]. Convert image to uint8 prior to saving to suppress this warning.\n",
      "Lossy conversion from float64 to uint8. Range [-1024.0, 1086.0]. Convert image to uint8 prior to saving to suppress this warning.\n"
     ]
    },
    {
     "name": "stdout",
     "output_type": "stream",
     "text": [
      "Saved.\n",
      "Moving image...\n",
      "Moved.\n",
      "Saving image...\n",
      "Saved.\n",
      "Moving image...\n",
      "Moved.\n",
      "Saving image...\n"
     ]
    },
    {
     "name": "stderr",
     "output_type": "stream",
     "text": [
      "Lossy conversion from float64 to uint8. Range [-1024.0, 1092.0]. Convert image to uint8 prior to saving to suppress this warning.\n",
      "Lossy conversion from float64 to uint8. Range [-1024.0, 1142.0]. Convert image to uint8 prior to saving to suppress this warning.\n"
     ]
    },
    {
     "name": "stdout",
     "output_type": "stream",
     "text": [
      "Saved.\n",
      "Moving image...\n",
      "Moved.\n",
      "Saving image...\n",
      "Saved.\n",
      "Moving image...\n",
      "Moved.\n",
      "Saving image...\n"
     ]
    },
    {
     "name": "stderr",
     "output_type": "stream",
     "text": [
      "Lossy conversion from float64 to uint8. Range [-1024.0, 1076.0]. Convert image to uint8 prior to saving to suppress this warning.\n",
      "Lossy conversion from float64 to uint8. Range [-1024.0, 1159.0]. Convert image to uint8 prior to saving to suppress this warning.\n"
     ]
    },
    {
     "name": "stdout",
     "output_type": "stream",
     "text": [
      "Saved.\n",
      "Moving image...\n",
      "Moved.\n",
      "Saving image...\n",
      "Saved.\n",
      "Moving image...\n",
      "Moved.\n",
      "Saving image...\n"
     ]
    },
    {
     "name": "stderr",
     "output_type": "stream",
     "text": [
      "Lossy conversion from float64 to uint8. Range [-1024.0, 1057.0]. Convert image to uint8 prior to saving to suppress this warning.\n",
      "Lossy conversion from float64 to uint8. Range [-1024.0, 1176.0]. Convert image to uint8 prior to saving to suppress this warning.\n"
     ]
    },
    {
     "name": "stdout",
     "output_type": "stream",
     "text": [
      "Saved.\n",
      "Moving image...\n",
      "Moved.\n",
      "Saving image...\n",
      "Saved.\n",
      "Moving image...\n",
      "Moved.\n",
      "Saving image...\n"
     ]
    },
    {
     "name": "stderr",
     "output_type": "stream",
     "text": [
      "Lossy conversion from float64 to uint8. Range [-1024.0, 1159.0]. Convert image to uint8 prior to saving to suppress this warning.\n",
      "Lossy conversion from float64 to uint8. Range [-1024.0, 1204.0]. Convert image to uint8 prior to saving to suppress this warning.\n"
     ]
    },
    {
     "name": "stdout",
     "output_type": "stream",
     "text": [
      "Saved.\n",
      "Moving image...\n",
      "Moved.\n",
      "Saving image...\n",
      "Saved.\n",
      "Moving image...\n",
      "Moved.\n",
      "Saving image...\n"
     ]
    },
    {
     "name": "stderr",
     "output_type": "stream",
     "text": [
      "Lossy conversion from float64 to uint8. Range [-1024.0, 1129.0]. Convert image to uint8 prior to saving to suppress this warning.\n",
      "Lossy conversion from float64 to uint8. Range [-1024.0, 1161.0]. Convert image to uint8 prior to saving to suppress this warning.\n"
     ]
    },
    {
     "name": "stdout",
     "output_type": "stream",
     "text": [
      "Saved.\n",
      "Moving image...\n",
      "Moved.\n",
      "Saving image...\n",
      "Saved.\n",
      "Moving image...\n",
      "Moved.\n",
      "Saving image...\n"
     ]
    },
    {
     "name": "stderr",
     "output_type": "stream",
     "text": [
      "Lossy conversion from float64 to uint8. Range [-1024.0, 1113.0]. Convert image to uint8 prior to saving to suppress this warning.\n"
     ]
    },
    {
     "name": "stdout",
     "output_type": "stream",
     "text": [
      "Saved.\n",
      "Moving image...\n",
      "Moved.\n",
      "Saving image...\n",
      "Saved.\n",
      "Moving image...\n"
     ]
    },
    {
     "name": "stderr",
     "output_type": "stream",
     "text": [
      "Lossy conversion from float64 to uint8. Range [-1024.0, 1263.0]. Convert image to uint8 prior to saving to suppress this warning.\n"
     ]
    },
    {
     "name": "stdout",
     "output_type": "stream",
     "text": [
      "Moved.\n",
      "Saving image...\n",
      "Saved.\n",
      "Moving image...\n"
     ]
    },
    {
     "name": "stderr",
     "output_type": "stream",
     "text": [
      "Lossy conversion from float64 to uint8. Range [-1024.0, 1170.0]. Convert image to uint8 prior to saving to suppress this warning.\n"
     ]
    },
    {
     "name": "stdout",
     "output_type": "stream",
     "text": [
      "Moved.\n",
      "Saving image...\n"
     ]
    },
    {
     "name": "stderr",
     "output_type": "stream",
     "text": [
      "Lossy conversion from float64 to uint8. Range [-1024.0, 1167.0]. Convert image to uint8 prior to saving to suppress this warning.\n"
     ]
    },
    {
     "name": "stdout",
     "output_type": "stream",
     "text": [
      "Saved.\n",
      "Moving image...\n",
      "Moved.\n",
      "Saving image...\n",
      "Saved.\n",
      "Moving image...\n"
     ]
    },
    {
     "name": "stderr",
     "output_type": "stream",
     "text": [
      "Lossy conversion from float64 to uint8. Range [-1024.0, 1170.0]. Convert image to uint8 prior to saving to suppress this warning.\n"
     ]
    },
    {
     "name": "stdout",
     "output_type": "stream",
     "text": [
      "Moved.\n",
      "Saving image...\n",
      "Saved.\n",
      "Moving image...\n"
     ]
    },
    {
     "name": "stderr",
     "output_type": "stream",
     "text": [
      "Lossy conversion from float64 to uint8. Range [-1024.0, 1205.0]. Convert image to uint8 prior to saving to suppress this warning.\n"
     ]
    },
    {
     "name": "stdout",
     "output_type": "stream",
     "text": [
      "Moved.\n",
      "Saving image...\n",
      "Saved.\n",
      "Moving image...\n"
     ]
    },
    {
     "name": "stderr",
     "output_type": "stream",
     "text": [
      "Lossy conversion from float64 to uint8. Range [-1024.0, 1190.0]. Convert image to uint8 prior to saving to suppress this warning.\n"
     ]
    },
    {
     "name": "stdout",
     "output_type": "stream",
     "text": [
      "Moved.\n",
      "Saving image...\n"
     ]
    },
    {
     "name": "stderr",
     "output_type": "stream",
     "text": [
      "Lossy conversion from float64 to uint8. Range [-1024.0, 1186.0]. Convert image to uint8 prior to saving to suppress this warning.\n"
     ]
    },
    {
     "name": "stdout",
     "output_type": "stream",
     "text": [
      "Saved.\n",
      "Moving image...\n",
      "Moved.\n",
      "Saving image...\n"
     ]
    },
    {
     "name": "stderr",
     "output_type": "stream",
     "text": [
      "Lossy conversion from float64 to uint8. Range [-1024.0, 1147.0]. Convert image to uint8 prior to saving to suppress this warning.\n"
     ]
    },
    {
     "name": "stdout",
     "output_type": "stream",
     "text": [
      "Saved.\n",
      "Moving image...\n",
      "Moved.\n",
      "Saving image...\n",
      "Saved.\n",
      "Moving image...\n"
     ]
    },
    {
     "name": "stderr",
     "output_type": "stream",
     "text": [
      "Lossy conversion from float64 to uint8. Range [-1024.0, 1187.0]. Convert image to uint8 prior to saving to suppress this warning.\n"
     ]
    },
    {
     "name": "stdout",
     "output_type": "stream",
     "text": [
      "Moved.\n",
      "Saving image...\n"
     ]
    },
    {
     "name": "stderr",
     "output_type": "stream",
     "text": [
      "Lossy conversion from float64 to uint8. Range [-1024.0, 1187.0]. Convert image to uint8 prior to saving to suppress this warning.\n"
     ]
    },
    {
     "name": "stdout",
     "output_type": "stream",
     "text": [
      "Saved.\n",
      "Moving image...\n",
      "Moved.\n",
      "Saving image...\n",
      "Saved.\n",
      "Moving image...\n"
     ]
    },
    {
     "name": "stderr",
     "output_type": "stream",
     "text": [
      "Lossy conversion from float64 to uint8. Range [-1024.0, 1198.0]. Convert image to uint8 prior to saving to suppress this warning.\n"
     ]
    },
    {
     "name": "stdout",
     "output_type": "stream",
     "text": [
      "Moved.\n",
      "Saving image...\n",
      "Saved.\n",
      "Moving image...\n"
     ]
    },
    {
     "name": "stderr",
     "output_type": "stream",
     "text": [
      "Lossy conversion from float64 to uint8. Range [-1024.0, 1131.0]. Convert image to uint8 prior to saving to suppress this warning.\n"
     ]
    },
    {
     "name": "stdout",
     "output_type": "stream",
     "text": [
      "Moved.\n",
      "Saving image...\n"
     ]
    },
    {
     "name": "stderr",
     "output_type": "stream",
     "text": [
      "Lossy conversion from float64 to uint8. Range [-1024.0, 1116.0]. Convert image to uint8 prior to saving to suppress this warning.\n"
     ]
    },
    {
     "name": "stdout",
     "output_type": "stream",
     "text": [
      "Saved.\n",
      "Moving image...\n",
      "Moved.\n",
      "Saving image...\n"
     ]
    },
    {
     "name": "stderr",
     "output_type": "stream",
     "text": [
      "Lossy conversion from float64 to uint8. Range [-1024.0, 1112.0]. Convert image to uint8 prior to saving to suppress this warning.\n"
     ]
    },
    {
     "name": "stdout",
     "output_type": "stream",
     "text": [
      "Saved.\n",
      "Moving image...\n",
      "Moved.\n",
      "Saving image...\n"
     ]
    },
    {
     "name": "stderr",
     "output_type": "stream",
     "text": [
      "Lossy conversion from float64 to uint8. Range [-1024.0, 1155.0]. Convert image to uint8 prior to saving to suppress this warning.\n"
     ]
    },
    {
     "name": "stdout",
     "output_type": "stream",
     "text": [
      "Saved.\n",
      "Moving image...\n",
      "Moved.\n",
      "Saving image...\n"
     ]
    },
    {
     "name": "stderr",
     "output_type": "stream",
     "text": [
      "Lossy conversion from float64 to uint8. Range [-1024.0, 1078.0]. Convert image to uint8 prior to saving to suppress this warning.\n"
     ]
    },
    {
     "name": "stdout",
     "output_type": "stream",
     "text": [
      "Saved.\n",
      "Moving image...\n",
      "Moved.\n",
      "Saving image...\n"
     ]
    },
    {
     "name": "stderr",
     "output_type": "stream",
     "text": [
      "Lossy conversion from float64 to uint8. Range [-1024.0, 1024.0]. Convert image to uint8 prior to saving to suppress this warning.\n"
     ]
    },
    {
     "name": "stdout",
     "output_type": "stream",
     "text": [
      "Saved.\n",
      "Moving image...\n",
      "Moved.\n",
      "Saving image...\n"
     ]
    },
    {
     "name": "stderr",
     "output_type": "stream",
     "text": [
      "Lossy conversion from float64 to uint8. Range [-1024.0, 1093.0]. Convert image to uint8 prior to saving to suppress this warning.\n"
     ]
    },
    {
     "name": "stdout",
     "output_type": "stream",
     "text": [
      "Saved.\n",
      "Moving image...\n",
      "Moved.\n",
      "Saving image...\n"
     ]
    },
    {
     "name": "stderr",
     "output_type": "stream",
     "text": [
      "Lossy conversion from float64 to uint8. Range [-1024.0, 966.0]. Convert image to uint8 prior to saving to suppress this warning.\n"
     ]
    },
    {
     "name": "stdout",
     "output_type": "stream",
     "text": [
      "Saved.\n",
      "Moving image...\n",
      "Moved.\n",
      "Saving image...\n",
      "Saved.\n",
      "Moving image...\n"
     ]
    },
    {
     "name": "stderr",
     "output_type": "stream",
     "text": [
      "Lossy conversion from float64 to uint8. Range [-1024.0, 1144.0]. Convert image to uint8 prior to saving to suppress this warning.\n"
     ]
    },
    {
     "name": "stdout",
     "output_type": "stream",
     "text": [
      "Moved.\n",
      "Saving image...\n",
      "Saved.\n",
      "Moving image...\n"
     ]
    },
    {
     "name": "stderr",
     "output_type": "stream",
     "text": [
      "Lossy conversion from float64 to uint8. Range [-1024.0, 1094.0]. Convert image to uint8 prior to saving to suppress this warning.\n"
     ]
    },
    {
     "name": "stdout",
     "output_type": "stream",
     "text": [
      "Moved.\n",
      "Saving image...\n",
      "Saved."
     ]
    },
    {
     "name": "stderr",
     "output_type": "stream",
     "text": [
      "Lossy conversion from float64 to uint8. Range [-1024.0, 2427.0]. Convert image to uint8 prior to saving to suppress this warning.\n"
     ]
    },
    {
     "name": "stdout",
     "output_type": "stream",
     "text": [
      "\n",
      "Moving image...\n",
      "Moved.\n",
      "Saving image...\n"
     ]
    },
    {
     "name": "stderr",
     "output_type": "stream",
     "text": [
      "Lossy conversion from float64 to uint8. Range [-1024.0, 2871.0]. Convert image to uint8 prior to saving to suppress this warning.\n"
     ]
    },
    {
     "name": "stdout",
     "output_type": "stream",
     "text": [
      "Saved.\n",
      "Moving image...\n",
      "Moved.\n",
      "Saving image...\n"
     ]
    },
    {
     "name": "stderr",
     "output_type": "stream",
     "text": [
      "Lossy conversion from float64 to uint8. Range [-1024.0, 1120.0]. Convert image to uint8 prior to saving to suppress this warning.\n"
     ]
    },
    {
     "name": "stdout",
     "output_type": "stream",
     "text": [
      "Saved.\n",
      "Moving image...\n",
      "Moved.\n",
      "Saving image...\n",
      "Saved.\n",
      "Moving image...\n"
     ]
    },
    {
     "name": "stderr",
     "output_type": "stream",
     "text": [
      "Lossy conversion from float64 to uint8. Range [-1024.0, 1166.0]. Convert image to uint8 prior to saving to suppress this warning.\n"
     ]
    },
    {
     "name": "stdout",
     "output_type": "stream",
     "text": [
      "Moved.\n",
      "Saving image...\n"
     ]
    },
    {
     "name": "stderr",
     "output_type": "stream",
     "text": [
      "Lossy conversion from float64 to uint8. Range [-1024.0, 1152.0]. Convert image to uint8 prior to saving to suppress this warning.\n"
     ]
    },
    {
     "name": "stdout",
     "output_type": "stream",
     "text": [
      "Saved.\n",
      "Moving image...\n",
      "Moved.\n",
      "Saving image...\n",
      "Saved.\n",
      "Moving image...\n"
     ]
    },
    {
     "name": "stderr",
     "output_type": "stream",
     "text": [
      "Lossy conversion from float64 to uint8. Range [-1024.0, 1205.0]. Convert image to uint8 prior to saving to suppress this warning.\n"
     ]
    },
    {
     "name": "stdout",
     "output_type": "stream",
     "text": [
      "Moved.\n",
      "Saving image...\n",
      "Saved.\n",
      "Moving image...\n"
     ]
    },
    {
     "name": "stderr",
     "output_type": "stream",
     "text": [
      "Lossy conversion from float64 to uint8. Range [-1024.0, 1174.0]. Convert image to uint8 prior to saving to suppress this warning.\n"
     ]
    },
    {
     "name": "stdout",
     "output_type": "stream",
     "text": [
      "Moved.\n",
      "Saving image...\n"
     ]
    },
    {
     "name": "stderr",
     "output_type": "stream",
     "text": [
      "Lossy conversion from float64 to uint8. Range [-1024.0, 3071.0]. Convert image to uint8 prior to saving to suppress this warning.\n"
     ]
    },
    {
     "name": "stdout",
     "output_type": "stream",
     "text": [
      "Saved.\n",
      "Moving image...\n",
      "Moved.\n",
      "Saving image...\n"
     ]
    },
    {
     "name": "stderr",
     "output_type": "stream",
     "text": [
      "Lossy conversion from float64 to uint8. Range [-1024.0, 2483.0]. Convert image to uint8 prior to saving to suppress this warning.\n"
     ]
    },
    {
     "name": "stdout",
     "output_type": "stream",
     "text": [
      "Saved.\n",
      "Moving image...\n",
      "Moved.\n",
      "Saving image...\n"
     ]
    },
    {
     "name": "stderr",
     "output_type": "stream",
     "text": [
      "Lossy conversion from float64 to uint8. Range [-1024.0, 1919.0]. Convert image to uint8 prior to saving to suppress this warning.\n"
     ]
    },
    {
     "name": "stdout",
     "output_type": "stream",
     "text": [
      "Saved.\n",
      "Moving image...\n",
      "Moved.\n",
      "Saving image...\n"
     ]
    },
    {
     "name": "stderr",
     "output_type": "stream",
     "text": [
      "Lossy conversion from float64 to uint8. Range [-1024.0, 1255.0]. Convert image to uint8 prior to saving to suppress this warning.\n"
     ]
    },
    {
     "name": "stdout",
     "output_type": "stream",
     "text": [
      "Saved.\n",
      "Moving image...\n",
      "Moved.\n",
      "Saving image...\n"
     ]
    },
    {
     "name": "stderr",
     "output_type": "stream",
     "text": [
      "Lossy conversion from float64 to uint8. Range [-1024.0, 1220.0]. Convert image to uint8 prior to saving to suppress this warning.\n"
     ]
    },
    {
     "name": "stdout",
     "output_type": "stream",
     "text": [
      "Saved.\n",
      "Moving image...\n",
      "Moved.\n",
      "Saving image...\n"
     ]
    },
    {
     "name": "stderr",
     "output_type": "stream",
     "text": [
      "Lossy conversion from float64 to uint8. Range [-1024.0, 1248.0]. Convert image to uint8 prior to saving to suppress this warning.\n"
     ]
    },
    {
     "name": "stdout",
     "output_type": "stream",
     "text": [
      "Saved.\n",
      "Moving image...\n",
      "Moved.\n",
      "Saving image...\n"
     ]
    },
    {
     "name": "stderr",
     "output_type": "stream",
     "text": [
      "Lossy conversion from float64 to uint8. Range [-1024.0, 1201.0]. Convert image to uint8 prior to saving to suppress this warning.\n"
     ]
    },
    {
     "name": "stdout",
     "output_type": "stream",
     "text": [
      "Saved.\n",
      "Moving image...\n",
      "Moved.\n",
      "Saving image...\n"
     ]
    },
    {
     "name": "stderr",
     "output_type": "stream",
     "text": [
      "Lossy conversion from float64 to uint8. Range [-1024.0, 1298.0]. Convert image to uint8 prior to saving to suppress this warning.\n"
     ]
    },
    {
     "name": "stdout",
     "output_type": "stream",
     "text": [
      "Saved.\n",
      "Moving image...\n",
      "Moved.\n",
      "Saving image...\n"
     ]
    },
    {
     "name": "stderr",
     "output_type": "stream",
     "text": [
      "Lossy conversion from float64 to uint8. Range [-1024.0, 1217.0]. Convert image to uint8 prior to saving to suppress this warning.\n"
     ]
    },
    {
     "name": "stdout",
     "output_type": "stream",
     "text": [
      "Saved.\n",
      "Moving image...\n",
      "Moved.\n",
      "Saving image...\n",
      "Saved."
     ]
    },
    {
     "name": "stderr",
     "output_type": "stream",
     "text": [
      "Lossy conversion from float64 to uint8. Range [-1024.0, 1262.0]. Convert image to uint8 prior to saving to suppress this warning.\n"
     ]
    },
    {
     "name": "stdout",
     "output_type": "stream",
     "text": [
      "\n",
      "Moving image...\n",
      "Moved.\n",
      "Saving image...\n"
     ]
    },
    {
     "name": "stderr",
     "output_type": "stream",
     "text": [
      "Lossy conversion from float64 to uint8. Range [-1024.0, 1314.0]. Convert image to uint8 prior to saving to suppress this warning.\n"
     ]
    },
    {
     "name": "stdout",
     "output_type": "stream",
     "text": [
      "Saved.\n",
      "Moving image...\n",
      "Moved.\n",
      "Saving image...\n"
     ]
    },
    {
     "name": "stderr",
     "output_type": "stream",
     "text": [
      "Lossy conversion from float64 to uint8. Range [-1024.0, 1329.0]. Convert image to uint8 prior to saving to suppress this warning.\n"
     ]
    },
    {
     "name": "stdout",
     "output_type": "stream",
     "text": [
      "Saved.\n",
      "Moving image...\n",
      "Moved.\n",
      "Saving image...\n"
     ]
    },
    {
     "name": "stderr",
     "output_type": "stream",
     "text": [
      "Lossy conversion from float64 to uint8. Range [-1024.0, 1353.0]. Convert image to uint8 prior to saving to suppress this warning.\n"
     ]
    },
    {
     "name": "stdout",
     "output_type": "stream",
     "text": [
      "Saved.\n",
      "Moving image...\n",
      "Moved.\n",
      "Saving image...\n"
     ]
    },
    {
     "name": "stderr",
     "output_type": "stream",
     "text": [
      "Lossy conversion from float64 to uint8. Range [-1024.0, 1394.0]. Convert image to uint8 prior to saving to suppress this warning.\n"
     ]
    },
    {
     "name": "stdout",
     "output_type": "stream",
     "text": [
      "Saved.\n",
      "Moving image...\n",
      "Moved.\n",
      "Saving image...\n",
      "Saved.\n",
      "Moving image...\n",
      "Moved.\n",
      "Finished converting images\n"
     ]
    }
   ],
   "source": [
    "convertAndSave(inputfile = SRCNIIDIR+pname+\".nii\",outputfile = OUTIMGDIR)"
   ]
  },
  {
   "cell_type": "code",
   "execution_count": 8,
   "metadata": {},
   "outputs": [
    {
     "name": "stdout",
     "output_type": "stream",
     "text": [
      "Input file is  D:/_DIAG/datasets/sklif/mat_steklo_kons/niimasks/P120_mask.nii\n",
      "Output folder is  ./ds_lungseg/maskstest/\n"
     ]
    },
    {
     "name": "stderr",
     "output_type": "stream",
     "text": [
      "Lossy conversion from float64 to uint8. Range [0, 1]. Convert image to uint8 prior to saving to suppress this warning.\n",
      "Lossy conversion from float64 to uint8. Range [0, 1]. Convert image to uint8 prior to saving to suppress this warning.\n",
      "Lossy conversion from float64 to uint8. Range [0, 1]. Convert image to uint8 prior to saving to suppress this warning.\n",
      "Lossy conversion from float64 to uint8. Range [0, 1]. Convert image to uint8 prior to saving to suppress this warning.\n",
      "Lossy conversion from float64 to uint8. Range [0, 1]. Convert image to uint8 prior to saving to suppress this warning.\n",
      "Lossy conversion from float64 to uint8. Range [0, 1]. Convert image to uint8 prior to saving to suppress this warning.\n",
      "Lossy conversion from float64 to uint8. Range [0, 1]. Convert image to uint8 prior to saving to suppress this warning.\n",
      "Lossy conversion from float64 to uint8. Range [0, 1]. Convert image to uint8 prior to saving to suppress this warning.\n",
      "Lossy conversion from float64 to uint8. Range [0, 1]. Convert image to uint8 prior to saving to suppress this warning.\n",
      "Lossy conversion from float64 to uint8. Range [0, 1]. Convert image to uint8 prior to saving to suppress this warning.\n",
      "Lossy conversion from float64 to uint8. Range [0, 1]. Convert image to uint8 prior to saving to suppress this warning.\n"
     ]
    },
    {
     "name": "stdout",
     "output_type": "stream",
     "text": [
      "3\n",
      "Reading NIfTI file...\n",
      "Saving image...\n",
      "Saved.\n",
      "Moving image...\n",
      "Moved.\n",
      "Saving image...\n",
      "Saved.\n",
      "Moving image...\n",
      "Moved.\n",
      "Saving image...\n",
      "Saved.\n",
      "Moving image...\n",
      "Moved.\n",
      "Saving image...\n",
      "Saved.\n",
      "Moving image...\n",
      "Moved.\n",
      "Saving image...\n",
      "Saved.\n",
      "Moving image...\n",
      "Moved.\n",
      "Saving image...\n",
      "Saved.\n",
      "Moving image...\n",
      "Moved.\n",
      "Saving image...\n",
      "Saved.\n",
      "Moving image...\n",
      "Moved.\n",
      "Saving image...\n",
      "Saved.\n",
      "Moving image...\n",
      "Moved.\n",
      "Saving image...\n",
      "Saved.\n",
      "Moving image...\n",
      "Moved.\n",
      "Saving image...\n",
      "Saved.\n",
      "Moving image...\n",
      "Moved.\n",
      "Saving image...\n",
      "Saved.\n",
      "Moving image...\n"
     ]
    },
    {
     "name": "stderr",
     "output_type": "stream",
     "text": [
      "Lossy conversion from float64 to uint8. Range [0, 1]. Convert image to uint8 prior to saving to suppress this warning.\n",
      "Lossy conversion from float64 to uint8. Range [0, 1]. Convert image to uint8 prior to saving to suppress this warning.\n",
      "Lossy conversion from float64 to uint8. Range [0, 1]. Convert image to uint8 prior to saving to suppress this warning.\n",
      "Lossy conversion from float64 to uint8. Range [0, 1]. Convert image to uint8 prior to saving to suppress this warning.\n",
      "Lossy conversion from float64 to uint8. Range [0, 1]. Convert image to uint8 prior to saving to suppress this warning.\n",
      "Lossy conversion from float64 to uint8. Range [0, 1]. Convert image to uint8 prior to saving to suppress this warning.\n",
      "Lossy conversion from float64 to uint8. Range [0, 1]. Convert image to uint8 prior to saving to suppress this warning.\n",
      "Lossy conversion from float64 to uint8. Range [0, 1]. Convert image to uint8 prior to saving to suppress this warning.\n"
     ]
    },
    {
     "name": "stdout",
     "output_type": "stream",
     "text": [
      "Moved.\n",
      "Saving image...\n",
      "Saved.\n",
      "Moving image...\n",
      "Moved.\n",
      "Saving image...\n",
      "Saved.\n",
      "Moving image...\n",
      "Moved.\n",
      "Saving image...\n",
      "Saved.\n",
      "Moving image...\n",
      "Moved.\n",
      "Saving image...\n",
      "Saved.\n",
      "Moving image...\n",
      "Moved.\n",
      "Saving image...\n",
      "Saved.\n",
      "Moving image...\n",
      "Moved.\n",
      "Saving image...\n",
      "Saved.\n",
      "Moving image...\n",
      "Moved.\n",
      "Saving image...\n",
      "Saved.\n",
      "Moving image...\n",
      "Moved.\n",
      "Saving image...\n",
      "Saved.\n",
      "Moving image...\n"
     ]
    },
    {
     "name": "stderr",
     "output_type": "stream",
     "text": [
      "Lossy conversion from float64 to uint8. Range [0, 1]. Convert image to uint8 prior to saving to suppress this warning.\n",
      "Lossy conversion from float64 to uint8. Range [0, 1]. Convert image to uint8 prior to saving to suppress this warning.\n",
      "Lossy conversion from float64 to uint8. Range [0, 1]. Convert image to uint8 prior to saving to suppress this warning.\n",
      "Lossy conversion from float64 to uint8. Range [0, 1]. Convert image to uint8 prior to saving to suppress this warning.\n",
      "Lossy conversion from float64 to uint8. Range [0, 1]. Convert image to uint8 prior to saving to suppress this warning.\n",
      "Lossy conversion from float64 to uint8. Range [0, 1]. Convert image to uint8 prior to saving to suppress this warning.\n",
      "Lossy conversion from float64 to uint8. Range [0, 1]. Convert image to uint8 prior to saving to suppress this warning.\n"
     ]
    },
    {
     "name": "stdout",
     "output_type": "stream",
     "text": [
      "Moved.\n",
      "Saving image...\n",
      "Saved.\n",
      "Moving image...\n",
      "Moved.\n",
      "Saving image...\n",
      "Saved.\n",
      "Moving image...\n",
      "Moved.\n",
      "Saving image...\n",
      "Saved.\n",
      "Moving image...\n",
      "Moved.\n",
      "Saving image...\n",
      "Saved.\n",
      "Moving image...\n",
      "Moved.\n",
      "Saving image...\n",
      "Saved.\n",
      "Moving image...\n",
      "Moved.\n",
      "Saving image...\n",
      "Saved.\n",
      "Moving image...\n",
      "Moved.\n",
      "Saving image...\n",
      "Saved.\n",
      "Moving image...\n"
     ]
    },
    {
     "name": "stderr",
     "output_type": "stream",
     "text": [
      "Lossy conversion from float64 to uint8. Range [0, 1]. Convert image to uint8 prior to saving to suppress this warning.\n",
      "Lossy conversion from float64 to uint8. Range [0, 1]. Convert image to uint8 prior to saving to suppress this warning.\n",
      "Lossy conversion from float64 to uint8. Range [0, 1]. Convert image to uint8 prior to saving to suppress this warning.\n",
      "Lossy conversion from float64 to uint8. Range [0, 1]. Convert image to uint8 prior to saving to suppress this warning.\n",
      "Lossy conversion from float64 to uint8. Range [0, 1]. Convert image to uint8 prior to saving to suppress this warning.\n",
      "Lossy conversion from float64 to uint8. Range [0, 1]. Convert image to uint8 prior to saving to suppress this warning.\n",
      "Lossy conversion from float64 to uint8. Range [0, 1]. Convert image to uint8 prior to saving to suppress this warning.\n"
     ]
    },
    {
     "name": "stdout",
     "output_type": "stream",
     "text": [
      "Moved.\n",
      "Saving image...\n",
      "Saved.\n",
      "Moving image...\n",
      "Moved.\n",
      "Saving image...\n",
      "Saved.\n",
      "Moving image...\n",
      "Moved.\n",
      "Saving image...\n",
      "Saved.\n",
      "Moving image...\n",
      "Moved.\n",
      "Saving image...\n",
      "Saved.\n",
      "Moving image...\n",
      "Moved.\n",
      "Saving image...\n",
      "Saved.\n",
      "Moving image...\n",
      "Moved.\n",
      "Saving image...\n",
      "Saved.\n",
      "Moving image...\n",
      "Moved.\n",
      "Saving image...\n",
      "Saved.\n",
      "Moving image...\n"
     ]
    },
    {
     "name": "stderr",
     "output_type": "stream",
     "text": [
      "Lossy conversion from float64 to uint8. Range [0, 1]. Convert image to uint8 prior to saving to suppress this warning.\n",
      "Lossy conversion from float64 to uint8. Range [0, 1]. Convert image to uint8 prior to saving to suppress this warning.\n",
      "Lossy conversion from float64 to uint8. Range [0, 1]. Convert image to uint8 prior to saving to suppress this warning.\n",
      "Lossy conversion from float64 to uint8. Range [0, 1]. Convert image to uint8 prior to saving to suppress this warning.\n",
      "Lossy conversion from float64 to uint8. Range [0, 1]. Convert image to uint8 prior to saving to suppress this warning.\n",
      "Lossy conversion from float64 to uint8. Range [0, 1]. Convert image to uint8 prior to saving to suppress this warning.\n",
      "Lossy conversion from float64 to uint8. Range [0, 1]. Convert image to uint8 prior to saving to suppress this warning.\n"
     ]
    },
    {
     "name": "stdout",
     "output_type": "stream",
     "text": [
      "Moved.\n",
      "Saving image...\n",
      "Saved.\n",
      "Moving image...\n",
      "Moved.\n",
      "Saving image...\n",
      "Saved.\n",
      "Moving image...\n",
      "Moved.\n",
      "Saving image...\n",
      "Saved.\n",
      "Moving image...\n",
      "Moved.\n",
      "Saving image...\n",
      "Saved.\n",
      "Moving image...\n",
      "Moved.\n",
      "Saving image...\n",
      "Saved.\n",
      "Moving image...\n",
      "Moved.\n",
      "Saving image...\n",
      "Saved.\n",
      "Moving image...\n",
      "Moved.\n",
      "Saving image...\n",
      "Saved.\n",
      "Moving image...\n"
     ]
    },
    {
     "name": "stderr",
     "output_type": "stream",
     "text": [
      "Lossy conversion from float64 to uint8. Range [0, 1]. Convert image to uint8 prior to saving to suppress this warning.\n",
      "Lossy conversion from float64 to uint8. Range [0, 1]. Convert image to uint8 prior to saving to suppress this warning.\n",
      "Lossy conversion from float64 to uint8. Range [0, 1]. Convert image to uint8 prior to saving to suppress this warning.\n",
      "Lossy conversion from float64 to uint8. Range [0, 1]. Convert image to uint8 prior to saving to suppress this warning.\n",
      "Lossy conversion from float64 to uint8. Range [0, 1]. Convert image to uint8 prior to saving to suppress this warning.\n",
      "Lossy conversion from float64 to uint8. Range [0, 1]. Convert image to uint8 prior to saving to suppress this warning.\n"
     ]
    },
    {
     "name": "stdout",
     "output_type": "stream",
     "text": [
      "Moved.\n",
      "Saving image...\n",
      "Saved.\n",
      "Moving image...\n",
      "Moved.\n",
      "Saving image...\n",
      "Saved.\n",
      "Moving image...\n",
      "Moved.\n",
      "Saving image...\n",
      "Saved.\n",
      "Moving image...\n",
      "Moved.\n",
      "Saving image...\n",
      "Saved.\n",
      "Moving image...\n",
      "Moved.\n",
      "Saving image...\n",
      "Saved.\n",
      "Moving image...\n",
      "Moved.\n",
      "Saving image...\n",
      "Saved.\n",
      "Moving image...\n"
     ]
    },
    {
     "name": "stderr",
     "output_type": "stream",
     "text": [
      "Lossy conversion from float64 to uint8. Range [0, 1]. Convert image to uint8 prior to saving to suppress this warning.\n",
      "Lossy conversion from float64 to uint8. Range [0, 1]. Convert image to uint8 prior to saving to suppress this warning.\n",
      "Lossy conversion from float64 to uint8. Range [0, 1]. Convert image to uint8 prior to saving to suppress this warning.\n",
      "Lossy conversion from float64 to uint8. Range [0, 1]. Convert image to uint8 prior to saving to suppress this warning.\n",
      "Lossy conversion from float64 to uint8. Range [0, 1]. Convert image to uint8 prior to saving to suppress this warning.\n",
      "Lossy conversion from float64 to uint8. Range [0, 1]. Convert image to uint8 prior to saving to suppress this warning.\n",
      "Lossy conversion from float64 to uint8. Range [0, 1]. Convert image to uint8 prior to saving to suppress this warning.\n",
      "Lossy conversion from float64 to uint8. Range [0, 1]. Convert image to uint8 prior to saving to suppress this warning.\n"
     ]
    },
    {
     "name": "stdout",
     "output_type": "stream",
     "text": [
      "Moved.\n",
      "Saving image...\n",
      "Saved.\n",
      "Moving image...\n",
      "Moved.\n",
      "Saving image...\n",
      "Saved.\n",
      "Moving image...\n",
      "Moved.\n",
      "Saving image...\n",
      "Saved.\n",
      "Moving image...\n",
      "Moved.\n",
      "Saving image...\n",
      "Saved.\n",
      "Moving image...\n",
      "Moved.\n",
      "Saving image...\n",
      "Saved.\n",
      "Moving image...\n",
      "Moved.\n",
      "Saving image...\n",
      "Saved.\n",
      "Moving image...\n",
      "Moved.\n",
      "Saving image...\n",
      "Saved.\n",
      "Moving image...\n",
      "Moved.\n",
      "Saving image...\n",
      "Saved."
     ]
    },
    {
     "name": "stderr",
     "output_type": "stream",
     "text": [
      "Lossy conversion from float64 to uint8. Range [0, 1]. Convert image to uint8 prior to saving to suppress this warning.\n",
      "Lossy conversion from float64 to uint8. Range [0, 1]. Convert image to uint8 prior to saving to suppress this warning.\n",
      "Lossy conversion from float64 to uint8. Range [0, 1]. Convert image to uint8 prior to saving to suppress this warning.\n",
      "Lossy conversion from float64 to uint8. Range [0, 1]. Convert image to uint8 prior to saving to suppress this warning.\n",
      "Lossy conversion from float64 to uint8. Range [0, 1]. Convert image to uint8 prior to saving to suppress this warning.\n",
      "Lossy conversion from float64 to uint8. Range [0, 1]. Convert image to uint8 prior to saving to suppress this warning.\n",
      "Lossy conversion from float64 to uint8. Range [0, 1]. Convert image to uint8 prior to saving to suppress this warning.\n",
      "Lossy conversion from float64 to uint8. Range [0, 1]. Convert image to uint8 prior to saving to suppress this warning.\n",
      "Lossy conversion from float64 to uint8. Range [0, 1]. Convert image to uint8 prior to saving to suppress this warning.\n"
     ]
    },
    {
     "name": "stdout",
     "output_type": "stream",
     "text": [
      "\n",
      "Moving image...\n",
      "Moved.\n",
      "Saving image...\n",
      "Saved.\n",
      "Moving image...\n",
      "Moved.\n",
      "Saving image...\n",
      "Saved.\n",
      "Moving image...\n",
      "Moved.\n",
      "Saving image...\n",
      "Saved.\n",
      "Moving image...\n",
      "Moved.\n",
      "Saving image...\n",
      "Saved.\n",
      "Moving image...\n",
      "Moved.\n",
      "Saving image...\n",
      "Saved.\n",
      "Moving image...\n",
      "Moved.\n",
      "Saving image...\n",
      "Saved.\n",
      "Moving image...\n",
      "Moved.\n",
      "Saving image...\n",
      "Saved.\n",
      "Moving image...\n",
      "Moved.\n",
      "Saving image...\n",
      "Saved.\n",
      "Moving image...\n",
      "Moved.\n",
      "Saving image...\n"
     ]
    },
    {
     "name": "stderr",
     "output_type": "stream",
     "text": [
      "Lossy conversion from float64 to uint8. Range [0, 1]. Convert image to uint8 prior to saving to suppress this warning.\n",
      "Lossy conversion from float64 to uint8. Range [0, 1]. Convert image to uint8 prior to saving to suppress this warning.\n",
      "Lossy conversion from float64 to uint8. Range [0, 1]. Convert image to uint8 prior to saving to suppress this warning.\n",
      "Lossy conversion from float64 to uint8. Range [0, 1]. Convert image to uint8 prior to saving to suppress this warning.\n",
      "Lossy conversion from float64 to uint8. Range [0, 1]. Convert image to uint8 prior to saving to suppress this warning.\n"
     ]
    },
    {
     "name": "stdout",
     "output_type": "stream",
     "text": [
      "Saved.\n",
      "Moving image...\n",
      "Moved.\n",
      "Saving image...\n",
      "Saved.\n",
      "Moving image...\n",
      "Moved.\n",
      "Saving image...\n",
      "Saved.\n",
      "Moving image...\n",
      "Moved.\n",
      "Saving image...\n",
      "Saved.\n",
      "Moving image...\n",
      "Moved.\n",
      "Saving image...\n",
      "Saved.\n",
      "Moving image...\n",
      "Moved.\n",
      "Saving image...\n",
      "Saved.\n",
      "Moving image...\n",
      "Moved.\n",
      "Finished converting images\n"
     ]
    }
   ],
   "source": [
    "convertAndSave(inputfile = SRCMASKDIR+pname+\"_mask.nii\",outputfile = OUTMASKDIR)"
   ]
  },
  {
   "cell_type": "code",
   "execution_count": null,
   "metadata": {},
   "outputs": [],
   "source": []
  }
 ],
 "metadata": {
  "kernelspec": {
   "display_name": "Python 3",
   "language": "python",
   "name": "python3"
  },
  "language_info": {
   "codemirror_mode": {
    "name": "ipython",
    "version": 3
   },
   "file_extension": ".py",
   "mimetype": "text/x-python",
   "name": "python",
   "nbconvert_exporter": "python",
   "pygments_lexer": "ipython3",
   "version": "3.8.6"
  }
 },
 "nbformat": 4,
 "nbformat_minor": 4
}
