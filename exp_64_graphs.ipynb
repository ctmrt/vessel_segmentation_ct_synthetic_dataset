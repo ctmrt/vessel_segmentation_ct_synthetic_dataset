{
 "cells": [
  {
   "cell_type": "code",
   "execution_count": 44,
   "metadata": {
    "_cell_guid": "d7480c71-95a9-e28d-da4c-8bb468d5970a"
   },
   "outputs": [],
   "source": [
    "import os\n",
    "import numpy as np # linear algebra\n",
    "import pandas as pd # data processing, CSV file I/O (e.g. pd.read_csv)\n",
    "import cv2\n",
    "import matplotlib.pyplot as plt\n",
    "%matplotlib inline\n",
    "from sklearn.model_selection import train_test_split"
   ]
  },
  {
   "cell_type": "code",
   "execution_count": 45,
   "metadata": {
    "_cell_guid": "f0ebdf4e-bdc3-9c3e-32c2-d3eb6d411724"
   },
   "outputs": [],
   "source": [
    "from os import environ\n",
    "environ[\"KERAS_BACKEND\"] = \"plaidml.keras.backend\"\n",
    "\n",
    "import keras\n",
    "\n",
    "from keras.models import Model\n",
    "from keras.layers import *\n",
    "from keras.optimizers import Adam\n",
    "from keras.regularizers import l2\n",
    "from keras.preprocessing.image import ImageDataGenerator\n",
    "import keras.backend as K\n",
    "from keras.callbacks import LearningRateScheduler, ModelCheckpoint"
   ]
  },
  {
   "cell_type": "markdown",
   "metadata": {
    "_cell_guid": "faeb9bc7-fc94-73e0-d620-1a7a6533a14e"
   },
   "source": [
    "## Load and resize the images"
   ]
  },
  {
   "cell_type": "code",
   "execution_count": 46,
   "metadata": {
    "_cell_guid": "e26ee85c-bb94-282a-37eb-982e87e97309"
   },
   "outputs": [],
   "source": [
    "IMAGE_LIB = '../../vascus/synimages/'\n",
    "MASK_LIB = '../../vascus/synmasks/'\n",
    "IMG_HEIGHT, IMG_WIDTH = 64, 64\n",
    "SEED=42"
   ]
  },
  {
   "cell_type": "code",
   "execution_count": 47,
   "metadata": {
    "_cell_guid": "887c59cb-ba9a-9880-250a-96c500d279f2"
   },
   "outputs": [],
   "source": [
    "all_images = [x for x in sorted(os.listdir(IMAGE_LIB)) if x[-4:] == '.png']\n",
    "\n",
    "x_data = np.empty((len(all_images), IMG_HEIGHT, IMG_WIDTH), dtype='float32')\n",
    "for i, name in enumerate(all_images):\n",
    "    im = cv2.imread(IMAGE_LIB + name, cv2.IMREAD_UNCHANGED).astype(\"uint8\")\n",
    "    im = cv2.resize(im, dsize=(IMG_WIDTH, IMG_HEIGHT), interpolation=cv2.INTER_LANCZOS4)\n",
    "    #some normalization so values should be between 0-1\n",
    "    diff = np.max(im) - np.min(im)\n",
    "    #print(name + str(diff))\n",
    "    if(diff!=0):\n",
    "        x_data[i] = (im - np.min(im)) / diff\n",
    "    else:\n",
    "        x_data[i]=im/255.\n",
    "\n",
    "y_data = np.empty((len(all_images), IMG_HEIGHT, IMG_WIDTH), dtype='float32')\n",
    "for i, name in enumerate(all_images):\n",
    "    im = cv2.imread(MASK_LIB + name, cv2.IMREAD_UNCHANGED).astype('uint8')\n",
    "    im = cv2.resize(im, dsize=(IMG_WIDTH, IMG_HEIGHT), interpolation=cv2.INTER_NEAREST)\n",
    "    y_data[i] = im/255."
   ]
  },
  {
   "cell_type": "code",
   "execution_count": 48,
   "metadata": {},
   "outputs": [
    {
     "data": {
      "text/plain": [
       "(328, 64, 64)"
      ]
     },
     "execution_count": 48,
     "metadata": {},
     "output_type": "execute_result"
    }
   ],
   "source": [
    "x_data.shape"
   ]
  },
  {
   "cell_type": "code",
   "execution_count": 49,
   "metadata": {},
   "outputs": [],
   "source": [
    "from sklearn.utils import shuffle\n",
    "\n",
    "x_data, y_data = shuffle(x_data, y_data)"
   ]
  },
  {
   "cell_type": "code",
   "execution_count": 50,
   "metadata": {},
   "outputs": [
    {
     "data": {
      "text/plain": [
       "(328, 64, 64)"
      ]
     },
     "execution_count": 50,
     "metadata": {},
     "output_type": "execute_result"
    }
   ],
   "source": [
    "x_data.shape"
   ]
  },
  {
   "cell_type": "code",
   "execution_count": 51,
   "metadata": {
    "_cell_guid": "0e08ba87-b8da-6b05-37e5-cc7e5a6d1963"
   },
   "outputs": [],
   "source": [
    "x_data = x_data[:,:,:,np.newaxis]\n",
    "y_data = y_data[:,:,:,np.newaxis]\n",
    "x_train, x_val, y_train, y_val = train_test_split(x_data, y_data, test_size = 0.01)"
   ]
  },
  {
   "cell_type": "code",
   "execution_count": 52,
   "metadata": {},
   "outputs": [
    {
     "data": {
      "text/plain": [
       "(324, 64, 64, 1)"
      ]
     },
     "execution_count": 52,
     "metadata": {},
     "output_type": "execute_result"
    }
   ],
   "source": [
    "x_train.shape"
   ]
  },
  {
   "cell_type": "code",
   "execution_count": 53,
   "metadata": {},
   "outputs": [
    {
     "data": {
      "text/plain": [
       "(4, 64, 64, 1)"
      ]
     },
     "execution_count": 53,
     "metadata": {},
     "output_type": "execute_result"
    }
   ],
   "source": [
    "x_val.shape"
   ]
  },
  {
   "cell_type": "markdown",
   "metadata": {
    "_cell_guid": "e3fb4b07-eae5-1064-62c7-aa4df356d9c6"
   },
   "source": [
    "## Define and train model"
   ]
  },
  {
   "cell_type": "code",
   "execution_count": 54,
   "metadata": {
    "_cell_guid": "94927809-5c23-89ac-2f1d-632e230f7618"
   },
   "outputs": [],
   "source": [
    "def dice_coef(y_true, y_pred):\n",
    "    y_true_f = K.flatten(y_true)\n",
    "    y_pred_f = K.flatten(y_pred)\n",
    "    intersection = K.sum(y_true_f * y_pred_f)\n",
    "    return (2. * intersection + K.epsilon()) / (K.sum(y_true_f) + K.sum(y_pred_f) + K.epsilon())"
   ]
  },
  {
   "cell_type": "code",
   "execution_count": 100,
   "metadata": {
    "_cell_guid": "4155b1c5-e3db-1b67-60b0-e20734a6de6d"
   },
   "outputs": [],
   "source": [
    "#for 32 input\n",
    "\n",
    "input_layer = Input(shape=x_train.shape[1:])\n",
    "c1 = Conv2D(filters=8, kernel_size=(3,3), activation='relu', padding='same')(input_layer)\n",
    "l = MaxPool2D(strides=(2,2))(c1)\n",
    "c2 = Conv2D(filters=16, kernel_size=(3,3), activation='relu', padding='same')(l)\n",
    "l = MaxPool2D(strides=(2,2))(c2)\n",
    "c3 = Conv2D(filters=32, kernel_size=(3,3), activation='relu', padding='same')(l)\n",
    "l = MaxPool2D(strides=(2,2))(c3)\n",
    "c4 = Conv2D(filters=32, kernel_size=(1,1), activation='relu', padding='same')(l)\n",
    "l = concatenate([UpSampling2D(size=(2,2))(c4), c3], axis=-1)\n",
    "l = Conv2D(filters=32, kernel_size=(2,2), activation='relu', padding='same')(l)\n",
    "l = concatenate([UpSampling2D(size=(2,2))(l), c2], axis=-1)\n",
    "l = Conv2D(filters=24, kernel_size=(2,2), activation='relu', padding='same')(l)\n",
    "l = concatenate([UpSampling2D(size=(2,2))(l), c1], axis=-1)\n",
    "l = Conv2D(filters=16, kernel_size=(2,2), activation='relu', padding='same')(l)\n",
    "l = Conv2D(filters=64, kernel_size=(1,1), activation='relu')(l)\n",
    "l = Dropout(0.5)(l)\n",
    "output_layer = Conv2D(filters=1, kernel_size=(1,1), activation='sigmoid')(l)\n",
    "                                                         \n",
    "model = Model(input_layer, output_layer)"
   ]
  },
  {
   "cell_type": "code",
   "execution_count": 55,
   "metadata": {},
   "outputs": [],
   "source": [
    "#for 64 input\n",
    "\n",
    "input_layer = Input(shape=x_train.shape[1:])\n",
    "c1 = Conv2D(filters=4, kernel_size=(3,3), activation='relu', padding='same')(input_layer)\n",
    "l = MaxPool2D(strides=(2,2))(c1)\n",
    "c2 = Conv2D(filters=8, kernel_size=(3,3), activation='relu', padding='same')(l)\n",
    "l = MaxPool2D(strides=(2,2))(c2)\n",
    "c3 = Conv2D(filters=16, kernel_size=(3,3), activation='relu', padding='same')(l)\n",
    "l = MaxPool2D(strides=(2,2))(c3)\n",
    "c4 = Conv2D(filters=32, kernel_size=(1,1), activation='relu', padding='same')(l)\n",
    "l = concatenate([UpSampling2D(size=(2,2))(c4), c3], axis=-1)\n",
    "l = Conv2D(filters=32, kernel_size=(2,2), activation='relu', padding='same')(l)\n",
    "l = concatenate([UpSampling2D(size=(2,2))(l), c2], axis=-1)\n",
    "l = Conv2D(filters=24, kernel_size=(2,2), activation='relu', padding='same')(l)\n",
    "l = concatenate([UpSampling2D(size=(2,2))(l), c1], axis=-1)\n",
    "l = Conv2D(filters=16, kernel_size=(2,2), activation='relu', padding='same')(l)\n",
    "l = Conv2D(filters=64, kernel_size=(1,1), activation='relu')(l)\n",
    "l = Dropout(0.5)(l)\n",
    "output_layer = Conv2D(filters=1, kernel_size=(1,1), activation='sigmoid')(l)\n",
    "                                                         \n",
    "model = Model(input_layer, output_layer)"
   ]
  },
  {
   "cell_type": "code",
   "execution_count": 162,
   "metadata": {},
   "outputs": [],
   "source": [
    "#for 128 input\n",
    "\n",
    "input_layer = Input(shape=x_train.shape[1:])\n",
    "c1 = Conv2D(filters=16, kernel_size=(3,3), activation='relu', padding='same')(input_layer)\n",
    "l = MaxPool2D(strides=(2,2))(c1)\n",
    "c2 = Conv2D(filters=32, kernel_size=(3,3), activation='relu', padding='same')(l)\n",
    "l = MaxPool2D(strides=(2,2))(c2)\n",
    "c3 = Conv2D(filters=64, kernel_size=(3,3), activation='relu', padding='same')(l)\n",
    "l = MaxPool2D(strides=(2,2))(c3)\n",
    "c4 = Conv2D(filters=64, kernel_size=(1,1), activation='relu', padding='same')(l)\n",
    "l = concatenate([UpSampling2D(size=(2,2))(c4), c3], axis=-1)\n",
    "l = Conv2D(filters=64, kernel_size=(2,2), activation='relu', padding='same')(l)\n",
    "l = concatenate([UpSampling2D(size=(2,2))(l), c2], axis=-1)\n",
    "l = Conv2D(filters=48, kernel_size=(2,2), activation='relu', padding='same')(l)\n",
    "l = concatenate([UpSampling2D(size=(2,2))(l), c1], axis=-1)\n",
    "l = Conv2D(filters=32, kernel_size=(2,2), activation='relu', padding='same')(l)\n",
    "l = Conv2D(filters=128, kernel_size=(1,1), activation='relu')(l)\n",
    "l = Dropout(0.1)(l)\n",
    "output_layer = Conv2D(filters=1, kernel_size=(1,1), activation='sigmoid')(l)\n",
    "                                                         \n",
    "model = Model(input_layer, output_layer)"
   ]
  },
  {
   "cell_type": "code",
   "execution_count": 203,
   "metadata": {},
   "outputs": [],
   "source": [
    "#for 256 input\n",
    "\n",
    "input_layer = Input(shape=x_train.shape[1:])\n",
    "c1 = Conv2D(filters=32, kernel_size=(3,3), activation='relu', padding='same')(input_layer)\n",
    "l = MaxPool2D(strides=(2,2))(c1)\n",
    "c2 = Conv2D(filters=64, kernel_size=(3,3), activation='relu', padding='same')(l)\n",
    "l = MaxPool2D(strides=(2,2))(c2)\n",
    "c3 = Conv2D(filters=128, kernel_size=(3,3), activation='relu', padding='same')(l)\n",
    "l = MaxPool2D(strides=(2,2))(c3)\n",
    "c4 = Conv2D(filters=128, kernel_size=(1,1), activation='relu', padding='same')(l)\n",
    "l = concatenate([UpSampling2D(size=(2,2))(c4), c3], axis=-1)\n",
    "l = Conv2D(filters=128, kernel_size=(2,2), activation='relu', padding='same')(l)\n",
    "l = concatenate([UpSampling2D(size=(2,2))(l), c2], axis=-1)\n",
    "l = Conv2D(filters=96, kernel_size=(2,2), activation='relu', padding='same')(l)\n",
    "l = concatenate([UpSampling2D(size=(2,2))(l), c1], axis=-1)\n",
    "l = Conv2D(filters=64, kernel_size=(2,2), activation='relu', padding='same')(l)\n",
    "l = Conv2D(filters=256, kernel_size=(1,1), activation='relu')(l)\n",
    "l = Dropout(0.5)(l)\n",
    "output_layer = Conv2D(filters=1, kernel_size=(1,1), activation='sigmoid')(l)\n",
    "                                                         \n",
    "model = Model(input_layer, output_layer)"
   ]
  },
  {
   "cell_type": "code",
   "execution_count": 56,
   "metadata": {
    "_cell_guid": "6ad74da4-d00e-d3d1-2485-c030e3a934a9"
   },
   "outputs": [
    {
     "name": "stdout",
     "output_type": "stream",
     "text": [
      "__________________________________________________________________________________________________\n",
      "Layer (type)                    Output Shape         Param #     Connected to                     \n",
      "==================================================================================================\n",
      "input_3 (InputLayer)            (None, 64, 64, 1)    0                                            \n",
      "__________________________________________________________________________________________________\n",
      "conv2d_19 (Conv2D)              (None, 64, 64, 4)    40          input_3[0][0]                    \n",
      "__________________________________________________________________________________________________\n",
      "max_pooling2d_7 (MaxPooling2D)  (None, 32, 32, 4)    0           conv2d_19[0][0]                  \n",
      "__________________________________________________________________________________________________\n",
      "conv2d_20 (Conv2D)              (None, 32, 32, 8)    296         max_pooling2d_7[0][0]            \n",
      "__________________________________________________________________________________________________\n",
      "max_pooling2d_8 (MaxPooling2D)  (None, 16, 16, 8)    0           conv2d_20[0][0]                  \n",
      "__________________________________________________________________________________________________\n",
      "conv2d_21 (Conv2D)              (None, 16, 16, 16)   1168        max_pooling2d_8[0][0]            \n",
      "__________________________________________________________________________________________________\n",
      "max_pooling2d_9 (MaxPooling2D)  (None, 8, 8, 16)     0           conv2d_21[0][0]                  \n",
      "__________________________________________________________________________________________________\n",
      "conv2d_22 (Conv2D)              (None, 8, 8, 32)     544         max_pooling2d_9[0][0]            \n",
      "__________________________________________________________________________________________________\n",
      "up_sampling2d_7 (UpSampling2D)  (None, 16, 16, 32)   0           conv2d_22[0][0]                  \n",
      "__________________________________________________________________________________________________\n",
      "concatenate_7 (Concatenate)     (None, 16, 16, 48)   0           up_sampling2d_7[0][0]            \n",
      "                                                                 conv2d_21[0][0]                  \n",
      "__________________________________________________________________________________________________\n",
      "conv2d_23 (Conv2D)              (None, 16, 16, 32)   6176        concatenate_7[0][0]              \n",
      "__________________________________________________________________________________________________\n",
      "up_sampling2d_8 (UpSampling2D)  (None, 32, 32, 32)   0           conv2d_23[0][0]                  \n",
      "__________________________________________________________________________________________________\n",
      "concatenate_8 (Concatenate)     (None, 32, 32, 40)   0           up_sampling2d_8[0][0]            \n",
      "                                                                 conv2d_20[0][0]                  \n",
      "__________________________________________________________________________________________________\n",
      "conv2d_24 (Conv2D)              (None, 32, 32, 24)   3864        concatenate_8[0][0]              \n",
      "__________________________________________________________________________________________________\n",
      "up_sampling2d_9 (UpSampling2D)  (None, 64, 64, 24)   0           conv2d_24[0][0]                  \n",
      "__________________________________________________________________________________________________\n",
      "concatenate_9 (Concatenate)     (None, 64, 64, 28)   0           up_sampling2d_9[0][0]            \n",
      "                                                                 conv2d_19[0][0]                  \n",
      "__________________________________________________________________________________________________\n",
      "conv2d_25 (Conv2D)              (None, 64, 64, 16)   1808        concatenate_9[0][0]              \n",
      "__________________________________________________________________________________________________\n",
      "conv2d_26 (Conv2D)              (None, 64, 64, 64)   1088        conv2d_25[0][0]                  \n",
      "__________________________________________________________________________________________________\n",
      "dropout_3 (Dropout)             (None, 64, 64, 64)   0           conv2d_26[0][0]                  \n",
      "__________________________________________________________________________________________________\n",
      "conv2d_27 (Conv2D)              (None, 64, 64, 1)    65          dropout_3[0][0]                  \n",
      "==================================================================================================\n",
      "Total params: 15,049\n",
      "Trainable params: 15,049\n",
      "Non-trainable params: 0\n",
      "__________________________________________________________________________________________________\n"
     ]
    }
   ],
   "source": [
    "model.summary()"
   ]
  },
  {
   "cell_type": "code",
   "execution_count": 57,
   "metadata": {
    "_cell_guid": "196caf85-15eb-baa9-8ed2-8a4c04a657ec"
   },
   "outputs": [],
   "source": [
    "#seed is VERY important for image and mask transform simultaneously\n",
    "\n",
    "def my_generator(x_train, y_train, batch_size):\n",
    "    data_generator = ImageDataGenerator(\n",
    "            width_shift_range=0.1,\n",
    "            height_shift_range=0.1,\n",
    "            rotation_range=10,\n",
    "            horizontal_flip=True,\n",
    "            zoom_range=0.1).flow(x_train, x_train, batch_size, seed=123)\n",
    "    mask_generator = ImageDataGenerator(\n",
    "            width_shift_range=0.1,\n",
    "            height_shift_range=0.1,\n",
    "            rotation_range=10,\n",
    "            horizontal_flip=True,\n",
    "            zoom_range=0.1\n",
    "            ).flow(y_train, y_train, batch_size, seed=123)\n",
    "    while True:\n",
    "        x_batch, _ = data_generator.next()\n",
    "        y_batch, _ = mask_generator.next()\n",
    "        yield x_batch, y_batch"
   ]
  },
  {
   "cell_type": "code",
   "execution_count": 58,
   "metadata": {
    "_cell_guid": "9463e130-1ec1-c808-fb01-ce807b5f35fa"
   },
   "outputs": [
    {
     "data": {
      "image/png": "[encoded data removed]",
      "text/plain": [
       "<Figure size 1296x432 with 16 Axes>"
      ]
     },
     "metadata": {
      "needs_background": "light"
     },
     "output_type": "display_data"
    }
   ],
   "source": [
    "\n",
    "image_batch, mask_batch = next(my_generator(x_train, y_train, 8))\n",
    "fix, ax = plt.subplots(2,8, figsize=(18,6))\n",
    "for i in range(8):\n",
    "    ax[0,i].imshow(image_batch[i,:,:,0])\n",
    "    ax[1,i].imshow(mask_batch[i,:,:,0])\n",
    "plt.show()"
   ]
  },
  {
   "cell_type": "code",
   "execution_count": 59,
   "metadata": {
    "_cell_guid": "13f80550-086e-e3e0-234f-17b0ece1f58b"
   },
   "outputs": [],
   "source": [
    "model.compile(optimizer=Adam(2e-4), loss='binary_crossentropy', metrics=[dice_coef])"
   ]
  },
  {
   "cell_type": "code",
   "execution_count": 60,
   "metadata": {
    "_cell_guid": "04a1d2d0-46b6-28cf-cf1d-2da3ac342cb2"
   },
   "outputs": [],
   "source": [
    "weight_saver = ModelCheckpoint('../../models/save_syn64_best.h5', monitor='val_dice_coef', \n",
    "                                              save_best_only=True, save_weights_only=True)\n",
    "annealer = LearningRateScheduler(lambda x: 1e-3 * 0.8 ** x)"
   ]
  },
  {
   "cell_type": "code",
   "execution_count": 61,
   "metadata": {},
   "outputs": [],
   "source": [
    "callbacks = [\n",
    "    keras.callbacks.ModelCheckpoint(\"../../models/save_syn64_st3_{epoch}.h5\"),\n",
    "]"
   ]
  },
  {
   "cell_type": "code",
   "execution_count": 62,
   "metadata": {
    "_cell_guid": "193a78f4-883e-8a16-3748-96dbc8a1ef1c"
   },
   "outputs": [
    {
     "name": "stdout",
     "output_type": "stream",
     "text": [
      "Epoch 1/800\n",
      "11/11 [==============================] - 42s 4s/step - loss: 0.6866 - dice_coef: 0.0226 - val_loss: 0.6804 - val_dice_coef: 0.0227\n",
      "Epoch 2/800\n",
      "11/11 [==============================] - 1s 49ms/step - loss: 0.6710 - dice_coef: 0.0222 - val_loss: 0.6619 - val_dice_coef: 0.0224\n",
      "Epoch 3/800\n",
      "11/11 [==============================] - ETA: 0s - loss: 0.6454 - dice_coef: 0.022 - 1s 48ms/step - loss: 0.6431 - dice_coef: 0.0223 - val_loss: 0.6290 - val_dice_coef: 0.0216\n",
      "Epoch 4/800\n",
      "11/11 [==============================] - 1s 49ms/step - loss: 0.5969 - dice_coef: 0.0205 - val_loss: 0.5654 - val_dice_coef: 0.0196\n",
      "Epoch 5/800\n",
      "11/11 [==============================] - 1s 50ms/step - loss: 0.5095 - dice_coef: 0.0191 - val_loss: 0.4469 - val_dice_coef: 0.0158\n",
      "Epoch 6/800\n",
      "11/11 [==============================] - 1s 49ms/step - loss: 0.3667 - dice_coef: 0.0149 - val_loss: 0.2765 - val_dice_coef: 0.0104\n",
      "Epoch 7/800\n",
      "11/11 [==============================] - 1s 49ms/step - loss: 0.2228 - dice_coef: 0.0104 - val_loss: 0.1561 - val_dice_coef: 0.0050\n",
      "Epoch 8/800\n",
      "11/11 [==============================] - 1s 49ms/step - loss: 0.1516 - dice_coef: 0.0065 - val_loss: 0.1390 - val_dice_coef: 0.0018\n",
      "Epoch 9/800\n",
      "11/11 [==============================] - 1s 49ms/step - loss: 0.1366 - dice_coef: 0.0055 - val_loss: 0.1413 - val_dice_coef: 9.8609e-04\n",
      "Epoch 10/800\n",
      "11/11 [==============================] - 1s 49ms/step - loss: 0.1363 - dice_coef: 0.0043 - val_loss: 0.1392 - val_dice_coef: 9.7723e-04\n",
      "Epoch 11/800\n",
      "11/11 [==============================] - 1s 48ms/step - loss: 0.1320 - dice_coef: 0.0045 - val_loss: 0.1349 - val_dice_coef: 0.0012\n",
      "Epoch 12/800\n",
      "11/11 [==============================] - 1s 50ms/step - loss: 0.1273 - dice_coef: 0.0057 - val_loss: 0.1290 - val_dice_coef: 0.0016\n",
      "Epoch 13/800\n",
      "11/11 [==============================] - 1s 48ms/step - loss: 0.1241 - dice_coef: 0.0060 - val_loss: 0.1236 - val_dice_coef: 0.0019\n",
      "Epoch 14/800\n",
      "11/11 [==============================] - 1s 48ms/step - loss: 0.1230 - dice_coef: 0.0058 - val_loss: 0.1193 - val_dice_coef: 0.0022\n",
      "Epoch 15/800\n",
      "11/11 [==============================] - 1s 49ms/step - loss: 0.1180 - dice_coef: 0.0069 - val_loss: 0.1158 - val_dice_coef: 0.0024\n",
      "Epoch 16/800\n",
      "11/11 [==============================] - 1s 49ms/step - loss: 0.1147 - dice_coef: 0.0063 - val_loss: 0.1121 - val_dice_coef: 0.0026\n",
      "Epoch 17/800\n",
      "11/11 [==============================] - 1s 48ms/step - loss: 0.1191 - dice_coef: 0.0066 - val_loss: 0.1083 - val_dice_coef: 0.0028\n",
      "Epoch 18/800\n",
      "11/11 [==============================] - 1s 49ms/step - loss: 0.1065 - dice_coef: 0.0076 - val_loss: 0.1040 - val_dice_coef: 0.0032\n",
      "Epoch 19/800\n",
      "11/11 [==============================] - 1s 50ms/step - loss: 0.1027 - dice_coef: 0.0076 - val_loss: 0.1008 - val_dice_coef: 0.0032\n",
      "Epoch 20/800\n",
      "11/11 [==============================] - 1s 49ms/step - loss: 0.1008 - dice_coef: 0.0079 - val_loss: 0.0972 - val_dice_coef: 0.0035\n",
      "Epoch 21/800\n",
      "11/11 [==============================] - 1s 49ms/step - loss: 0.0979 - dice_coef: 0.0087 - val_loss: 0.0928 - val_dice_coef: 0.0041\n",
      "Epoch 22/800\n",
      "11/11 [==============================] - 1s 48ms/step - loss: 0.0948 - dice_coef: 0.0094 - val_loss: 0.0886 - val_dice_coef: 0.0047\n",
      "Epoch 23/800\n",
      "11/11 [==============================] - 1s 48ms/step - loss: 0.0877 - dice_coef: 0.0102 - val_loss: 0.0845 - val_dice_coef: 0.0053\n",
      "Epoch 24/800\n",
      "11/11 [==============================] - 1s 49ms/step - loss: 0.0834 - dice_coef: 0.0108 - val_loss: 0.0803 - val_dice_coef: 0.0062\n",
      "Epoch 25/800\n",
      "11/11 [==============================] - 1s 48ms/step - loss: 0.0845 - dice_coef: 0.0134 - val_loss: 0.0751 - val_dice_coef: 0.0083\n",
      "Epoch 26/800\n",
      "11/11 [==============================] - 1s 49ms/step - loss: 0.0779 - dice_coef: 0.0161 - val_loss: 0.0699 - val_dice_coef: 0.0110\n",
      "Epoch 27/800\n",
      "11/11 [==============================] - 1s 49ms/step - loss: 0.0725 - dice_coef: 0.0189 - val_loss: 0.0642 - val_dice_coef: 0.0166\n",
      "Epoch 28/800\n",
      "11/11 [==============================] - 1s 49ms/step - loss: 0.0653 - dice_coef: 0.0247 - val_loss: 0.0589 - val_dice_coef: 0.0246\n",
      "Epoch 29/800\n",
      "11/11 [==============================] - 1s 49ms/step - loss: 0.0618 - dice_coef: 0.0350 - val_loss: 0.0537 - val_dice_coef: 0.0378\n",
      "Epoch 30/800\n",
      "11/11 [==============================] - 1s 48ms/step - loss: 0.0586 - dice_coef: 0.0480 - val_loss: 0.0496 - val_dice_coef: 0.0536\n",
      "Epoch 31/800\n",
      "11/11 [==============================] - 1s 48ms/step - loss: 0.0539 - dice_coef: 0.0577 - val_loss: 0.0472 - val_dice_coef: 0.0676\n",
      "Epoch 32/800\n",
      "11/11 [==============================] - 1s 49ms/step - loss: 0.0518 - dice_coef: 0.0701 - val_loss: 0.0445 - val_dice_coef: 0.0820\n",
      "Epoch 33/800\n",
      "11/11 [==============================] - 1s 49ms/step - loss: 0.0502 - dice_coef: 0.0840 - val_loss: 0.0430 - val_dice_coef: 0.0969\n",
      "Epoch 34/800\n",
      "11/11 [==============================] - 1s 49ms/step - loss: 0.0489 - dice_coef: 0.0958 - val_loss: 0.0411 - val_dice_coef: 0.1110\n",
      "Epoch 35/800\n",
      "11/11 [==============================] - 1s 49ms/step - loss: 0.0464 - dice_coef: 0.1096 - val_loss: 0.0405 - val_dice_coef: 0.1219\n",
      "Epoch 36/800\n",
      "11/11 [==============================] - 1s 49ms/step - loss: 0.0440 - dice_coef: 0.1194 - val_loss: 0.0394 - val_dice_coef: 0.1335\n",
      "Epoch 37/800\n",
      "11/11 [==============================] - 1s 48ms/step - loss: 0.0434 - dice_coef: 0.1243 - val_loss: 0.0390 - val_dice_coef: 0.1404\n",
      "Epoch 38/800\n",
      "11/11 [==============================] - 1s 50ms/step - loss: 0.0443 - dice_coef: 0.1375 - val_loss: 0.0382 - val_dice_coef: 0.1482\n",
      "Epoch 39/800\n",
      "11/11 [==============================] - 1s 48ms/step - loss: 0.0414 - dice_coef: 0.1459 - val_loss: 0.0375 - val_dice_coef: 0.1632\n",
      "Epoch 40/800\n",
      "11/11 [==============================] - 1s 48ms/step - loss: 0.0397 - dice_coef: 0.1594 - val_loss: 0.0371 - val_dice_coef: 0.1708\n",
      "Epoch 41/800\n",
      "11/11 [==============================] - 1s 48ms/step - loss: 0.0407 - dice_coef: 0.1648 - val_loss: 0.0365 - val_dice_coef: 0.1743\n",
      "Epoch 42/800\n",
      "11/11 [==============================] - 1s 48ms/step - loss: 0.0415 - dice_coef: 0.1726 - val_loss: 0.0358 - val_dice_coef: 0.1839\n",
      "Epoch 43/800\n",
      "11/11 [==============================] - 1s 49ms/step - loss: 0.0380 - dice_coef: 0.1751 - val_loss: 0.0351 - val_dice_coef: 0.1929\n",
      "Epoch 44/800\n",
      "11/11 [==============================] - 1s 49ms/step - loss: 0.0391 - dice_coef: 0.1919 - val_loss: 0.0342 - val_dice_coef: 0.2000\n",
      "Epoch 45/800\n",
      "11/11 [==============================] - 1s 49ms/step - loss: 0.0381 - dice_coef: 0.1931 - val_loss: 0.0339 - val_dice_coef: 0.2044\n",
      "Epoch 46/800\n",
      "11/11 [==============================] - 1s 49ms/step - loss: 0.0367 - dice_coef: 0.1971 - val_loss: 0.0334 - val_dice_coef: 0.2120\n",
      "Epoch 47/800\n",
      "11/11 [==============================] - 1s 49ms/step - loss: 0.0359 - dice_coef: 0.2061 - val_loss: 0.0330 - val_dice_coef: 0.2209\n",
      "Epoch 48/800\n",
      "11/11 [==============================] - 1s 48ms/step - loss: 0.0359 - dice_coef: 0.2071 - val_loss: 0.0331 - val_dice_coef: 0.2204\n",
      "Epoch 49/800\n",
      "11/11 [==============================] - 1s 49ms/step - loss: 0.0350 - dice_coef: 0.2096 - val_loss: 0.0325 - val_dice_coef: 0.2272\n",
      "Epoch 50/800\n",
      "11/11 [==============================] - 1s 48ms/step - loss: 0.0347 - dice_coef: 0.2150 - val_loss: 0.0320 - val_dice_coef: 0.2335\n",
      "Epoch 51/800\n",
      "11/11 [==============================] - 1s 48ms/step - loss: 0.0339 - dice_coef: 0.2219 - val_loss: 0.0318 - val_dice_coef: 0.2367\n",
      "Epoch 52/800\n",
      "11/11 [==============================] - 1s 48ms/step - loss: 0.0360 - dice_coef: 0.2366 - val_loss: 0.0311 - val_dice_coef: 0.2479\n",
      "Epoch 53/800\n",
      "11/11 [==============================] - 1s 48ms/step - loss: 0.0343 - dice_coef: 0.2389 - val_loss: 0.0308 - val_dice_coef: 0.2543\n",
      "Epoch 54/800\n",
      "11/11 [==============================] - 1s 49ms/step - loss: 0.0336 - dice_coef: 0.2426 - val_loss: 0.0306 - val_dice_coef: 0.2553\n",
      "Epoch 55/800\n",
      "11/11 [==============================] - 1s 49ms/step - loss: 0.0344 - dice_coef: 0.2420 - val_loss: 0.0301 - val_dice_coef: 0.2631\n",
      "Epoch 56/800\n",
      "11/11 [==============================] - 1s 49ms/step - loss: 0.0336 - dice_coef: 0.2395 - val_loss: 0.0300 - val_dice_coef: 0.2641\n",
      "Epoch 57/800\n"
     ]
    },
    {
     "name": "stdout",
     "output_type": "stream",
     "text": [
      "11/11 [==============================] - 1s 49ms/step - loss: 0.0336 - dice_coef: 0.2510 - val_loss: 0.0302 - val_dice_coef: 0.2584\n",
      "Epoch 58/800\n",
      "11/11 [==============================] - 1s 48ms/step - loss: 0.0334 - dice_coef: 0.2395 - val_loss: 0.0295 - val_dice_coef: 0.2676\n",
      "Epoch 59/800\n",
      "11/11 [==============================] - 1s 49ms/step - loss: 0.0346 - dice_coef: 0.2576 - val_loss: 0.0288 - val_dice_coef: 0.2811\n",
      "Epoch 60/800\n",
      "11/11 [==============================] - 1s 48ms/step - loss: 0.0315 - dice_coef: 0.2546 - val_loss: 0.0297 - val_dice_coef: 0.2684\n",
      "Epoch 61/800\n",
      "11/11 [==============================] - 1s 48ms/step - loss: 0.0322 - dice_coef: 0.2647 - val_loss: 0.0288 - val_dice_coef: 0.2767\n",
      "Epoch 62/800\n",
      "11/11 [==============================] - 1s 49ms/step - loss: 0.0313 - dice_coef: 0.2679 - val_loss: 0.0281 - val_dice_coef: 0.2939\n",
      "Epoch 63/800\n",
      "11/11 [==============================] - 1s 48ms/step - loss: 0.0315 - dice_coef: 0.2794 - val_loss: 0.0280 - val_dice_coef: 0.2921\n",
      "Epoch 64/800\n",
      "11/11 [==============================] - 1s 48ms/step - loss: 0.0319 - dice_coef: 0.2836 - val_loss: 0.0283 - val_dice_coef: 0.2893\n",
      "Epoch 65/800\n",
      "11/11 [==============================] - 1s 49ms/step - loss: 0.0311 - dice_coef: 0.2819 - val_loss: 0.0273 - val_dice_coef: 0.3009\n",
      "Epoch 66/800\n",
      "11/11 [==============================] - 1s 48ms/step - loss: 0.0299 - dice_coef: 0.2783 - val_loss: 0.0273 - val_dice_coef: 0.3036\n",
      "Epoch 67/800\n",
      "11/11 [==============================] - 1s 48ms/step - loss: 0.0304 - dice_coef: 0.2887 - val_loss: 0.0268 - val_dice_coef: 0.3108\n",
      "Epoch 68/800\n",
      "11/11 [==============================] - 1s 49ms/step - loss: 0.0310 - dice_coef: 0.2991 - val_loss: 0.0263 - val_dice_coef: 0.3214\n",
      "Epoch 69/800\n",
      "11/11 [==============================] - 1s 49ms/step - loss: 0.0310 - dice_coef: 0.3067 - val_loss: 0.0259 - val_dice_coef: 0.3289\n",
      "Epoch 70/800\n",
      "11/11 [==============================] - 1s 48ms/step - loss: 0.0297 - dice_coef: 0.3100 - val_loss: 0.0264 - val_dice_coef: 0.3205\n",
      "Epoch 71/800\n",
      "11/11 [==============================] - 1s 48ms/step - loss: 0.0301 - dice_coef: 0.3043 - val_loss: 0.0257 - val_dice_coef: 0.3299\n",
      "Epoch 72/800\n",
      "11/11 [==============================] - 1s 48ms/step - loss: 0.0296 - dice_coef: 0.3155 - val_loss: 0.0255 - val_dice_coef: 0.3348\n",
      "Epoch 73/800\n",
      "11/11 [==============================] - 1s 49ms/step - loss: 0.0298 - dice_coef: 0.3175 - val_loss: 0.0250 - val_dice_coef: 0.3442\n",
      "Epoch 74/800\n",
      "11/11 [==============================] - 1s 49ms/step - loss: 0.0296 - dice_coef: 0.3269 - val_loss: 0.0247 - val_dice_coef: 0.3512\n",
      "Epoch 75/800\n",
      "11/11 [==============================] - 1s 48ms/step - loss: 0.0284 - dice_coef: 0.3414 - val_loss: 0.0251 - val_dice_coef: 0.3466\n",
      "Epoch 76/800\n",
      "11/11 [==============================] - 1s 49ms/step - loss: 0.0280 - dice_coef: 0.3288 - val_loss: 0.0243 - val_dice_coef: 0.3584\n",
      "Epoch 77/800\n",
      "11/11 [==============================] - 1s 48ms/step - loss: 0.0274 - dice_coef: 0.3327 - val_loss: 0.0240 - val_dice_coef: 0.3647\n",
      "Epoch 78/800\n",
      "11/11 [==============================] - 1s 49ms/step - loss: 0.0282 - dice_coef: 0.3431 - val_loss: 0.0244 - val_dice_coef: 0.3565\n",
      "Epoch 79/800\n",
      "11/11 [==============================] - 1s 48ms/step - loss: 0.0281 - dice_coef: 0.3394 - val_loss: 0.0238 - val_dice_coef: 0.3671\n",
      "Epoch 80/800\n",
      "11/11 [==============================] - 1s 49ms/step - loss: 0.0274 - dice_coef: 0.3444 - val_loss: 0.0234 - val_dice_coef: 0.3787\n",
      "Epoch 81/800\n",
      "11/11 [==============================] - 1s 48ms/step - loss: 0.0300 - dice_coef: 0.3497 - val_loss: 0.0232 - val_dice_coef: 0.3895\n",
      "Epoch 82/800\n",
      "11/11 [==============================] - 1s 48ms/step - loss: 0.0280 - dice_coef: 0.3483 - val_loss: 0.0255 - val_dice_coef: 0.3462\n",
      "Epoch 83/800\n",
      "11/11 [==============================] - 1s 49ms/step - loss: 0.0279 - dice_coef: 0.3432 - val_loss: 0.0233 - val_dice_coef: 0.3743\n",
      "Epoch 84/800\n",
      "11/11 [==============================] - 1s 48ms/step - loss: 0.0272 - dice_coef: 0.3551 - val_loss: 0.0227 - val_dice_coef: 0.3912\n",
      "Epoch 85/800\n",
      "11/11 [==============================] - 1s 48ms/step - loss: 0.0267 - dice_coef: 0.3394 - val_loss: 0.0227 - val_dice_coef: 0.3867\n",
      "Epoch 86/800\n",
      "11/11 [==============================] - 1s 48ms/step - loss: 0.0281 - dice_coef: 0.3637 - val_loss: 0.0226 - val_dice_coef: 0.3926\n",
      "Epoch 87/800\n",
      "11/11 [==============================] - 1s 48ms/step - loss: 0.0272 - dice_coef: 0.3560 - val_loss: 0.0223 - val_dice_coef: 0.3955\n",
      "Epoch 88/800\n",
      "11/11 [==============================] - 1s 49ms/step - loss: 0.0263 - dice_coef: 0.3686 - val_loss: 0.0220 - val_dice_coef: 0.4089\n",
      "Epoch 89/800\n",
      "11/11 [==============================] - 1s 48ms/step - loss: 0.0269 - dice_coef: 0.3774 - val_loss: 0.0217 - val_dice_coef: 0.4142\n",
      "Epoch 90/800\n",
      "11/11 [==============================] - 1s 48ms/step - loss: 0.0265 - dice_coef: 0.3648 - val_loss: 0.0215 - val_dice_coef: 0.4168\n",
      "Epoch 91/800\n",
      "11/11 [==============================] - 1s 49ms/step - loss: 0.0257 - dice_coef: 0.3701 - val_loss: 0.0217 - val_dice_coef: 0.4137\n",
      "Epoch 92/800\n",
      "11/11 [==============================] - 1s 48ms/step - loss: 0.0257 - dice_coef: 0.3734 - val_loss: 0.0214 - val_dice_coef: 0.4185\n",
      "Epoch 93/800\n",
      "11/11 [==============================] - 1s 48ms/step - loss: 0.0264 - dice_coef: 0.3812 - val_loss: 0.0212 - val_dice_coef: 0.4247\n",
      "Epoch 94/800\n",
      "11/11 [==============================] - 1s 49ms/step - loss: 0.0261 - dice_coef: 0.3814 - val_loss: 0.0209 - val_dice_coef: 0.4327\n",
      "Epoch 95/800\n",
      "11/11 [==============================] - 1s 48ms/step - loss: 0.0261 - dice_coef: 0.3861 - val_loss: 0.0207 - val_dice_coef: 0.4371\n",
      "Epoch 96/800\n",
      "11/11 [==============================] - 1s 48ms/step - loss: 0.0268 - dice_coef: 0.3971 - val_loss: 0.0209 - val_dice_coef: 0.4314\n",
      "Epoch 97/800\n",
      "11/11 [==============================] - 1s 48ms/step - loss: 0.0257 - dice_coef: 0.3974 - val_loss: 0.0204 - val_dice_coef: 0.4461\n",
      "Epoch 98/800\n",
      "11/11 [==============================] - 1s 49ms/step - loss: 0.0255 - dice_coef: 0.3992 - val_loss: 0.0203 - val_dice_coef: 0.4506\n",
      "Epoch 99/800\n",
      "11/11 [==============================] - 1s 49ms/step - loss: 0.0244 - dice_coef: 0.4007 - val_loss: 0.0203 - val_dice_coef: 0.4504\n",
      "Epoch 100/800\n",
      "11/11 [==============================] - 1s 49ms/step - loss: 0.0267 - dice_coef: 0.4035 - val_loss: 0.0200 - val_dice_coef: 0.4571\n",
      "Epoch 101/800\n",
      "11/11 [==============================] - 1s 49ms/step - loss: 0.0264 - dice_coef: 0.4044 - val_loss: 0.0203 - val_dice_coef: 0.4503\n",
      "Epoch 102/800\n",
      "11/11 [==============================] - 1s 48ms/step - loss: 0.0258 - dice_coef: 0.4134 - val_loss: 0.0201 - val_dice_coef: 0.4555\n",
      "Epoch 103/800\n",
      "11/11 [==============================] - 1s 48ms/step - loss: 0.0243 - dice_coef: 0.4068 - val_loss: 0.0198 - val_dice_coef: 0.4635\n",
      "Epoch 104/800\n",
      "11/11 [==============================] - 1s 49ms/step - loss: 0.0246 - dice_coef: 0.4076 - val_loss: 0.0197 - val_dice_coef: 0.4607\n",
      "Epoch 105/800\n",
      "11/11 [==============================] - 1s 49ms/step - loss: 0.0249 - dice_coef: 0.4098 - val_loss: 0.0194 - val_dice_coef: 0.4722\n",
      "Epoch 106/800\n",
      "11/11 [==============================] - 1s 49ms/step - loss: 0.0251 - dice_coef: 0.4010 - val_loss: 0.0195 - val_dice_coef: 0.4675\n",
      "Epoch 107/800\n",
      "11/11 [==============================] - 1s 48ms/step - loss: 0.0242 - dice_coef: 0.4116 - val_loss: 0.0195 - val_dice_coef: 0.4652\n",
      "Epoch 108/800\n",
      "11/11 [==============================] - 1s 49ms/step - loss: 0.0250 - dice_coef: 0.4176 - val_loss: 0.0191 - val_dice_coef: 0.4832\n",
      "Epoch 109/800\n",
      "11/11 [==============================] - 1s 49ms/step - loss: 0.0248 - dice_coef: 0.4180 - val_loss: 0.0192 - val_dice_coef: 0.4788\n",
      "Epoch 110/800\n",
      "11/11 [==============================] - 1s 49ms/step - loss: 0.0239 - dice_coef: 0.4088 - val_loss: 0.0197 - val_dice_coef: 0.4710\n",
      "Epoch 111/800\n",
      "11/11 [==============================] - 1s 49ms/step - loss: 0.0249 - dice_coef: 0.4129 - val_loss: 0.0188 - val_dice_coef: 0.4869\n",
      "Epoch 112/800\n",
      "11/11 [==============================] - 1s 48ms/step - loss: 0.0231 - dice_coef: 0.4204 - val_loss: 0.0189 - val_dice_coef: 0.4898\n",
      "Epoch 113/800\n"
     ]
    },
    {
     "name": "stdout",
     "output_type": "stream",
     "text": [
      "11/11 [==============================] - 1s 49ms/step - loss: 0.0241 - dice_coef: 0.4312 - val_loss: 0.0185 - val_dice_coef: 0.4970\n",
      "Epoch 114/800\n",
      "11/11 [==============================] - 1s 48ms/step - loss: 0.0237 - dice_coef: 0.4279 - val_loss: 0.0184 - val_dice_coef: 0.4968\n",
      "Epoch 115/800\n",
      "11/11 [==============================] - 1s 48ms/step - loss: 0.0236 - dice_coef: 0.4310 - val_loss: 0.0187 - val_dice_coef: 0.4924\n",
      "Epoch 116/800\n",
      "11/11 [==============================] - 1s 48ms/step - loss: 0.0240 - dice_coef: 0.4282 - val_loss: 0.0183 - val_dice_coef: 0.5001\n",
      "Epoch 117/800\n",
      "11/11 [==============================] - 1s 49ms/step - loss: 0.0240 - dice_coef: 0.4361 - val_loss: 0.0184 - val_dice_coef: 0.4997\n",
      "Epoch 118/800\n",
      "11/11 [==============================] - 1s 48ms/step - loss: 0.0230 - dice_coef: 0.4421 - val_loss: 0.0182 - val_dice_coef: 0.5096\n",
      "Epoch 119/800\n",
      "11/11 [==============================] - 1s 48ms/step - loss: 0.0234 - dice_coef: 0.4386 - val_loss: 0.0183 - val_dice_coef: 0.5044\n",
      "Epoch 120/800\n",
      "11/11 [==============================] - 1s 48ms/step - loss: 0.0240 - dice_coef: 0.4338 - val_loss: 0.0183 - val_dice_coef: 0.5072\n",
      "Epoch 121/800\n",
      "11/11 [==============================] - 1s 48ms/step - loss: 0.0241 - dice_coef: 0.4181 - val_loss: 0.0181 - val_dice_coef: 0.5037\n",
      "Epoch 122/800\n",
      "11/11 [==============================] - 1s 48ms/step - loss: 0.0236 - dice_coef: 0.4409 - val_loss: 0.0178 - val_dice_coef: 0.5172\n",
      "Epoch 123/800\n",
      "11/11 [==============================] - 1s 48ms/step - loss: 0.0223 - dice_coef: 0.4269 - val_loss: 0.0180 - val_dice_coef: 0.5086\n",
      "Epoch 124/800\n",
      "11/11 [==============================] - 1s 48ms/step - loss: 0.0228 - dice_coef: 0.4451 - val_loss: 0.0175 - val_dice_coef: 0.5239\n",
      "Epoch 125/800\n",
      "11/11 [==============================] - 1s 48ms/step - loss: 0.0228 - dice_coef: 0.4475 - val_loss: 0.0181 - val_dice_coef: 0.5186\n",
      "Epoch 126/800\n",
      "11/11 [==============================] - 1s 49ms/step - loss: 0.0232 - dice_coef: 0.4409 - val_loss: 0.0174 - val_dice_coef: 0.5255\n",
      "Epoch 127/800\n",
      "11/11 [==============================] - 1s 48ms/step - loss: 0.0220 - dice_coef: 0.4186 - val_loss: 0.0174 - val_dice_coef: 0.5274\n",
      "Epoch 128/800\n",
      "11/11 [==============================] - 1s 49ms/step - loss: 0.0239 - dice_coef: 0.4298 - val_loss: 0.0175 - val_dice_coef: 0.5239\n",
      "Epoch 129/800\n",
      "11/11 [==============================] - 1s 48ms/step - loss: 0.0225 - dice_coef: 0.4542 - val_loss: 0.0172 - val_dice_coef: 0.5384\n",
      "Epoch 130/800\n",
      "11/11 [==============================] - 1s 48ms/step - loss: 0.0226 - dice_coef: 0.4438 - val_loss: 0.0177 - val_dice_coef: 0.5209\n",
      "Epoch 131/800\n",
      "11/11 [==============================] - 1s 48ms/step - loss: 0.0226 - dice_coef: 0.4439 - val_loss: 0.0173 - val_dice_coef: 0.5385\n",
      "Epoch 132/800\n",
      "11/11 [==============================] - 1s 49ms/step - loss: 0.0232 - dice_coef: 0.4731 - val_loss: 0.0170 - val_dice_coef: 0.5399\n",
      "Epoch 133/800\n",
      "11/11 [==============================] - 1s 48ms/step - loss: 0.0221 - dice_coef: 0.4591 - val_loss: 0.0169 - val_dice_coef: 0.5385\n",
      "Epoch 134/800\n",
      "11/11 [==============================] - 1s 48ms/step - loss: 0.0225 - dice_coef: 0.4684 - val_loss: 0.0167 - val_dice_coef: 0.5482\n",
      "Epoch 135/800\n",
      "11/11 [==============================] - 1s 49ms/step - loss: 0.0232 - dice_coef: 0.4645 - val_loss: 0.0167 - val_dice_coef: 0.5504\n",
      "Epoch 136/800\n",
      "11/11 [==============================] - 1s 48ms/step - loss: 0.0221 - dice_coef: 0.4625 - val_loss: 0.0167 - val_dice_coef: 0.5494\n",
      "Epoch 137/800\n",
      "11/11 [==============================] - 1s 48ms/step - loss: 0.0220 - dice_coef: 0.4609 - val_loss: 0.0165 - val_dice_coef: 0.5525\n",
      "Epoch 138/800\n",
      "11/11 [==============================] - 1s 48ms/step - loss: 0.0223 - dice_coef: 0.4724 - val_loss: 0.0165 - val_dice_coef: 0.5505\n",
      "Epoch 139/800\n",
      "11/11 [==============================] - 1s 48ms/step - loss: 0.0219 - dice_coef: 0.4460 - val_loss: 0.0164 - val_dice_coef: 0.5527\n",
      "Epoch 140/800\n",
      "11/11 [==============================] - 1s 49ms/step - loss: 0.0222 - dice_coef: 0.4672 - val_loss: 0.0167 - val_dice_coef: 0.5543\n",
      "Epoch 141/800\n",
      "11/11 [==============================] - 1s 49ms/step - loss: 0.0229 - dice_coef: 0.4693 - val_loss: 0.0166 - val_dice_coef: 0.5556\n",
      "Epoch 142/800\n",
      "11/11 [==============================] - 1s 47ms/step - loss: 0.0221 - dice_coef: 0.4671 - val_loss: 0.0162 - val_dice_coef: 0.5602\n",
      "Epoch 143/800\n",
      "11/11 [==============================] - 1s 49ms/step - loss: 0.0221 - dice_coef: 0.4831 - val_loss: 0.0162 - val_dice_coef: 0.5618\n",
      "Epoch 144/800\n",
      "11/11 [==============================] - 1s 47ms/step - loss: 0.0215 - dice_coef: 0.4652 - val_loss: 0.0163 - val_dice_coef: 0.5601\n",
      "Epoch 145/800\n",
      "11/11 [==============================] - 1s 48ms/step - loss: 0.0216 - dice_coef: 0.4758 - val_loss: 0.0160 - val_dice_coef: 0.5668\n",
      "Epoch 146/800\n",
      "11/11 [==============================] - 1s 48ms/step - loss: 0.0218 - dice_coef: 0.4747 - val_loss: 0.0160 - val_dice_coef: 0.5673\n",
      "Epoch 147/800\n",
      "11/11 [==============================] - 1s 49ms/step - loss: 0.0215 - dice_coef: 0.4746 - val_loss: 0.0159 - val_dice_coef: 0.5657\n",
      "Epoch 148/800\n",
      "11/11 [==============================] - 1s 48ms/step - loss: 0.0214 - dice_coef: 0.4857 - val_loss: 0.0159 - val_dice_coef: 0.5715\n",
      "Epoch 149/800\n",
      "11/11 [==============================] - 1s 49ms/step - loss: 0.0216 - dice_coef: 0.4788 - val_loss: 0.0158 - val_dice_coef: 0.5700\n",
      "Epoch 150/800\n",
      "11/11 [==============================] - 1s 49ms/step - loss: 0.0213 - dice_coef: 0.4767 - val_loss: 0.0160 - val_dice_coef: 0.5763\n",
      "Epoch 151/800\n",
      "11/11 [==============================] - 1s 49ms/step - loss: 0.0213 - dice_coef: 0.4799 - val_loss: 0.0157 - val_dice_coef: 0.5744\n",
      "Epoch 152/800\n",
      "11/11 [==============================] - 1s 49ms/step - loss: 0.0209 - dice_coef: 0.4840 - val_loss: 0.0156 - val_dice_coef: 0.5761\n",
      "Epoch 153/800\n",
      "11/11 [==============================] - 1s 49ms/step - loss: 0.0209 - dice_coef: 0.4823 - val_loss: 0.0156 - val_dice_coef: 0.5766\n",
      "Epoch 154/800\n",
      "11/11 [==============================] - 1s 48ms/step - loss: 0.0209 - dice_coef: 0.4824 - val_loss: 0.0157 - val_dice_coef: 0.5805\n",
      "Epoch 155/800\n",
      "11/11 [==============================] - 1s 48ms/step - loss: 0.0223 - dice_coef: 0.4915 - val_loss: 0.0155 - val_dice_coef: 0.5773\n",
      "Epoch 156/800\n",
      "11/11 [==============================] - 1s 48ms/step - loss: 0.0215 - dice_coef: 0.4899 - val_loss: 0.0154 - val_dice_coef: 0.5785\n",
      "Epoch 157/800\n",
      "11/11 [==============================] - 1s 48ms/step - loss: 0.0214 - dice_coef: 0.4808 - val_loss: 0.0154 - val_dice_coef: 0.5762\n",
      "Epoch 158/800\n",
      "11/11 [==============================] - 1s 49ms/step - loss: 0.0208 - dice_coef: 0.4847 - val_loss: 0.0154 - val_dice_coef: 0.5848\n",
      "Epoch 159/800\n",
      "11/11 [==============================] - 1s 48ms/step - loss: 0.0208 - dice_coef: 0.4872 - val_loss: 0.0154 - val_dice_coef: 0.5860\n",
      "Epoch 160/800\n",
      "11/11 [==============================] - 1s 49ms/step - loss: 0.0213 - dice_coef: 0.4862 - val_loss: 0.0152 - val_dice_coef: 0.5879\n",
      "Epoch 161/800\n",
      "11/11 [==============================] - 1s 49ms/step - loss: 0.0214 - dice_coef: 0.4943 - val_loss: 0.0151 - val_dice_coef: 0.5873\n",
      "Epoch 162/800\n",
      "11/11 [==============================] - 1s 49ms/step - loss: 0.0209 - dice_coef: 0.4951 - val_loss: 0.0151 - val_dice_coef: 0.5886\n",
      "Epoch 163/800\n",
      "11/11 [==============================] - 1s 48ms/step - loss: 0.0207 - dice_coef: 0.4952 - val_loss: 0.0151 - val_dice_coef: 0.5868\n",
      "Epoch 164/800\n",
      "11/11 [==============================] - 1s 49ms/step - loss: 0.0208 - dice_coef: 0.4980 - val_loss: 0.0150 - val_dice_coef: 0.5941\n",
      "Epoch 165/800\n",
      "11/11 [==============================] - 1s 48ms/step - loss: 0.0206 - dice_coef: 0.5019 - val_loss: 0.0150 - val_dice_coef: 0.5931\n",
      "Epoch 166/800\n",
      "11/11 [==============================] - 1s 48ms/step - loss: 0.0212 - dice_coef: 0.4930 - val_loss: 0.0150 - val_dice_coef: 0.5946\n",
      "Epoch 167/800\n",
      "11/11 [==============================] - 1s 48ms/step - loss: 0.0211 - dice_coef: 0.5038 - val_loss: 0.0149 - val_dice_coef: 0.5980\n",
      "Epoch 168/800\n",
      "11/11 [==============================] - 1s 49ms/step - loss: 0.0209 - dice_coef: 0.5033 - val_loss: 0.0148 - val_dice_coef: 0.5976\n",
      "Epoch 169/800\n"
     ]
    },
    {
     "name": "stdout",
     "output_type": "stream",
     "text": [
      "11/11 [==============================] - 1s 48ms/step - loss: 0.0216 - dice_coef: 0.4873 - val_loss: 0.0148 - val_dice_coef: 0.5984\n",
      "Epoch 170/800\n",
      "11/11 [==============================] - 1s 48ms/step - loss: 0.0199 - dice_coef: 0.4965 - val_loss: 0.0148 - val_dice_coef: 0.5968\n",
      "Epoch 171/800\n",
      "11/11 [==============================] - 1s 48ms/step - loss: 0.0218 - dice_coef: 0.5000 - val_loss: 0.0147 - val_dice_coef: 0.5962\n",
      "Epoch 172/800\n",
      "11/11 [==============================] - 1s 48ms/step - loss: 0.0208 - dice_coef: 0.5010 - val_loss: 0.0147 - val_dice_coef: 0.5951\n",
      "Epoch 173/800\n",
      "11/11 [==============================] - 1s 48ms/step - loss: 0.0205 - dice_coef: 0.4992 - val_loss: 0.0146 - val_dice_coef: 0.6006\n",
      "Epoch 174/800\n",
      "11/11 [==============================] - 1s 48ms/step - loss: 0.0212 - dice_coef: 0.4964 - val_loss: 0.0146 - val_dice_coef: 0.5990\n",
      "Epoch 175/800\n",
      "11/11 [==============================] - 1s 49ms/step - loss: 0.0201 - dice_coef: 0.5051 - val_loss: 0.0145 - val_dice_coef: 0.6081\n",
      "Epoch 176/800\n",
      "11/11 [==============================] - 1s 48ms/step - loss: 0.0202 - dice_coef: 0.5059 - val_loss: 0.0144 - val_dice_coef: 0.6030\n",
      "Epoch 177/800\n",
      "11/11 [==============================] - 1s 49ms/step - loss: 0.0199 - dice_coef: 0.5135 - val_loss: 0.0144 - val_dice_coef: 0.6068\n",
      "Epoch 178/800\n",
      "11/11 [==============================] - 1s 48ms/step - loss: 0.0209 - dice_coef: 0.5034 - val_loss: 0.0144 - val_dice_coef: 0.6000\n",
      "Epoch 179/800\n",
      "11/11 [==============================] - 1s 48ms/step - loss: 0.0203 - dice_coef: 0.5035 - val_loss: 0.0144 - val_dice_coef: 0.6046\n",
      "Epoch 180/800\n",
      "11/11 [==============================] - 1s 48ms/step - loss: 0.0200 - dice_coef: 0.5026 - val_loss: 0.0144 - val_dice_coef: 0.6083\n",
      "Epoch 181/800\n",
      "11/11 [==============================] - 1s 48ms/step - loss: 0.0202 - dice_coef: 0.5018 - val_loss: 0.0142 - val_dice_coef: 0.6042\n",
      "Epoch 182/800\n",
      "11/11 [==============================] - 1s 49ms/step - loss: 0.0199 - dice_coef: 0.5094 - val_loss: 0.0142 - val_dice_coef: 0.6089\n",
      "Epoch 183/800\n",
      "11/11 [==============================] - 1s 48ms/step - loss: 0.0203 - dice_coef: 0.5193 - val_loss: 0.0141 - val_dice_coef: 0.6158\n",
      "Epoch 184/800\n",
      "11/11 [==============================] - 1s 48ms/step - loss: 0.0209 - dice_coef: 0.5132 - val_loss: 0.0142 - val_dice_coef: 0.6117\n",
      "Epoch 185/800\n",
      "11/11 [==============================] - 1s 48ms/step - loss: 0.0199 - dice_coef: 0.5077 - val_loss: 0.0141 - val_dice_coef: 0.6140\n",
      "Epoch 186/800\n",
      "11/11 [==============================] - 1s 48ms/step - loss: 0.0202 - dice_coef: 0.5157 - val_loss: 0.0140 - val_dice_coef: 0.6139\n",
      "Epoch 187/800\n",
      "11/11 [==============================] - 1s 48ms/step - loss: 0.0203 - dice_coef: 0.5138 - val_loss: 0.0140 - val_dice_coef: 0.6122\n",
      "Epoch 188/800\n",
      "11/11 [==============================] - 1s 49ms/step - loss: 0.0197 - dice_coef: 0.5171 - val_loss: 0.0139 - val_dice_coef: 0.6180\n",
      "Epoch 189/800\n",
      "11/11 [==============================] - 1s 48ms/step - loss: 0.0196 - dice_coef: 0.5182 - val_loss: 0.0140 - val_dice_coef: 0.6222\n",
      "Epoch 190/800\n",
      "11/11 [==============================] - 1s 48ms/step - loss: 0.0205 - dice_coef: 0.5154 - val_loss: 0.0138 - val_dice_coef: 0.6162\n",
      "Epoch 191/800\n",
      "11/11 [==============================] - 1s 48ms/step - loss: 0.0200 - dice_coef: 0.5175 - val_loss: 0.0139 - val_dice_coef: 0.6134\n",
      "Epoch 192/800\n",
      "11/11 [==============================] - 1s 48ms/step - loss: 0.0196 - dice_coef: 0.5117 - val_loss: 0.0141 - val_dice_coef: 0.6259\n",
      "Epoch 193/800\n",
      "11/11 [==============================] - 1s 48ms/step - loss: 0.0207 - dice_coef: 0.5179 - val_loss: 0.0138 - val_dice_coef: 0.6199\n",
      "Epoch 194/800\n",
      "11/11 [==============================] - 1s 48ms/step - loss: 0.0203 - dice_coef: 0.5201 - val_loss: 0.0138 - val_dice_coef: 0.6244\n",
      "Epoch 195/800\n",
      "11/11 [==============================] - 1s 49ms/step - loss: 0.0195 - dice_coef: 0.5130 - val_loss: 0.0137 - val_dice_coef: 0.6242\n",
      "Epoch 196/800\n",
      "11/11 [==============================] - 1s 48ms/step - loss: 0.0201 - dice_coef: 0.5239 - val_loss: 0.0137 - val_dice_coef: 0.6221\n",
      "Epoch 197/800\n",
      "11/11 [==============================] - 1s 49ms/step - loss: 0.0197 - dice_coef: 0.5021 - val_loss: 0.0137 - val_dice_coef: 0.6236\n",
      "Epoch 198/800\n",
      "11/11 [==============================] - 1s 48ms/step - loss: 0.0196 - dice_coef: 0.5189 - val_loss: 0.0136 - val_dice_coef: 0.6249\n",
      "Epoch 199/800\n",
      "11/11 [==============================] - 1s 48ms/step - loss: 0.0203 - dice_coef: 0.5252 - val_loss: 0.0136 - val_dice_coef: 0.6237\n",
      "Epoch 200/800\n",
      "11/11 [==============================] - 1s 49ms/step - loss: 0.0202 - dice_coef: 0.5163 - val_loss: 0.0137 - val_dice_coef: 0.6273\n",
      "Epoch 201/800\n",
      "11/11 [==============================] - 1s 48ms/step - loss: 0.0189 - dice_coef: 0.5157 - val_loss: 0.0136 - val_dice_coef: 0.6213\n",
      "Epoch 202/800\n",
      "11/11 [==============================] - 1s 48ms/step - loss: 0.0200 - dice_coef: 0.5177 - val_loss: 0.0135 - val_dice_coef: 0.6248\n",
      "Epoch 203/800\n",
      "11/11 [==============================] - 1s 49ms/step - loss: 0.0198 - dice_coef: 0.5155 - val_loss: 0.0136 - val_dice_coef: 0.6306\n",
      "Epoch 204/800\n",
      "11/11 [==============================] - 1s 48ms/step - loss: 0.0194 - dice_coef: 0.5193 - val_loss: 0.0135 - val_dice_coef: 0.6234\n",
      "Epoch 205/800\n",
      "11/11 [==============================] - 1s 49ms/step - loss: 0.0193 - dice_coef: 0.5195 - val_loss: 0.0135 - val_dice_coef: 0.6226\n",
      "Epoch 206/800\n",
      "11/11 [==============================] - 1s 49ms/step - loss: 0.0201 - dice_coef: 0.5254 - val_loss: 0.0134 - val_dice_coef: 0.6235\n",
      "Epoch 207/800\n",
      "11/11 [==============================] - 1s 48ms/step - loss: 0.0195 - dice_coef: 0.5260 - val_loss: 0.0133 - val_dice_coef: 0.6308\n",
      "Epoch 208/800\n",
      "11/11 [==============================] - 1s 48ms/step - loss: 0.0196 - dice_coef: 0.5309 - val_loss: 0.0133 - val_dice_coef: 0.6327\n",
      "Epoch 209/800\n",
      "11/11 [==============================] - 1s 48ms/step - loss: 0.0197 - dice_coef: 0.5249 - val_loss: 0.0134 - val_dice_coef: 0.6341\n",
      "Epoch 210/800\n",
      "11/11 [==============================] - 1s 49ms/step - loss: 0.0196 - dice_coef: 0.5226 - val_loss: 0.0132 - val_dice_coef: 0.6306\n",
      "Epoch 211/800\n",
      "11/11 [==============================] - 1s 49ms/step - loss: 0.0194 - dice_coef: 0.5219 - val_loss: 0.0131 - val_dice_coef: 0.6309\n",
      "Epoch 212/800\n",
      "11/11 [==============================] - 1s 49ms/step - loss: 0.0196 - dice_coef: 0.5237 - val_loss: 0.0131 - val_dice_coef: 0.6298\n",
      "Epoch 213/800\n",
      "11/11 [==============================] - 1s 48ms/step - loss: 0.0185 - dice_coef: 0.5229 - val_loss: 0.0131 - val_dice_coef: 0.6358\n",
      "Epoch 214/800\n",
      "11/11 [==============================] - 1s 48ms/step - loss: 0.0191 - dice_coef: 0.5276 - val_loss: 0.0130 - val_dice_coef: 0.6359\n",
      "Epoch 215/800\n",
      "11/11 [==============================] - 1s 48ms/step - loss: 0.0186 - dice_coef: 0.5226 - val_loss: 0.0130 - val_dice_coef: 0.6356\n",
      "Epoch 216/800\n",
      "11/11 [==============================] - 1s 48ms/step - loss: 0.0193 - dice_coef: 0.5193 - val_loss: 0.0130 - val_dice_coef: 0.6312\n",
      "Epoch 217/800\n",
      "11/11 [==============================] - 1s 48ms/step - loss: 0.0189 - dice_coef: 0.5240 - val_loss: 0.0132 - val_dice_coef: 0.6391\n",
      "Epoch 218/800\n",
      "11/11 [==============================] - 1s 49ms/step - loss: 0.0193 - dice_coef: 0.5267 - val_loss: 0.0130 - val_dice_coef: 0.6367\n",
      "Epoch 219/800\n",
      "11/11 [==============================] - 1s 48ms/step - loss: 0.0199 - dice_coef: 0.5293 - val_loss: 0.0130 - val_dice_coef: 0.6320\n",
      "Epoch 220/800\n",
      "11/11 [==============================] - 1s 49ms/step - loss: 0.0189 - dice_coef: 0.5200 - val_loss: 0.0130 - val_dice_coef: 0.6389\n",
      "Epoch 221/800\n",
      "11/11 [==============================] - 1s 48ms/step - loss: 0.0184 - dice_coef: 0.5257 - val_loss: 0.0129 - val_dice_coef: 0.6405\n",
      "Epoch 222/800\n",
      "11/11 [==============================] - 1s 48ms/step - loss: 0.0191 - dice_coef: 0.5274 - val_loss: 0.0129 - val_dice_coef: 0.6361\n",
      "Epoch 223/800\n",
      "11/11 [==============================] - 1s 48ms/step - loss: 0.0195 - dice_coef: 0.5347 - val_loss: 0.0128 - val_dice_coef: 0.6371\n",
      "Epoch 224/800\n",
      "11/11 [==============================] - 1s 48ms/step - loss: 0.0189 - dice_coef: 0.5285 - val_loss: 0.0128 - val_dice_coef: 0.6413\n",
      "Epoch 225/800\n"
     ]
    },
    {
     "name": "stdout",
     "output_type": "stream",
     "text": [
      "11/11 [==============================] - 1s 48ms/step - loss: 0.0188 - dice_coef: 0.5263 - val_loss: 0.0127 - val_dice_coef: 0.6438\n",
      "Epoch 226/800\n",
      "11/11 [==============================] - 1s 48ms/step - loss: 0.0190 - dice_coef: 0.5381 - val_loss: 0.0127 - val_dice_coef: 0.6425\n",
      "Epoch 227/800\n",
      "11/11 [==============================] - 1s 48ms/step - loss: 0.0187 - dice_coef: 0.5337 - val_loss: 0.0127 - val_dice_coef: 0.6397\n",
      "Epoch 228/800\n",
      "11/11 [==============================] - 1s 48ms/step - loss: 0.0188 - dice_coef: 0.5323 - val_loss: 0.0126 - val_dice_coef: 0.6458\n",
      "Epoch 229/800\n",
      "11/11 [==============================] - 1s 49ms/step - loss: 0.0184 - dice_coef: 0.5373 - val_loss: 0.0127 - val_dice_coef: 0.6483\n",
      "Epoch 230/800\n",
      "11/11 [==============================] - 1s 48ms/step - loss: 0.0186 - dice_coef: 0.5235 - val_loss: 0.0126 - val_dice_coef: 0.6441\n",
      "Epoch 231/800\n",
      "11/11 [==============================] - 1s 48ms/step - loss: 0.0188 - dice_coef: 0.5293 - val_loss: 0.0126 - val_dice_coef: 0.6442\n",
      "Epoch 232/800\n",
      "11/11 [==============================] - 1s 49ms/step - loss: 0.0206 - dice_coef: 0.5326 - val_loss: 0.0126 - val_dice_coef: 0.6421\n",
      "Epoch 233/800\n",
      "11/11 [==============================] - 1s 48ms/step - loss: 0.0194 - dice_coef: 0.5356 - val_loss: 0.0125 - val_dice_coef: 0.6466\n",
      "Epoch 234/800\n",
      "11/11 [==============================] - 1s 48ms/step - loss: 0.0199 - dice_coef: 0.5324 - val_loss: 0.0126 - val_dice_coef: 0.6491\n",
      "Epoch 235/800\n",
      "11/11 [==============================] - 1s 48ms/step - loss: 0.0195 - dice_coef: 0.5329 - val_loss: 0.0126 - val_dice_coef: 0.6487\n",
      "Epoch 236/800\n",
      "11/11 [==============================] - 1s 48ms/step - loss: 0.0187 - dice_coef: 0.5310 - val_loss: 0.0129 - val_dice_coef: 0.6476\n",
      "Epoch 237/800\n",
      "11/11 [==============================] - 1s 48ms/step - loss: 0.0187 - dice_coef: 0.5296 - val_loss: 0.0124 - val_dice_coef: 0.6467\n",
      "Epoch 238/800\n",
      "11/11 [==============================] - 1s 49ms/step - loss: 0.0195 - dice_coef: 0.5398 - val_loss: 0.0124 - val_dice_coef: 0.6459\n",
      "Epoch 239/800\n",
      "11/11 [==============================] - 1s 48ms/step - loss: 0.0190 - dice_coef: 0.5359 - val_loss: 0.0123 - val_dice_coef: 0.6488\n",
      "Epoch 240/800\n",
      "11/11 [==============================] - 1s 48ms/step - loss: 0.0189 - dice_coef: 0.5405 - val_loss: 0.0124 - val_dice_coef: 0.6472\n",
      "Epoch 241/800\n",
      "11/11 [==============================] - 1s 48ms/step - loss: 0.0197 - dice_coef: 0.5373 - val_loss: 0.0123 - val_dice_coef: 0.6515\n",
      "Epoch 242/800\n",
      "11/11 [==============================] - 1s 49ms/step - loss: 0.0186 - dice_coef: 0.5405 - val_loss: 0.0122 - val_dice_coef: 0.6533\n",
      "Epoch 243/800\n",
      "11/11 [==============================] - 1s 48ms/step - loss: 0.0189 - dice_coef: 0.5343 - val_loss: 0.0123 - val_dice_coef: 0.6491\n",
      "Epoch 244/800\n",
      "11/11 [==============================] - 1s 48ms/step - loss: 0.0182 - dice_coef: 0.5286 - val_loss: 0.0123 - val_dice_coef: 0.6561\n",
      "Epoch 245/800\n",
      "11/11 [==============================] - 1s 48ms/step - loss: 0.0185 - dice_coef: 0.5402 - val_loss: 0.0121 - val_dice_coef: 0.6562\n",
      "Epoch 246/800\n",
      "11/11 [==============================] - 1s 49ms/step - loss: 0.0180 - dice_coef: 0.5434 - val_loss: 0.0122 - val_dice_coef: 0.6566\n",
      "Epoch 247/800\n",
      "11/11 [==============================] - 1s 48ms/step - loss: 0.0183 - dice_coef: 0.5421 - val_loss: 0.0123 - val_dice_coef: 0.6474\n",
      "Epoch 248/800\n",
      "11/11 [==============================] - 1s 48ms/step - loss: 0.0184 - dice_coef: 0.5425 - val_loss: 0.0122 - val_dice_coef: 0.6521\n",
      "Epoch 249/800\n",
      "11/11 [==============================] - 1s 48ms/step - loss: 0.0191 - dice_coef: 0.5402 - val_loss: 0.0121 - val_dice_coef: 0.6554\n",
      "Epoch 250/800\n",
      "11/11 [==============================] - 1s 48ms/step - loss: 0.0190 - dice_coef: 0.5396 - val_loss: 0.0121 - val_dice_coef: 0.6587\n",
      "Epoch 251/800\n",
      "11/11 [==============================] - 1s 48ms/step - loss: 0.0183 - dice_coef: 0.5463 - val_loss: 0.0122 - val_dice_coef: 0.6575\n",
      "Epoch 252/800\n",
      "11/11 [==============================] - ETA: 0s - loss: 0.0183 - dice_coef: 0.542 - 1s 48ms/step - loss: 0.0184 - dice_coef: 0.5445 - val_loss: 0.0121 - val_dice_coef: 0.6573\n",
      "Epoch 253/800\n",
      "11/11 [==============================] - 1s 48ms/step - loss: 0.0183 - dice_coef: 0.5382 - val_loss: 0.0121 - val_dice_coef: 0.6572\n",
      "Epoch 254/800\n",
      "11/11 [==============================] - 1s 48ms/step - loss: 0.0191 - dice_coef: 0.5436 - val_loss: 0.0120 - val_dice_coef: 0.6564\n",
      "Epoch 255/800\n",
      "11/11 [==============================] - 1s 49ms/step - loss: 0.0188 - dice_coef: 0.5506 - val_loss: 0.0119 - val_dice_coef: 0.6604\n",
      "Epoch 256/800\n",
      "11/11 [==============================] - 1s 49ms/step - loss: 0.0181 - dice_coef: 0.5476 - val_loss: 0.0121 - val_dice_coef: 0.6613\n",
      "Epoch 257/800\n",
      "11/11 [==============================] - 1s 48ms/step - loss: 0.0179 - dice_coef: 0.5480 - val_loss: 0.0119 - val_dice_coef: 0.6621\n",
      "Epoch 258/800\n",
      "11/11 [==============================] - 1s 49ms/step - loss: 0.0185 - dice_coef: 0.5466 - val_loss: 0.0119 - val_dice_coef: 0.6597\n",
      "Epoch 259/800\n",
      "11/11 [==============================] - 1s 48ms/step - loss: 0.0186 - dice_coef: 0.5482 - val_loss: 0.0119 - val_dice_coef: 0.6617\n",
      "Epoch 260/800\n",
      "11/11 [==============================] - 1s 48ms/step - loss: 0.0181 - dice_coef: 0.5430 - val_loss: 0.0122 - val_dice_coef: 0.6625\n",
      "Epoch 261/800\n",
      "11/11 [==============================] - 1s 49ms/step - loss: 0.0194 - dice_coef: 0.5422 - val_loss: 0.0119 - val_dice_coef: 0.6595\n",
      "Epoch 262/800\n",
      "11/11 [==============================] - 1s 48ms/step - loss: 0.0179 - dice_coef: 0.5393 - val_loss: 0.0120 - val_dice_coef: 0.6635\n",
      "Epoch 263/800\n",
      "11/11 [==============================] - 1s 49ms/step - loss: 0.0186 - dice_coef: 0.5486 - val_loss: 0.0118 - val_dice_coef: 0.6594\n",
      "Epoch 264/800\n",
      "11/11 [==============================] - 1s 49ms/step - loss: 0.0183 - dice_coef: 0.5491 - val_loss: 0.0120 - val_dice_coef: 0.6640\n",
      "Epoch 265/800\n",
      "11/11 [==============================] - 1s 49ms/step - loss: 0.0191 - dice_coef: 0.5409 - val_loss: 0.0119 - val_dice_coef: 0.6577\n",
      "Epoch 266/800\n",
      "11/11 [==============================] - 1s 48ms/step - loss: 0.0181 - dice_coef: 0.5446 - val_loss: 0.0118 - val_dice_coef: 0.6633\n",
      "Epoch 267/800\n",
      "11/11 [==============================] - 1s 49ms/step - loss: 0.0174 - dice_coef: 0.5321 - val_loss: 0.0120 - val_dice_coef: 0.6639\n",
      "Epoch 268/800\n",
      "11/11 [==============================] - 1s 48ms/step - loss: 0.0184 - dice_coef: 0.5493 - val_loss: 0.0118 - val_dice_coef: 0.6672\n",
      "Epoch 269/800\n",
      "11/11 [==============================] - 1s 48ms/step - loss: 0.0189 - dice_coef: 0.5529 - val_loss: 0.0118 - val_dice_coef: 0.6613\n",
      "Epoch 270/800\n",
      "11/11 [==============================] - 1s 49ms/step - loss: 0.0181 - dice_coef: 0.5448 - val_loss: 0.0117 - val_dice_coef: 0.6675\n",
      "Epoch 271/800\n",
      "11/11 [==============================] - 1s 48ms/step - loss: 0.0181 - dice_coef: 0.5487 - val_loss: 0.0118 - val_dice_coef: 0.6667\n",
      "Epoch 272/800\n",
      "11/11 [==============================] - 1s 48ms/step - loss: 0.0189 - dice_coef: 0.5467 - val_loss: 0.0117 - val_dice_coef: 0.6667\n",
      "Epoch 273/800\n",
      "11/11 [==============================] - 1s 49ms/step - loss: 0.0178 - dice_coef: 0.5480 - val_loss: 0.0117 - val_dice_coef: 0.6673\n",
      "Epoch 274/800\n",
      "11/11 [==============================] - 1s 48ms/step - loss: 0.0180 - dice_coef: 0.5452 - val_loss: 0.0116 - val_dice_coef: 0.6706\n",
      "Epoch 275/800\n",
      "11/11 [==============================] - 1s 49ms/step - loss: 0.0182 - dice_coef: 0.5542 - val_loss: 0.0116 - val_dice_coef: 0.6683\n",
      "Epoch 276/800\n",
      "11/11 [==============================] - 1s 48ms/step - loss: 0.0181 - dice_coef: 0.5550 - val_loss: 0.0117 - val_dice_coef: 0.6720\n",
      "Epoch 277/800\n",
      "11/11 [==============================] - 1s 49ms/step - loss: 0.0175 - dice_coef: 0.5544 - val_loss: 0.0115 - val_dice_coef: 0.6688\n",
      "Epoch 278/800\n",
      "11/11 [==============================] - 1s 48ms/step - loss: 0.0183 - dice_coef: 0.5438 - val_loss: 0.0115 - val_dice_coef: 0.6699\n",
      "Epoch 279/800\n",
      "11/11 [==============================] - 1s 49ms/step - loss: 0.0180 - dice_coef: 0.5428 - val_loss: 0.0116 - val_dice_coef: 0.6662\n",
      "Epoch 280/800\n",
      "11/11 [==============================] - 1s 48ms/step - loss: 0.0177 - dice_coef: 0.5397 - val_loss: 0.0118 - val_dice_coef: 0.6734\n"
     ]
    },
    {
     "name": "stdout",
     "output_type": "stream",
     "text": [
      "Epoch 281/800\n",
      "11/11 [==============================] - 1s 48ms/step - loss: 0.0177 - dice_coef: 0.5463 - val_loss: 0.0115 - val_dice_coef: 0.6714\n",
      "Epoch 282/800\n",
      "11/11 [==============================] - 1s 48ms/step - loss: 0.0177 - dice_coef: 0.5502 - val_loss: 0.0114 - val_dice_coef: 0.6701\n",
      "Epoch 283/800\n",
      "11/11 [==============================] - 1s 48ms/step - loss: 0.0173 - dice_coef: 0.5522 - val_loss: 0.0116 - val_dice_coef: 0.6744\n",
      "Epoch 284/800\n",
      "11/11 [==============================] - 1s 49ms/step - loss: 0.0176 - dice_coef: 0.5537 - val_loss: 0.0114 - val_dice_coef: 0.6702\n",
      "Epoch 285/800\n",
      "11/11 [==============================] - 1s 48ms/step - loss: 0.0177 - dice_coef: 0.5564 - val_loss: 0.0115 - val_dice_coef: 0.6740\n",
      "Epoch 286/800\n",
      "11/11 [==============================] - 1s 48ms/step - loss: 0.0180 - dice_coef: 0.5546 - val_loss: 0.0114 - val_dice_coef: 0.6748\n",
      "Epoch 287/800\n",
      "11/11 [==============================] - 1s 55ms/step - loss: 0.0177 - dice_coef: 0.5541 - val_loss: 0.0114 - val_dice_coef: 0.6720\n",
      "Epoch 288/800\n",
      "11/11 [==============================] - 1s 58ms/step - loss: 0.0187 - dice_coef: 0.5543 - val_loss: 0.0114 - val_dice_coef: 0.6728\n",
      "Epoch 289/800\n",
      "11/11 [==============================] - 1s 52ms/step - loss: 0.0178 - dice_coef: 0.5473 - val_loss: 0.0115 - val_dice_coef: 0.6749\n",
      "Epoch 290/800\n",
      "11/11 [==============================] - 1s 51ms/step - loss: 0.0182 - dice_coef: 0.5567 - val_loss: 0.0113 - val_dice_coef: 0.6706\n",
      "Epoch 291/800\n",
      "11/11 [==============================] - 1s 53ms/step - loss: 0.0183 - dice_coef: 0.5478 - val_loss: 0.0115 - val_dice_coef: 0.6759\n",
      "Epoch 292/800\n",
      "11/11 [==============================] - 1s 52ms/step - loss: 0.0170 - dice_coef: 0.5491 - val_loss: 0.0114 - val_dice_coef: 0.6778\n",
      "Epoch 293/800\n",
      "11/11 [==============================] - 1s 50ms/step - loss: 0.0174 - dice_coef: 0.5517 - val_loss: 0.0112 - val_dice_coef: 0.6754\n",
      "Epoch 294/800\n",
      "11/11 [==============================] - 1s 50ms/step - loss: 0.0177 - dice_coef: 0.5577 - val_loss: 0.0112 - val_dice_coef: 0.6764\n",
      "Epoch 295/800\n",
      "11/11 [==============================] - 1s 52ms/step - loss: 0.0175 - dice_coef: 0.5562 - val_loss: 0.0112 - val_dice_coef: 0.6771\n",
      "Epoch 296/800\n",
      "11/11 [==============================] - 1s 50ms/step - loss: 0.0172 - dice_coef: 0.5527 - val_loss: 0.0111 - val_dice_coef: 0.6788\n",
      "Epoch 297/800\n",
      "11/11 [==============================] - 1s 50ms/step - loss: 0.0172 - dice_coef: 0.5455 - val_loss: 0.0112 - val_dice_coef: 0.6794\n",
      "Epoch 298/800\n",
      "11/11 [==============================] - 1s 52ms/step - loss: 0.0181 - dice_coef: 0.5597 - val_loss: 0.0112 - val_dice_coef: 0.6784\n",
      "Epoch 299/800\n",
      "11/11 [==============================] - 1s 55ms/step - loss: 0.0172 - dice_coef: 0.5520 - val_loss: 0.0111 - val_dice_coef: 0.6762\n",
      "Epoch 300/800\n",
      "11/11 [==============================] - 1s 51ms/step - loss: 0.0172 - dice_coef: 0.5582 - val_loss: 0.0112 - val_dice_coef: 0.6796\n",
      "Epoch 301/800\n",
      "11/11 [==============================] - 1s 50ms/step - loss: 0.0182 - dice_coef: 0.5551 - val_loss: 0.0111 - val_dice_coef: 0.6787\n",
      "Epoch 302/800\n",
      "11/11 [==============================] - 1s 50ms/step - loss: 0.0168 - dice_coef: 0.5605 - val_loss: 0.0111 - val_dice_coef: 0.6782\n",
      "Epoch 303/800\n",
      "11/11 [==============================] - 1s 49ms/step - loss: 0.0178 - dice_coef: 0.5624 - val_loss: 0.0111 - val_dice_coef: 0.6810\n",
      "Epoch 304/800\n",
      "11/11 [==============================] - 1s 49ms/step - loss: 0.0177 - dice_coef: 0.5659 - val_loss: 0.0111 - val_dice_coef: 0.6818\n",
      "Epoch 305/800\n",
      "11/11 [==============================] - 1s 49ms/step - loss: 0.0181 - dice_coef: 0.5469 - val_loss: 0.0110 - val_dice_coef: 0.6804\n",
      "Epoch 306/800\n",
      "11/11 [==============================] - 1s 50ms/step - loss: 0.0188 - dice_coef: 0.5592 - val_loss: 0.0110 - val_dice_coef: 0.6755\n",
      "Epoch 307/800\n",
      "11/11 [==============================] - 1s 49ms/step - loss: 0.0184 - dice_coef: 0.5576 - val_loss: 0.0113 - val_dice_coef: 0.6804\n",
      "Epoch 308/800\n",
      "11/11 [==============================] - 1s 50ms/step - loss: 0.0172 - dice_coef: 0.5550 - val_loss: 0.0109 - val_dice_coef: 0.6824\n",
      "Epoch 309/800\n",
      "11/11 [==============================] - 1s 50ms/step - loss: 0.0170 - dice_coef: 0.5576 - val_loss: 0.0109 - val_dice_coef: 0.6809\n",
      "Epoch 310/800\n",
      "11/11 [==============================] - 1s 49ms/step - loss: 0.0186 - dice_coef: 0.5591 - val_loss: 0.0109 - val_dice_coef: 0.6823\n",
      "Epoch 311/800\n",
      "11/11 [==============================] - 1s 50ms/step - loss: 0.0168 - dice_coef: 0.5542 - val_loss: 0.0110 - val_dice_coef: 0.6887\n",
      "Epoch 312/800\n",
      "11/11 [==============================] - 1s 49ms/step - loss: 0.0183 - dice_coef: 0.5652 - val_loss: 0.0109 - val_dice_coef: 0.6805\n",
      "Epoch 313/800\n",
      "11/11 [==============================] - 1s 50ms/step - loss: 0.0171 - dice_coef: 0.5605 - val_loss: 0.0108 - val_dice_coef: 0.6829\n",
      "Epoch 314/800\n",
      "11/11 [==============================] - 1s 49ms/step - loss: 0.0172 - dice_coef: 0.5512 - val_loss: 0.0109 - val_dice_coef: 0.6847\n",
      "Epoch 315/800\n",
      "11/11 [==============================] - 1s 50ms/step - loss: 0.0171 - dice_coef: 0.5504 - val_loss: 0.0108 - val_dice_coef: 0.6808\n",
      "Epoch 316/800\n",
      "11/11 [==============================] - 1s 50ms/step - loss: 0.0167 - dice_coef: 0.5518 - val_loss: 0.0109 - val_dice_coef: 0.6825\n",
      "Epoch 317/800\n",
      "11/11 [==============================] - 1s 50ms/step - loss: 0.0181 - dice_coef: 0.5661 - val_loss: 0.0109 - val_dice_coef: 0.6916\n",
      "Epoch 318/800\n",
      "11/11 [==============================] - 1s 50ms/step - loss: 0.0172 - dice_coef: 0.5626 - val_loss: 0.0108 - val_dice_coef: 0.6795\n",
      "Epoch 319/800\n",
      "11/11 [==============================] - 1s 49ms/step - loss: 0.0167 - dice_coef: 0.5527 - val_loss: 0.0108 - val_dice_coef: 0.6883\n",
      "Epoch 320/800\n",
      "11/11 [==============================] - 1s 49ms/step - loss: 0.0172 - dice_coef: 0.5589 - val_loss: 0.0108 - val_dice_coef: 0.6875\n",
      "Epoch 321/800\n",
      "11/11 [==============================] - 1s 50ms/step - loss: 0.0187 - dice_coef: 0.5636 - val_loss: 0.0108 - val_dice_coef: 0.6868\n",
      "Epoch 322/800\n",
      "11/11 [==============================] - 1s 50ms/step - loss: 0.0168 - dice_coef: 0.5606 - val_loss: 0.0107 - val_dice_coef: 0.6824\n",
      "Epoch 323/800\n",
      "11/11 [==============================] - 1s 50ms/step - loss: 0.0170 - dice_coef: 0.5586 - val_loss: 0.0107 - val_dice_coef: 0.6870\n",
      "Epoch 324/800\n",
      "11/11 [==============================] - 1s 49ms/step - loss: 0.0179 - dice_coef: 0.5674 - val_loss: 0.0106 - val_dice_coef: 0.6876\n",
      "Epoch 325/800\n",
      "11/11 [==============================] - 1s 50ms/step - loss: 0.0169 - dice_coef: 0.5616 - val_loss: 0.0109 - val_dice_coef: 0.6927\n",
      "Epoch 326/800\n",
      "11/11 [==============================] - 1s 51ms/step - loss: 0.0176 - dice_coef: 0.5612 - val_loss: 0.0107 - val_dice_coef: 0.6801\n",
      "Epoch 327/800\n",
      "11/11 [==============================] - 1s 50ms/step - loss: 0.0170 - dice_coef: 0.5658 - val_loss: 0.0107 - val_dice_coef: 0.6894\n",
      "Epoch 328/800\n",
      "11/11 [==============================] - 1s 49ms/step - loss: 0.0171 - dice_coef: 0.5634 - val_loss: 0.0106 - val_dice_coef: 0.6887\n",
      "Epoch 329/800\n",
      "11/11 [==============================] - 1s 50ms/step - loss: 0.0173 - dice_coef: 0.5680 - val_loss: 0.0107 - val_dice_coef: 0.6902\n",
      "Epoch 330/800\n",
      "11/11 [==============================] - 1s 50ms/step - loss: 0.0180 - dice_coef: 0.5688 - val_loss: 0.0105 - val_dice_coef: 0.6891\n",
      "Epoch 331/800\n",
      "11/11 [==============================] - 1s 49ms/step - loss: 0.0170 - dice_coef: 0.5675 - val_loss: 0.0108 - val_dice_coef: 0.6897\n",
      "Epoch 332/800\n",
      "11/11 [==============================] - 1s 49ms/step - loss: 0.0166 - dice_coef: 0.5665 - val_loss: 0.0105 - val_dice_coef: 0.6887\n",
      "Epoch 333/800\n",
      "11/11 [==============================] - 1s 50ms/step - loss: 0.0177 - dice_coef: 0.5611 - val_loss: 0.0106 - val_dice_coef: 0.6877\n",
      "Epoch 334/800\n",
      "11/11 [==============================] - 1s 49ms/step - loss: 0.0175 - dice_coef: 0.5633 - val_loss: 0.0105 - val_dice_coef: 0.6918\n",
      "Epoch 335/800\n",
      "11/11 [==============================] - 1s 50ms/step - loss: 0.0168 - dice_coef: 0.5595 - val_loss: 0.0105 - val_dice_coef: 0.6939\n",
      "Epoch 336/800\n",
      "11/11 [==============================] - 1s 49ms/step - loss: 0.0165 - dice_coef: 0.5662 - val_loss: 0.0105 - val_dice_coef: 0.6902\n",
      "Epoch 337/800\n"
     ]
    },
    {
     "name": "stdout",
     "output_type": "stream",
     "text": [
      "11/11 [==============================] - 1s 50ms/step - loss: 0.0173 - dice_coef: 0.5668 - val_loss: 0.0105 - val_dice_coef: 0.6903\n",
      "Epoch 338/800\n",
      "11/11 [==============================] - 1s 48ms/step - loss: 0.0173 - dice_coef: 0.5722 - val_loss: 0.0107 - val_dice_coef: 0.6913\n",
      "Epoch 339/800\n",
      "11/11 [==============================] - 1s 48ms/step - loss: 0.0179 - dice_coef: 0.5608 - val_loss: 0.0104 - val_dice_coef: 0.6901\n",
      "Epoch 340/800\n",
      "11/11 [==============================] - 1s 49ms/step - loss: 0.0170 - dice_coef: 0.5657 - val_loss: 0.0105 - val_dice_coef: 0.6896\n",
      "Epoch 341/800\n",
      "11/11 [==============================] - 1s 50ms/step - loss: 0.0174 - dice_coef: 0.5662 - val_loss: 0.0105 - val_dice_coef: 0.6952\n",
      "Epoch 342/800\n",
      "11/11 [==============================] - 1s 50ms/step - loss: 0.0168 - dice_coef: 0.5657 - val_loss: 0.0103 - val_dice_coef: 0.6933\n",
      "Epoch 343/800\n",
      "11/11 [==============================] - 1s 50ms/step - loss: 0.0172 - dice_coef: 0.5685 - val_loss: 0.0105 - val_dice_coef: 0.6961\n",
      "Epoch 344/800\n",
      "11/11 [==============================] - 1s 50ms/step - loss: 0.0164 - dice_coef: 0.5693 - val_loss: 0.0104 - val_dice_coef: 0.6943\n",
      "Epoch 345/800\n",
      "11/11 [==============================] - 1s 51ms/step - loss: 0.0168 - dice_coef: 0.5668 - val_loss: 0.0103 - val_dice_coef: 0.6951\n",
      "Epoch 346/800\n",
      "11/11 [==============================] - 1s 52ms/step - loss: 0.0170 - dice_coef: 0.5668 - val_loss: 0.0104 - val_dice_coef: 0.6938\n",
      "Epoch 347/800\n",
      "11/11 [==============================] - 1s 53ms/step - loss: 0.0173 - dice_coef: 0.5738 - val_loss: 0.0103 - val_dice_coef: 0.6951\n",
      "Epoch 348/800\n",
      "11/11 [==============================] - 1s 49ms/step - loss: 0.0174 - dice_coef: 0.5719 - val_loss: 0.0103 - val_dice_coef: 0.6973\n",
      "Epoch 349/800\n",
      "11/11 [==============================] - 1s 49ms/step - loss: 0.0168 - dice_coef: 0.5686 - val_loss: 0.0103 - val_dice_coef: 0.6940\n",
      "Epoch 350/800\n",
      "11/11 [==============================] - 1s 49ms/step - loss: 0.0171 - dice_coef: 0.5622 - val_loss: 0.0104 - val_dice_coef: 0.6931\n",
      "Epoch 351/800\n",
      "11/11 [==============================] - 1s 49ms/step - loss: 0.0166 - dice_coef: 0.5584 - val_loss: 0.0103 - val_dice_coef: 0.6928\n",
      "Epoch 352/800\n",
      "11/11 [==============================] - 1s 49ms/step - loss: 0.0180 - dice_coef: 0.5585 - val_loss: 0.0103 - val_dice_coef: 0.6969\n",
      "Epoch 353/800\n",
      "11/11 [==============================] - 1s 49ms/step - loss: 0.0167 - dice_coef: 0.5639 - val_loss: 0.0105 - val_dice_coef: 0.6911\n",
      "Epoch 354/800\n",
      "11/11 [==============================] - 1s 49ms/step - loss: 0.0171 - dice_coef: 0.5633 - val_loss: 0.0101 - val_dice_coef: 0.6960\n",
      "Epoch 355/800\n",
      "11/11 [==============================] - 1s 49ms/step - loss: 0.0166 - dice_coef: 0.5709 - val_loss: 0.0102 - val_dice_coef: 0.6983\n",
      "Epoch 356/800\n",
      "11/11 [==============================] - 1s 50ms/step - loss: 0.0169 - dice_coef: 0.5627 - val_loss: 0.0102 - val_dice_coef: 0.6982\n",
      "Epoch 357/800\n",
      "11/11 [==============================] - 1s 49ms/step - loss: 0.0167 - dice_coef: 0.5648 - val_loss: 0.0102 - val_dice_coef: 0.6974\n",
      "Epoch 358/800\n",
      "11/11 [==============================] - 1s 49ms/step - loss: 0.0171 - dice_coef: 0.5693 - val_loss: 0.0103 - val_dice_coef: 0.6961\n",
      "Epoch 359/800\n",
      "11/11 [==============================] - 1s 49ms/step - loss: 0.0168 - dice_coef: 0.5521 - val_loss: 0.0105 - val_dice_coef: 0.6919\n",
      "Epoch 360/800\n",
      "11/11 [==============================] - 1s 50ms/step - loss: 0.0171 - dice_coef: 0.5666 - val_loss: 0.0101 - val_dice_coef: 0.6960\n",
      "Epoch 361/800\n",
      "11/11 [==============================] - 1s 49ms/step - loss: 0.0169 - dice_coef: 0.5730 - val_loss: 0.0102 - val_dice_coef: 0.7005\n",
      "Epoch 362/800\n",
      "11/11 [==============================] - 1s 49ms/step - loss: 0.0174 - dice_coef: 0.5553 - val_loss: 0.0101 - val_dice_coef: 0.6986\n",
      "Epoch 363/800\n",
      "11/11 [==============================] - 1s 49ms/step - loss: 0.0173 - dice_coef: 0.5820 - val_loss: 0.0100 - val_dice_coef: 0.7016\n",
      "Epoch 364/800\n",
      "11/11 [==============================] - 1s 49ms/step - loss: 0.0167 - dice_coef: 0.5743 - val_loss: 0.0102 - val_dice_coef: 0.6985\n",
      "Epoch 365/800\n",
      "11/11 [==============================] - 1s 50ms/step - loss: 0.0168 - dice_coef: 0.5725 - val_loss: 0.0102 - val_dice_coef: 0.6987\n",
      "Epoch 366/800\n",
      "11/11 [==============================] - 1s 49ms/step - loss: 0.0165 - dice_coef: 0.5645 - val_loss: 0.0101 - val_dice_coef: 0.6995\n",
      "Epoch 367/800\n",
      "11/11 [==============================] - 1s 49ms/step - loss: 0.0160 - dice_coef: 0.5716 - val_loss: 0.0101 - val_dice_coef: 0.7035\n",
      "Epoch 368/800\n",
      "11/11 [==============================] - 1s 49ms/step - loss: 0.0172 - dice_coef: 0.5842 - val_loss: 0.0100 - val_dice_coef: 0.7021\n",
      "Epoch 369/800\n",
      "11/11 [==============================] - 1s 49ms/step - loss: 0.0180 - dice_coef: 0.5714 - val_loss: 0.0100 - val_dice_coef: 0.7019\n",
      "Epoch 370/800\n",
      "11/11 [==============================] - 1s 49ms/step - loss: 0.0165 - dice_coef: 0.5683 - val_loss: 0.0102 - val_dice_coef: 0.6990\n",
      "Epoch 371/800\n",
      "11/11 [==============================] - 1s 49ms/step - loss: 0.0169 - dice_coef: 0.5610 - val_loss: 0.0100 - val_dice_coef: 0.7019\n",
      "Epoch 372/800\n",
      "11/11 [==============================] - 1s 49ms/step - loss: 0.0174 - dice_coef: 0.5739 - val_loss: 0.0102 - val_dice_coef: 0.6913\n",
      "Epoch 373/800\n",
      "11/11 [==============================] - 1s 49ms/step - loss: 0.0168 - dice_coef: 0.5619 - val_loss: 0.0102 - val_dice_coef: 0.7021\n",
      "Epoch 374/800\n",
      "11/11 [==============================] - 1s 49ms/step - loss: 0.0167 - dice_coef: 0.5737 - val_loss: 0.0099 - val_dice_coef: 0.7058\n",
      "Epoch 375/800\n",
      "11/11 [==============================] - 1s 49ms/step - loss: 0.0170 - dice_coef: 0.5844 - val_loss: 0.0100 - val_dice_coef: 0.7005\n",
      "Epoch 376/800\n",
      "11/11 [==============================] - 1s 51ms/step - loss: 0.0166 - dice_coef: 0.5722 - val_loss: 0.0102 - val_dice_coef: 0.7056\n",
      "Epoch 377/800\n",
      "11/11 [==============================] - 1s 51ms/step - loss: 0.0180 - dice_coef: 0.5808 - val_loss: 0.0100 - val_dice_coef: 0.6986\n",
      "Epoch 378/800\n",
      "11/11 [==============================] - 1s 49ms/step - loss: 0.0167 - dice_coef: 0.5717 - val_loss: 0.0101 - val_dice_coef: 0.7055\n",
      "Epoch 379/800\n",
      "11/11 [==============================] - 1s 49ms/step - loss: 0.0171 - dice_coef: 0.5767 - val_loss: 0.0099 - val_dice_coef: 0.7019\n",
      "Epoch 380/800\n",
      "11/11 [==============================] - 1s 49ms/step - loss: 0.0166 - dice_coef: 0.5746 - val_loss: 0.0102 - val_dice_coef: 0.7010\n",
      "Epoch 381/800\n",
      "11/11 [==============================] - 1s 49ms/step - loss: 0.0171 - dice_coef: 0.5765 - val_loss: 0.0099 - val_dice_coef: 0.7023\n",
      "Epoch 382/800\n",
      "11/11 [==============================] - 1s 50ms/step - loss: 0.0178 - dice_coef: 0.5731 - val_loss: 0.0099 - val_dice_coef: 0.7034\n",
      "Epoch 383/800\n",
      "11/11 [==============================] - 1s 52ms/step - loss: 0.0178 - dice_coef: 0.5673 - val_loss: 0.0102 - val_dice_coef: 0.6999\n",
      "Epoch 384/800\n",
      "11/11 [==============================] - 1s 57ms/step - loss: 0.0167 - dice_coef: 0.5568 - val_loss: 0.0100 - val_dice_coef: 0.6954\n",
      "Epoch 385/800\n",
      "11/11 [==============================] - 1s 56ms/step - loss: 0.0167 - dice_coef: 0.5689 - val_loss: 0.0098 - val_dice_coef: 0.7036\n",
      "Epoch 386/800\n",
      "11/11 [==============================] - 1s 53ms/step - loss: 0.0162 - dice_coef: 0.5724 - val_loss: 0.0101 - val_dice_coef: 0.7057\n",
      "Epoch 387/800\n",
      "11/11 [==============================] - 1s 51ms/step - loss: 0.0167 - dice_coef: 0.5739 - val_loss: 0.0098 - val_dice_coef: 0.7052\n",
      "Epoch 388/800\n",
      "11/11 [==============================] - 1s 50ms/step - loss: 0.0167 - dice_coef: 0.5694 - val_loss: 0.0099 - val_dice_coef: 0.7050\n",
      "Epoch 389/800\n",
      "11/11 [==============================] - 1s 49ms/step - loss: 0.0167 - dice_coef: 0.5809 - val_loss: 0.0100 - val_dice_coef: 0.7043\n",
      "Epoch 390/800\n",
      "11/11 [==============================] - 1s 51ms/step - loss: 0.0165 - dice_coef: 0.5752 - val_loss: 0.0100 - val_dice_coef: 0.7039\n",
      "Epoch 391/800\n",
      "11/11 [==============================] - 1s 49ms/step - loss: 0.0164 - dice_coef: 0.5790 - val_loss: 0.0099 - val_dice_coef: 0.7039\n",
      "Epoch 392/800\n",
      "11/11 [==============================] - 1s 50ms/step - loss: 0.0163 - dice_coef: 0.5780 - val_loss: 0.0099 - val_dice_coef: 0.7068\n",
      "Epoch 393/800\n"
     ]
    },
    {
     "name": "stdout",
     "output_type": "stream",
     "text": [
      "11/11 [==============================] - 1s 50ms/step - loss: 0.0176 - dice_coef: 0.5854 - val_loss: 0.0098 - val_dice_coef: 0.7050\n",
      "Epoch 394/800\n",
      "11/11 [==============================] - 1s 49ms/step - loss: 0.0160 - dice_coef: 0.5755 - val_loss: 0.0100 - val_dice_coef: 0.7064\n",
      "Epoch 395/800\n",
      "11/11 [==============================] - 1s 50ms/step - loss: 0.0163 - dice_coef: 0.5752 - val_loss: 0.0098 - val_dice_coef: 0.7052\n",
      "Epoch 396/800\n",
      "11/11 [==============================] - 1s 49ms/step - loss: 0.0167 - dice_coef: 0.5778 - val_loss: 0.0098 - val_dice_coef: 0.7087\n",
      "Epoch 397/800\n",
      "11/11 [==============================] - 1s 50ms/step - loss: 0.0165 - dice_coef: 0.5770 - val_loss: 0.0097 - val_dice_coef: 0.7065\n",
      "Epoch 398/800\n",
      "11/11 [==============================] - 1s 50ms/step - loss: 0.0166 - dice_coef: 0.5890 - val_loss: 0.0098 - val_dice_coef: 0.7087\n",
      "Epoch 399/800\n",
      "11/11 [==============================] - 1s 50ms/step - loss: 0.0167 - dice_coef: 0.5792 - val_loss: 0.0099 - val_dice_coef: 0.7057\n",
      "Epoch 400/800\n",
      "11/11 [==============================] - 1s 49ms/step - loss: 0.0163 - dice_coef: 0.5821 - val_loss: 0.0097 - val_dice_coef: 0.7088\n",
      "Epoch 401/800\n",
      "11/11 [==============================] - 1s 49ms/step - loss: 0.0163 - dice_coef: 0.5856 - val_loss: 0.0097 - val_dice_coef: 0.7099\n",
      "Epoch 402/800\n",
      "11/11 [==============================] - 1s 49ms/step - loss: 0.0160 - dice_coef: 0.5811 - val_loss: 0.0099 - val_dice_coef: 0.7063\n",
      "Epoch 403/800\n",
      "11/11 [==============================] - 1s 49ms/step - loss: 0.0164 - dice_coef: 0.5722 - val_loss: 0.0097 - val_dice_coef: 0.7083\n",
      "Epoch 404/800\n",
      "11/11 [==============================] - 1s 49ms/step - loss: 0.0164 - dice_coef: 0.5795 - val_loss: 0.0098 - val_dice_coef: 0.7072\n",
      "Epoch 405/800\n",
      "11/11 [==============================] - 1s 49ms/step - loss: 0.0162 - dice_coef: 0.5777 - val_loss: 0.0097 - val_dice_coef: 0.7107\n",
      "Epoch 406/800\n",
      "11/11 [==============================] - 1s 49ms/step - loss: 0.0169 - dice_coef: 0.5872 - val_loss: 0.0097 - val_dice_coef: 0.7083\n",
      "Epoch 407/800\n",
      "11/11 [==============================] - 1s 49ms/step - loss: 0.0161 - dice_coef: 0.5814 - val_loss: 0.0099 - val_dice_coef: 0.7087\n",
      "Epoch 408/800\n",
      "11/11 [==============================] - 1s 50ms/step - loss: 0.0166 - dice_coef: 0.5803 - val_loss: 0.0097 - val_dice_coef: 0.7086\n",
      "Epoch 409/800\n",
      "11/11 [==============================] - 1s 55ms/step - loss: 0.0158 - dice_coef: 0.5768 - val_loss: 0.0098 - val_dice_coef: 0.7063\n",
      "Epoch 410/800\n",
      "11/11 [==============================] - 1s 53ms/step - loss: 0.0161 - dice_coef: 0.5646 - val_loss: 0.0098 - val_dice_coef: 0.7090\n",
      "Epoch 411/800\n",
      "11/11 [==============================] - 1s 50ms/step - loss: 0.0171 - dice_coef: 0.5794 - val_loss: 0.0096 - val_dice_coef: 0.7044\n",
      "Epoch 412/800\n",
      "11/11 [==============================] - 1s 50ms/step - loss: 0.0168 - dice_coef: 0.5803 - val_loss: 0.0100 - val_dice_coef: 0.7057\n",
      "Epoch 413/800\n",
      "11/11 [==============================] - 1s 49ms/step - loss: 0.0162 - dice_coef: 0.5748 - val_loss: 0.0096 - val_dice_coef: 0.7097\n",
      "Epoch 414/800\n",
      "11/11 [==============================] - 1s 49ms/step - loss: 0.0169 - dice_coef: 0.5846 - val_loss: 0.0098 - val_dice_coef: 0.7094\n",
      "Epoch 415/800\n",
      "11/11 [==============================] - 1s 49ms/step - loss: 0.0169 - dice_coef: 0.5822 - val_loss: 0.0098 - val_dice_coef: 0.7072\n",
      "Epoch 416/800\n",
      "11/11 [==============================] - 1s 51ms/step - loss: 0.0165 - dice_coef: 0.5854 - val_loss: 0.0096 - val_dice_coef: 0.7088\n",
      "Epoch 417/800\n",
      "11/11 [==============================] - 1s 49ms/step - loss: 0.0163 - dice_coef: 0.5740 - val_loss: 0.0096 - val_dice_coef: 0.7096\n",
      "Epoch 418/800\n",
      "11/11 [==============================] - 1s 49ms/step - loss: 0.0169 - dice_coef: 0.5835 - val_loss: 0.0096 - val_dice_coef: 0.7099\n",
      "Epoch 419/800\n",
      "11/11 [==============================] - 1s 51ms/step - loss: 0.0162 - dice_coef: 0.5875 - val_loss: 0.0097 - val_dice_coef: 0.7110\n",
      "Epoch 420/800\n",
      "11/11 [==============================] - 1s 49ms/step - loss: 0.0169 - dice_coef: 0.5748 - val_loss: 0.0097 - val_dice_coef: 0.7069\n",
      "Epoch 421/800\n",
      "11/11 [==============================] - 1s 51ms/step - loss: 0.0163 - dice_coef: 0.5839 - val_loss: 0.0097 - val_dice_coef: 0.7094\n",
      "Epoch 422/800\n",
      "11/11 [==============================] - 1s 50ms/step - loss: 0.0169 - dice_coef: 0.5868 - val_loss: 0.0097 - val_dice_coef: 0.7090\n",
      "Epoch 423/800\n",
      "11/11 [==============================] - 1s 49ms/step - loss: 0.0164 - dice_coef: 0.5790 - val_loss: 0.0096 - val_dice_coef: 0.7107\n",
      "Epoch 424/800\n",
      "11/11 [==============================] - 1s 49ms/step - loss: 0.0159 - dice_coef: 0.5824 - val_loss: 0.0096 - val_dice_coef: 0.7105\n",
      "Epoch 425/800\n",
      "11/11 [==============================] - 1s 50ms/step - loss: 0.0167 - dice_coef: 0.5767 - val_loss: 0.0097 - val_dice_coef: 0.7098\n",
      "Epoch 426/800\n",
      "11/11 [==============================] - 1s 50ms/step - loss: 0.0160 - dice_coef: 0.5795 - val_loss: 0.0096 - val_dice_coef: 0.7128\n",
      "Epoch 427/800\n",
      "11/11 [==============================] - 1s 50ms/step - loss: 0.0160 - dice_coef: 0.5795 - val_loss: 0.0096 - val_dice_coef: 0.7088\n",
      "Epoch 428/800\n",
      "11/11 [==============================] - 1s 50ms/step - loss: 0.0169 - dice_coef: 0.5759 - val_loss: 0.0097 - val_dice_coef: 0.7114\n",
      "Epoch 429/800\n",
      "11/11 [==============================] - 1s 54ms/step - loss: 0.0161 - dice_coef: 0.5761 - val_loss: 0.0096 - val_dice_coef: 0.7063\n",
      "Epoch 430/800\n",
      "11/11 [==============================] - 1s 54ms/step - loss: 0.0162 - dice_coef: 0.5747 - val_loss: 0.0097 - val_dice_coef: 0.7111\n",
      "Epoch 431/800\n",
      "11/11 [==============================] - 1s 54ms/step - loss: 0.0168 - dice_coef: 0.5815 - val_loss: 0.0094 - val_dice_coef: 0.7162\n",
      "Epoch 432/800\n",
      "11/11 [==============================] - 1s 50ms/step - loss: 0.0167 - dice_coef: 0.5868 - val_loss: 0.0096 - val_dice_coef: 0.7094\n",
      "Epoch 433/800\n",
      "11/11 [==============================] - 1s 49ms/step - loss: 0.0168 - dice_coef: 0.5842 - val_loss: 0.0096 - val_dice_coef: 0.7130\n",
      "Epoch 434/800\n",
      "11/11 [==============================] - 1s 49ms/step - loss: 0.0162 - dice_coef: 0.5740 - val_loss: 0.0096 - val_dice_coef: 0.7099\n",
      "Epoch 435/800\n",
      "11/11 [==============================] - 1s 49ms/step - loss: 0.0159 - dice_coef: 0.5724 - val_loss: 0.0096 - val_dice_coef: 0.7126\n",
      "Epoch 436/800\n",
      "11/11 [==============================] - 1s 52ms/step - loss: 0.0168 - dice_coef: 0.5909 - val_loss: 0.0093 - val_dice_coef: 0.7126\n",
      "Epoch 437/800\n",
      "11/11 [==============================] - 1s 50ms/step - loss: 0.0159 - dice_coef: 0.5744 - val_loss: 0.0097 - val_dice_coef: 0.7153\n",
      "Epoch 438/800\n",
      "11/11 [==============================] - 1s 50ms/step - loss: 0.0161 - dice_coef: 0.5783 - val_loss: 0.0094 - val_dice_coef: 0.7134\n",
      "Epoch 439/800\n",
      "11/11 [==============================] - 1s 51ms/step - loss: 0.0164 - dice_coef: 0.5830 - val_loss: 0.0096 - val_dice_coef: 0.7156\n",
      "Epoch 440/800\n",
      "11/11 [==============================] - 1s 49ms/step - loss: 0.0174 - dice_coef: 0.5929 - val_loss: 0.0094 - val_dice_coef: 0.7167\n",
      "Epoch 441/800\n",
      "11/11 [==============================] - 1s 49ms/step - loss: 0.0168 - dice_coef: 0.5931 - val_loss: 0.0094 - val_dice_coef: 0.7183\n",
      "Epoch 442/800\n",
      "11/11 [==============================] - 1s 49ms/step - loss: 0.0158 - dice_coef: 0.5885 - val_loss: 0.0096 - val_dice_coef: 0.7125\n",
      "Epoch 443/800\n",
      "11/11 [==============================] - 1s 49ms/step - loss: 0.0166 - dice_coef: 0.5884 - val_loss: 0.0095 - val_dice_coef: 0.7120\n",
      "Epoch 444/800\n",
      "11/11 [==============================] - 1s 49ms/step - loss: 0.0166 - dice_coef: 0.5804 - val_loss: 0.0095 - val_dice_coef: 0.7160\n",
      "Epoch 445/800\n",
      "11/11 [==============================] - 1s 49ms/step - loss: 0.0164 - dice_coef: 0.5854 - val_loss: 0.0095 - val_dice_coef: 0.7163\n",
      "Epoch 446/800\n",
      "11/11 [==============================] - 1s 50ms/step - loss: 0.0164 - dice_coef: 0.5911 - val_loss: 0.0094 - val_dice_coef: 0.7170\n",
      "Epoch 447/800\n",
      "11/11 [==============================] - 1s 49ms/step - loss: 0.0162 - dice_coef: 0.5850 - val_loss: 0.0096 - val_dice_coef: 0.7120\n",
      "Epoch 448/800\n",
      "11/11 [==============================] - 1s 49ms/step - loss: 0.0160 - dice_coef: 0.5863 - val_loss: 0.0094 - val_dice_coef: 0.7180\n",
      "Epoch 449/800\n"
     ]
    },
    {
     "name": "stdout",
     "output_type": "stream",
     "text": [
      "11/11 [==============================] - 1s 49ms/step - loss: 0.0160 - dice_coef: 0.5880 - val_loss: 0.0094 - val_dice_coef: 0.7139\n",
      "Epoch 450/800\n",
      "11/11 [==============================] - 1s 49ms/step - loss: 0.0161 - dice_coef: 0.5873 - val_loss: 0.0094 - val_dice_coef: 0.7160\n",
      "Epoch 451/800\n",
      "11/11 [==============================] - 1s 48ms/step - loss: 0.0166 - dice_coef: 0.5814 - val_loss: 0.0095 - val_dice_coef: 0.7126\n",
      "Epoch 452/800\n",
      "11/11 [==============================] - 1s 49ms/step - loss: 0.0162 - dice_coef: 0.5775 - val_loss: 0.0096 - val_dice_coef: 0.7147\n",
      "Epoch 453/800\n",
      "11/11 [==============================] - 1s 48ms/step - loss: 0.0156 - dice_coef: 0.5827 - val_loss: 0.0093 - val_dice_coef: 0.7170\n",
      "Epoch 454/800\n",
      "11/11 [==============================] - 1s 49ms/step - loss: 0.0163 - dice_coef: 0.5925 - val_loss: 0.0095 - val_dice_coef: 0.7190\n",
      "Epoch 455/800\n",
      "11/11 [==============================] - 1s 50ms/step - loss: 0.0159 - dice_coef: 0.5829 - val_loss: 0.0095 - val_dice_coef: 0.7104\n",
      "Epoch 456/800\n",
      "11/11 [==============================] - 1s 48ms/step - loss: 0.0155 - dice_coef: 0.5842 - val_loss: 0.0093 - val_dice_coef: 0.7198\n",
      "Epoch 457/800\n",
      "11/11 [==============================] - 1s 49ms/step - loss: 0.0161 - dice_coef: 0.5866 - val_loss: 0.0095 - val_dice_coef: 0.7145\n",
      "Epoch 458/800\n",
      "11/11 [==============================] - 1s 49ms/step - loss: 0.0168 - dice_coef: 0.5849 - val_loss: 0.0093 - val_dice_coef: 0.7160\n",
      "Epoch 459/800\n",
      "11/11 [==============================] - 1s 48ms/step - loss: 0.0160 - dice_coef: 0.5851 - val_loss: 0.0095 - val_dice_coef: 0.7171\n",
      "Epoch 460/800\n",
      "11/11 [==============================] - 1s 49ms/step - loss: 0.0161 - dice_coef: 0.5855 - val_loss: 0.0092 - val_dice_coef: 0.7168\n",
      "Epoch 461/800\n",
      "11/11 [==============================] - 1s 50ms/step - loss: 0.0159 - dice_coef: 0.5825 - val_loss: 0.0095 - val_dice_coef: 0.7134\n",
      "Epoch 462/800\n",
      "11/11 [==============================] - 1s 56ms/step - loss: 0.0158 - dice_coef: 0.5862 - val_loss: 0.0093 - val_dice_coef: 0.7152\n",
      "Epoch 463/800\n",
      "11/11 [==============================] - 1s 50ms/step - loss: 0.0154 - dice_coef: 0.5830 - val_loss: 0.0093 - val_dice_coef: 0.7187\n",
      "Epoch 464/800\n",
      "11/11 [==============================] - 1s 49ms/step - loss: 0.0164 - dice_coef: 0.5895 - val_loss: 0.0093 - val_dice_coef: 0.7159\n",
      "Epoch 465/800\n",
      "11/11 [==============================] - 1s 49ms/step - loss: 0.0166 - dice_coef: 0.5875 - val_loss: 0.0095 - val_dice_coef: 0.7184\n",
      "Epoch 466/800\n",
      "11/11 [==============================] - 1s 49ms/step - loss: 0.0160 - dice_coef: 0.5873 - val_loss: 0.0093 - val_dice_coef: 0.7160\n",
      "Epoch 467/800\n",
      "11/11 [==============================] - 1s 49ms/step - loss: 0.0168 - dice_coef: 0.5869 - val_loss: 0.0092 - val_dice_coef: 0.7200\n",
      "Epoch 468/800\n",
      "11/11 [==============================] - 1s 49ms/step - loss: 0.0154 - dice_coef: 0.5816 - val_loss: 0.0094 - val_dice_coef: 0.7184\n",
      "Epoch 469/800\n",
      "11/11 [==============================] - 1s 49ms/step - loss: 0.0156 - dice_coef: 0.5872 - val_loss: 0.0093 - val_dice_coef: 0.7177\n",
      "Epoch 470/800\n",
      "11/11 [==============================] - 1s 49ms/step - loss: 0.0157 - dice_coef: 0.5803 - val_loss: 0.0094 - val_dice_coef: 0.7171\n",
      "Epoch 471/800\n",
      "11/11 [==============================] - 1s 49ms/step - loss: 0.0169 - dice_coef: 0.5894 - val_loss: 0.0092 - val_dice_coef: 0.7198\n",
      "Epoch 472/800\n",
      "11/11 [==============================] - 1s 49ms/step - loss: 0.0158 - dice_coef: 0.5826 - val_loss: 0.0093 - val_dice_coef: 0.7178\n",
      "Epoch 473/800\n",
      "11/11 [==============================] - 1s 49ms/step - loss: 0.0161 - dice_coef: 0.5913 - val_loss: 0.0093 - val_dice_coef: 0.7193\n",
      "Epoch 474/800\n",
      "11/11 [==============================] - 1s 49ms/step - loss: 0.0164 - dice_coef: 0.5877 - val_loss: 0.0092 - val_dice_coef: 0.7206\n",
      "Epoch 475/800\n",
      "11/11 [==============================] - 1s 49ms/step - loss: 0.0158 - dice_coef: 0.5828 - val_loss: 0.0093 - val_dice_coef: 0.7184\n",
      "Epoch 476/800\n",
      "11/11 [==============================] - 1s 49ms/step - loss: 0.0159 - dice_coef: 0.5830 - val_loss: 0.0093 - val_dice_coef: 0.7183\n",
      "Epoch 477/800\n",
      "11/11 [==============================] - 1s 49ms/step - loss: 0.0160 - dice_coef: 0.5864 - val_loss: 0.0094 - val_dice_coef: 0.7165\n",
      "Epoch 478/800\n",
      "11/11 [==============================] - 1s 49ms/step - loss: 0.0160 - dice_coef: 0.5843 - val_loss: 0.0092 - val_dice_coef: 0.7195\n",
      "Epoch 479/800\n",
      "11/11 [==============================] - 1s 49ms/step - loss: 0.0160 - dice_coef: 0.5826 - val_loss: 0.0094 - val_dice_coef: 0.7161\n",
      "Epoch 480/800\n",
      "11/11 [==============================] - 1s 49ms/step - loss: 0.0157 - dice_coef: 0.5850 - val_loss: 0.0092 - val_dice_coef: 0.7213\n",
      "Epoch 481/800\n",
      "11/11 [==============================] - 1s 50ms/step - loss: 0.0158 - dice_coef: 0.5849 - val_loss: 0.0094 - val_dice_coef: 0.7155\n",
      "Epoch 482/800\n",
      "11/11 [==============================] - 1s 48ms/step - loss: 0.0158 - dice_coef: 0.5744 - val_loss: 0.0092 - val_dice_coef: 0.7195\n",
      "Epoch 483/800\n",
      "11/11 [==============================] - 1s 49ms/step - loss: 0.0159 - dice_coef: 0.5861 - val_loss: 0.0092 - val_dice_coef: 0.7166\n",
      "Epoch 484/800\n",
      "11/11 [==============================] - 1s 49ms/step - loss: 0.0154 - dice_coef: 0.5796 - val_loss: 0.0095 - val_dice_coef: 0.7165\n",
      "Epoch 485/800\n",
      "11/11 [==============================] - 1s 50ms/step - loss: 0.0160 - dice_coef: 0.5824 - val_loss: 0.0091 - val_dice_coef: 0.7226\n",
      "Epoch 486/800\n",
      "11/11 [==============================] - 1s 49ms/step - loss: 0.0163 - dice_coef: 0.5936 - val_loss: 0.0094 - val_dice_coef: 0.7184\n",
      "Epoch 487/800\n",
      "11/11 [==============================] - 1s 49ms/step - loss: 0.0168 - dice_coef: 0.5906 - val_loss: 0.0091 - val_dice_coef: 0.7226\n",
      "Epoch 488/800\n",
      "11/11 [==============================] - 1s 49ms/step - loss: 0.0164 - dice_coef: 0.5954 - val_loss: 0.0091 - val_dice_coef: 0.7248\n",
      "Epoch 489/800\n",
      "11/11 [==============================] - 1s 49ms/step - loss: 0.0160 - dice_coef: 0.5766 - val_loss: 0.0095 - val_dice_coef: 0.7157\n",
      "Epoch 490/800\n",
      "11/11 [==============================] - 1s 49ms/step - loss: 0.0161 - dice_coef: 0.5800 - val_loss: 0.0092 - val_dice_coef: 0.7136\n",
      "Epoch 491/800\n",
      "11/11 [==============================] - 1s 49ms/step - loss: 0.0158 - dice_coef: 0.5836 - val_loss: 0.0093 - val_dice_coef: 0.7210\n",
      "Epoch 492/800\n",
      "11/11 [==============================] - 1s 49ms/step - loss: 0.0166 - dice_coef: 0.5906 - val_loss: 0.0090 - val_dice_coef: 0.7236\n",
      "Epoch 493/800\n",
      "11/11 [==============================] - 1s 49ms/step - loss: 0.0163 - dice_coef: 0.5959 - val_loss: 0.0093 - val_dice_coef: 0.7224\n",
      "Epoch 494/800\n",
      "11/11 [==============================] - 1s 49ms/step - loss: 0.0154 - dice_coef: 0.5785 - val_loss: 0.0091 - val_dice_coef: 0.7220\n",
      "Epoch 495/800\n",
      "11/11 [==============================] - 1s 49ms/step - loss: 0.0155 - dice_coef: 0.5804 - val_loss: 0.0094 - val_dice_coef: 0.7192\n",
      "Epoch 496/800\n",
      "11/11 [==============================] - 1s 49ms/step - loss: 0.0157 - dice_coef: 0.5879 - val_loss: 0.0090 - val_dice_coef: 0.7209\n",
      "Epoch 497/800\n",
      "11/11 [==============================] - 1s 49ms/step - loss: 0.0158 - dice_coef: 0.5776 - val_loss: 0.0094 - val_dice_coef: 0.7188\n",
      "Epoch 498/800\n",
      "11/11 [==============================] - 1s 49ms/step - loss: 0.0157 - dice_coef: 0.5837 - val_loss: 0.0091 - val_dice_coef: 0.7174\n",
      "Epoch 499/800\n",
      "11/11 [==============================] - 1s 49ms/step - loss: 0.0163 - dice_coef: 0.5841 - val_loss: 0.0095 - val_dice_coef: 0.7180\n",
      "Epoch 500/800\n",
      "11/11 [==============================] - 1s 50ms/step - loss: 0.0161 - dice_coef: 0.5778 - val_loss: 0.0089 - val_dice_coef: 0.7252\n",
      "Epoch 501/800\n",
      "11/11 [==============================] - 1s 49ms/step - loss: 0.0168 - dice_coef: 0.5889 - val_loss: 0.0094 - val_dice_coef: 0.7220\n",
      "Epoch 502/800\n",
      "11/11 [==============================] - 1s 50ms/step - loss: 0.0163 - dice_coef: 0.5846 - val_loss: 0.0093 - val_dice_coef: 0.7127\n",
      "Epoch 503/800\n",
      "11/11 [==============================] - 1s 49ms/step - loss: 0.0162 - dice_coef: 0.5905 - val_loss: 0.0092 - val_dice_coef: 0.7218\n",
      "Epoch 504/800\n",
      "11/11 [==============================] - 1s 49ms/step - loss: 0.0158 - dice_coef: 0.5931 - val_loss: 0.0091 - val_dice_coef: 0.7259\n",
      "Epoch 505/800\n"
     ]
    },
    {
     "name": "stdout",
     "output_type": "stream",
     "text": [
      "11/11 [==============================] - 1s 49ms/step - loss: 0.0162 - dice_coef: 0.5930 - val_loss: 0.0091 - val_dice_coef: 0.7240\n",
      "Epoch 506/800\n",
      "11/11 [==============================] - 1s 49ms/step - loss: 0.0158 - dice_coef: 0.5895 - val_loss: 0.0093 - val_dice_coef: 0.7211\n",
      "Epoch 507/800\n",
      "11/11 [==============================] - 1s 49ms/step - loss: 0.0153 - dice_coef: 0.5893 - val_loss: 0.0091 - val_dice_coef: 0.7207\n",
      "Epoch 508/800\n",
      "11/11 [==============================] - 1s 49ms/step - loss: 0.0158 - dice_coef: 0.5826 - val_loss: 0.0092 - val_dice_coef: 0.7230\n",
      "Epoch 509/800\n",
      "11/11 [==============================] - 1s 48ms/step - loss: 0.0157 - dice_coef: 0.5923 - val_loss: 0.0091 - val_dice_coef: 0.7239\n",
      "Epoch 510/800\n",
      "11/11 [==============================] - 1s 49ms/step - loss: 0.0161 - dice_coef: 0.5947 - val_loss: 0.0090 - val_dice_coef: 0.7270\n",
      "Epoch 511/800\n",
      "11/11 [==============================] - 1s 49ms/step - loss: 0.0161 - dice_coef: 0.5959 - val_loss: 0.0092 - val_dice_coef: 0.7214\n",
      "Epoch 512/800\n",
      "11/11 [==============================] - 1s 49ms/step - loss: 0.0154 - dice_coef: 0.5827 - val_loss: 0.0090 - val_dice_coef: 0.7232\n",
      "Epoch 513/800\n",
      "11/11 [==============================] - 1s 49ms/step - loss: 0.0154 - dice_coef: 0.5898 - val_loss: 0.0092 - val_dice_coef: 0.7224\n",
      "Epoch 514/800\n",
      "11/11 [==============================] - 1s 48ms/step - loss: 0.0157 - dice_coef: 0.5919 - val_loss: 0.0091 - val_dice_coef: 0.7222\n",
      "Epoch 515/800\n",
      "11/11 [==============================] - 1s 50ms/step - loss: 0.0159 - dice_coef: 0.5889 - val_loss: 0.0090 - val_dice_coef: 0.7242\n",
      "Epoch 516/800\n",
      "11/11 [==============================] - 1s 51ms/step - loss: 0.0162 - dice_coef: 0.5828 - val_loss: 0.0093 - val_dice_coef: 0.7205\n",
      "Epoch 517/800\n",
      "11/11 [==============================] - 1s 50ms/step - loss: 0.0154 - dice_coef: 0.5890 - val_loss: 0.0089 - val_dice_coef: 0.7263\n",
      "Epoch 518/800\n",
      "11/11 [==============================] - 1s 50ms/step - loss: 0.0155 - dice_coef: 0.5933 - val_loss: 0.0093 - val_dice_coef: 0.7214\n",
      "Epoch 519/800\n",
      "11/11 [==============================] - 1s 50ms/step - loss: 0.0163 - dice_coef: 0.5710 - val_loss: 0.0093 - val_dice_coef: 0.7146\n",
      "Epoch 520/800\n",
      "11/11 [==============================] - 1s 51ms/step - loss: 0.0178 - dice_coef: 0.5541 - val_loss: 0.0092 - val_dice_coef: 0.7107\n",
      "Epoch 521/800\n",
      "11/11 [==============================] - 1s 50ms/step - loss: 0.0164 - dice_coef: 0.5849 - val_loss: 0.0092 - val_dice_coef: 0.7244\n",
      "Epoch 522/800\n",
      "11/11 [==============================] - 1s 49ms/step - loss: 0.0155 - dice_coef: 0.5862 - val_loss: 0.0091 - val_dice_coef: 0.7242\n",
      "Epoch 523/800\n",
      "11/11 [==============================] - 1s 50ms/step - loss: 0.0170 - dice_coef: 0.5951 - val_loss: 0.0088 - val_dice_coef: 0.7292\n",
      "Epoch 524/800\n",
      "11/11 [==============================] - 1s 49ms/step - loss: 0.0157 - dice_coef: 0.5968 - val_loss: 0.0091 - val_dice_coef: 0.7265\n",
      "Epoch 525/800\n",
      "11/11 [==============================] - 1s 49ms/step - loss: 0.0161 - dice_coef: 0.5905 - val_loss: 0.0091 - val_dice_coef: 0.7188\n",
      "Epoch 526/800\n",
      "11/11 [==============================] - 1s 49ms/step - loss: 0.0161 - dice_coef: 0.5931 - val_loss: 0.0091 - val_dice_coef: 0.7287\n",
      "Epoch 527/800\n",
      "11/11 [==============================] - 1s 50ms/step - loss: 0.0164 - dice_coef: 0.5921 - val_loss: 0.0090 - val_dice_coef: 0.7209\n",
      "Epoch 528/800\n",
      "11/11 [==============================] - 1s 49ms/step - loss: 0.0155 - dice_coef: 0.5843 - val_loss: 0.0092 - val_dice_coef: 0.7242\n",
      "Epoch 529/800\n",
      "11/11 [==============================] - 1s 50ms/step - loss: 0.0151 - dice_coef: 0.5868 - val_loss: 0.0090 - val_dice_coef: 0.7237\n",
      "Epoch 530/800\n",
      "11/11 [==============================] - 1s 49ms/step - loss: 0.0154 - dice_coef: 0.5870 - val_loss: 0.0091 - val_dice_coef: 0.7261\n",
      "Epoch 531/800\n",
      "11/11 [==============================] - 1s 51ms/step - loss: 0.0158 - dice_coef: 0.5925 - val_loss: 0.0090 - val_dice_coef: 0.7242\n",
      "Epoch 532/800\n",
      "11/11 [==============================] - 1s 49ms/step - loss: 0.0162 - dice_coef: 0.5912 - val_loss: 0.0090 - val_dice_coef: 0.7266\n",
      "Epoch 533/800\n",
      "11/11 [==============================] - 1s 50ms/step - loss: 0.0155 - dice_coef: 0.5912 - val_loss: 0.0090 - val_dice_coef: 0.7248\n",
      "Epoch 534/800\n",
      "11/11 [==============================] - 1s 49ms/step - loss: 0.0156 - dice_coef: 0.5919 - val_loss: 0.0089 - val_dice_coef: 0.7257\n",
      "Epoch 535/800\n",
      "11/11 [==============================] - 1s 48ms/step - loss: 0.0156 - dice_coef: 0.5878 - val_loss: 0.0091 - val_dice_coef: 0.7238\n",
      "Epoch 536/800\n",
      "11/11 [==============================] - 1s 51ms/step - loss: 0.0152 - dice_coef: 0.5901 - val_loss: 0.0090 - val_dice_coef: 0.7223\n",
      "Epoch 537/800\n",
      "11/11 [==============================] - 1s 49ms/step - loss: 0.0159 - dice_coef: 0.5936 - val_loss: 0.0089 - val_dice_coef: 0.7288\n",
      "Epoch 538/800\n",
      "11/11 [==============================] - 1s 48ms/step - loss: 0.0156 - dice_coef: 0.5936 - val_loss: 0.0089 - val_dice_coef: 0.7276\n",
      "Epoch 539/800\n",
      "11/11 [==============================] - 1s 49ms/step - loss: 0.0156 - dice_coef: 0.5934 - val_loss: 0.0089 - val_dice_coef: 0.7261\n",
      "Epoch 540/800\n",
      "11/11 [==============================] - 1s 51ms/step - loss: 0.0153 - dice_coef: 0.5878 - val_loss: 0.0090 - val_dice_coef: 0.7252\n",
      "Epoch 541/800\n",
      "11/11 [==============================] - 1s 50ms/step - loss: 0.0163 - dice_coef: 0.5899 - val_loss: 0.0090 - val_dice_coef: 0.7220\n",
      "Epoch 542/800\n",
      "11/11 [==============================] - 1s 49ms/step - loss: 0.0159 - dice_coef: 0.5864 - val_loss: 0.0090 - val_dice_coef: 0.7258\n",
      "Epoch 543/800\n",
      "11/11 [==============================] - 1s 51ms/step - loss: 0.0153 - dice_coef: 0.5922 - val_loss: 0.0088 - val_dice_coef: 0.7280\n",
      "Epoch 544/800\n",
      "11/11 [==============================] - 1s 51ms/step - loss: 0.0157 - dice_coef: 0.5881 - val_loss: 0.0090 - val_dice_coef: 0.7288\n",
      "Epoch 545/800\n",
      "11/11 [==============================] - 1s 49ms/step - loss: 0.0151 - dice_coef: 0.5773 - val_loss: 0.0089 - val_dice_coef: 0.7252\n",
      "Epoch 546/800\n",
      "11/11 [==============================] - 1s 50ms/step - loss: 0.0156 - dice_coef: 0.5873 - val_loss: 0.0090 - val_dice_coef: 0.7226\n",
      "Epoch 547/800\n",
      "11/11 [==============================] - 1s 49ms/step - loss: 0.0159 - dice_coef: 0.5926 - val_loss: 0.0087 - val_dice_coef: 0.7294\n",
      "Epoch 548/800\n",
      "11/11 [==============================] - 1s 49ms/step - loss: 0.0159 - dice_coef: 0.5901 - val_loss: 0.0088 - val_dice_coef: 0.7295\n",
      "Epoch 549/800\n",
      "11/11 [==============================] - 1s 50ms/step - loss: 0.0165 - dice_coef: 0.5985 - val_loss: 0.0089 - val_dice_coef: 0.7276\n",
      "Epoch 550/800\n",
      "11/11 [==============================] - 1s 49ms/step - loss: 0.0158 - dice_coef: 0.5930 - val_loss: 0.0089 - val_dice_coef: 0.7268\n",
      "Epoch 551/800\n",
      "11/11 [==============================] - 1s 49ms/step - loss: 0.0156 - dice_coef: 0.5951 - val_loss: 0.0090 - val_dice_coef: 0.7242\n",
      "Epoch 552/800\n",
      "11/11 [==============================] - 1s 49ms/step - loss: 0.0154 - dice_coef: 0.5813 - val_loss: 0.0088 - val_dice_coef: 0.7288\n",
      "Epoch 553/800\n",
      "11/11 [==============================] - 1s 51ms/step - loss: 0.0159 - dice_coef: 0.5991 - val_loss: 0.0089 - val_dice_coef: 0.7250\n",
      "Epoch 554/800\n",
      "11/11 [==============================] - 1s 49ms/step - loss: 0.0157 - dice_coef: 0.5877 - val_loss: 0.0089 - val_dice_coef: 0.7241\n",
      "Epoch 555/800\n",
      "11/11 [==============================] - 1s 52ms/step - loss: 0.0160 - dice_coef: 0.5857 - val_loss: 0.0088 - val_dice_coef: 0.7310\n",
      "Epoch 556/800\n",
      "11/11 [==============================] - 1s 50ms/step - loss: 0.0155 - dice_coef: 0.5983 - val_loss: 0.0087 - val_dice_coef: 0.7351\n",
      "Epoch 557/800\n",
      "11/11 [==============================] - 1s 51ms/step - loss: 0.0154 - dice_coef: 0.6010 - val_loss: 0.0087 - val_dice_coef: 0.7330\n",
      "Epoch 558/800\n",
      "11/11 [==============================] - 1s 51ms/step - loss: 0.0152 - dice_coef: 0.6004 - val_loss: 0.0090 - val_dice_coef: 0.7215\n",
      "Epoch 559/800\n",
      "11/11 [==============================] - 1s 50ms/step - loss: 0.0151 - dice_coef: 0.5850 - val_loss: 0.0088 - val_dice_coef: 0.7271\n",
      "Epoch 560/800\n",
      "11/11 [==============================] - 1s 49ms/step - loss: 0.0155 - dice_coef: 0.5944 - val_loss: 0.0088 - val_dice_coef: 0.7292\n",
      "Epoch 561/800\n"
     ]
    },
    {
     "name": "stdout",
     "output_type": "stream",
     "text": [
      "11/11 [==============================] - 1s 49ms/step - loss: 0.0150 - dice_coef: 0.5939 - val_loss: 0.0087 - val_dice_coef: 0.7310\n",
      "Epoch 562/800\n",
      "11/11 [==============================] - 1s 49ms/step - loss: 0.0156 - dice_coef: 0.5945 - val_loss: 0.0089 - val_dice_coef: 0.7257\n",
      "Epoch 563/800\n",
      "11/11 [==============================] - 1s 50ms/step - loss: 0.0163 - dice_coef: 0.5987 - val_loss: 0.0088 - val_dice_coef: 0.7273\n",
      "Epoch 564/800\n",
      "11/11 [==============================] - 1s 50ms/step - loss: 0.0155 - dice_coef: 0.5961 - val_loss: 0.0088 - val_dice_coef: 0.7305\n",
      "Epoch 565/800\n",
      "11/11 [==============================] - 1s 49ms/step - loss: 0.0154 - dice_coef: 0.5899 - val_loss: 0.0087 - val_dice_coef: 0.7277\n",
      "Epoch 566/800\n",
      "11/11 [==============================] - 1s 50ms/step - loss: 0.0156 - dice_coef: 0.5978 - val_loss: 0.0087 - val_dice_coef: 0.7276\n",
      "Epoch 567/800\n",
      "11/11 [==============================] - 1s 49ms/step - loss: 0.0156 - dice_coef: 0.6009 - val_loss: 0.0088 - val_dice_coef: 0.7269\n",
      "Epoch 568/800\n",
      "11/11 [==============================] - 1s 50ms/step - loss: 0.0152 - dice_coef: 0.5951 - val_loss: 0.0086 - val_dice_coef: 0.7324\n",
      "Epoch 569/800\n",
      "11/11 [==============================] - 1s 49ms/step - loss: 0.0154 - dice_coef: 0.5935 - val_loss: 0.0087 - val_dice_coef: 0.7306\n",
      "Epoch 570/800\n",
      "11/11 [==============================] - 1s 48ms/step - loss: 0.0155 - dice_coef: 0.5973 - val_loss: 0.0087 - val_dice_coef: 0.7278\n",
      "Epoch 571/800\n",
      "11/11 [==============================] - 1s 50ms/step - loss: 0.0157 - dice_coef: 0.5899 - val_loss: 0.0087 - val_dice_coef: 0.7303\n",
      "Epoch 572/800\n",
      "11/11 [==============================] - 1s 50ms/step - loss: 0.0152 - dice_coef: 0.5864 - val_loss: 0.0089 - val_dice_coef: 0.7263\n",
      "Epoch 573/800\n",
      "11/11 [==============================] - 1s 48ms/step - loss: 0.0159 - dice_coef: 0.5808 - val_loss: 0.0087 - val_dice_coef: 0.7267\n",
      "Epoch 574/800\n",
      "11/11 [==============================] - 1s 49ms/step - loss: 0.0155 - dice_coef: 0.5996 - val_loss: 0.0088 - val_dice_coef: 0.7271\n",
      "Epoch 575/800\n",
      "11/11 [==============================] - 1s 48ms/step - loss: 0.0153 - dice_coef: 0.5979 - val_loss: 0.0085 - val_dice_coef: 0.7314\n",
      "Epoch 576/800\n",
      "11/11 [==============================] - 1s 49ms/step - loss: 0.0151 - dice_coef: 0.5957 - val_loss: 0.0087 - val_dice_coef: 0.7313\n",
      "Epoch 577/800\n",
      "11/11 [==============================] - 1s 50ms/step - loss: 0.0154 - dice_coef: 0.5971 - val_loss: 0.0086 - val_dice_coef: 0.7282\n",
      "Epoch 578/800\n",
      "11/11 [==============================] - 1s 49ms/step - loss: 0.0154 - dice_coef: 0.5903 - val_loss: 0.0086 - val_dice_coef: 0.7326\n",
      "Epoch 579/800\n",
      "11/11 [==============================] - 1s 49ms/step - loss: 0.0150 - dice_coef: 0.5805 - val_loss: 0.0086 - val_dice_coef: 0.7317\n",
      "Epoch 580/800\n",
      "11/11 [==============================] - 1s 50ms/step - loss: 0.0147 - dice_coef: 0.5839 - val_loss: 0.0087 - val_dice_coef: 0.7307\n",
      "Epoch 581/800\n",
      "11/11 [==============================] - 1s 49ms/step - loss: 0.0158 - dice_coef: 0.6060 - val_loss: 0.0087 - val_dice_coef: 0.7299\n",
      "Epoch 582/800\n",
      "11/11 [==============================] - 1s 49ms/step - loss: 0.0159 - dice_coef: 0.6036 - val_loss: 0.0086 - val_dice_coef: 0.7319\n",
      "Epoch 583/800\n",
      "11/11 [==============================] - 1s 50ms/step - loss: 0.0159 - dice_coef: 0.5933 - val_loss: 0.0088 - val_dice_coef: 0.7246\n",
      "Epoch 584/800\n",
      "11/11 [==============================] - 1s 51ms/step - loss: 0.0156 - dice_coef: 0.5935 - val_loss: 0.0084 - val_dice_coef: 0.7342\n",
      "Epoch 585/800\n",
      "11/11 [==============================] - 1s 49ms/step - loss: 0.0151 - dice_coef: 0.5921 - val_loss: 0.0087 - val_dice_coef: 0.7308\n",
      "Epoch 586/800\n",
      "11/11 [==============================] - 1s 49ms/step - loss: 0.0151 - dice_coef: 0.5897 - val_loss: 0.0087 - val_dice_coef: 0.7263\n",
      "Epoch 587/800\n",
      "11/11 [==============================] - 1s 50ms/step - loss: 0.0155 - dice_coef: 0.5980 - val_loss: 0.0085 - val_dice_coef: 0.7328\n",
      "Epoch 588/800\n",
      "11/11 [==============================] - 1s 50ms/step - loss: 0.0156 - dice_coef: 0.5945 - val_loss: 0.0086 - val_dice_coef: 0.7305\n",
      "Epoch 589/800\n",
      "11/11 [==============================] - 1s 50ms/step - loss: 0.0153 - dice_coef: 0.5973 - val_loss: 0.0085 - val_dice_coef: 0.7345\n",
      "Epoch 590/800\n",
      "11/11 [==============================] - 1s 50ms/step - loss: 0.0154 - dice_coef: 0.6016 - val_loss: 0.0087 - val_dice_coef: 0.7289\n",
      "Epoch 591/800\n",
      "11/11 [==============================] - 1s 50ms/step - loss: 0.0161 - dice_coef: 0.5858 - val_loss: 0.0086 - val_dice_coef: 0.7281\n",
      "Epoch 592/800\n",
      "11/11 [==============================] - 1s 49ms/step - loss: 0.0151 - dice_coef: 0.6031 - val_loss: 0.0085 - val_dice_coef: 0.7317\n",
      "Epoch 593/800\n",
      "11/11 [==============================] - 1s 52ms/step - loss: 0.0154 - dice_coef: 0.5971 - val_loss: 0.0085 - val_dice_coef: 0.7331\n",
      "Epoch 594/800\n",
      "11/11 [==============================] - 1s 52ms/step - loss: 0.0155 - dice_coef: 0.5980 - val_loss: 0.0085 - val_dice_coef: 0.7328\n",
      "Epoch 595/800\n",
      "11/11 [==============================] - 1s 49ms/step - loss: 0.0155 - dice_coef: 0.5984 - val_loss: 0.0086 - val_dice_coef: 0.7294\n",
      "Epoch 596/800\n",
      "11/11 [==============================] - 1s 50ms/step - loss: 0.0150 - dice_coef: 0.5879 - val_loss: 0.0084 - val_dice_coef: 0.7328\n",
      "Epoch 597/800\n",
      "11/11 [==============================] - 1s 50ms/step - loss: 0.0149 - dice_coef: 0.6027 - val_loss: 0.0085 - val_dice_coef: 0.7330\n",
      "Epoch 598/800\n",
      "11/11 [==============================] - 1s 50ms/step - loss: 0.0152 - dice_coef: 0.5910 - val_loss: 0.0085 - val_dice_coef: 0.7302\n",
      "Epoch 599/800\n",
      "11/11 [==============================] - 1s 50ms/step - loss: 0.0157 - dice_coef: 0.5960 - val_loss: 0.0084 - val_dice_coef: 0.7330\n",
      "Epoch 600/800\n",
      "11/11 [==============================] - 1s 51ms/step - loss: 0.0162 - dice_coef: 0.5859 - val_loss: 0.0086 - val_dice_coef: 0.7291\n",
      "Epoch 601/800\n",
      "11/11 [==============================] - 1s 50ms/step - loss: 0.0143 - dice_coef: 0.5899 - val_loss: 0.0084 - val_dice_coef: 0.7322\n",
      "Epoch 602/800\n",
      "11/11 [==============================] - 1s 50ms/step - loss: 0.0147 - dice_coef: 0.5986 - val_loss: 0.0084 - val_dice_coef: 0.7352\n",
      "Epoch 603/800\n",
      "11/11 [==============================] - 1s 51ms/step - loss: 0.0153 - dice_coef: 0.6042 - val_loss: 0.0084 - val_dice_coef: 0.7337\n",
      "Epoch 604/800\n",
      "11/11 [==============================] - 1s 50ms/step - loss: 0.0153 - dice_coef: 0.6011 - val_loss: 0.0084 - val_dice_coef: 0.7339\n",
      "Epoch 605/800\n",
      "11/11 [==============================] - 1s 49ms/step - loss: 0.0156 - dice_coef: 0.6027 - val_loss: 0.0086 - val_dice_coef: 0.7305\n",
      "Epoch 606/800\n",
      "11/11 [==============================] - 1s 50ms/step - loss: 0.0159 - dice_coef: 0.5911 - val_loss: 0.0084 - val_dice_coef: 0.7330\n",
      "Epoch 607/800\n",
      "11/11 [==============================] - 1s 50ms/step - loss: 0.0153 - dice_coef: 0.5928 - val_loss: 0.0085 - val_dice_coef: 0.7320\n",
      "Epoch 608/800\n",
      "11/11 [==============================] - 1s 50ms/step - loss: 0.0159 - dice_coef: 0.5994 - val_loss: 0.0084 - val_dice_coef: 0.7312\n",
      "Epoch 609/800\n",
      "11/11 [==============================] - 1s 51ms/step - loss: 0.0155 - dice_coef: 0.5956 - val_loss: 0.0085 - val_dice_coef: 0.7298\n",
      "Epoch 610/800\n",
      "11/11 [==============================] - 1s 49ms/step - loss: 0.0151 - dice_coef: 0.5988 - val_loss: 0.0085 - val_dice_coef: 0.7300\n",
      "Epoch 611/800\n",
      "11/11 [==============================] - 1s 51ms/step - loss: 0.0149 - dice_coef: 0.5980 - val_loss: 0.0084 - val_dice_coef: 0.7330\n",
      "Epoch 612/800\n",
      "11/11 [==============================] - 1s 50ms/step - loss: 0.0163 - dice_coef: 0.6045 - val_loss: 0.0084 - val_dice_coef: 0.7324\n",
      "Epoch 613/800\n",
      "11/11 [==============================] - 1s 51ms/step - loss: 0.0158 - dice_coef: 0.6028 - val_loss: 0.0084 - val_dice_coef: 0.7320\n",
      "Epoch 614/800\n",
      "11/11 [==============================] - 1s 51ms/step - loss: 0.0156 - dice_coef: 0.5994 - val_loss: 0.0086 - val_dice_coef: 0.7296\n",
      "Epoch 615/800\n",
      "11/11 [==============================] - 1s 49ms/step - loss: 0.0154 - dice_coef: 0.5971 - val_loss: 0.0083 - val_dice_coef: 0.7355\n",
      "Epoch 616/800\n",
      "11/11 [==============================] - 1s 49ms/step - loss: 0.0150 - dice_coef: 0.6017 - val_loss: 0.0085 - val_dice_coef: 0.7337\n",
      "Epoch 617/800\n"
     ]
    },
    {
     "name": "stdout",
     "output_type": "stream",
     "text": [
      "11/11 [==============================] - 1s 49ms/step - loss: 0.0158 - dice_coef: 0.5985 - val_loss: 0.0083 - val_dice_coef: 0.7342\n",
      "Epoch 618/800\n",
      "11/11 [==============================] - 1s 49ms/step - loss: 0.0150 - dice_coef: 0.5964 - val_loss: 0.0082 - val_dice_coef: 0.7366\n",
      "Epoch 619/800\n",
      "11/11 [==============================] - 1s 49ms/step - loss: 0.0157 - dice_coef: 0.6037 - val_loss: 0.0083 - val_dice_coef: 0.7374\n",
      "Epoch 620/800\n",
      "11/11 [==============================] - 1s 50ms/step - loss: 0.0150 - dice_coef: 0.6009 - val_loss: 0.0084 - val_dice_coef: 0.7314\n",
      "Epoch 621/800\n",
      "11/11 [==============================] - 1s 49ms/step - loss: 0.0154 - dice_coef: 0.6020 - val_loss: 0.0083 - val_dice_coef: 0.7343\n",
      "Epoch 622/800\n",
      "11/11 [==============================] - 1s 49ms/step - loss: 0.0155 - dice_coef: 0.6015 - val_loss: 0.0084 - val_dice_coef: 0.7328\n",
      "Epoch 623/800\n",
      "11/11 [==============================] - 1s 49ms/step - loss: 0.0149 - dice_coef: 0.5945 - val_loss: 0.0082 - val_dice_coef: 0.7346\n",
      "Epoch 624/800\n",
      "11/11 [==============================] - 1s 49ms/step - loss: 0.0163 - dice_coef: 0.6029 - val_loss: 0.0084 - val_dice_coef: 0.7323\n",
      "Epoch 625/800\n",
      "11/11 [==============================] - 1s 48ms/step - loss: 0.0145 - dice_coef: 0.6008 - val_loss: 0.0083 - val_dice_coef: 0.7352\n",
      "Epoch 626/800\n",
      "11/11 [==============================] - 1s 49ms/step - loss: 0.0152 - dice_coef: 0.5994 - val_loss: 0.0085 - val_dice_coef: 0.7291\n",
      "Epoch 627/800\n",
      "11/11 [==============================] - 1s 49ms/step - loss: 0.0153 - dice_coef: 0.5981 - val_loss: 0.0082 - val_dice_coef: 0.7351\n",
      "Epoch 628/800\n",
      "11/11 [==============================] - 1s 50ms/step - loss: 0.0151 - dice_coef: 0.6010 - val_loss: 0.0083 - val_dice_coef: 0.7353\n",
      "Epoch 629/800\n",
      "11/11 [==============================] - 1s 49ms/step - loss: 0.0155 - dice_coef: 0.6029 - val_loss: 0.0084 - val_dice_coef: 0.7324\n",
      "Epoch 630/800\n",
      "11/11 [==============================] - 1s 50ms/step - loss: 0.0154 - dice_coef: 0.5981 - val_loss: 0.0082 - val_dice_coef: 0.7347\n",
      "Epoch 631/800\n",
      "11/11 [==============================] - 1s 49ms/step - loss: 0.0155 - dice_coef: 0.5938 - val_loss: 0.0084 - val_dice_coef: 0.7316\n",
      "Epoch 632/800\n",
      "11/11 [==============================] - 1s 50ms/step - loss: 0.0151 - dice_coef: 0.6013 - val_loss: 0.0083 - val_dice_coef: 0.7318\n",
      "Epoch 633/800\n",
      "11/11 [==============================] - 1s 52ms/step - loss: 0.0157 - dice_coef: 0.6010 - val_loss: 0.0082 - val_dice_coef: 0.7334\n",
      "Epoch 634/800\n",
      "11/11 [==============================] - 1s 50ms/step - loss: 0.0150 - dice_coef: 0.5971 - val_loss: 0.0083 - val_dice_coef: 0.7327\n",
      "Epoch 635/800\n",
      "11/11 [==============================] - 1s 49ms/step - loss: 0.0155 - dice_coef: 0.5989 - val_loss: 0.0082 - val_dice_coef: 0.7358\n",
      "Epoch 636/800\n",
      "11/11 [==============================] - 1s 49ms/step - loss: 0.0144 - dice_coef: 0.5904 - val_loss: 0.0083 - val_dice_coef: 0.7320\n",
      "Epoch 637/800\n",
      "11/11 [==============================] - 1s 49ms/step - loss: 0.0156 - dice_coef: 0.5983 - val_loss: 0.0082 - val_dice_coef: 0.7337\n",
      "Epoch 638/800\n",
      "11/11 [==============================] - 1s 50ms/step - loss: 0.0156 - dice_coef: 0.6068 - val_loss: 0.0083 - val_dice_coef: 0.7326\n",
      "Epoch 639/800\n",
      "11/11 [==============================] - 1s 50ms/step - loss: 0.0152 - dice_coef: 0.6094 - val_loss: 0.0083 - val_dice_coef: 0.7322\n",
      "Epoch 640/800\n",
      "11/11 [==============================] - 1s 49ms/step - loss: 0.0150 - dice_coef: 0.6049 - val_loss: 0.0083 - val_dice_coef: 0.7317\n",
      "Epoch 641/800\n",
      "11/11 [==============================] - 1s 49ms/step - loss: 0.0153 - dice_coef: 0.6021 - val_loss: 0.0083 - val_dice_coef: 0.7335\n",
      "Epoch 642/800\n",
      "11/11 [==============================] - 1s 49ms/step - loss: 0.0149 - dice_coef: 0.5906 - val_loss: 0.0082 - val_dice_coef: 0.7343\n",
      "Epoch 643/800\n",
      "11/11 [==============================] - 1s 49ms/step - loss: 0.0157 - dice_coef: 0.6077 - val_loss: 0.0083 - val_dice_coef: 0.7312\n",
      "Epoch 644/800\n",
      "11/11 [==============================] - 1s 50ms/step - loss: 0.0155 - dice_coef: 0.5988 - val_loss: 0.0083 - val_dice_coef: 0.7333\n",
      "Epoch 645/800\n",
      "11/11 [==============================] - 1s 49ms/step - loss: 0.0148 - dice_coef: 0.5956 - val_loss: 0.0080 - val_dice_coef: 0.7416\n",
      "Epoch 646/800\n",
      "11/11 [==============================] - 1s 49ms/step - loss: 0.0159 - dice_coef: 0.6127 - val_loss: 0.0082 - val_dice_coef: 0.7364\n",
      "Epoch 647/800\n",
      "11/11 [==============================] - 1s 50ms/step - loss: 0.0147 - dice_coef: 0.5971 - val_loss: 0.0083 - val_dice_coef: 0.7286\n",
      "Epoch 648/800\n",
      "11/11 [==============================] - 1s 49ms/step - loss: 0.0152 - dice_coef: 0.5923 - val_loss: 0.0083 - val_dice_coef: 0.7345\n",
      "Epoch 649/800\n",
      "11/11 [==============================] - 1s 49ms/step - loss: 0.0152 - dice_coef: 0.5995 - val_loss: 0.0081 - val_dice_coef: 0.7368\n",
      "Epoch 650/800\n",
      "11/11 [==============================] - 1s 49ms/step - loss: 0.0151 - dice_coef: 0.5992 - val_loss: 0.0084 - val_dice_coef: 0.7322\n",
      "Epoch 651/800\n",
      "11/11 [==============================] - 1s 49ms/step - loss: 0.0150 - dice_coef: 0.5951 - val_loss: 0.0081 - val_dice_coef: 0.7339\n",
      "Epoch 652/800\n",
      "11/11 [==============================] - 1s 49ms/step - loss: 0.0153 - dice_coef: 0.6059 - val_loss: 0.0083 - val_dice_coef: 0.7313\n",
      "Epoch 653/800\n",
      "11/11 [==============================] - 1s 51ms/step - loss: 0.0145 - dice_coef: 0.5995 - val_loss: 0.0082 - val_dice_coef: 0.7346\n",
      "Epoch 654/800\n",
      "11/11 [==============================] - 1s 49ms/step - loss: 0.0156 - dice_coef: 0.6083 - val_loss: 0.0080 - val_dice_coef: 0.7377\n",
      "Epoch 655/800\n",
      "11/11 [==============================] - 1s 49ms/step - loss: 0.0151 - dice_coef: 0.6035 - val_loss: 0.0081 - val_dice_coef: 0.7369\n",
      "Epoch 656/800\n",
      "11/11 [==============================] - 1s 49ms/step - loss: 0.0150 - dice_coef: 0.5994 - val_loss: 0.0083 - val_dice_coef: 0.7317\n",
      "Epoch 657/800\n",
      "11/11 [==============================] - 1s 50ms/step - loss: 0.0154 - dice_coef: 0.6039 - val_loss: 0.0082 - val_dice_coef: 0.7324\n",
      "Epoch 658/800\n",
      "11/11 [==============================] - 1s 50ms/step - loss: 0.0153 - dice_coef: 0.6067 - val_loss: 0.0082 - val_dice_coef: 0.7355\n",
      "Epoch 659/800\n",
      "11/11 [==============================] - 1s 50ms/step - loss: 0.0147 - dice_coef: 0.6019 - val_loss: 0.0080 - val_dice_coef: 0.7401\n",
      "Epoch 660/800\n",
      "11/11 [==============================] - 1s 50ms/step - loss: 0.0152 - dice_coef: 0.6060 - val_loss: 0.0082 - val_dice_coef: 0.7329\n",
      "Epoch 661/800\n",
      "11/11 [==============================] - 1s 50ms/step - loss: 0.0148 - dice_coef: 0.5973 - val_loss: 0.0082 - val_dice_coef: 0.7300\n",
      "Epoch 662/800\n",
      "11/11 [==============================] - 1s 57ms/step - loss: 0.0148 - dice_coef: 0.6030 - val_loss: 0.0082 - val_dice_coef: 0.7364\n",
      "Epoch 663/800\n",
      "11/11 [==============================] - 1s 51ms/step - loss: 0.0148 - dice_coef: 0.6063 - val_loss: 0.0079 - val_dice_coef: 0.7389\n",
      "Epoch 664/800\n",
      "11/11 [==============================] - 1s 50ms/step - loss: 0.0155 - dice_coef: 0.6050 - val_loss: 0.0083 - val_dice_coef: 0.7286\n",
      "Epoch 665/800\n",
      "11/11 [==============================] - 1s 50ms/step - loss: 0.0154 - dice_coef: 0.6006 - val_loss: 0.0080 - val_dice_coef: 0.7364\n",
      "Epoch 666/800\n",
      "11/11 [==============================] - 1s 49ms/step - loss: 0.0145 - dice_coef: 0.5981 - val_loss: 0.0083 - val_dice_coef: 0.7330\n",
      "Epoch 667/800\n",
      "11/11 [==============================] - 1s 48ms/step - loss: 0.0156 - dice_coef: 0.5949 - val_loss: 0.0079 - val_dice_coef: 0.7366\n",
      "Epoch 668/800\n",
      "11/11 [==============================] - 1s 48ms/step - loss: 0.0147 - dice_coef: 0.6045 - val_loss: 0.0084 - val_dice_coef: 0.7291\n",
      "Epoch 669/800\n",
      "11/11 [==============================] - 1s 49ms/step - loss: 0.0150 - dice_coef: 0.5997 - val_loss: 0.0080 - val_dice_coef: 0.7336\n",
      "Epoch 670/800\n",
      "11/11 [==============================] - 1s 49ms/step - loss: 0.0152 - dice_coef: 0.6094 - val_loss: 0.0082 - val_dice_coef: 0.7349\n",
      "Epoch 671/800\n",
      "11/11 [==============================] - 1s 49ms/step - loss: 0.0149 - dice_coef: 0.6018 - val_loss: 0.0081 - val_dice_coef: 0.7319\n",
      "Epoch 672/800\n",
      "11/11 [==============================] - 1s 49ms/step - loss: 0.0150 - dice_coef: 0.5986 - val_loss: 0.0081 - val_dice_coef: 0.7333\n",
      "Epoch 673/800\n"
     ]
    },
    {
     "name": "stdout",
     "output_type": "stream",
     "text": [
      "11/11 [==============================] - 1s 49ms/step - loss: 0.0148 - dice_coef: 0.6019 - val_loss: 0.0081 - val_dice_coef: 0.7340\n",
      "Epoch 674/800\n",
      "11/11 [==============================] - 1s 50ms/step - loss: 0.0150 - dice_coef: 0.6059 - val_loss: 0.0080 - val_dice_coef: 0.7344\n",
      "Epoch 675/800\n",
      "11/11 [==============================] - 1s 50ms/step - loss: 0.0154 - dice_coef: 0.6063 - val_loss: 0.0081 - val_dice_coef: 0.7360\n",
      "Epoch 676/800\n",
      "11/11 [==============================] - 1s 49ms/step - loss: 0.0145 - dice_coef: 0.6007 - val_loss: 0.0080 - val_dice_coef: 0.7354\n",
      "Epoch 677/800\n",
      "11/11 [==============================] - 1s 50ms/step - loss: 0.0149 - dice_coef: 0.6058 - val_loss: 0.0080 - val_dice_coef: 0.7360\n",
      "Epoch 678/800\n",
      "11/11 [==============================] - 1s 53ms/step - loss: 0.0151 - dice_coef: 0.6013 - val_loss: 0.0081 - val_dice_coef: 0.7337\n",
      "Epoch 679/800\n",
      "11/11 [==============================] - 1s 60ms/step - loss: 0.0149 - dice_coef: 0.6029 - val_loss: 0.0079 - val_dice_coef: 0.7355\n",
      "Epoch 680/800\n",
      "11/11 [==============================] - 1s 57ms/step - loss: 0.0153 - dice_coef: 0.6023 - val_loss: 0.0081 - val_dice_coef: 0.7321\n",
      "Epoch 681/800\n",
      "11/11 [==============================] - 1s 55ms/step - loss: 0.0150 - dice_coef: 0.6038 - val_loss: 0.0078 - val_dice_coef: 0.7412\n",
      "Epoch 682/800\n",
      "11/11 [==============================] - 1s 55ms/step - loss: 0.0154 - dice_coef: 0.6026 - val_loss: 0.0080 - val_dice_coef: 0.7332\n",
      "Epoch 683/800\n",
      "11/11 [==============================] - 1s 57ms/step - loss: 0.0151 - dice_coef: 0.6129 - val_loss: 0.0082 - val_dice_coef: 0.7308\n",
      "Epoch 684/800\n",
      "11/11 [==============================] - 1s 53ms/step - loss: 0.0153 - dice_coef: 0.6049 - val_loss: 0.0080 - val_dice_coef: 0.7346\n",
      "Epoch 685/800\n",
      "11/11 [==============================] - 1s 52ms/step - loss: 0.0157 - dice_coef: 0.5996 - val_loss: 0.0079 - val_dice_coef: 0.7390\n",
      "Epoch 686/800\n",
      "11/11 [==============================] - 1s 51ms/step - loss: 0.0152 - dice_coef: 0.6043 - val_loss: 0.0081 - val_dice_coef: 0.7311\n",
      "Epoch 687/800\n",
      "11/11 [==============================] - 1s 48ms/step - loss: 0.0154 - dice_coef: 0.5989 - val_loss: 0.0081 - val_dice_coef: 0.7338\n",
      "Epoch 688/800\n",
      "11/11 [==============================] - 1s 49ms/step - loss: 0.0143 - dice_coef: 0.6002 - val_loss: 0.0079 - val_dice_coef: 0.7365\n",
      "Epoch 689/800\n",
      "11/11 [==============================] - 1s 49ms/step - loss: 0.0153 - dice_coef: 0.6050 - val_loss: 0.0079 - val_dice_coef: 0.7373\n",
      "Epoch 690/800\n",
      "11/11 [==============================] - 1s 50ms/step - loss: 0.0157 - dice_coef: 0.5978 - val_loss: 0.0080 - val_dice_coef: 0.7321\n",
      "Epoch 691/800\n",
      "11/11 [==============================] - 1s 50ms/step - loss: 0.0153 - dice_coef: 0.5904 - val_loss: 0.0080 - val_dice_coef: 0.7329\n",
      "Epoch 692/800\n",
      "11/11 [==============================] - 1s 50ms/step - loss: 0.0149 - dice_coef: 0.6014 - val_loss: 0.0079 - val_dice_coef: 0.7378\n",
      "Epoch 693/800\n",
      "11/11 [==============================] - 1s 49ms/step - loss: 0.0153 - dice_coef: 0.6095 - val_loss: 0.0080 - val_dice_coef: 0.7333\n",
      "Epoch 694/800\n",
      "11/11 [==============================] - 1s 50ms/step - loss: 0.0156 - dice_coef: 0.6013 - val_loss: 0.0079 - val_dice_coef: 0.7359\n",
      "Epoch 695/800\n",
      "11/11 [==============================] - 1s 48ms/step - loss: 0.0159 - dice_coef: 0.6028 - val_loss: 0.0082 - val_dice_coef: 0.7266\n",
      "Epoch 696/800\n",
      "11/11 [==============================] - 1s 50ms/step - loss: 0.0153 - dice_coef: 0.5959 - val_loss: 0.0077 - val_dice_coef: 0.7410\n",
      "Epoch 697/800\n",
      "11/11 [==============================] - 1s 50ms/step - loss: 0.0145 - dice_coef: 0.6022 - val_loss: 0.0081 - val_dice_coef: 0.7337\n",
      "Epoch 698/800\n",
      "11/11 [==============================] - 1s 50ms/step - loss: 0.0150 - dice_coef: 0.6093 - val_loss: 0.0078 - val_dice_coef: 0.7394\n",
      "Epoch 699/800\n",
      "11/11 [==============================] - 1s 49ms/step - loss: 0.0150 - dice_coef: 0.5981 - val_loss: 0.0080 - val_dice_coef: 0.7347\n",
      "Epoch 700/800\n",
      "11/11 [==============================] - 1s 49ms/step - loss: 0.0156 - dice_coef: 0.6064 - val_loss: 0.0081 - val_dice_coef: 0.7323\n",
      "Epoch 701/800\n",
      "11/11 [==============================] - 1s 50ms/step - loss: 0.0162 - dice_coef: 0.6060 - val_loss: 0.0077 - val_dice_coef: 0.7420\n",
      "Epoch 702/800\n",
      "11/11 [==============================] - 1s 49ms/step - loss: 0.0151 - dice_coef: 0.6031 - val_loss: 0.0084 - val_dice_coef: 0.7196\n",
      "Epoch 703/800\n",
      "11/11 [==============================] - 1s 49ms/step - loss: 0.0151 - dice_coef: 0.5905 - val_loss: 0.0081 - val_dice_coef: 0.7267\n",
      "Epoch 704/800\n",
      "11/11 [==============================] - 1s 50ms/step - loss: 0.0149 - dice_coef: 0.6015 - val_loss: 0.0079 - val_dice_coef: 0.7395\n",
      "Epoch 705/800\n",
      "11/11 [==============================] - 1s 49ms/step - loss: 0.0153 - dice_coef: 0.6133 - val_loss: 0.0078 - val_dice_coef: 0.7407\n",
      "Epoch 706/800\n",
      "11/11 [==============================] - 1s 50ms/step - loss: 0.0152 - dice_coef: 0.5960 - val_loss: 0.0081 - val_dice_coef: 0.7326\n",
      "Epoch 707/800\n",
      "11/11 [==============================] - 1s 49ms/step - loss: 0.0145 - dice_coef: 0.5947 - val_loss: 0.0079 - val_dice_coef: 0.7346\n",
      "Epoch 708/800\n",
      "11/11 [==============================] - 1s 48ms/step - loss: 0.0152 - dice_coef: 0.5997 - val_loss: 0.0080 - val_dice_coef: 0.7321\n",
      "Epoch 709/800\n",
      "11/11 [==============================] - 1s 48ms/step - loss: 0.0149 - dice_coef: 0.6107 - val_loss: 0.0079 - val_dice_coef: 0.7374\n",
      "Epoch 710/800\n",
      "11/11 [==============================] - 1s 49ms/step - loss: 0.0146 - dice_coef: 0.6060 - val_loss: 0.0078 - val_dice_coef: 0.7393\n",
      "Epoch 711/800\n",
      "11/11 [==============================] - 1s 48ms/step - loss: 0.0155 - dice_coef: 0.5974 - val_loss: 0.0079 - val_dice_coef: 0.7360\n",
      "Epoch 712/800\n",
      "11/11 [==============================] - 1s 49ms/step - loss: 0.0152 - dice_coef: 0.6069 - val_loss: 0.0078 - val_dice_coef: 0.7361\n",
      "Epoch 713/800\n",
      "11/11 [==============================] - 1s 49ms/step - loss: 0.0148 - dice_coef: 0.6053 - val_loss: 0.0079 - val_dice_coef: 0.7350\n",
      "Epoch 714/800\n",
      "11/11 [==============================] - 1s 48ms/step - loss: 0.0147 - dice_coef: 0.6022 - val_loss: 0.0079 - val_dice_coef: 0.7369\n",
      "Epoch 715/800\n",
      "11/11 [==============================] - 1s 49ms/step - loss: 0.0154 - dice_coef: 0.6047 - val_loss: 0.0077 - val_dice_coef: 0.7391\n",
      "Epoch 716/800\n",
      "11/11 [==============================] - 1s 50ms/step - loss: 0.0149 - dice_coef: 0.6096 - val_loss: 0.0079 - val_dice_coef: 0.7372\n",
      "Epoch 717/800\n",
      "11/11 [==============================] - 1s 50ms/step - loss: 0.0148 - dice_coef: 0.6107 - val_loss: 0.0078 - val_dice_coef: 0.7347\n",
      "Epoch 718/800\n",
      "11/11 [==============================] - 1s 50ms/step - loss: 0.0152 - dice_coef: 0.6096 - val_loss: 0.0079 - val_dice_coef: 0.7342\n",
      "Epoch 719/800\n",
      "11/11 [==============================] - 1s 49ms/step - loss: 0.0146 - dice_coef: 0.6019 - val_loss: 0.0078 - val_dice_coef: 0.7369\n",
      "Epoch 720/800\n",
      "11/11 [==============================] - 1s 50ms/step - loss: 0.0146 - dice_coef: 0.6058 - val_loss: 0.0076 - val_dice_coef: 0.7431\n",
      "Epoch 721/800\n",
      "11/11 [==============================] - 1s 50ms/step - loss: 0.0149 - dice_coef: 0.6099 - val_loss: 0.0080 - val_dice_coef: 0.7319\n",
      "Epoch 722/800\n",
      "11/11 [==============================] - 1s 49ms/step - loss: 0.0150 - dice_coef: 0.6013 - val_loss: 0.0078 - val_dice_coef: 0.7330\n",
      "Epoch 723/800\n",
      "11/11 [==============================] - 1s 49ms/step - loss: 0.0147 - dice_coef: 0.6009 - val_loss: 0.0078 - val_dice_coef: 0.7410\n",
      "Epoch 724/800\n",
      "11/11 [==============================] - 1s 50ms/step - loss: 0.0164 - dice_coef: 0.6046 - val_loss: 0.0078 - val_dice_coef: 0.7335\n",
      "Epoch 725/800\n",
      "11/11 [==============================] - 1s 50ms/step - loss: 0.0145 - dice_coef: 0.5949 - val_loss: 0.0080 - val_dice_coef: 0.7341\n",
      "Epoch 726/800\n",
      "11/11 [==============================] - 1s 50ms/step - loss: 0.0155 - dice_coef: 0.5976 - val_loss: 0.0076 - val_dice_coef: 0.7413\n",
      "Epoch 727/800\n",
      "11/11 [==============================] - 1s 50ms/step - loss: 0.0147 - dice_coef: 0.5985 - val_loss: 0.0081 - val_dice_coef: 0.7294\n",
      "Epoch 728/800\n",
      "11/11 [==============================] - 1s 51ms/step - loss: 0.0151 - dice_coef: 0.6001 - val_loss: 0.0078 - val_dice_coef: 0.7356\n",
      "Epoch 729/800\n"
     ]
    },
    {
     "name": "stdout",
     "output_type": "stream",
     "text": [
      "11/11 [==============================] - 1s 51ms/step - loss: 0.0146 - dice_coef: 0.6104 - val_loss: 0.0078 - val_dice_coef: 0.7374\n",
      "Epoch 730/800\n",
      "11/11 [==============================] - 1s 49ms/step - loss: 0.0148 - dice_coef: 0.6023 - val_loss: 0.0079 - val_dice_coef: 0.7337\n",
      "Epoch 731/800\n",
      "11/11 [==============================] - 1s 49ms/step - loss: 0.0146 - dice_coef: 0.6060 - val_loss: 0.0077 - val_dice_coef: 0.7398\n",
      "Epoch 732/800\n",
      "11/11 [==============================] - 1s 49ms/step - loss: 0.0144 - dice_coef: 0.6124 - val_loss: 0.0078 - val_dice_coef: 0.7381\n",
      "Epoch 733/800\n",
      "11/11 [==============================] - 1s 49ms/step - loss: 0.0153 - dice_coef: 0.6136 - val_loss: 0.0076 - val_dice_coef: 0.7402\n",
      "Epoch 734/800\n",
      "11/11 [==============================] - 1s 49ms/step - loss: 0.0147 - dice_coef: 0.6039 - val_loss: 0.0078 - val_dice_coef: 0.7360\n",
      "Epoch 735/800\n",
      "11/11 [==============================] - 1s 49ms/step - loss: 0.0148 - dice_coef: 0.6086 - val_loss: 0.0078 - val_dice_coef: 0.7336\n",
      "Epoch 736/800\n",
      "11/11 [==============================] - 1s 49ms/step - loss: 0.0151 - dice_coef: 0.6033 - val_loss: 0.0077 - val_dice_coef: 0.7365\n",
      "Epoch 737/800\n",
      "11/11 [==============================] - 1s 48ms/step - loss: 0.0150 - dice_coef: 0.6065 - val_loss: 0.0078 - val_dice_coef: 0.7356\n",
      "Epoch 738/800\n",
      "11/11 [==============================] - 1s 49ms/step - loss: 0.0145 - dice_coef: 0.6089 - val_loss: 0.0075 - val_dice_coef: 0.7429\n",
      "Epoch 739/800\n",
      "11/11 [==============================] - 1s 49ms/step - loss: 0.0146 - dice_coef: 0.6102 - val_loss: 0.0078 - val_dice_coef: 0.7378\n",
      "Epoch 740/800\n",
      "11/11 [==============================] - 1s 49ms/step - loss: 0.0150 - dice_coef: 0.5978 - val_loss: 0.0075 - val_dice_coef: 0.7443\n",
      "Epoch 741/800\n",
      "11/11 [==============================] - 1s 48ms/step - loss: 0.0145 - dice_coef: 0.6055 - val_loss: 0.0079 - val_dice_coef: 0.7316\n",
      "Epoch 742/800\n",
      "11/11 [==============================] - 1s 49ms/step - loss: 0.0158 - dice_coef: 0.6163 - val_loss: 0.0077 - val_dice_coef: 0.7376\n",
      "Epoch 743/800\n",
      "11/11 [==============================] - 1s 48ms/step - loss: 0.0153 - dice_coef: 0.6075 - val_loss: 0.0079 - val_dice_coef: 0.7335\n",
      "Epoch 744/800\n",
      "11/11 [==============================] - 1s 49ms/step - loss: 0.0146 - dice_coef: 0.6024 - val_loss: 0.0077 - val_dice_coef: 0.7361\n",
      "Epoch 745/800\n",
      "11/11 [==============================] - 1s 49ms/step - loss: 0.0145 - dice_coef: 0.6034 - val_loss: 0.0077 - val_dice_coef: 0.7393\n",
      "Epoch 746/800\n",
      "11/11 [==============================] - 1s 48ms/step - loss: 0.0143 - dice_coef: 0.6086 - val_loss: 0.0077 - val_dice_coef: 0.7360\n",
      "Epoch 747/800\n",
      "11/11 [==============================] - 1s 49ms/step - loss: 0.0148 - dice_coef: 0.6109 - val_loss: 0.0076 - val_dice_coef: 0.7433\n",
      "Epoch 748/800\n",
      "11/11 [==============================] - 1s 49ms/step - loss: 0.0151 - dice_coef: 0.6116 - val_loss: 0.0078 - val_dice_coef: 0.7344\n",
      "Epoch 749/800\n",
      "11/11 [==============================] - 1s 49ms/step - loss: 0.0151 - dice_coef: 0.6000 - val_loss: 0.0078 - val_dice_coef: 0.7326\n",
      "Epoch 750/800\n",
      "11/11 [==============================] - 1s 49ms/step - loss: 0.0143 - dice_coef: 0.5963 - val_loss: 0.0078 - val_dice_coef: 0.7358\n",
      "Epoch 751/800\n",
      "11/11 [==============================] - 1s 49ms/step - loss: 0.0160 - dice_coef: 0.5930 - val_loss: 0.0078 - val_dice_coef: 0.7369\n",
      "Epoch 752/800\n",
      "11/11 [==============================] - 1s 49ms/step - loss: 0.0180 - dice_coef: 0.5387 - val_loss: 0.0079 - val_dice_coef: 0.7243\n",
      "Epoch 753/800\n",
      "11/11 [==============================] - 1s 49ms/step - loss: 0.0150 - dice_coef: 0.5873 - val_loss: 0.0078 - val_dice_coef: 0.7382\n",
      "Epoch 754/800\n",
      "11/11 [==============================] - 1s 49ms/step - loss: 0.0154 - dice_coef: 0.6066 - val_loss: 0.0076 - val_dice_coef: 0.7410\n",
      "Epoch 755/800\n",
      "11/11 [==============================] - 1s 49ms/step - loss: 0.0149 - dice_coef: 0.6121 - val_loss: 0.0078 - val_dice_coef: 0.7370\n",
      "Epoch 756/800\n",
      "11/11 [==============================] - 1s 49ms/step - loss: 0.0145 - dice_coef: 0.6027 - val_loss: 0.0077 - val_dice_coef: 0.7360\n",
      "Epoch 757/800\n",
      "11/11 [==============================] - 1s 49ms/step - loss: 0.0157 - dice_coef: 0.6068 - val_loss: 0.0078 - val_dice_coef: 0.7341\n",
      "Epoch 758/800\n",
      "11/11 [==============================] - 1s 49ms/step - loss: 0.0145 - dice_coef: 0.5978 - val_loss: 0.0077 - val_dice_coef: 0.7370\n",
      "Epoch 759/800\n",
      "11/11 [==============================] - 1s 49ms/step - loss: 0.0146 - dice_coef: 0.6039 - val_loss: 0.0077 - val_dice_coef: 0.7383\n",
      "Epoch 760/800\n",
      "11/11 [==============================] - 1s 49ms/step - loss: 0.0145 - dice_coef: 0.6059 - val_loss: 0.0078 - val_dice_coef: 0.7375\n",
      "Epoch 761/800\n",
      "11/11 [==============================] - 1s 48ms/step - loss: 0.0149 - dice_coef: 0.6059 - val_loss: 0.0077 - val_dice_coef: 0.7377\n",
      "Epoch 762/800\n",
      "11/11 [==============================] - 1s 49ms/step - loss: 0.0147 - dice_coef: 0.6004 - val_loss: 0.0077 - val_dice_coef: 0.7355\n",
      "Epoch 763/800\n",
      "11/11 [==============================] - 1s 49ms/step - loss: 0.0141 - dice_coef: 0.6123 - val_loss: 0.0078 - val_dice_coef: 0.7337\n",
      "Epoch 764/800\n",
      "11/11 [==============================] - 1s 49ms/step - loss: 0.0146 - dice_coef: 0.6113 - val_loss: 0.0076 - val_dice_coef: 0.7391\n",
      "Epoch 765/800\n",
      "11/11 [==============================] - 1s 48ms/step - loss: 0.0152 - dice_coef: 0.6141 - val_loss: 0.0076 - val_dice_coef: 0.7411\n",
      "Epoch 766/800\n",
      "11/11 [==============================] - 1s 48ms/step - loss: 0.0149 - dice_coef: 0.6105 - val_loss: 0.0076 - val_dice_coef: 0.7386\n",
      "Epoch 767/800\n",
      "11/11 [==============================] - 1s 49ms/step - loss: 0.0145 - dice_coef: 0.6039 - val_loss: 0.0078 - val_dice_coef: 0.7320\n",
      "Epoch 768/800\n",
      "11/11 [==============================] - 1s 48ms/step - loss: 0.0143 - dice_coef: 0.6016 - val_loss: 0.0076 - val_dice_coef: 0.7395\n",
      "Epoch 769/800\n",
      "11/11 [==============================] - 1s 48ms/step - loss: 0.0142 - dice_coef: 0.6009 - val_loss: 0.0077 - val_dice_coef: 0.7372\n",
      "Epoch 770/800\n",
      "11/11 [==============================] - 1s 48ms/step - loss: 0.0143 - dice_coef: 0.6058 - val_loss: 0.0076 - val_dice_coef: 0.7387\n",
      "Epoch 771/800\n",
      "11/11 [==============================] - 1s 48ms/step - loss: 0.0146 - dice_coef: 0.6093 - val_loss: 0.0078 - val_dice_coef: 0.7333\n",
      "Epoch 772/800\n",
      "11/11 [==============================] - 1s 48ms/step - loss: 0.0147 - dice_coef: 0.5962 - val_loss: 0.0078 - val_dice_coef: 0.7328\n",
      "Epoch 773/800\n",
      "11/11 [==============================] - 1s 49ms/step - loss: 0.0147 - dice_coef: 0.6043 - val_loss: 0.0076 - val_dice_coef: 0.7395\n",
      "Epoch 774/800\n",
      "11/11 [==============================] - 1s 48ms/step - loss: 0.0150 - dice_coef: 0.6135 - val_loss: 0.0076 - val_dice_coef: 0.7380\n",
      "Epoch 775/800\n",
      "11/11 [==============================] - 1s 49ms/step - loss: 0.0152 - dice_coef: 0.6006 - val_loss: 0.0076 - val_dice_coef: 0.7394\n",
      "Epoch 776/800\n",
      "11/11 [==============================] - 1s 48ms/step - loss: 0.0152 - dice_coef: 0.6085 - val_loss: 0.0077 - val_dice_coef: 0.7367\n",
      "Epoch 777/800\n",
      "11/11 [==============================] - 1s 48ms/step - loss: 0.0152 - dice_coef: 0.6030 - val_loss: 0.0076 - val_dice_coef: 0.7372\n",
      "Epoch 778/800\n",
      "11/11 [==============================] - 1s 50ms/step - loss: 0.0151 - dice_coef: 0.6103 - val_loss: 0.0077 - val_dice_coef: 0.7371\n",
      "Epoch 779/800\n",
      "11/11 [==============================] - 1s 48ms/step - loss: 0.0148 - dice_coef: 0.6079 - val_loss: 0.0076 - val_dice_coef: 0.7386\n",
      "Epoch 780/800\n",
      "11/11 [==============================] - 1s 47ms/step - loss: 0.0148 - dice_coef: 0.6118 - val_loss: 0.0077 - val_dice_coef: 0.7368\n",
      "Epoch 781/800\n",
      "11/11 [==============================] - 1s 47ms/step - loss: 0.0151 - dice_coef: 0.5939 - val_loss: 0.0076 - val_dice_coef: 0.7384\n",
      "Epoch 782/800\n",
      "11/11 [==============================] - 1s 49ms/step - loss: 0.0159 - dice_coef: 0.6118 - val_loss: 0.0077 - val_dice_coef: 0.7361\n",
      "Epoch 783/800\n",
      "11/11 [==============================] - 1s 49ms/step - loss: 0.0145 - dice_coef: 0.6040 - val_loss: 0.0078 - val_dice_coef: 0.7350\n",
      "Epoch 784/800\n",
      "11/11 [==============================] - 1s 49ms/step - loss: 0.0150 - dice_coef: 0.6005 - val_loss: 0.0077 - val_dice_coef: 0.7355\n",
      "Epoch 785/800\n"
     ]
    },
    {
     "name": "stdout",
     "output_type": "stream",
     "text": [
      "11/11 [==============================] - 1s 48ms/step - loss: 0.0152 - dice_coef: 0.6015 - val_loss: 0.0078 - val_dice_coef: 0.7349\n",
      "Epoch 786/800\n",
      "11/11 [==============================] - 1s 48ms/step - loss: 0.0157 - dice_coef: 0.6025 - val_loss: 0.0076 - val_dice_coef: 0.7394\n",
      "Epoch 787/800\n",
      "11/11 [==============================] - 1s 49ms/step - loss: 0.0145 - dice_coef: 0.6013 - val_loss: 0.0079 - val_dice_coef: 0.7335\n",
      "Epoch 788/800\n",
      "11/11 [==============================] - 1s 48ms/step - loss: 0.0143 - dice_coef: 0.6029 - val_loss: 0.0077 - val_dice_coef: 0.7323\n",
      "Epoch 789/800\n",
      "11/11 [==============================] - 1s 49ms/step - loss: 0.0147 - dice_coef: 0.6091 - val_loss: 0.0077 - val_dice_coef: 0.7377\n",
      "Epoch 790/800\n",
      "11/11 [==============================] - 1s 49ms/step - loss: 0.0145 - dice_coef: 0.6054 - val_loss: 0.0076 - val_dice_coef: 0.7383\n",
      "Epoch 791/800\n",
      "11/11 [==============================] - 1s 48ms/step - loss: 0.0149 - dice_coef: 0.6087 - val_loss: 0.0077 - val_dice_coef: 0.7364\n",
      "Epoch 792/800\n",
      "11/11 [==============================] - 1s 48ms/step - loss: 0.0146 - dice_coef: 0.6049 - val_loss: 0.0078 - val_dice_coef: 0.7327\n",
      "Epoch 793/800\n",
      "11/11 [==============================] - 1s 48ms/step - loss: 0.0145 - dice_coef: 0.6053 - val_loss: 0.0077 - val_dice_coef: 0.7341\n",
      "Epoch 794/800\n",
      "11/11 [==============================] - 1s 49ms/step - loss: 0.0146 - dice_coef: 0.6065 - val_loss: 0.0077 - val_dice_coef: 0.7369\n",
      "Epoch 795/800\n",
      "11/11 [==============================] - 1s 48ms/step - loss: 0.0154 - dice_coef: 0.6127 - val_loss: 0.0077 - val_dice_coef: 0.7350\n",
      "Epoch 796/800\n",
      "11/11 [==============================] - 1s 48ms/step - loss: 0.0147 - dice_coef: 0.6024 - val_loss: 0.0078 - val_dice_coef: 0.7335\n",
      "Epoch 797/800\n",
      "11/11 [==============================] - 1s 48ms/step - loss: 0.0149 - dice_coef: 0.6008 - val_loss: 0.0074 - val_dice_coef: 0.7436\n",
      "Epoch 798/800\n",
      "11/11 [==============================] - 1s 48ms/step - loss: 0.0146 - dice_coef: 0.6013 - val_loss: 0.0078 - val_dice_coef: 0.7343\n",
      "Epoch 799/800\n",
      "11/11 [==============================] - 1s 48ms/step - loss: 0.0148 - dice_coef: 0.6015 - val_loss: 0.0077 - val_dice_coef: 0.7338\n",
      "Epoch 800/800\n",
      "11/11 [==============================] - 1s 51ms/step - loss: 0.0146 - dice_coef: 0.6105 - val_loss: 0.0077 - val_dice_coef: 0.7349\n"
     ]
    }
   ],
   "source": [
    "batch_size=32\n",
    "hist = model.fit_generator(my_generator(x_train, y_train, batch_size),\n",
    "                           steps_per_epoch = int(x_train.shape[0]/batch_size)+1,\n",
    "                           validation_data = (x_val, y_val),\n",
    "                           epochs=800, \n",
    "                           callbacks = [weight_saver])\n",
    "                           #callbacks = [weight_saver, annealer]) #this does not work!!\n",
    "                           #callbacks = callbacks)"
   ]
  },
  {
   "cell_type": "markdown",
   "metadata": {
    "_cell_guid": "f7adc85e-b87d-dc30-2a07-ec882982f13a"
   },
   "source": [
    "## Evaluate"
   ]
  },
  {
   "cell_type": "code",
   "execution_count": 39,
   "metadata": {
    "_cell_guid": "58dcc781-74ea-d49b-2d6a-996057a8409a"
   },
   "outputs": [],
   "source": [
    "#model.load_weights('../../models/save_lung_256_300k_50.h5')\n",
    "model.load_weights('../../models/save_syn64_best.h5')"
   ]
  },
  {
   "cell_type": "code",
   "execution_count": 63,
   "metadata": {},
   "outputs": [
    {
     "data": {
      "image/png": "[encoded data removed]",
      "text/plain": [
       "<Figure size 576x360 with 1 Axes>"
      ]
     },
     "metadata": {
      "needs_background": "light"
     },
     "output_type": "display_data"
    }
   ],
   "source": [
    "plt.rcParams[\"figure.figsize\"] = (8,5)\n",
    "plt.plot(hist.history['loss'])\n",
    "plt.plot(hist.history['dice_coef'])\n",
    "plt.plot(hist.history['val_dice_coef'])\n",
    "plt.title('')\n",
    "plt.ylabel('loss,dice')\n",
    "plt.xlabel('epoch')\n",
    "plt.legend(['model loss', 'training dice','validation dice'], loc='upper left')\n",
    "plt.show()"
   ]
  },
  {
   "cell_type": "code",
   "execution_count": 69,
   "metadata": {
    "_cell_guid": "f9c5f6cb-a832-e68d-59a0-3e0a331df93b"
   },
   "outputs": [
    {
     "data": {
      "text/plain": [
       "<matplotlib.image.AxesImage at 0x3a722460>"
      ]
     },
     "execution_count": 69,
     "metadata": {},
     "output_type": "execute_result"
    },
    {
     "data": {
      "image/png": "[encoded data removed]",
      "text/plain": [
       "<Figure size 432x288 with 1 Axes>"
      ]
     },
     "metadata": {
      "needs_background": "light"
     },
     "output_type": "display_data"
    }
   ],
   "source": [
    "plt.imshow(model.predict(x_train[10].reshape(1,IMG_HEIGHT, IMG_WIDTH, 1))[0,:,:,0], cmap='gray')"
   ]
  },
  {
   "cell_type": "code",
   "execution_count": 296,
   "metadata": {},
   "outputs": [],
   "source": [
    "y_hat = model.predict(x_val)"
   ]
  },
  {
   "cell_type": "code",
   "execution_count": 300,
   "metadata": {
    "_cell_guid": "42915086-30d2-4e17-863f-a4bd29b667cf"
   },
   "outputs": [
    {
     "data": {
      "text/plain": [
       "<matplotlib.image.AxesImage at 0x3bf01070>"
      ]
     },
     "execution_count": 300,
     "metadata": {},
     "output_type": "execute_result"
    },
    {
     "data": {
      "image/png": "[encoded data removed]",
      "text/plain": [
       "<Figure size 864x432 with 3 Axes>"
      ]
     },
     "metadata": {
      "needs_background": "light"
     },
     "output_type": "display_data"
    }
   ],
   "source": [
    "N=65\n",
    "fig, ax = plt.subplots(1,3,figsize=(12,6))\n",
    "ax[0].imshow(x_val[N,:,:,0], cmap='gray')\n",
    "ax[1].imshow(y_val[N,:,:,0])\n",
    "ax[2].imshow(y_hat[N,:,:,0])"
   ]
  },
  {
   "cell_type": "markdown",
   "metadata": {
    "_cell_guid": "6b1ea203-6f3b-3c4b-aa06-972b49625207"
   },
   "source": [
    "============== TESTING ON UNKNOWN SET ================="
   ]
  },
  {
   "cell_type": "code",
   "execution_count": 70,
   "metadata": {},
   "outputs": [],
   "source": [
    "IMAGE_LIB = '../../vascus/synimages_test/'\n",
    "MASK_LIB = '../../vascus/synmasks_test/'\n",
    "IMG_HEIGHT, IMG_WIDTH = 64, 64\n",
    "SEED=42"
   ]
  },
  {
   "cell_type": "code",
   "execution_count": 71,
   "metadata": {},
   "outputs": [],
   "source": [
    "all_images = [x for x in sorted(os.listdir(IMAGE_LIB)) if x[-4:] == '.png']\n",
    "\n",
    "x_data = np.empty((len(all_images), IMG_HEIGHT, IMG_WIDTH), dtype='float32')\n",
    "for i, name in enumerate(all_images):\n",
    "    im = cv2.imread(IMAGE_LIB + name, cv2.IMREAD_UNCHANGED).astype(\"int16\").astype('float32')\n",
    "    im = cv2.resize(im, dsize=(IMG_WIDTH, IMG_HEIGHT), interpolation=cv2.INTER_LANCZOS4)\n",
    "    #some normalization so values should be between 0-1\n",
    "    diff = np.max(im) - np.min(im)\n",
    "    if(diff!=0):\n",
    "        im = (im - np.min(im)) / diff\n",
    "    else:\n",
    "        im=im/255.\n",
    "    x_data[i] = im\n",
    "\n",
    "y_data = np.empty((len(all_images), IMG_HEIGHT, IMG_WIDTH), dtype='float32')\n",
    "for i, name in enumerate(all_images):\n",
    "    im = cv2.imread(MASK_LIB + name, cv2.IMREAD_UNCHANGED).astype('float32')/255.\n",
    "    im = cv2.resize(im, dsize=(IMG_WIDTH, IMG_HEIGHT), interpolation=cv2.INTER_NEAREST)\n",
    "    y_data[i] = im"
   ]
  },
  {
   "cell_type": "code",
   "execution_count": 72,
   "metadata": {},
   "outputs": [
    {
     "data": {
      "image/png": "[encoded data removed]",
      "text/plain": [
       "<Figure size 1152x576 with 8 Axes>"
      ]
     },
     "metadata": {
      "needs_background": "light"
     },
     "output_type": "display_data"
    }
   ],
   "source": [
    "fig, ax = plt.subplots(2,4, figsize = (16,8))\n",
    "ax[0,0].imshow(x_data[13], cmap='gray')\n",
    "ax[1,0].imshow(y_data[13], cmap='gray')\n",
    "ax[0,1].imshow(x_data[14], cmap='gray')\n",
    "ax[1,1].imshow(y_data[14], cmap='gray')\n",
    "ax[0,2].imshow(x_data[15], cmap='gray')\n",
    "ax[1,2].imshow(y_data[15], cmap='gray')\n",
    "ax[0,3].imshow(x_data[16], cmap='gray')\n",
    "ax[1,3].imshow(y_data[16], cmap='gray')\n",
    "\n",
    "plt.show()"
   ]
  },
  {
   "cell_type": "code",
   "execution_count": 73,
   "metadata": {},
   "outputs": [],
   "source": [
    "x_test = x_data[:,:,:,np.newaxis]\n",
    "y_test = y_data[:,:,:,np.newaxis]\n"
   ]
  },
  {
   "cell_type": "code",
   "execution_count": 74,
   "metadata": {},
   "outputs": [
    {
     "data": {
      "text/plain": [
       "<matplotlib.image.AxesImage at 0x33022640>"
      ]
     },
     "execution_count": 74,
     "metadata": {},
     "output_type": "execute_result"
    },
    {
     "data": {
      "image/png": "[encoded data removed]",
      "text/plain": [
       "<Figure size 432x288 with 1 Axes>"
      ]
     },
     "metadata": {
      "needs_background": "light"
     },
     "output_type": "display_data"
    }
   ],
   "source": [
    "plt.imshow(model.predict(x_test[15].reshape(1,IMG_HEIGHT, IMG_WIDTH, 1))[0,:,:,0], cmap='gray')"
   ]
  },
  {
   "cell_type": "code",
   "execution_count": null,
   "metadata": {},
   "outputs": [],
   "source": []
  },
  {
   "cell_type": "markdown",
   "metadata": {},
   "source": [
    "NOW LETS SEE IF IT WORKS ON REAL DATA"
   ]
  },
  {
   "cell_type": "code",
   "execution_count": 75,
   "metadata": {},
   "outputs": [],
   "source": [
    "IMAGE_LIB = '../../lungs_ds6/norma_test/'\n",
    "SRCIMG_HEIGHT, SRCIMG_WIDTH = 256, 256"
   ]
  },
  {
   "cell_type": "code",
   "execution_count": 76,
   "metadata": {},
   "outputs": [],
   "source": [
    "all_images = [x for x in sorted(os.listdir(IMAGE_LIB)) if x[-4:] == '.jpg']\n",
    "\n",
    "x_data = np.empty((len(all_images), SRCIMG_HEIGHT, SRCIMG_WIDTH), dtype='float32')\n",
    "for i, name in enumerate(all_images):\n",
    "    im = cv2.imread(IMAGE_LIB + name, cv2.IMREAD_UNCHANGED).astype(\"uint8\")\n",
    "    im = cv2.resize(im, dsize=(SRCIMG_HEIGHT, SRCIMG_WIDTH), interpolation=cv2.INTER_LANCZOS4)\n",
    "    #some normalization so values should be between 0-1\n",
    "    diff = np.max(im) - np.min(im)\n",
    "    #print(diff)\n",
    "    if(diff>1):\n",
    "        if(diff!=0):\n",
    "            im = (im - np.min(im)) / diff\n",
    "        else:\n",
    "            im=im/255.\n",
    "            \n",
    "    x_data[i] = im\n"
   ]
  },
  {
   "cell_type": "code",
   "execution_count": 77,
   "metadata": {},
   "outputs": [
    {
     "data": {
      "text/plain": [
       "(415, 256, 256)"
      ]
     },
     "execution_count": 77,
     "metadata": {},
     "output_type": "execute_result"
    }
   ],
   "source": [
    "x_data.shape"
   ]
  },
  {
   "cell_type": "code",
   "execution_count": 78,
   "metadata": {},
   "outputs": [
    {
     "data": {
      "image/png": "[encoded data removed]",
      "text/plain": [
       "<Figure size 576x288 with 2 Axes>"
      ]
     },
     "metadata": {
      "needs_background": "light"
     },
     "output_type": "display_data"
    }
   ],
   "source": [
    "fig, ax = plt.subplots(1,2, figsize = (8,4))\n",
    "ax[0].imshow(x_data[150], cmap='gray')\n",
    "ax[1].imshow(x_data[151], cmap='gray')\n",
    "plt.show()"
   ]
  },
  {
   "cell_type": "code",
   "execution_count": 79,
   "metadata": {},
   "outputs": [
    {
     "data": {
      "text/plain": [
       "(4, 4, 64, 64)"
      ]
     },
     "execution_count": 79,
     "metadata": {},
     "output_type": "execute_result"
    }
   ],
   "source": [
    "#now lets make patches\n",
    "from patchify import patchify, unpatchify\n",
    "\n",
    "realimg = x_data[151]\n",
    "\n",
    "patches = patchify(realimg, (64,64), step=64) # split image into 2*3 small 2*2 patches.\n",
    "\n",
    "patches.shape\n"
   ]
  },
  {
   "cell_type": "code",
   "execution_count": 80,
   "metadata": {},
   "outputs": [],
   "source": [
    "im = patches[2,3,]"
   ]
  },
  {
   "cell_type": "code",
   "execution_count": 81,
   "metadata": {},
   "outputs": [
    {
     "data": {
      "image/png": "[encoded data removed]",
      "text/plain": [
       "<Figure size 720x720 with 16 Axes>"
      ]
     },
     "metadata": {
      "needs_background": "light"
     },
     "output_type": "display_data"
    }
   ],
   "source": [
    "fix, ax = plt.subplots(4,4, figsize=(10,10))\n",
    "#plt.axis('off')\n",
    "#fix.subplots_adjust(left=0, right=1, top=1, bottom=0, wspace=0, hspace=0)\n",
    "for i in range(4):\n",
    "    for j in range(4):\n",
    "        im = patches[i,j,]  \n",
    "        pred = model.predict(im.reshape(1,IMG_HEIGHT, IMG_WIDTH, 1))\n",
    "        ax[i,j].imshow(pred[0,:,:,0])\n",
    "\n",
    "plt.show()\n",
    "\n"
   ]
  },
  {
   "cell_type": "code",
   "execution_count": 82,
   "metadata": {},
   "outputs": [
    {
     "data": {
      "image/png": "[encoded data removed]",
      "text/plain": [
       "<Figure size 720x720 with 16 Axes>"
      ]
     },
     "metadata": {
      "needs_background": "light"
     },
     "output_type": "display_data"
    }
   ],
   "source": [
    "fix, ax = plt.subplots(4,4, figsize=(10,10))\n",
    "#plt.axis('off')\n",
    "fix.subplots_adjust(left=0, right=1, top=1, bottom=0, wspace=0, hspace=0)\n",
    "for i in range(4):\n",
    "    for j in range(4):\n",
    "        im = patches[i,j,]  \n",
    "        pred = model.predict(im.reshape(1,IMG_HEIGHT, IMG_WIDTH, 1))\n",
    "        ret,thresh1 = cv2.threshold(pred[0,:,:,0],0.7,1.0,cv2.THRESH_BINARY)\n",
    "        patches[i,j,] = thresh1\n",
    "        ax[i,j].imshow(thresh1)\n",
    "\n",
    "plt.show()\n"
   ]
  },
  {
   "cell_type": "code",
   "execution_count": 31,
   "metadata": {},
   "outputs": [
    {
     "data": {
      "text/plain": [
       "<matplotlib.image.AxesImage at 0x29bf1a00>"
      ]
     },
     "execution_count": 31,
     "metadata": {},
     "output_type": "execute_result"
    },
    {
     "data": {
      "image/png": "[encoded data removed]",
      "text/plain": [
       "<Figure size 432x288 with 1 Axes>"
      ]
     },
     "metadata": {
      "needs_background": "light"
     },
     "output_type": "display_data"
    }
   ],
   "source": [
    "plt.imshow(model.predict(im.reshape(1,IMG_HEIGHT, IMG_WIDTH, 1))[0,:,:,0], cmap='gray')"
   ]
  },
  {
   "cell_type": "code",
   "execution_count": null,
   "metadata": {},
   "outputs": [],
   "source": []
  },
  {
   "cell_type": "code",
   "execution_count": 32,
   "metadata": {},
   "outputs": [
    {
     "data": {
      "text/plain": [
       "(256, 256)"
      ]
     },
     "execution_count": 32,
     "metadata": {},
     "output_type": "execute_result"
    }
   ],
   "source": [
    "the_mask = unpatchify(patches, realimg.shape)\n",
    "the_mask.shape\n"
   ]
  },
  {
   "cell_type": "code",
   "execution_count": 33,
   "metadata": {},
   "outputs": [
    {
     "data": {
      "text/plain": [
       "<matplotlib.image.AxesImage at 0x38d796d0>"
      ]
     },
     "execution_count": 33,
     "metadata": {},
     "output_type": "execute_result"
    },
    {
     "data": {
      "image/png": "[encoded data removed]",
      "text/plain": [
       "<Figure size 432x288 with 1 Axes>"
      ]
     },
     "metadata": {
      "needs_background": "light"
     },
     "output_type": "display_data"
    }
   ],
   "source": [
    "plt.imshow(the_mask)"
   ]
  },
  {
   "cell_type": "code",
   "execution_count": null,
   "metadata": {},
   "outputs": [],
   "source": []
  },
  {
   "cell_type": "code",
   "execution_count": null,
   "metadata": {},
   "outputs": [],
   "source": []
  },
  {
   "cell_type": "markdown",
   "metadata": {},
   "source": [
    "=================== NOW Lets make a 3D-work ===================\n"
   ]
  },
  {
   "cell_type": "code",
   "execution_count": 244,
   "metadata": {},
   "outputs": [],
   "source": [
    "import imageio"
   ]
  },
  {
   "cell_type": "code",
   "execution_count": 245,
   "metadata": {},
   "outputs": [],
   "source": [
    "IMAGE_LIB = '../../P012/slices/'\n",
    "MASK_LIB = '../../P012/vesselmasks/'\n",
    "SRCIMG_HEIGHT, SRCIMG_WIDTH = 256, 256"
   ]
  },
  {
   "cell_type": "code",
   "execution_count": 246,
   "metadata": {},
   "outputs": [],
   "source": [
    "all_images = [x for x in sorted(os.listdir(IMAGE_LIB)) if x[-4:] == '.png']\n",
    "\n",
    "x_data = np.empty((len(all_images), SRCIMG_HEIGHT, SRCIMG_WIDTH), dtype='float32')\n",
    "for i, name in enumerate(all_images):\n",
    "    im = cv2.imread(IMAGE_LIB + name, cv2.IMREAD_UNCHANGED)\n",
    "    im = cv2.resize(im, dsize=(SRCIMG_HEIGHT, SRCIMG_WIDTH), interpolation=cv2.INTER_LANCZOS4)\n",
    "    alpha=3.3\n",
    "    beta=-280\n",
    "    im=cv2.addWeighted(im,alpha,np.zeros(im.shape, im.dtype),0,beta)\n",
    "    #some normalization so values should be between 0-1\n",
    "    diff = np.max(im) - np.min(im)\n",
    "    if(diff!=0):\n",
    "        im = (im - np.min(im)) / diff\n",
    "    else:\n",
    "        im=im/255.\n",
    "            \n",
    "    x_data[i] = im\n"
   ]
  },
  {
   "cell_type": "code",
   "execution_count": 193,
   "metadata": {},
   "outputs": [
    {
     "data": {
      "text/plain": [
       "(328, 64, 64, 1)"
      ]
     },
     "execution_count": 193,
     "metadata": {},
     "output_type": "execute_result"
    }
   ],
   "source": [
    "x_data.shape"
   ]
  },
  {
   "cell_type": "code",
   "execution_count": 248,
   "metadata": {},
   "outputs": [],
   "source": [
    "IMG_HEIGHT = 64\n",
    "IMG_WIDTH = 64\n",
    "\n",
    "def procesImage(img):\n",
    "    \n",
    "    realimg = img.copy()\n",
    "    \n",
    "    patches = patchify(realimg, (IMG_HEIGHT,IMG_WIDTH), step=IMG_WIDTH)\n",
    "    \n",
    "    for i in range(4):\n",
    "        for j in range(4):\n",
    "            im = patches[i,j,] \n",
    "            pred = model.predict(im.reshape(1,IMG_HEIGHT, IMG_WIDTH, 1))\n",
    "            ret,thresh1 = cv2.threshold(pred[0,:,:,0],0.7,1.0,cv2.THRESH_BINARY)\n",
    "            patches[i,j,] = thresh1\n",
    "    \n",
    "    return unpatchify(patches, realimg.shape)\n",
    "    "
   ]
  },
  {
   "cell_type": "code",
   "execution_count": 249,
   "metadata": {},
   "outputs": [
    {
     "name": "stdout",
     "output_type": "stream",
     "text": [
      "Images saved: 362\n"
     ]
    }
   ],
   "source": [
    "masks = np.empty((x_data.shape[0], SRCIMG_HEIGHT, SRCIMG_WIDTH), dtype='float32')\n",
    "N=170\n",
    "#plt.imshow(x_data[N], cmap='gray')\n",
    "\n",
    "i=-1\n",
    "for img in x_data:\n",
    "    i+=1\n",
    "    #print(str(realimg.shape))\n",
    "    #if(i!=N):\n",
    "    #    continue\n",
    "    #plt.imshow(img)\n",
    "    themask = procesImage(img)\n",
    "    #plt.imshow(themask)\n",
    "    if(i>99):\n",
    "        fname = \"\"+str(i);\n",
    "    elif(i>10):\n",
    "        fname = \"0\"+str(i);\n",
    "    else:\n",
    "        fname = \"00\"+str(i);\n",
    "    #print(str(np.max(themask)))\n",
    "    #plt.imshow(themask)\n",
    "    themask = 255*themask\n",
    "    themask = themask.astype(np.uint8)\n",
    "    masks[i]=themask\n",
    "    imageio.imwrite(MASK_LIB+\"P012_\"+fname+\".png\", themask)\n",
    "    \n",
    "print(\"Images saved: \"+ str(i))\n",
    "\n"
   ]
  },
  {
   "cell_type": "code",
   "execution_count": 250,
   "metadata": {},
   "outputs": [
    {
     "data": {
      "text/plain": [
       "(363, 256, 256)"
      ]
     },
     "execution_count": 250,
     "metadata": {},
     "output_type": "execute_result"
    }
   ],
   "source": [
    "masks.shape"
   ]
  },
  {
   "cell_type": "code",
   "execution_count": 251,
   "metadata": {},
   "outputs": [
    {
     "data": {
      "text/plain": [
       "1.0"
      ]
     },
     "execution_count": 251,
     "metadata": {},
     "output_type": "execute_result"
    }
   ],
   "source": [
    "np.max(x_data)"
   ]
  },
  {
   "cell_type": "code",
   "execution_count": 252,
   "metadata": {},
   "outputs": [
    {
     "data": {
      "text/plain": [
       "255.0"
      ]
     },
     "execution_count": 252,
     "metadata": {},
     "output_type": "execute_result"
    }
   ],
   "source": [
    "np.max(masks)"
   ]
  },
  {
   "cell_type": "code",
   "execution_count": 253,
   "metadata": {},
   "outputs": [
    {
     "data": {
      "text/plain": [
       "0.0"
      ]
     },
     "execution_count": 253,
     "metadata": {},
     "output_type": "execute_result"
    }
   ],
   "source": [
    "np.min(masks)"
   ]
  },
  {
   "cell_type": "code",
   "execution_count": 254,
   "metadata": {},
   "outputs": [],
   "source": [
    "x_data = x_data-0.8\n",
    "x_data = x_data*1000\n",
    "x_data = x_data.astype(np.int16)\n"
   ]
  },
  {
   "cell_type": "code",
   "execution_count": 255,
   "metadata": {},
   "outputs": [
    {
     "data": {
      "text/plain": [
       "-800"
      ]
     },
     "execution_count": 255,
     "metadata": {},
     "output_type": "execute_result"
    }
   ],
   "source": [
    "np.min(x_data)"
   ]
  },
  {
   "cell_type": "code",
   "execution_count": 256,
   "metadata": {},
   "outputs": [],
   "source": [
    "import nibabel as nib\n",
    "\n",
    "def rotateAndSave(arr,fname):\n",
    "#we need to apply some rotations before saving\n",
    "    arr = np.swapaxes(arr,0,2)\n",
    "    arr = np.rot90(arr)\n",
    "    arr = np.rot90(arr)\n",
    "    affine = np.eye(4)\n",
    "    nifti_file = nib.Nifti1Image(arr,affine)\n",
    "\n",
    "    nib.save(nifti_file, fname)\n",
    "    "
   ]
  },
  {
   "cell_type": "code",
   "execution_count": 257,
   "metadata": {},
   "outputs": [],
   "source": [
    "rotateAndSave(masks,MASK_LIB +\"P012.nii\")"
   ]
  },
  {
   "cell_type": "code",
   "execution_count": 258,
   "metadata": {},
   "outputs": [],
   "source": [
    "rotateAndSave(x_data,IMAGE_LIB +\"P012.nii\")"
   ]
  },
  {
   "cell_type": "code",
   "execution_count": null,
   "metadata": {},
   "outputs": [],
   "source": []
  },
  {
   "cell_type": "code",
   "execution_count": null,
   "metadata": {},
   "outputs": [],
   "source": []
  },
  {
   "cell_type": "code",
   "execution_count": 111,
   "metadata": {},
   "outputs": [
    {
     "data": {
      "text/plain": [
       "(512, 512, 363)"
      ]
     },
     "execution_count": 111,
     "metadata": {},
     "output_type": "execute_result"
    }
   ],
   "source": [
    "inputfile=\"../../P012/slices/P012.nii\"\n",
    "\n",
    "# set fn as your 4d nifti file\n",
    "nii_original_scan = nib.load(inputfile).get_fdata()\n",
    "nii_original_scan.shape\n",
    "\n"
   ]
  },
  {
   "cell_type": "code",
   "execution_count": null,
   "metadata": {},
   "outputs": [],
   "source": [
    "check_orientation(ct_image, ct_arr)"
   ]
  },
  {
   "cell_type": "markdown",
   "metadata": {},
   "source": [
    "================== ROC-AUC??? ================="
   ]
  },
  {
   "cell_type": "code",
   "execution_count": 246,
   "metadata": {},
   "outputs": [],
   "source": [
    "from sklearn.metrics import roc_curve, auc, roc_auc_score"
   ]
  },
  {
   "cell_type": "code",
   "execution_count": 235,
   "metadata": {},
   "outputs": [
    {
     "data": {
      "text/plain": [
       "(31, 64, 64)"
      ]
     },
     "execution_count": 235,
     "metadata": {},
     "output_type": "execute_result"
    }
   ],
   "source": [
    "y_data.shape"
   ]
  },
  {
   "cell_type": "code",
   "execution_count": 231,
   "metadata": {},
   "outputs": [
    {
     "data": {
      "text/plain": [
       "(31, 64, 64, 1)"
      ]
     },
     "execution_count": 231,
     "metadata": {},
     "output_type": "execute_result"
    }
   ],
   "source": [
    "x_test.shape"
   ]
  },
  {
   "cell_type": "code",
   "execution_count": 232,
   "metadata": {},
   "outputs": [],
   "source": [
    "y_pred = model.predict(x_test)"
   ]
  },
  {
   "cell_type": "code",
   "execution_count": 233,
   "metadata": {},
   "outputs": [],
   "source": [
    "y_true = []\n",
    "y_prd = []\n",
    "\n",
    "for img in y_data:\n",
    "#  pred = model(img)  # get prediction for each pixel in the image\n",
    "    y_true.append(img.flatten())  # flatten all targets\n",
    "#  y_pred.append(pred.to_numpy().flatten())  # flatten all predictions\n",
    "for img in y_pred:\n",
    "#  pred = model(img)  # get prediction for each pixel in the image\n",
    "    y_prd.append(img.flatten())  # flatten all targets\n",
    "#  y_pred.append(pred.to_numpy().flatten())  # flatten all predictions"
   ]
  },
  {
   "cell_type": "code",
   "execution_count": 243,
   "metadata": {},
   "outputs": [],
   "source": [
    "# concatenate all predictions and targets:\n",
    "y_true = np.concatenate(y_true, axis=0)\n",
    "y_prd = np.concatenate(y_prd, axis=0)\n",
    "# copte the ROC curve\n",
    "fpr, tpr, thresholds = metrics.roc_curve(y_true, y_prd)\n"
   ]
  },
  {
   "cell_type": "code",
   "execution_count": 247,
   "metadata": {},
   "outputs": [
    {
     "data": {
      "image/png": "[encoded data removed]",
      "text/plain": [
       "<Figure size 432x288 with 1 Axes>"
      ]
     },
     "metadata": {
      "needs_background": "light"
     },
     "output_type": "display_data"
    }
   ],
   "source": [
    "aucf = auc(fpr, tpr)\n",
    "\n",
    "plt.figure(1)\n",
    "plt.plot([0, 1], [0, 1], 'k--')\n",
    "plt.plot(fpr, tpr, label='Our model (area = {:.3f})'.format(aucf))\n",
    "#plt.plot(fpr_rf, tpr_rf, label='RF (area = {:.3f})'.format(auc_rf))\n",
    "plt.xlabel('False positive rate')\n",
    "plt.ylabel('True positive rate')\n",
    "plt.title('Binary classification')\n",
    "plt.legend(loc='best')\n",
    "plt.show()"
   ]
  },
  {
   "cell_type": "code",
   "execution_count": null,
   "metadata": {},
   "outputs": [],
   "source": []
  }
 ],
 "metadata": {
  "_change_revision": 0,
  "_is_fork": false,
  "kernelspec": {
   "display_name": "Python 3",
   "language": "python",
   "name": "python3"
  },
  "language_info": {
   "codemirror_mode": {
    "name": "ipython",
    "version": 3
   },
   "file_extension": ".py",
   "mimetype": "text/x-python",
   "name": "python",
   "nbconvert_exporter": "python",
   "pygments_lexer": "ipython3",
   "version": "3.8.6"
  }
 },
 "nbformat": 4,
 "nbformat_minor": 4
}
