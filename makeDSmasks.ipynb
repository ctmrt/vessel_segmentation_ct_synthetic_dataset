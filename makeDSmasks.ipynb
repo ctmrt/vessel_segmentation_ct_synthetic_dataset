{
 "cells": [
  {
   "cell_type": "markdown",
   "metadata": {},
   "source": [
    "This script creates .png dataset from initial .nii pairs ./nii/PXXX.nii -> ./niimasks/PXXX_mask.nii"
   ]
  },
  {
   "cell_type": "code",
   "execution_count": 1,
   "metadata": {},
   "outputs": [],
   "source": [
    "SRCNIIDIR = \"D:/_DIAG/datasets/sklif/norma/nii/\"\n",
    "SRCMASKDIR = \"D:/_DIAG/datasets/sklif/norma/niimasks/\"\n",
    "OUTIMGDIR = \"./ds_lungseg/images5/\"\n",
    "OUTMASKDIR = \"./ds_lungseg/masks5/\""
   ]
  },
  {
   "cell_type": "code",
   "execution_count": 2,
   "metadata": {},
   "outputs": [],
   "source": [
    "import scipy, numpy, shutil, os, nibabel\n",
    "import sys, getopt\n",
    "\n",
    "import imageio\n",
    "\n",
    "\n",
    "def convertAndSave(inputfile = '',outputfile = ''):\n",
    "    \n",
    "    print('Input file is ', inputfile)\n",
    "    print('Output folder is ', outputfile)\n",
    "    ask_rotate = 'y'\n",
    "    ask_rotate_num = 270\n",
    "\n",
    "    # set fn as your 4d nifti file\n",
    "    image_array = nibabel.load(inputfile).get_fdata()\n",
    "    \n",
    "    #b = nib.load(msk)   b=b.get_fdata()   print(\"mask case_{:05d}\".format(i))   b=resize(b,(b.shape[0],128,128))   b=b[:,:,:]\n",
    "    \n",
    "    print(len(image_array.shape))\n",
    "\n",
    "    # if 4D image inputted\n",
    "    if len(image_array.shape) == 4:\n",
    "        # set 4d array dimension values\n",
    "        nx, ny, nz, nw = image_array.shape\n",
    "\n",
    "        # set destination folder\n",
    "        if not os.path.exists(outputfile):\n",
    "            os.makedirs(outputfile)\n",
    "            print(\"Created ouput directory: \" + outputfile)\n",
    "\n",
    "        print('Reading NIfTI file...')\n",
    "\n",
    "        total_volumes = image_array.shape[3]\n",
    "        total_slices = image_array.shape[2]\n",
    "\n",
    "        # iterate through volumes\n",
    "        for current_volume in range(0, total_volumes):\n",
    "            slice_counter = 0\n",
    "            # iterate through slices\n",
    "            for current_slice in range(0, total_slices):\n",
    "                #if (slice_counter % 1) == 0:\n",
    "                #here we take every 5th slice\n",
    "                if (slice_counter % 5) == 0:\n",
    "                    # rotate or no rotate\n",
    "                    if ask_rotate.lower() == 'y':\n",
    "                        if ask_rotate_num == 90 or ask_rotate_num == 180 or ask_rotate_num == 270:\n",
    "                            print('Rotating image...')\n",
    "                            if ask_rotate_num == 90:\n",
    "                                data = numpy.rot90(image_array[:, :, current_slice, current_volume])\n",
    "                            elif ask_rotate_num == 180:\n",
    "                                data = numpy.rot90(numpy.rot90(image_array[:, :, current_slice, current_volume]))\n",
    "                            elif ask_rotate_num == 270:\n",
    "                                data = numpy.rot90(numpy.rot90(numpy.rot90(image_array[:, :, current_slice, current_volume])))\n",
    "                    elif ask_rotate.lower() == 'n':\n",
    "                        data = image_array[:, :, current_slice, current_volume]\n",
    "                      \n",
    "                    #alternate slices and save as png\n",
    "                    print('Saving image...')\n",
    "                    image_name = inputfile[:-4] + \"_t\" + \"{:0>3}\".format(str(current_volume+1)) + \"_z\" + \"{:0>3}\".format(str(current_slice+1))+ \".png\"\n",
    "                    imageio.imwrite(image_name, data)\n",
    "                    print('Saved.')\n",
    "\n",
    "                    #move images to folder\n",
    "                    print('Moving files...')\n",
    "                    src = image_name\n",
    "                    shutil.move(src, outputfile)\n",
    "                    slice_counter += 1\n",
    "                    print('Moved.')\n",
    "\n",
    "        print('Finished converting images')\n",
    "\n",
    "    # else if 3D image inputted\n",
    "    elif len(image_array.shape) == 3:\n",
    "        # set 4d array dimension values\n",
    "        nx, ny, nz = image_array.shape\n",
    "\n",
    "        # set destination folder\n",
    "        if not os.path.exists(outputfile):\n",
    "            os.makedirs(outputfile)\n",
    "            print(\"Created ouput directory: \" + outputfile)\n",
    "\n",
    "        print('Reading NIfTI file...')\n",
    "\n",
    "        total_slices = image_array.shape[2]\n",
    "\n",
    "        slice_counter = 0\n",
    "        # iterate through slices\n",
    "        for current_slice in range(0, total_slices):\n",
    "            # alternate slices\n",
    "            if (slice_counter % 1) == 0:\n",
    "                # rotate or no rotate\n",
    "                if ask_rotate.lower() == 'y':\n",
    "                    if ask_rotate_num == 90 or ask_rotate_num == 180 or ask_rotate_num == 270:\n",
    "                        if ask_rotate_num == 90:\n",
    "                            data = numpy.rot90(image_array[:, :, current_slice])\n",
    "                        elif ask_rotate_num == 180:\n",
    "                            data = numpy.rot90(numpy.rot90(image_array[:, :, current_slice]))\n",
    "                        elif ask_rotate_num == 270:\n",
    "                            data = numpy.rot90(numpy.rot90(numpy.rot90(image_array[:, :, current_slice])))\n",
    "                elif ask_rotate.lower() == 'n':\n",
    "                    data = image_array[:, :, current_slice]\n",
    "\n",
    "                #alternate slices and save as png\n",
    "                if (slice_counter % 1) == 0:\n",
    "                    print('Saving image...')\n",
    "                    image_name = inputfile[:-4] + \"_z\" + \"{:0>3}\".format(str(current_slice+1))+ \".png\"\n",
    "\n",
    "                    #remove \"mask\" from the name\n",
    "                    image_name = image_name.replace('_mask', '')\n",
    "\n",
    "                    imageio.imwrite(image_name, data)\n",
    "                    print('Saved.')\n",
    "\n",
    "                    #move images to folder\n",
    "                    print('Moving image...')\n",
    "                    src = image_name\n",
    "                    shutil.move(src, outputfile)\n",
    "                    slice_counter += 1\n",
    "                    print('Moved.')\n",
    "\n",
    "        print('Finished converting images')\n",
    "    else:\n",
    "        print('Not a 3D or 4D Image. Please try again.')\n",
    "\n"
   ]
  },
  {
   "cell_type": "code",
   "execution_count": 3,
   "metadata": {},
   "outputs": [],
   "source": [
    "pname=\"P012\"\n",
    "#pname=\"P019\" #blank\n",
    "#pname=\"P029\"\n",
    "#pname=\"P044\"\n",
    "#pname=\"P050\"\n",
    "#pname=\"P051\"\n",
    "#pname=\"P053\"\n",
    "#pname=\"P056\"\n",
    "#pname=\"P061\"\n",
    "#pname=\"P073\"\n",
    "#pname=\"P076\""
   ]
  },
  {
   "cell_type": "code",
   "execution_count": 4,
   "metadata": {},
   "outputs": [
    {
     "name": "stdout",
     "output_type": "stream",
     "text": [
      "Input file is  D:/_DIAG/datasets/sklif/norma/nii/P012.nii\n",
      "Output folder is  ./ds_lungseg/images5/\n"
     ]
    },
    {
     "name": "stderr",
     "output_type": "stream",
     "text": [
      "Lossy conversion from float64 to uint8. Range [-2048.0, 1314.0]. Convert image to uint8 prior to saving to suppress this warning.\n"
     ]
    },
    {
     "name": "stdout",
     "output_type": "stream",
     "text": [
      "3\n",
      "Created ouput directory: ./ds_lungseg/images5/\n",
      "Reading NIfTI file...\n",
      "Saving image...\n"
     ]
    },
    {
     "name": "stderr",
     "output_type": "stream",
     "text": [
      "Lossy conversion from float64 to uint8. Range [-2048.0, 1314.0]. Convert image to uint8 prior to saving to suppress this warning.\n",
      "Lossy conversion from float64 to uint8. Range [-2048.0, 1269.0]. Convert image to uint8 prior to saving to suppress this warning.\n"
     ]
    },
    {
     "name": "stdout",
     "output_type": "stream",
     "text": [
      "Saved.\n",
      "Moving image...\n",
      "Moved.\n",
      "Saving image...\n",
      "Saved.\n",
      "Moving image...\n",
      "Moved.\n",
      "Saving image...\n"
     ]
    },
    {
     "name": "stderr",
     "output_type": "stream",
     "text": [
      "Lossy conversion from float64 to uint8. Range [-2048.0, 1281.0]. Convert image to uint8 prior to saving to suppress this warning.\n",
      "Lossy conversion from float64 to uint8. Range [-2048.0, 1266.0]. Convert image to uint8 prior to saving to suppress this warning.\n"
     ]
    },
    {
     "name": "stdout",
     "output_type": "stream",
     "text": [
      "Saved.\n",
      "Moving image...\n",
      "Moved.\n",
      "Saving image...\n",
      "Saved.\n",
      "Moving image...\n",
      "Moved.\n",
      "Saving image...\n"
     ]
    },
    {
     "name": "stderr",
     "output_type": "stream",
     "text": [
      "Lossy conversion from float64 to uint8. Range [-2048.0, 1288.0]. Convert image to uint8 prior to saving to suppress this warning.\n",
      "Lossy conversion from float64 to uint8. Range [-2048.0, 1265.0]. Convert image to uint8 prior to saving to suppress this warning.\n"
     ]
    },
    {
     "name": "stdout",
     "output_type": "stream",
     "text": [
      "Saved.\n",
      "Moving image...\n",
      "Moved.\n",
      "Saving image...\n",
      "Saved.\n",
      "Moving image...\n",
      "Moved.\n",
      "Saving image...\n"
     ]
    },
    {
     "name": "stderr",
     "output_type": "stream",
     "text": [
      "Lossy conversion from float64 to uint8. Range [-2048.0, 1210.0]. Convert image to uint8 prior to saving to suppress this warning.\n",
      "Lossy conversion from float64 to uint8. Range [-2048.0, 1206.0]. Convert image to uint8 prior to saving to suppress this warning.\n"
     ]
    },
    {
     "name": "stdout",
     "output_type": "stream",
     "text": [
      "Saved.\n",
      "Moving image...\n",
      "Moved.\n",
      "Saving image...\n",
      "Saved.\n",
      "Moving image...\n",
      "Moved.\n",
      "Saving image...\n"
     ]
    },
    {
     "name": "stderr",
     "output_type": "stream",
     "text": [
      "Lossy conversion from float64 to uint8. Range [-2048.0, 1155.0]. Convert image to uint8 prior to saving to suppress this warning.\n"
     ]
    },
    {
     "name": "stdout",
     "output_type": "stream",
     "text": [
      "Saved.\n",
      "Moving image...\n",
      "Moved.\n",
      "Saving image...\n",
      "Saved.\n",
      "Moving image...\n",
      "Moved."
     ]
    },
    {
     "name": "stderr",
     "output_type": "stream",
     "text": [
      "Lossy conversion from float64 to uint8. Range [-2048.0, 1120.0]. Convert image to uint8 prior to saving to suppress this warning.\n",
      "Lossy conversion from float64 to uint8. Range [-2048.0, 1130.0]. Convert image to uint8 prior to saving to suppress this warning.\n"
     ]
    },
    {
     "name": "stdout",
     "output_type": "stream",
     "text": [
      "\n",
      "Saving image...\n",
      "Saved.\n",
      "Moving image...\n",
      "Moved.\n",
      "Saving image...\n"
     ]
    },
    {
     "name": "stderr",
     "output_type": "stream",
     "text": [
      "Lossy conversion from float64 to uint8. Range [-2048.0, 1151.0]. Convert image to uint8 prior to saving to suppress this warning.\n",
      "Lossy conversion from float64 to uint8. Range [-2048.0, 1174.0]. Convert image to uint8 prior to saving to suppress this warning.\n"
     ]
    },
    {
     "name": "stdout",
     "output_type": "stream",
     "text": [
      "Saved.\n",
      "Moving image...\n",
      "Moved.\n",
      "Saving image...\n",
      "Saved.\n",
      "Moving image...\n",
      "Moved.\n",
      "Saving image...\n"
     ]
    },
    {
     "name": "stderr",
     "output_type": "stream",
     "text": [
      "Lossy conversion from float64 to uint8. Range [-2048.0, 1207.0]. Convert image to uint8 prior to saving to suppress this warning.\n",
      "Lossy conversion from float64 to uint8. Range [-2048.0, 1253.0]. Convert image to uint8 prior to saving to suppress this warning.\n"
     ]
    },
    {
     "name": "stdout",
     "output_type": "stream",
     "text": [
      "Saved.\n",
      "Moving image...\n",
      "Moved.\n",
      "Saving image...\n",
      "Saved.\n",
      "Moving image...\n",
      "Moved.\n",
      "Saving image...\n"
     ]
    },
    {
     "name": "stderr",
     "output_type": "stream",
     "text": [
      "Lossy conversion from float64 to uint8. Range [-2048.0, 1254.0]. Convert image to uint8 prior to saving to suppress this warning.\n"
     ]
    },
    {
     "name": "stdout",
     "output_type": "stream",
     "text": [
      "Saved.\n",
      "Moving image...\n",
      "Moved.\n",
      "Saving image...\n",
      "Saved.\n",
      "Moving image...\n"
     ]
    },
    {
     "name": "stderr",
     "output_type": "stream",
     "text": [
      "Lossy conversion from float64 to uint8. Range [-2048.0, 1225.0]. Convert image to uint8 prior to saving to suppress this warning.\n",
      "Lossy conversion from float64 to uint8. Range [-2048.0, 1207.0]. Convert image to uint8 prior to saving to suppress this warning.\n"
     ]
    },
    {
     "name": "stdout",
     "output_type": "stream",
     "text": [
      "Moved.\n",
      "Saving image...\n",
      "Saved.\n",
      "Moving image...\n",
      "Moved.\n",
      "Saving image...\n"
     ]
    },
    {
     "name": "stderr",
     "output_type": "stream",
     "text": [
      "Lossy conversion from float64 to uint8. Range [-2048.0, 1217.0]. Convert image to uint8 prior to saving to suppress this warning.\n",
      "Lossy conversion from float64 to uint8. Range [-2048.0, 1141.0]. Convert image to uint8 prior to saving to suppress this warning.\n"
     ]
    },
    {
     "name": "stdout",
     "output_type": "stream",
     "text": [
      "Saved.\n",
      "Moving image...\n",
      "Moved.\n",
      "Saving image...\n",
      "Saved.\n",
      "Moving image...\n",
      "Moved.\n",
      "Saving image...\n"
     ]
    },
    {
     "name": "stderr",
     "output_type": "stream",
     "text": [
      "Lossy conversion from float64 to uint8. Range [-2048.0, 1083.0]. Convert image to uint8 prior to saving to suppress this warning.\n",
      "Lossy conversion from float64 to uint8. Range [-2048.0, 1083.0]. Convert image to uint8 prior to saving to suppress this warning.\n"
     ]
    },
    {
     "name": "stdout",
     "output_type": "stream",
     "text": [
      "Saved.\n",
      "Moving image...\n",
      "Moved.\n",
      "Saving image...\n",
      "Saved.\n",
      "Moving image...\n",
      "Moved.\n",
      "Saving image...\n"
     ]
    },
    {
     "name": "stderr",
     "output_type": "stream",
     "text": [
      "Lossy conversion from float64 to uint8. Range [-2048.0, 984.0]. Convert image to uint8 prior to saving to suppress this warning.\n",
      "Lossy conversion from float64 to uint8. Range [-2048.0, 1004.0]. Convert image to uint8 prior to saving to suppress this warning.\n"
     ]
    },
    {
     "name": "stdout",
     "output_type": "stream",
     "text": [
      "Saved.\n",
      "Moving image...\n",
      "Moved.\n",
      "Saving image...\n",
      "Saved.\n",
      "Moving image...\n",
      "Moved.\n",
      "Saving image...\n"
     ]
    },
    {
     "name": "stderr",
     "output_type": "stream",
     "text": [
      "Lossy conversion from float64 to uint8. Range [-2048.0, 1084.0]. Convert image to uint8 prior to saving to suppress this warning.\n",
      "Lossy conversion from float64 to uint8. Range [-2048.0, 1094.0]. Convert image to uint8 prior to saving to suppress this warning.\n"
     ]
    },
    {
     "name": "stdout",
     "output_type": "stream",
     "text": [
      "Saved.\n",
      "Moving image...\n",
      "Moved.\n",
      "Saving image...\n",
      "Saved.\n",
      "Moving image...\n",
      "Moved.\n",
      "Saving image...\n"
     ]
    },
    {
     "name": "stderr",
     "output_type": "stream",
     "text": [
      "Lossy conversion from float64 to uint8. Range [-2048.0, 1045.0]. Convert image to uint8 prior to saving to suppress this warning.\n",
      "Lossy conversion from float64 to uint8. Range [-2048.0, 1125.0]. Convert image to uint8 prior to saving to suppress this warning.\n"
     ]
    },
    {
     "name": "stdout",
     "output_type": "stream",
     "text": [
      "Saved.\n",
      "Moving image...\n",
      "Moved.\n",
      "Saving image...\n",
      "Saved.\n",
      "Moving image...\n",
      "Moved.\n",
      "Saving image...\n"
     ]
    },
    {
     "name": "stderr",
     "output_type": "stream",
     "text": [
      "Lossy conversion from float64 to uint8. Range [-2048.0, 1131.0]. Convert image to uint8 prior to saving to suppress this warning.\n",
      "Lossy conversion from float64 to uint8. Range [-2048.0, 1092.0]. Convert image to uint8 prior to saving to suppress this warning.\n"
     ]
    },
    {
     "name": "stdout",
     "output_type": "stream",
     "text": [
      "Saved.\n",
      "Moving image...\n",
      "Moved.\n",
      "Saving image...\n",
      "Saved.\n",
      "Moving image...\n",
      "Moved.\n",
      "Saving image...\n"
     ]
    },
    {
     "name": "stderr",
     "output_type": "stream",
     "text": [
      "Lossy conversion from float64 to uint8. Range [-2048.0, 1157.0]. Convert image to uint8 prior to saving to suppress this warning.\n",
      "Lossy conversion from float64 to uint8. Range [-2048.0, 1214.0]. Convert image to uint8 prior to saving to suppress this warning.\n"
     ]
    },
    {
     "name": "stdout",
     "output_type": "stream",
     "text": [
      "Saved.\n",
      "Moving image...\n",
      "Moved.\n",
      "Saving image...\n",
      "Saved.\n",
      "Moving image...\n",
      "Moved.\n",
      "Saving image...\n"
     ]
    },
    {
     "name": "stderr",
     "output_type": "stream",
     "text": [
      "Lossy conversion from float64 to uint8. Range [-2048.0, 1289.0]. Convert image to uint8 prior to saving to suppress this warning.\n",
      "Lossy conversion from float64 to uint8. Range [-2048.0, 1272.0]. Convert image to uint8 prior to saving to suppress this warning.\n"
     ]
    },
    {
     "name": "stdout",
     "output_type": "stream",
     "text": [
      "Saved.\n",
      "Moving image...\n",
      "Moved.\n",
      "Saving image...\n",
      "Saved.\n",
      "Moving image...\n",
      "Moved.\n",
      "Saving image...\n"
     ]
    },
    {
     "name": "stderr",
     "output_type": "stream",
     "text": [
      "Lossy conversion from float64 to uint8. Range [-2048.0, 1152.0]. Convert image to uint8 prior to saving to suppress this warning.\n",
      "Lossy conversion from float64 to uint8. Range [-2048.0, 1084.0]. Convert image to uint8 prior to saving to suppress this warning.\n"
     ]
    },
    {
     "name": "stdout",
     "output_type": "stream",
     "text": [
      "Saved.\n",
      "Moving image...\n",
      "Moved.\n",
      "Saving image...\n",
      "Saved.\n",
      "Moving image...\n",
      "Moved.\n",
      "Saving image...\n"
     ]
    },
    {
     "name": "stderr",
     "output_type": "stream",
     "text": [
      "Lossy conversion from float64 to uint8. Range [-2048.0, 1095.0]. Convert image to uint8 prior to saving to suppress this warning.\n",
      "Lossy conversion from float64 to uint8. Range [-2048.0, 1288.0]. Convert image to uint8 prior to saving to suppress this warning.\n"
     ]
    },
    {
     "name": "stdout",
     "output_type": "stream",
     "text": [
      "Saved.\n",
      "Moving image...\n",
      "Moved.\n",
      "Saving image...\n",
      "Saved.\n",
      "Moving image...\n",
      "Moved.\n",
      "Saving image...\n"
     ]
    },
    {
     "name": "stderr",
     "output_type": "stream",
     "text": [
      "Lossy conversion from float64 to uint8. Range [-2048.0, 1250.0]. Convert image to uint8 prior to saving to suppress this warning.\n",
      "Lossy conversion from float64 to uint8. Range [-2048.0, 1252.0]. Convert image to uint8 prior to saving to suppress this warning.\n"
     ]
    },
    {
     "name": "stdout",
     "output_type": "stream",
     "text": [
      "Saved.\n",
      "Moving image...\n",
      "Moved.\n",
      "Saving image...\n",
      "Saved.\n",
      "Moving image...\n",
      "Moved.\n",
      "Saving image...\n"
     ]
    },
    {
     "name": "stderr",
     "output_type": "stream",
     "text": [
      "Lossy conversion from float64 to uint8. Range [-2048.0, 1175.0]. Convert image to uint8 prior to saving to suppress this warning.\n",
      "Lossy conversion from float64 to uint8. Range [-2048.0, 1103.0]. Convert image to uint8 prior to saving to suppress this warning.\n"
     ]
    },
    {
     "name": "stdout",
     "output_type": "stream",
     "text": [
      "Saved.\n",
      "Moving image...\n",
      "Moved.\n",
      "Saving image...\n",
      "Saved.\n",
      "Moving image...\n",
      "Moved.\n",
      "Saving image...\n"
     ]
    },
    {
     "name": "stderr",
     "output_type": "stream",
     "text": [
      "Lossy conversion from float64 to uint8. Range [-2048.0, 1033.0]. Convert image to uint8 prior to saving to suppress this warning.\n",
      "Lossy conversion from float64 to uint8. Range [-2048.0, 990.0]. Convert image to uint8 prior to saving to suppress this warning.\n"
     ]
    },
    {
     "name": "stdout",
     "output_type": "stream",
     "text": [
      "Saved.\n",
      "Moving image...\n",
      "Moved.\n",
      "Saving image...\n",
      "Saved.\n",
      "Moving image...\n",
      "Moved.\n",
      "Saving image...\n"
     ]
    },
    {
     "name": "stderr",
     "output_type": "stream",
     "text": [
      "Lossy conversion from float64 to uint8. Range [-2048.0, 1026.0]. Convert image to uint8 prior to saving to suppress this warning.\n",
      "Lossy conversion from float64 to uint8. Range [-2048.0, 994.0]. Convert image to uint8 prior to saving to suppress this warning.\n"
     ]
    },
    {
     "name": "stdout",
     "output_type": "stream",
     "text": [
      "Saved.\n",
      "Moving image...\n",
      "Moved.\n",
      "Saving image...\n",
      "Saved.\n",
      "Moving image...\n",
      "Moved.\n",
      "Saving image...\n"
     ]
    },
    {
     "name": "stderr",
     "output_type": "stream",
     "text": [
      "Lossy conversion from float64 to uint8. Range [-2048.0, 914.0]. Convert image to uint8 prior to saving to suppress this warning.\n",
      "Lossy conversion from float64 to uint8. Range [-2048.0, 944.0]. Convert image to uint8 prior to saving to suppress this warning.\n"
     ]
    },
    {
     "name": "stdout",
     "output_type": "stream",
     "text": [
      "Saved.\n",
      "Moving image...\n",
      "Moved.\n",
      "Saving image...\n",
      "Saved.\n",
      "Moving image...\n",
      "Moved.\n",
      "Saving image...\n"
     ]
    },
    {
     "name": "stderr",
     "output_type": "stream",
     "text": [
      "Lossy conversion from float64 to uint8. Range [-2048.0, 893.0]. Convert image to uint8 prior to saving to suppress this warning.\n",
      "Lossy conversion from float64 to uint8. Range [-2048.0, 902.0]. Convert image to uint8 prior to saving to suppress this warning.\n"
     ]
    },
    {
     "name": "stdout",
     "output_type": "stream",
     "text": [
      "Saved.\n",
      "Moving image...\n",
      "Moved.\n",
      "Saving image...\n",
      "Saved.\n",
      "Moving image...\n",
      "Moved.\n",
      "Saving image...\n"
     ]
    },
    {
     "name": "stderr",
     "output_type": "stream",
     "text": [
      "Lossy conversion from float64 to uint8. Range [-2048.0, 997.0]. Convert image to uint8 prior to saving to suppress this warning.\n",
      "Lossy conversion from float64 to uint8. Range [-2048.0, 1034.0]. Convert image to uint8 prior to saving to suppress this warning.\n"
     ]
    },
    {
     "name": "stdout",
     "output_type": "stream",
     "text": [
      "Saved.\n",
      "Moving image...\n",
      "Moved.\n",
      "Saving image...\n",
      "Saved.\n",
      "Moving image...\n",
      "Moved.\n",
      "Saving image...\n"
     ]
    },
    {
     "name": "stderr",
     "output_type": "stream",
     "text": [
      "Lossy conversion from float64 to uint8. Range [-2048.0, 1072.0]. Convert image to uint8 prior to saving to suppress this warning.\n",
      "Lossy conversion from float64 to uint8. Range [-2048.0, 1127.0]. Convert image to uint8 prior to saving to suppress this warning.\n"
     ]
    },
    {
     "name": "stdout",
     "output_type": "stream",
     "text": [
      "Saved.\n",
      "Moving image...\n",
      "Moved.\n",
      "Saving image...\n",
      "Saved.\n",
      "Moving image...\n",
      "Moved.\n",
      "Saving image...\n"
     ]
    },
    {
     "name": "stderr",
     "output_type": "stream",
     "text": [
      "Lossy conversion from float64 to uint8. Range [-2048.0, 1113.0]. Convert image to uint8 prior to saving to suppress this warning.\n",
      "Lossy conversion from float64 to uint8. Range [-2048.0, 1087.0]. Convert image to uint8 prior to saving to suppress this warning.\n"
     ]
    },
    {
     "name": "stdout",
     "output_type": "stream",
     "text": [
      "Saved.\n",
      "Moving image...\n",
      "Moved.\n",
      "Saving image...\n",
      "Saved.\n",
      "Moving image...\n",
      "Moved.\n",
      "Saving image...\n"
     ]
    },
    {
     "name": "stderr",
     "output_type": "stream",
     "text": [
      "Lossy conversion from float64 to uint8. Range [-2048.0, 1047.0]. Convert image to uint8 prior to saving to suppress this warning.\n",
      "Lossy conversion from float64 to uint8. Range [-2048.0, 1081.0]. Convert image to uint8 prior to saving to suppress this warning.\n"
     ]
    },
    {
     "name": "stdout",
     "output_type": "stream",
     "text": [
      "Saved.\n",
      "Moving image...\n",
      "Moved.\n",
      "Saving image...\n",
      "Saved.\n",
      "Moving image...\n",
      "Moved.\n",
      "Saving image...\n"
     ]
    },
    {
     "name": "stderr",
     "output_type": "stream",
     "text": [
      "Lossy conversion from float64 to uint8. Range [-2048.0, 1082.0]. Convert image to uint8 prior to saving to suppress this warning.\n",
      "Lossy conversion from float64 to uint8. Range [-2048.0, 1126.0]. Convert image to uint8 prior to saving to suppress this warning.\n"
     ]
    },
    {
     "name": "stdout",
     "output_type": "stream",
     "text": [
      "Saved.\n",
      "Moving image...\n",
      "Moved.\n",
      "Saving image...\n",
      "Saved.\n",
      "Moving image...\n",
      "Moved.\n",
      "Saving image...\n"
     ]
    },
    {
     "name": "stderr",
     "output_type": "stream",
     "text": [
      "Lossy conversion from float64 to uint8. Range [-2048.0, 1128.0]. Convert image to uint8 prior to saving to suppress this warning.\n",
      "Lossy conversion from float64 to uint8. Range [-2048.0, 1098.0]. Convert image to uint8 prior to saving to suppress this warning.\n"
     ]
    },
    {
     "name": "stdout",
     "output_type": "stream",
     "text": [
      "Saved.\n",
      "Moving image...\n",
      "Moved.\n",
      "Saving image...\n",
      "Saved.\n",
      "Moving image...\n",
      "Moved.\n",
      "Saving image...\n"
     ]
    },
    {
     "name": "stderr",
     "output_type": "stream",
     "text": [
      "Lossy conversion from float64 to uint8. Range [-2048.0, 997.0]. Convert image to uint8 prior to saving to suppress this warning.\n",
      "Lossy conversion from float64 to uint8. Range [-2048.0, 1018.0]. Convert image to uint8 prior to saving to suppress this warning.\n"
     ]
    },
    {
     "name": "stdout",
     "output_type": "stream",
     "text": [
      "Saved.\n",
      "Moving image...\n",
      "Moved.\n",
      "Saving image...\n",
      "Saved.\n",
      "Moving image...\n",
      "Moved.\n",
      "Saving image...\n"
     ]
    },
    {
     "name": "stderr",
     "output_type": "stream",
     "text": [
      "Lossy conversion from float64 to uint8. Range [-2048.0, 1064.0]. Convert image to uint8 prior to saving to suppress this warning.\n",
      "Lossy conversion from float64 to uint8. Range [-2048.0, 1169.0]. Convert image to uint8 prior to saving to suppress this warning.\n"
     ]
    },
    {
     "name": "stdout",
     "output_type": "stream",
     "text": [
      "Saved.\n",
      "Moving image...\n",
      "Moved.\n",
      "Saving image...\n",
      "Saved.\n",
      "Moving image...\n",
      "Moved.\n",
      "Saving image...\n"
     ]
    },
    {
     "name": "stderr",
     "output_type": "stream",
     "text": [
      "Lossy conversion from float64 to uint8. Range [-2048.0, 1292.0]. Convert image to uint8 prior to saving to suppress this warning.\n",
      "Lossy conversion from float64 to uint8. Range [-2048.0, 1360.0]. Convert image to uint8 prior to saving to suppress this warning.\n"
     ]
    },
    {
     "name": "stdout",
     "output_type": "stream",
     "text": [
      "Saved.\n",
      "Moving image...\n",
      "Moved.\n",
      "Saving image...\n",
      "Saved.\n",
      "Moving image...\n",
      "Moved.\n",
      "Saving image...\n"
     ]
    },
    {
     "name": "stderr",
     "output_type": "stream",
     "text": [
      "Lossy conversion from float64 to uint8. Range [-2048.0, 1367.0]. Convert image to uint8 prior to saving to suppress this warning.\n",
      "Lossy conversion from float64 to uint8. Range [-2048.0, 1346.0]. Convert image to uint8 prior to saving to suppress this warning.\n"
     ]
    },
    {
     "name": "stdout",
     "output_type": "stream",
     "text": [
      "Saved.\n",
      "Moving image...\n",
      "Moved.\n",
      "Saving image...\n",
      "Saved.\n",
      "Moving image...\n",
      "Moved.\n",
      "Saving image...\n"
     ]
    },
    {
     "name": "stderr",
     "output_type": "stream",
     "text": [
      "Lossy conversion from float64 to uint8. Range [-2048.0, 1352.0]. Convert image to uint8 prior to saving to suppress this warning.\n",
      "Lossy conversion from float64 to uint8. Range [-2048.0, 1326.0]. Convert image to uint8 prior to saving to suppress this warning.\n"
     ]
    },
    {
     "name": "stdout",
     "output_type": "stream",
     "text": [
      "Saved.\n",
      "Moving image...\n",
      "Moved.\n",
      "Saving image...\n",
      "Saved.\n",
      "Moving image...\n",
      "Moved.\n",
      "Saving image...\n"
     ]
    },
    {
     "name": "stderr",
     "output_type": "stream",
     "text": [
      "Lossy conversion from float64 to uint8. Range [-2048.0, 1220.0]. Convert image to uint8 prior to saving to suppress this warning.\n",
      "Lossy conversion from float64 to uint8. Range [-2048.0, 1159.0]. Convert image to uint8 prior to saving to suppress this warning.\n"
     ]
    },
    {
     "name": "stdout",
     "output_type": "stream",
     "text": [
      "Saved.\n",
      "Moving image...\n",
      "Moved.\n",
      "Saving image...\n",
      "Saved.\n",
      "Moving image...\n",
      "Moved.\n",
      "Saving image...\n"
     ]
    },
    {
     "name": "stderr",
     "output_type": "stream",
     "text": [
      "Lossy conversion from float64 to uint8. Range [-2048.0, 1179.0]. Convert image to uint8 prior to saving to suppress this warning.\n",
      "Lossy conversion from float64 to uint8. Range [-2048.0, 1085.0]. Convert image to uint8 prior to saving to suppress this warning.\n"
     ]
    },
    {
     "name": "stdout",
     "output_type": "stream",
     "text": [
      "Saved.\n",
      "Moving image...\n",
      "Moved.\n",
      "Saving image...\n",
      "Saved.\n",
      "Moving image...\n",
      "Moved.\n",
      "Saving image...\n"
     ]
    },
    {
     "name": "stderr",
     "output_type": "stream",
     "text": [
      "Lossy conversion from float64 to uint8. Range [-2048.0, 1217.0]. Convert image to uint8 prior to saving to suppress this warning.\n",
      "Lossy conversion from float64 to uint8. Range [-2048.0, 1273.0]. Convert image to uint8 prior to saving to suppress this warning.\n"
     ]
    },
    {
     "name": "stdout",
     "output_type": "stream",
     "text": [
      "Saved.\n",
      "Moving image...\n",
      "Moved.\n",
      "Saving image...\n",
      "Saved.\n",
      "Moving image...\n",
      "Moved.\n",
      "Saving image...\n"
     ]
    },
    {
     "name": "stderr",
     "output_type": "stream",
     "text": [
      "Lossy conversion from float64 to uint8. Range [-2048.0, 1262.0]. Convert image to uint8 prior to saving to suppress this warning.\n",
      "Lossy conversion from float64 to uint8. Range [-2048.0, 1257.0]. Convert image to uint8 prior to saving to suppress this warning.\n"
     ]
    },
    {
     "name": "stdout",
     "output_type": "stream",
     "text": [
      "Saved.\n",
      "Moving image...\n",
      "Moved.\n",
      "Saving image...\n",
      "Saved.\n",
      "Moving image...\n",
      "Moved.\n",
      "Saving image...\n"
     ]
    },
    {
     "name": "stderr",
     "output_type": "stream",
     "text": [
      "Lossy conversion from float64 to uint8. Range [-2048.0, 1232.0]. Convert image to uint8 prior to saving to suppress this warning.\n",
      "Lossy conversion from float64 to uint8. Range [-2048.0, 1162.0]. Convert image to uint8 prior to saving to suppress this warning.\n"
     ]
    },
    {
     "name": "stdout",
     "output_type": "stream",
     "text": [
      "Saved.\n",
      "Moving image...\n",
      "Moved.\n",
      "Saving image...\n",
      "Saved.\n",
      "Moving image...\n",
      "Moved.\n",
      "Saving image...\n"
     ]
    },
    {
     "name": "stderr",
     "output_type": "stream",
     "text": [
      "Lossy conversion from float64 to uint8. Range [-2048.0, 1189.0]. Convert image to uint8 prior to saving to suppress this warning.\n",
      "Lossy conversion from float64 to uint8. Range [-2048.0, 1240.0]. Convert image to uint8 prior to saving to suppress this warning.\n"
     ]
    },
    {
     "name": "stdout",
     "output_type": "stream",
     "text": [
      "Saved.\n",
      "Moving image...\n",
      "Moved.\n",
      "Saving image...\n",
      "Saved.\n",
      "Moving image...\n",
      "Moved.\n",
      "Saving image...\n"
     ]
    },
    {
     "name": "stderr",
     "output_type": "stream",
     "text": [
      "Lossy conversion from float64 to uint8. Range [-2048.0, 1350.0]. Convert image to uint8 prior to saving to suppress this warning.\n",
      "Lossy conversion from float64 to uint8. Range [-2048.0, 1266.0]. Convert image to uint8 prior to saving to suppress this warning.\n"
     ]
    },
    {
     "name": "stdout",
     "output_type": "stream",
     "text": [
      "Saved.\n",
      "Moving image...\n",
      "Moved.\n",
      "Saving image...\n",
      "Saved.\n",
      "Moving image...\n",
      "Moved.\n",
      "Saving image...\n"
     ]
    },
    {
     "name": "stderr",
     "output_type": "stream",
     "text": [
      "Lossy conversion from float64 to uint8. Range [-2048.0, 1257.0]. Convert image to uint8 prior to saving to suppress this warning.\n",
      "Lossy conversion from float64 to uint8. Range [-2048.0, 1199.0]. Convert image to uint8 prior to saving to suppress this warning.\n"
     ]
    },
    {
     "name": "stdout",
     "output_type": "stream",
     "text": [
      "Saved.\n",
      "Moving image...\n",
      "Moved.\n",
      "Saving image...\n",
      "Saved.\n",
      "Moving image...\n",
      "Moved.\n",
      "Saving image...\n"
     ]
    },
    {
     "name": "stderr",
     "output_type": "stream",
     "text": [
      "Lossy conversion from float64 to uint8. Range [-2048.0, 1124.0]. Convert image to uint8 prior to saving to suppress this warning.\n",
      "Lossy conversion from float64 to uint8. Range [-2048.0, 1107.0]. Convert image to uint8 prior to saving to suppress this warning.\n"
     ]
    },
    {
     "name": "stdout",
     "output_type": "stream",
     "text": [
      "Saved.\n",
      "Moving image...\n",
      "Moved.\n",
      "Saving image...\n",
      "Saved.\n",
      "Moving image...\n",
      "Moved.\n",
      "Saving image...\n"
     ]
    },
    {
     "name": "stderr",
     "output_type": "stream",
     "text": [
      "Lossy conversion from float64 to uint8. Range [-2048.0, 1131.0]. Convert image to uint8 prior to saving to suppress this warning.\n",
      "Lossy conversion from float64 to uint8. Range [-2048.0, 1128.0]. Convert image to uint8 prior to saving to suppress this warning.\n"
     ]
    },
    {
     "name": "stdout",
     "output_type": "stream",
     "text": [
      "Saved.\n",
      "Moving image...\n",
      "Moved.\n",
      "Saving image...\n",
      "Saved.\n",
      "Moving image...\n",
      "Moved.\n",
      "Saving image...\n"
     ]
    },
    {
     "name": "stderr",
     "output_type": "stream",
     "text": [
      "Lossy conversion from float64 to uint8. Range [-2048.0, 1201.0]. Convert image to uint8 prior to saving to suppress this warning.\n",
      "Lossy conversion from float64 to uint8. Range [-2048.0, 1140.0]. Convert image to uint8 prior to saving to suppress this warning.\n"
     ]
    },
    {
     "name": "stdout",
     "output_type": "stream",
     "text": [
      "Saved.\n",
      "Moving image...\n",
      "Moved.\n",
      "Saving image...\n",
      "Saved.\n",
      "Moving image...\n",
      "Moved.\n",
      "Saving image...\n"
     ]
    },
    {
     "name": "stderr",
     "output_type": "stream",
     "text": [
      "Lossy conversion from float64 to uint8. Range [-2048.0, 1162.0]. Convert image to uint8 prior to saving to suppress this warning.\n",
      "Lossy conversion from float64 to uint8. Range [-2048.0, 1082.0]. Convert image to uint8 prior to saving to suppress this warning.\n"
     ]
    },
    {
     "name": "stdout",
     "output_type": "stream",
     "text": [
      "Saved.\n",
      "Moving image...\n",
      "Moved.\n",
      "Saving image...\n",
      "Saved.\n",
      "Moving image...\n",
      "Moved.\n",
      "Saving image...\n"
     ]
    },
    {
     "name": "stderr",
     "output_type": "stream",
     "text": [
      "Lossy conversion from float64 to uint8. Range [-2048.0, 1200.0]. Convert image to uint8 prior to saving to suppress this warning.\n",
      "Lossy conversion from float64 to uint8. Range [-2048.0, 1148.0]. Convert image to uint8 prior to saving to suppress this warning.\n"
     ]
    },
    {
     "name": "stdout",
     "output_type": "stream",
     "text": [
      "Saved.\n",
      "Moving image...\n",
      "Moved.\n",
      "Saving image...\n",
      "Saved.\n",
      "Moving image...\n",
      "Moved.\n",
      "Saving image...\n"
     ]
    },
    {
     "name": "stderr",
     "output_type": "stream",
     "text": [
      "Lossy conversion from float64 to uint8. Range [-2048.0, 1108.0]. Convert image to uint8 prior to saving to suppress this warning.\n",
      "Lossy conversion from float64 to uint8. Range [-2048.0, 1072.0]. Convert image to uint8 prior to saving to suppress this warning.\n"
     ]
    },
    {
     "name": "stdout",
     "output_type": "stream",
     "text": [
      "Saved.\n",
      "Moving image...\n",
      "Moved.\n",
      "Saving image...\n",
      "Saved.\n",
      "Moving image...\n",
      "Moved.\n",
      "Saving image...\n"
     ]
    },
    {
     "name": "stderr",
     "output_type": "stream",
     "text": [
      "Lossy conversion from float64 to uint8. Range [-2048.0, 1130.0]. Convert image to uint8 prior to saving to suppress this warning.\n",
      "Lossy conversion from float64 to uint8. Range [-2048.0, 1106.0]. Convert image to uint8 prior to saving to suppress this warning.\n"
     ]
    },
    {
     "name": "stdout",
     "output_type": "stream",
     "text": [
      "Saved.\n",
      "Moving image...\n",
      "Moved.\n",
      "Saving image...\n",
      "Saved.\n",
      "Moving image...\n",
      "Moved.\n",
      "Saving image...\n"
     ]
    },
    {
     "name": "stderr",
     "output_type": "stream",
     "text": [
      "Lossy conversion from float64 to uint8. Range [-2048.0, 1091.0]. Convert image to uint8 prior to saving to suppress this warning.\n",
      "Lossy conversion from float64 to uint8. Range [-2048.0, 1117.0]. Convert image to uint8 prior to saving to suppress this warning.\n"
     ]
    },
    {
     "name": "stdout",
     "output_type": "stream",
     "text": [
      "Saved.\n",
      "Moving image...\n",
      "Moved.\n",
      "Saving image...\n",
      "Saved.\n",
      "Moving image...\n",
      "Moved.\n",
      "Saving image...\n"
     ]
    },
    {
     "name": "stderr",
     "output_type": "stream",
     "text": [
      "Lossy conversion from float64 to uint8. Range [-2048.0, 1064.0]. Convert image to uint8 prior to saving to suppress this warning.\n",
      "Lossy conversion from float64 to uint8. Range [-2048.0, 1082.0]. Convert image to uint8 prior to saving to suppress this warning.\n"
     ]
    },
    {
     "name": "stdout",
     "output_type": "stream",
     "text": [
      "Saved.\n",
      "Moving image...\n",
      "Moved.\n",
      "Saving image...\n",
      "Saved.\n",
      "Moving image...\n",
      "Moved.\n",
      "Saving image...\n"
     ]
    },
    {
     "name": "stderr",
     "output_type": "stream",
     "text": [
      "Lossy conversion from float64 to uint8. Range [-2048.0, 1127.0]. Convert image to uint8 prior to saving to suppress this warning.\n",
      "Lossy conversion from float64 to uint8. Range [-2048.0, 1190.0]. Convert image to uint8 prior to saving to suppress this warning.\n"
     ]
    },
    {
     "name": "stdout",
     "output_type": "stream",
     "text": [
      "Saved.\n",
      "Moving image...\n",
      "Moved.\n",
      "Saving image...\n",
      "Saved.\n",
      "Moving image...\n",
      "Moved.\n",
      "Saving image...\n"
     ]
    },
    {
     "name": "stderr",
     "output_type": "stream",
     "text": [
      "Lossy conversion from float64 to uint8. Range [-2048.0, 1178.0]. Convert image to uint8 prior to saving to suppress this warning.\n",
      "Lossy conversion from float64 to uint8. Range [-2048.0, 1134.0]. Convert image to uint8 prior to saving to suppress this warning.\n"
     ]
    },
    {
     "name": "stdout",
     "output_type": "stream",
     "text": [
      "Saved.\n",
      "Moving image...\n",
      "Moved.\n",
      "Saving image...\n",
      "Saved.\n",
      "Moving image...\n",
      "Moved.\n",
      "Saving image...\n"
     ]
    },
    {
     "name": "stderr",
     "output_type": "stream",
     "text": [
      "Lossy conversion from float64 to uint8. Range [-2048.0, 1062.0]. Convert image to uint8 prior to saving to suppress this warning.\n",
      "Lossy conversion from float64 to uint8. Range [-2048.0, 1078.0]. Convert image to uint8 prior to saving to suppress this warning.\n"
     ]
    },
    {
     "name": "stdout",
     "output_type": "stream",
     "text": [
      "Saved.\n",
      "Moving image...\n",
      "Moved.\n",
      "Saving image...\n",
      "Saved.\n",
      "Moving image...\n",
      "Moved.\n",
      "Saving image...\n"
     ]
    },
    {
     "name": "stderr",
     "output_type": "stream",
     "text": [
      "Lossy conversion from float64 to uint8. Range [-2048.0, 1131.0]. Convert image to uint8 prior to saving to suppress this warning.\n",
      "Lossy conversion from float64 to uint8. Range [-2048.0, 1288.0]. Convert image to uint8 prior to saving to suppress this warning.\n"
     ]
    },
    {
     "name": "stdout",
     "output_type": "stream",
     "text": [
      "Saved.\n",
      "Moving image...\n",
      "Moved.\n",
      "Saving image...\n",
      "Saved.\n",
      "Moving image...\n",
      "Moved.\n",
      "Saving image...\n"
     ]
    },
    {
     "name": "stderr",
     "output_type": "stream",
     "text": [
      "Lossy conversion from float64 to uint8. Range [-2048.0, 1225.0]. Convert image to uint8 prior to saving to suppress this warning.\n",
      "Lossy conversion from float64 to uint8. Range [-2048.0, 1128.0]. Convert image to uint8 prior to saving to suppress this warning.\n"
     ]
    },
    {
     "name": "stdout",
     "output_type": "stream",
     "text": [
      "Saved.\n",
      "Moving image...\n",
      "Moved.\n",
      "Saving image...\n",
      "Saved.\n",
      "Moving image...\n",
      "Moved.\n",
      "Saving image...\n"
     ]
    },
    {
     "name": "stderr",
     "output_type": "stream",
     "text": [
      "Lossy conversion from float64 to uint8. Range [-2048.0, 1162.0]. Convert image to uint8 prior to saving to suppress this warning.\n",
      "Lossy conversion from float64 to uint8. Range [-2048.0, 1180.0]. Convert image to uint8 prior to saving to suppress this warning.\n"
     ]
    },
    {
     "name": "stdout",
     "output_type": "stream",
     "text": [
      "Saved.\n",
      "Moving image...\n",
      "Moved.\n",
      "Saving image...\n",
      "Saved.\n",
      "Moving image...\n",
      "Moved.\n",
      "Saving image...\n"
     ]
    },
    {
     "name": "stderr",
     "output_type": "stream",
     "text": [
      "Lossy conversion from float64 to uint8. Range [-2048.0, 1216.0]. Convert image to uint8 prior to saving to suppress this warning.\n",
      "Lossy conversion from float64 to uint8. Range [-2048.0, 1248.0]. Convert image to uint8 prior to saving to suppress this warning.\n"
     ]
    },
    {
     "name": "stdout",
     "output_type": "stream",
     "text": [
      "Saved.\n",
      "Moving image...\n",
      "Moved.\n",
      "Saving image...\n",
      "Saved.\n",
      "Moving image...\n",
      "Moved.\n",
      "Saving image...\n"
     ]
    },
    {
     "name": "stderr",
     "output_type": "stream",
     "text": [
      "Lossy conversion from float64 to uint8. Range [-2048.0, 1267.0]. Convert image to uint8 prior to saving to suppress this warning.\n",
      "Lossy conversion from float64 to uint8. Range [-2048.0, 1298.0]. Convert image to uint8 prior to saving to suppress this warning.\n"
     ]
    },
    {
     "name": "stdout",
     "output_type": "stream",
     "text": [
      "Saved.\n",
      "Moving image...\n",
      "Moved.\n",
      "Saving image...\n",
      "Saved.\n",
      "Moving image...\n",
      "Moved.\n",
      "Saving image...\n"
     ]
    },
    {
     "name": "stderr",
     "output_type": "stream",
     "text": [
      "Lossy conversion from float64 to uint8. Range [-2048.0, 1133.0]. Convert image to uint8 prior to saving to suppress this warning.\n",
      "Lossy conversion from float64 to uint8. Range [-2048.0, 1146.0]. Convert image to uint8 prior to saving to suppress this warning.\n"
     ]
    },
    {
     "name": "stdout",
     "output_type": "stream",
     "text": [
      "Saved.\n",
      "Moving image...\n",
      "Moved.\n",
      "Saving image...\n",
      "Saved.\n",
      "Moving image...\n",
      "Moved.\n",
      "Saving image...\n"
     ]
    },
    {
     "name": "stderr",
     "output_type": "stream",
     "text": [
      "Lossy conversion from float64 to uint8. Range [-2048.0, 1261.0]. Convert image to uint8 prior to saving to suppress this warning.\n",
      "Lossy conversion from float64 to uint8. Range [-2048.0, 1324.0]. Convert image to uint8 prior to saving to suppress this warning.\n"
     ]
    },
    {
     "name": "stdout",
     "output_type": "stream",
     "text": [
      "Saved.\n",
      "Moving image...\n",
      "Moved.\n",
      "Saving image...\n",
      "Saved.\n",
      "Moving image...\n",
      "Moved.\n",
      "Saving image...\n"
     ]
    },
    {
     "name": "stderr",
     "output_type": "stream",
     "text": [
      "Lossy conversion from float64 to uint8. Range [-2048.0, 1291.0]. Convert image to uint8 prior to saving to suppress this warning.\n",
      "Lossy conversion from float64 to uint8. Range [-2048.0, 1275.0]. Convert image to uint8 prior to saving to suppress this warning.\n"
     ]
    },
    {
     "name": "stdout",
     "output_type": "stream",
     "text": [
      "Saved.\n",
      "Moving image...\n",
      "Moved.\n",
      "Saving image...\n",
      "Saved.\n",
      "Moving image...\n",
      "Moved.\n",
      "Saving image...\n"
     ]
    },
    {
     "name": "stderr",
     "output_type": "stream",
     "text": [
      "Lossy conversion from float64 to uint8. Range [-2048.0, 1210.0]. Convert image to uint8 prior to saving to suppress this warning.\n",
      "Lossy conversion from float64 to uint8. Range [-2048.0, 1176.0]. Convert image to uint8 prior to saving to suppress this warning.\n"
     ]
    },
    {
     "name": "stdout",
     "output_type": "stream",
     "text": [
      "Saved.\n",
      "Moving image...\n",
      "Moved.\n",
      "Saving image...\n",
      "Saved.\n",
      "Moving image...\n",
      "Moved.\n",
      "Saving image...\n"
     ]
    },
    {
     "name": "stderr",
     "output_type": "stream",
     "text": [
      "Lossy conversion from float64 to uint8. Range [-2048.0, 1180.0]. Convert image to uint8 prior to saving to suppress this warning.\n",
      "Lossy conversion from float64 to uint8. Range [-2048.0, 1254.0]. Convert image to uint8 prior to saving to suppress this warning.\n"
     ]
    },
    {
     "name": "stdout",
     "output_type": "stream",
     "text": [
      "Saved.\n",
      "Moving image...\n",
      "Moved.\n",
      "Saving image...\n",
      "Saved.\n",
      "Moving image...\n",
      "Moved.\n",
      "Saving image...\n"
     ]
    },
    {
     "name": "stderr",
     "output_type": "stream",
     "text": [
      "Lossy conversion from float64 to uint8. Range [-2048.0, 1205.0]. Convert image to uint8 prior to saving to suppress this warning.\n",
      "Lossy conversion from float64 to uint8. Range [-2048.0, 1245.0]. Convert image to uint8 prior to saving to suppress this warning.\n"
     ]
    },
    {
     "name": "stdout",
     "output_type": "stream",
     "text": [
      "Saved.\n",
      "Moving image...\n",
      "Moved.\n",
      "Saving image...\n",
      "Saved.\n",
      "Moving image...\n",
      "Moved.\n",
      "Saving image...\n"
     ]
    },
    {
     "name": "stderr",
     "output_type": "stream",
     "text": [
      "Lossy conversion from float64 to uint8. Range [-2048.0, 1301.0]. Convert image to uint8 prior to saving to suppress this warning.\n",
      "Lossy conversion from float64 to uint8. Range [-2048.0, 1290.0]. Convert image to uint8 prior to saving to suppress this warning.\n"
     ]
    },
    {
     "name": "stdout",
     "output_type": "stream",
     "text": [
      "Saved.\n",
      "Moving image...\n",
      "Moved.\n",
      "Saving image...\n",
      "Saved.\n",
      "Moving image...\n",
      "Moved.\n",
      "Saving image...\n"
     ]
    },
    {
     "name": "stderr",
     "output_type": "stream",
     "text": [
      "Lossy conversion from float64 to uint8. Range [-2048.0, 1229.0]. Convert image to uint8 prior to saving to suppress this warning.\n",
      "Lossy conversion from float64 to uint8. Range [-2048.0, 1171.0]. Convert image to uint8 prior to saving to suppress this warning.\n"
     ]
    },
    {
     "name": "stdout",
     "output_type": "stream",
     "text": [
      "Saved.\n",
      "Moving image...\n",
      "Moved.\n",
      "Saving image...\n",
      "Saved.\n",
      "Moving image...\n",
      "Moved.\n",
      "Saving image...\n"
     ]
    },
    {
     "name": "stderr",
     "output_type": "stream",
     "text": [
      "Lossy conversion from float64 to uint8. Range [-2048.0, 1294.0]. Convert image to uint8 prior to saving to suppress this warning.\n",
      "Lossy conversion from float64 to uint8. Range [-2048.0, 1389.0]. Convert image to uint8 prior to saving to suppress this warning.\n"
     ]
    },
    {
     "name": "stdout",
     "output_type": "stream",
     "text": [
      "Saved.\n",
      "Moving image...\n",
      "Moved.\n",
      "Saving image...\n",
      "Saved.\n",
      "Moving image...\n",
      "Moved.\n",
      "Saving image...\n"
     ]
    },
    {
     "name": "stderr",
     "output_type": "stream",
     "text": [
      "Lossy conversion from float64 to uint8. Range [-2048.0, 1403.0]. Convert image to uint8 prior to saving to suppress this warning.\n",
      "Lossy conversion from float64 to uint8. Range [-2048.0, 1342.0]. Convert image to uint8 prior to saving to suppress this warning.\n"
     ]
    },
    {
     "name": "stdout",
     "output_type": "stream",
     "text": [
      "Saved.\n",
      "Moving image...\n",
      "Moved.\n",
      "Saving image...\n",
      "Saved.\n",
      "Moving image...\n",
      "Moved.\n",
      "Saving image...\n"
     ]
    },
    {
     "name": "stderr",
     "output_type": "stream",
     "text": [
      "Lossy conversion from float64 to uint8. Range [-2048.0, 1355.0]. Convert image to uint8 prior to saving to suppress this warning.\n",
      "Lossy conversion from float64 to uint8. Range [-2048.0, 1419.0]. Convert image to uint8 prior to saving to suppress this warning.\n"
     ]
    },
    {
     "name": "stdout",
     "output_type": "stream",
     "text": [
      "Saved.\n",
      "Moving image...\n",
      "Moved.\n",
      "Saving image...\n",
      "Saved.\n",
      "Moving image...\n",
      "Moved.\n",
      "Saving image...\n"
     ]
    },
    {
     "name": "stderr",
     "output_type": "stream",
     "text": [
      "Lossy conversion from float64 to uint8. Range [-2048.0, 1406.0]. Convert image to uint8 prior to saving to suppress this warning.\n",
      "Lossy conversion from float64 to uint8. Range [-2048.0, 1402.0]. Convert image to uint8 prior to saving to suppress this warning.\n"
     ]
    },
    {
     "name": "stdout",
     "output_type": "stream",
     "text": [
      "Saved.\n",
      "Moving image...\n",
      "Moved.\n",
      "Saving image...\n",
      "Saved.\n",
      "Moving image...\n",
      "Moved.\n",
      "Saving image...\n"
     ]
    },
    {
     "name": "stderr",
     "output_type": "stream",
     "text": [
      "Lossy conversion from float64 to uint8. Range [-2048.0, 1408.0]. Convert image to uint8 prior to saving to suppress this warning.\n",
      "Lossy conversion from float64 to uint8. Range [-2048.0, 1381.0]. Convert image to uint8 prior to saving to suppress this warning.\n"
     ]
    },
    {
     "name": "stdout",
     "output_type": "stream",
     "text": [
      "Saved.\n",
      "Moving image...\n",
      "Moved.\n",
      "Saving image...\n",
      "Saved.\n",
      "Moving image...\n",
      "Moved.\n",
      "Saving image...\n"
     ]
    },
    {
     "name": "stderr",
     "output_type": "stream",
     "text": [
      "Lossy conversion from float64 to uint8. Range [-2048.0, 1326.0]. Convert image to uint8 prior to saving to suppress this warning.\n"
     ]
    },
    {
     "name": "stdout",
     "output_type": "stream",
     "text": [
      "Saved.\n",
      "Moving image...\n",
      "Moved.\n",
      "Saving image...\n",
      "Saved."
     ]
    },
    {
     "name": "stderr",
     "output_type": "stream",
     "text": [
      "Lossy conversion from float64 to uint8. Range [-2048.0, 1353.0]. Convert image to uint8 prior to saving to suppress this warning.\n",
      "Lossy conversion from float64 to uint8. Range [-2048.0, 1252.0]. Convert image to uint8 prior to saving to suppress this warning.\n"
     ]
    },
    {
     "name": "stdout",
     "output_type": "stream",
     "text": [
      "\n",
      "Moving image...\n",
      "Moved.\n",
      "Saving image...\n",
      "Saved.\n",
      "Moving image...\n",
      "Moved.\n",
      "Saving image...\n"
     ]
    },
    {
     "name": "stderr",
     "output_type": "stream",
     "text": [
      "Lossy conversion from float64 to uint8. Range [-2048.0, 1266.0]. Convert image to uint8 prior to saving to suppress this warning.\n",
      "Lossy conversion from float64 to uint8. Range [-2048.0, 1220.0]. Convert image to uint8 prior to saving to suppress this warning.\n"
     ]
    },
    {
     "name": "stdout",
     "output_type": "stream",
     "text": [
      "Saved.\n",
      "Moving image...\n",
      "Moved.\n",
      "Saving image...\n",
      "Saved.\n",
      "Moving image...\n",
      "Moved.\n",
      "Saving image...\n"
     ]
    },
    {
     "name": "stderr",
     "output_type": "stream",
     "text": [
      "Lossy conversion from float64 to uint8. Range [-2048.0, 1258.0]. Convert image to uint8 prior to saving to suppress this warning.\n",
      "Lossy conversion from float64 to uint8. Range [-2048.0, 1163.0]. Convert image to uint8 prior to saving to suppress this warning.\n"
     ]
    },
    {
     "name": "stdout",
     "output_type": "stream",
     "text": [
      "Saved.\n",
      "Moving image...\n",
      "Moved.\n",
      "Saving image...\n",
      "Saved.\n",
      "Moving image...\n",
      "Moved.\n",
      "Saving image...\n"
     ]
    },
    {
     "name": "stderr",
     "output_type": "stream",
     "text": [
      "Lossy conversion from float64 to uint8. Range [-2048.0, 1284.0]. Convert image to uint8 prior to saving to suppress this warning.\n",
      "Lossy conversion from float64 to uint8. Range [-2048.0, 1370.0]. Convert image to uint8 prior to saving to suppress this warning.\n"
     ]
    },
    {
     "name": "stdout",
     "output_type": "stream",
     "text": [
      "Saved.\n",
      "Moving image...\n",
      "Moved.\n",
      "Saving image...\n",
      "Saved.\n",
      "Moving image...\n",
      "Moved.\n",
      "Saving image...\n"
     ]
    },
    {
     "name": "stderr",
     "output_type": "stream",
     "text": [
      "Lossy conversion from float64 to uint8. Range [-2048.0, 1335.0]. Convert image to uint8 prior to saving to suppress this warning.\n",
      "Lossy conversion from float64 to uint8. Range [-2048.0, 1252.0]. Convert image to uint8 prior to saving to suppress this warning.\n"
     ]
    },
    {
     "name": "stdout",
     "output_type": "stream",
     "text": [
      "Saved.\n",
      "Moving image...\n",
      "Moved.\n",
      "Saving image...\n",
      "Saved.\n",
      "Moving image...\n",
      "Moved.\n",
      "Saving image...\n"
     ]
    },
    {
     "name": "stderr",
     "output_type": "stream",
     "text": [
      "Lossy conversion from float64 to uint8. Range [-2048.0, 1277.0]. Convert image to uint8 prior to saving to suppress this warning.\n",
      "Lossy conversion from float64 to uint8. Range [-2048.0, 1289.0]. Convert image to uint8 prior to saving to suppress this warning.\n"
     ]
    },
    {
     "name": "stdout",
     "output_type": "stream",
     "text": [
      "Saved.\n",
      "Moving image...\n",
      "Moved.\n",
      "Saving image...\n",
      "Saved.\n",
      "Moving image...\n",
      "Moved.\n",
      "Saving image...\n"
     ]
    },
    {
     "name": "stderr",
     "output_type": "stream",
     "text": [
      "Lossy conversion from float64 to uint8. Range [-2048.0, 1247.0]. Convert image to uint8 prior to saving to suppress this warning.\n",
      "Lossy conversion from float64 to uint8. Range [-2048.0, 1275.0]. Convert image to uint8 prior to saving to suppress this warning.\n"
     ]
    },
    {
     "name": "stdout",
     "output_type": "stream",
     "text": [
      "Saved.\n",
      "Moving image...\n",
      "Moved.\n",
      "Saving image...\n",
      "Saved.\n",
      "Moving image...\n",
      "Moved.\n",
      "Saving image...\n"
     ]
    },
    {
     "name": "stderr",
     "output_type": "stream",
     "text": [
      "Lossy conversion from float64 to uint8. Range [-2048.0, 1353.0]. Convert image to uint8 prior to saving to suppress this warning.\n",
      "Lossy conversion from float64 to uint8. Range [-2048.0, 1376.0]. Convert image to uint8 prior to saving to suppress this warning.\n"
     ]
    },
    {
     "name": "stdout",
     "output_type": "stream",
     "text": [
      "Saved.\n",
      "Moving image...\n",
      "Moved.\n",
      "Saving image...\n",
      "Saved.\n",
      "Moving image...\n",
      "Moved.\n",
      "Saving image...\n"
     ]
    },
    {
     "name": "stderr",
     "output_type": "stream",
     "text": [
      "Lossy conversion from float64 to uint8. Range [-2048.0, 1332.0]. Convert image to uint8 prior to saving to suppress this warning.\n",
      "Lossy conversion from float64 to uint8. Range [-2048.0, 1317.0]. Convert image to uint8 prior to saving to suppress this warning.\n"
     ]
    },
    {
     "name": "stdout",
     "output_type": "stream",
     "text": [
      "Saved.\n",
      "Moving image...\n",
      "Moved.\n",
      "Saving image...\n",
      "Saved.\n",
      "Moving image...\n",
      "Moved.\n",
      "Saving image...\n"
     ]
    },
    {
     "name": "stderr",
     "output_type": "stream",
     "text": [
      "Lossy conversion from float64 to uint8. Range [-2048.0, 1314.0]. Convert image to uint8 prior to saving to suppress this warning.\n",
      "Lossy conversion from float64 to uint8. Range [-2048.0, 1342.0]. Convert image to uint8 prior to saving to suppress this warning.\n"
     ]
    },
    {
     "name": "stdout",
     "output_type": "stream",
     "text": [
      "Saved.\n",
      "Moving image...\n",
      "Moved.\n",
      "Saving image...\n",
      "Saved.\n",
      "Moving image...\n",
      "Moved.\n",
      "Saving image...\n"
     ]
    },
    {
     "name": "stderr",
     "output_type": "stream",
     "text": [
      "Lossy conversion from float64 to uint8. Range [-2048.0, 1384.0]. Convert image to uint8 prior to saving to suppress this warning.\n",
      "Lossy conversion from float64 to uint8. Range [-2048.0, 1370.0]. Convert image to uint8 prior to saving to suppress this warning.\n"
     ]
    },
    {
     "name": "stdout",
     "output_type": "stream",
     "text": [
      "Saved.\n",
      "Moving image...\n",
      "Moved.\n",
      "Saving image...\n",
      "Saved.\n",
      "Moving image...\n",
      "Moved.\n",
      "Saving image...\n"
     ]
    },
    {
     "name": "stderr",
     "output_type": "stream",
     "text": [
      "Lossy conversion from float64 to uint8. Range [-2048.0, 1301.0]. Convert image to uint8 prior to saving to suppress this warning.\n"
     ]
    },
    {
     "name": "stdout",
     "output_type": "stream",
     "text": [
      "Saved.\n",
      "Moving image...\n",
      "Moved.\n",
      "Saving image...\n",
      "Saved."
     ]
    },
    {
     "name": "stderr",
     "output_type": "stream",
     "text": [
      "Lossy conversion from float64 to uint8. Range [-2048.0, 1264.0]. Convert image to uint8 prior to saving to suppress this warning.\n"
     ]
    },
    {
     "name": "stdout",
     "output_type": "stream",
     "text": [
      "\n",
      "Moving image...\n",
      "Moved.\n",
      "Saving image...\n",
      "Saved.\n",
      "Moving image...\n"
     ]
    },
    {
     "name": "stderr",
     "output_type": "stream",
     "text": [
      "Lossy conversion from float64 to uint8. Range [-2048.0, 1282.0]. Convert image to uint8 prior to saving to suppress this warning.\n",
      "Lossy conversion from float64 to uint8. Range [-2048.0, 1272.0]. Convert image to uint8 prior to saving to suppress this warning.\n"
     ]
    },
    {
     "name": "stdout",
     "output_type": "stream",
     "text": [
      "Moved.\n",
      "Saving image...\n",
      "Saved.\n",
      "Moving image...\n",
      "Moved.\n",
      "Saving image...\n"
     ]
    },
    {
     "name": "stderr",
     "output_type": "stream",
     "text": [
      "Lossy conversion from float64 to uint8. Range [-2048.0, 1284.0]. Convert image to uint8 prior to saving to suppress this warning.\n",
      "Lossy conversion from float64 to uint8. Range [-2048.0, 1323.0]. Convert image to uint8 prior to saving to suppress this warning.\n"
     ]
    },
    {
     "name": "stdout",
     "output_type": "stream",
     "text": [
      "Saved.\n",
      "Moving image...\n",
      "Moved.\n",
      "Saving image...\n",
      "Saved.\n",
      "Moving image...\n",
      "Moved.\n",
      "Saving image...\n"
     ]
    },
    {
     "name": "stderr",
     "output_type": "stream",
     "text": [
      "Lossy conversion from float64 to uint8. Range [-2048.0, 1310.0]. Convert image to uint8 prior to saving to suppress this warning.\n",
      "Lossy conversion from float64 to uint8. Range [-2048.0, 1284.0]. Convert image to uint8 prior to saving to suppress this warning.\n"
     ]
    },
    {
     "name": "stdout",
     "output_type": "stream",
     "text": [
      "Saved.\n",
      "Moving image...\n",
      "Moved.\n",
      "Saving image...\n",
      "Saved.\n",
      "Moving image...\n",
      "Moved.\n",
      "Saving image...\n"
     ]
    },
    {
     "name": "stderr",
     "output_type": "stream",
     "text": [
      "Lossy conversion from float64 to uint8. Range [-2048.0, 1264.0]. Convert image to uint8 prior to saving to suppress this warning.\n",
      "Lossy conversion from float64 to uint8. Range [-2048.0, 1246.0]. Convert image to uint8 prior to saving to suppress this warning.\n"
     ]
    },
    {
     "name": "stdout",
     "output_type": "stream",
     "text": [
      "Saved.\n",
      "Moving image...\n",
      "Moved.\n",
      "Saving image...\n",
      "Saved.\n",
      "Moving image...\n",
      "Moved.\n",
      "Saving image...\n"
     ]
    },
    {
     "name": "stderr",
     "output_type": "stream",
     "text": [
      "Lossy conversion from float64 to uint8. Range [-2048.0, 1263.0]. Convert image to uint8 prior to saving to suppress this warning.\n",
      "Lossy conversion from float64 to uint8. Range [-2048.0, 1284.0]. Convert image to uint8 prior to saving to suppress this warning.\n"
     ]
    },
    {
     "name": "stdout",
     "output_type": "stream",
     "text": [
      "Saved.\n",
      "Moving image...\n",
      "Moved.\n",
      "Saving image...\n",
      "Saved.\n",
      "Moving image...\n",
      "Moved.\n",
      "Saving image...\n"
     ]
    },
    {
     "name": "stderr",
     "output_type": "stream",
     "text": [
      "Lossy conversion from float64 to uint8. Range [-2048.0, 1262.0]. Convert image to uint8 prior to saving to suppress this warning.\n",
      "Lossy conversion from float64 to uint8. Range [-2048.0, 1250.0]. Convert image to uint8 prior to saving to suppress this warning.\n"
     ]
    },
    {
     "name": "stdout",
     "output_type": "stream",
     "text": [
      "Saved.\n",
      "Moving image...\n",
      "Moved.\n",
      "Saving image...\n",
      "Saved.\n",
      "Moving image...\n",
      "Moved.\n",
      "Saving image...\n"
     ]
    },
    {
     "name": "stderr",
     "output_type": "stream",
     "text": [
      "Lossy conversion from float64 to uint8. Range [-2048.0, 1208.0]. Convert image to uint8 prior to saving to suppress this warning.\n",
      "Lossy conversion from float64 to uint8. Range [-2048.0, 1230.0]. Convert image to uint8 prior to saving to suppress this warning.\n"
     ]
    },
    {
     "name": "stdout",
     "output_type": "stream",
     "text": [
      "Saved.\n",
      "Moving image...\n",
      "Moved.\n",
      "Saving image...\n",
      "Saved.\n",
      "Moving image...\n",
      "Moved.\n",
      "Saving image...\n"
     ]
    },
    {
     "name": "stderr",
     "output_type": "stream",
     "text": [
      "Lossy conversion from float64 to uint8. Range [-2048.0, 1214.0]. Convert image to uint8 prior to saving to suppress this warning.\n",
      "Lossy conversion from float64 to uint8. Range [-2048.0, 1374.0]. Convert image to uint8 prior to saving to suppress this warning.\n"
     ]
    },
    {
     "name": "stdout",
     "output_type": "stream",
     "text": [
      "Saved.\n",
      "Moving image...\n",
      "Moved.\n",
      "Saving image...\n",
      "Saved.\n",
      "Moving image...\n",
      "Moved.\n",
      "Saving image...\n"
     ]
    },
    {
     "name": "stderr",
     "output_type": "stream",
     "text": [
      "Lossy conversion from float64 to uint8. Range [-2048.0, 1336.0]. Convert image to uint8 prior to saving to suppress this warning.\n",
      "Lossy conversion from float64 to uint8. Range [-2048.0, 1242.0]. Convert image to uint8 prior to saving to suppress this warning.\n"
     ]
    },
    {
     "name": "stdout",
     "output_type": "stream",
     "text": [
      "Saved.\n",
      "Moving image...\n",
      "Moved.\n",
      "Saving image...\n",
      "Saved.\n",
      "Moving image...\n",
      "Moved.\n",
      "Saving image...\n"
     ]
    },
    {
     "name": "stderr",
     "output_type": "stream",
     "text": [
      "Lossy conversion from float64 to uint8. Range [-2048.0, 1231.0]. Convert image to uint8 prior to saving to suppress this warning.\n",
      "Lossy conversion from float64 to uint8. Range [-2048.0, 1265.0]. Convert image to uint8 prior to saving to suppress this warning.\n"
     ]
    },
    {
     "name": "stdout",
     "output_type": "stream",
     "text": [
      "Saved.\n",
      "Moving image...\n",
      "Moved.\n",
      "Saving image...\n",
      "Saved.\n",
      "Moving image...\n",
      "Moved.\n",
      "Saving image...\n"
     ]
    },
    {
     "name": "stderr",
     "output_type": "stream",
     "text": [
      "Lossy conversion from float64 to uint8. Range [-2048.0, 1249.0]. Convert image to uint8 prior to saving to suppress this warning.\n",
      "Lossy conversion from float64 to uint8. Range [-2048.0, 1281.0]. Convert image to uint8 prior to saving to suppress this warning.\n"
     ]
    },
    {
     "name": "stdout",
     "output_type": "stream",
     "text": [
      "Saved.\n",
      "Moving image...\n",
      "Moved.\n",
      "Saving image...\n",
      "Saved.\n",
      "Moving image...\n",
      "Moved.\n",
      "Saving image...\n"
     ]
    },
    {
     "name": "stderr",
     "output_type": "stream",
     "text": [
      "Lossy conversion from float64 to uint8. Range [-2048.0, 1325.0]. Convert image to uint8 prior to saving to suppress this warning.\n",
      "Lossy conversion from float64 to uint8. Range [-2048.0, 1257.0]. Convert image to uint8 prior to saving to suppress this warning.\n"
     ]
    },
    {
     "name": "stdout",
     "output_type": "stream",
     "text": [
      "Saved.\n",
      "Moving image...\n",
      "Moved.\n",
      "Saving image...\n",
      "Saved.\n",
      "Moving image...\n",
      "Moved.\n",
      "Saving image...\n"
     ]
    },
    {
     "name": "stderr",
     "output_type": "stream",
     "text": [
      "Lossy conversion from float64 to uint8. Range [-2048.0, 1274.0]. Convert image to uint8 prior to saving to suppress this warning.\n",
      "Lossy conversion from float64 to uint8. Range [-2048.0, 1341.0]. Convert image to uint8 prior to saving to suppress this warning.\n"
     ]
    },
    {
     "name": "stdout",
     "output_type": "stream",
     "text": [
      "Saved.\n",
      "Moving image...\n",
      "Moved.\n",
      "Saving image...\n",
      "Saved.\n",
      "Moving image...\n",
      "Moved.\n",
      "Saving image...\n"
     ]
    },
    {
     "name": "stderr",
     "output_type": "stream",
     "text": [
      "Lossy conversion from float64 to uint8. Range [-2048.0, 1290.0]. Convert image to uint8 prior to saving to suppress this warning.\n",
      "Lossy conversion from float64 to uint8. Range [-2048.0, 1310.0]. Convert image to uint8 prior to saving to suppress this warning.\n"
     ]
    },
    {
     "name": "stdout",
     "output_type": "stream",
     "text": [
      "Saved.\n",
      "Moving image...\n",
      "Moved.\n",
      "Saving image...\n",
      "Saved.\n",
      "Moving image...\n",
      "Moved.\n",
      "Saving image...\n"
     ]
    },
    {
     "name": "stderr",
     "output_type": "stream",
     "text": [
      "Lossy conversion from float64 to uint8. Range [-2048.0, 1291.0]. Convert image to uint8 prior to saving to suppress this warning.\n",
      "Lossy conversion from float64 to uint8. Range [-2048.0, 1257.0]. Convert image to uint8 prior to saving to suppress this warning.\n"
     ]
    },
    {
     "name": "stdout",
     "output_type": "stream",
     "text": [
      "Saved.\n",
      "Moving image...\n",
      "Moved.\n",
      "Saving image...\n",
      "Saved.\n",
      "Moving image...\n",
      "Moved.\n",
      "Saving image...\n"
     ]
    },
    {
     "name": "stderr",
     "output_type": "stream",
     "text": [
      "Lossy conversion from float64 to uint8. Range [-2048.0, 1358.0]. Convert image to uint8 prior to saving to suppress this warning.\n",
      "Lossy conversion from float64 to uint8. Range [-2048.0, 1361.0]. Convert image to uint8 prior to saving to suppress this warning.\n"
     ]
    },
    {
     "name": "stdout",
     "output_type": "stream",
     "text": [
      "Saved.\n",
      "Moving image...\n",
      "Moved.\n",
      "Saving image...\n",
      "Saved.\n",
      "Moving image...\n",
      "Moved.\n",
      "Saving image...\n"
     ]
    },
    {
     "name": "stderr",
     "output_type": "stream",
     "text": [
      "Lossy conversion from float64 to uint8. Range [-2048.0, 1302.0]. Convert image to uint8 prior to saving to suppress this warning.\n",
      "Lossy conversion from float64 to uint8. Range [-2048.0, 1354.0]. Convert image to uint8 prior to saving to suppress this warning.\n"
     ]
    },
    {
     "name": "stdout",
     "output_type": "stream",
     "text": [
      "Saved.\n",
      "Moving image...\n",
      "Moved.\n",
      "Saving image...\n",
      "Saved.\n",
      "Moving image...\n",
      "Moved.\n",
      "Saving image...\n"
     ]
    },
    {
     "name": "stderr",
     "output_type": "stream",
     "text": [
      "Lossy conversion from float64 to uint8. Range [-2048.0, 1323.0]. Convert image to uint8 prior to saving to suppress this warning.\n"
     ]
    },
    {
     "name": "stdout",
     "output_type": "stream",
     "text": [
      "Saved.\n",
      "Moving image...\n",
      "Moved.\n",
      "Saving image...\n",
      "Saved."
     ]
    },
    {
     "name": "stderr",
     "output_type": "stream",
     "text": [
      "Lossy conversion from float64 to uint8. Range [-2048.0, 1321.0]. Convert image to uint8 prior to saving to suppress this warning.\n",
      "Lossy conversion from float64 to uint8. Range [-2048.0, 1297.0]. Convert image to uint8 prior to saving to suppress this warning.\n"
     ]
    },
    {
     "name": "stdout",
     "output_type": "stream",
     "text": [
      "\n",
      "Moving image...\n",
      "Moved.\n",
      "Saving image...\n",
      "Saved.\n",
      "Moving image...\n",
      "Moved.\n",
      "Saving image...\n"
     ]
    },
    {
     "name": "stderr",
     "output_type": "stream",
     "text": [
      "Lossy conversion from float64 to uint8. Range [-2048.0, 1274.0]. Convert image to uint8 prior to saving to suppress this warning.\n"
     ]
    },
    {
     "name": "stdout",
     "output_type": "stream",
     "text": [
      "Saved.\n",
      "Moving image...\n",
      "Moved.\n",
      "Saving image...\n",
      "Saved.\n",
      "Moving image...\n",
      "Moved.\n",
      "Saving image..."
     ]
    },
    {
     "name": "stderr",
     "output_type": "stream",
     "text": [
      "Lossy conversion from float64 to uint8. Range [-2048.0, 1290.0]. Convert image to uint8 prior to saving to suppress this warning.\n",
      "Lossy conversion from float64 to uint8. Range [-2048.0, 1255.0]. Convert image to uint8 prior to saving to suppress this warning.\n"
     ]
    },
    {
     "name": "stdout",
     "output_type": "stream",
     "text": [
      "\n",
      "Saved.\n",
      "Moving image...\n",
      "Moved.\n",
      "Saving image...\n"
     ]
    },
    {
     "name": "stderr",
     "output_type": "stream",
     "text": [
      "Lossy conversion from float64 to uint8. Range [-2048.0, 1290.0]. Convert image to uint8 prior to saving to suppress this warning.\n"
     ]
    },
    {
     "name": "stdout",
     "output_type": "stream",
     "text": [
      "Saved.\n",
      "Moving image...\n",
      "Moved.\n",
      "Saving image...\n",
      "Saved.\n",
      "Moving image...\n"
     ]
    },
    {
     "name": "stderr",
     "output_type": "stream",
     "text": [
      "Lossy conversion from float64 to uint8. Range [-2048.0, 1324.0]. Convert image to uint8 prior to saving to suppress this warning.\n",
      "Lossy conversion from float64 to uint8. Range [-2048.0, 1298.0]. Convert image to uint8 prior to saving to suppress this warning.\n"
     ]
    },
    {
     "name": "stdout",
     "output_type": "stream",
     "text": [
      "Moved.\n",
      "Saving image...\n",
      "Saved.\n",
      "Moving image...\n",
      "Moved.\n",
      "Saving image...\n"
     ]
    },
    {
     "name": "stderr",
     "output_type": "stream",
     "text": [
      "Lossy conversion from float64 to uint8. Range [-2048.0, 1287.0]. Convert image to uint8 prior to saving to suppress this warning.\n"
     ]
    },
    {
     "name": "stdout",
     "output_type": "stream",
     "text": [
      "Saved.\n",
      "Moving image...\n",
      "Moved.\n",
      "Saving image...\n",
      "Saved.\n",
      "Moving image...\n"
     ]
    },
    {
     "name": "stderr",
     "output_type": "stream",
     "text": [
      "Lossy conversion from float64 to uint8. Range [-2048.0, 1286.0]. Convert image to uint8 prior to saving to suppress this warning.\n",
      "Lossy conversion from float64 to uint8. Range [-2048.0, 1291.0]. Convert image to uint8 prior to saving to suppress this warning.\n"
     ]
    },
    {
     "name": "stdout",
     "output_type": "stream",
     "text": [
      "Moved.\n",
      "Saving image...\n",
      "Saved.\n",
      "Moving image...\n",
      "Moved.\n",
      "Saving image...\n"
     ]
    },
    {
     "name": "stderr",
     "output_type": "stream",
     "text": [
      "Lossy conversion from float64 to uint8. Range [-2048.0, 1300.0]. Convert image to uint8 prior to saving to suppress this warning.\n"
     ]
    },
    {
     "name": "stdout",
     "output_type": "stream",
     "text": [
      "Saved.\n",
      "Moving image...\n",
      "Moved.\n",
      "Saving image...\n",
      "Saved.\n",
      "Moving image...\n",
      "Moved.\n",
      "Saving image...\n"
     ]
    },
    {
     "name": "stderr",
     "output_type": "stream",
     "text": [
      "Lossy conversion from float64 to uint8. Range [-2048.0, 1341.0]. Convert image to uint8 prior to saving to suppress this warning.\n",
      "Lossy conversion from float64 to uint8. Range [-2048.0, 1263.0]. Convert image to uint8 prior to saving to suppress this warning.\n",
      "Lossy conversion from float64 to uint8. Range [-2048.0, 1239.0]. Convert image to uint8 prior to saving to suppress this warning.\n"
     ]
    },
    {
     "name": "stdout",
     "output_type": "stream",
     "text": [
      "Saved.\n",
      "Moving image...\n",
      "Moved.\n",
      "Saving image...\n",
      "Saved.\n",
      "Moving image...\n",
      "Moved.\n",
      "Saving image...\n"
     ]
    },
    {
     "name": "stderr",
     "output_type": "stream",
     "text": [
      "Lossy conversion from float64 to uint8. Range [-2048.0, 1268.0]. Convert image to uint8 prior to saving to suppress this warning.\n",
      "Lossy conversion from float64 to uint8. Range [-2048.0, 1240.0]. Convert image to uint8 prior to saving to suppress this warning.\n"
     ]
    },
    {
     "name": "stdout",
     "output_type": "stream",
     "text": [
      "Saved.\n",
      "Moving image...\n",
      "Moved.\n",
      "Saving image...\n",
      "Saved.\n",
      "Moving image...\n",
      "Moved.\n",
      "Saving image...\n"
     ]
    },
    {
     "name": "stderr",
     "output_type": "stream",
     "text": [
      "Lossy conversion from float64 to uint8. Range [-2048.0, 1253.0]. Convert image to uint8 prior to saving to suppress this warning.\n",
      "Lossy conversion from float64 to uint8. Range [-2048.0, 1254.0]. Convert image to uint8 prior to saving to suppress this warning.\n"
     ]
    },
    {
     "name": "stdout",
     "output_type": "stream",
     "text": [
      "Saved.\n",
      "Moving image...\n",
      "Moved.\n",
      "Saving image...\n",
      "Saved.\n",
      "Moving image...\n",
      "Moved.\n",
      "Saving image...\n"
     ]
    },
    {
     "name": "stderr",
     "output_type": "stream",
     "text": [
      "Lossy conversion from float64 to uint8. Range [-2048.0, 1251.0]. Convert image to uint8 prior to saving to suppress this warning.\n",
      "Lossy conversion from float64 to uint8. Range [-2048.0, 1276.0]. Convert image to uint8 prior to saving to suppress this warning.\n"
     ]
    },
    {
     "name": "stdout",
     "output_type": "stream",
     "text": [
      "Saved.\n",
      "Moving image...\n",
      "Moved.\n",
      "Saving image...\n",
      "Saved.\n",
      "Moving image...\n",
      "Moved.\n",
      "Saving image...\n"
     ]
    },
    {
     "name": "stderr",
     "output_type": "stream",
     "text": [
      "Lossy conversion from float64 to uint8. Range [-2048.0, 1277.0]. Convert image to uint8 prior to saving to suppress this warning.\n",
      "Lossy conversion from float64 to uint8. Range [-2048.0, 1283.0]. Convert image to uint8 prior to saving to suppress this warning.\n"
     ]
    },
    {
     "name": "stdout",
     "output_type": "stream",
     "text": [
      "Saved.\n",
      "Moving image...\n",
      "Moved.\n",
      "Saving image...\n",
      "Saved.\n",
      "Moving image...\n",
      "Moved.\n",
      "Saving image...\n"
     ]
    },
    {
     "name": "stderr",
     "output_type": "stream",
     "text": [
      "Lossy conversion from float64 to uint8. Range [-2048.0, 1292.0]. Convert image to uint8 prior to saving to suppress this warning.\n",
      "Lossy conversion from float64 to uint8. Range [-2048.0, 1321.0]. Convert image to uint8 prior to saving to suppress this warning.\n"
     ]
    },
    {
     "name": "stdout",
     "output_type": "stream",
     "text": [
      "Saved.\n",
      "Moving image...\n",
      "Moved.\n",
      "Saving image...\n",
      "Saved.\n",
      "Moving image...\n",
      "Moved.\n",
      "Saving image...\n"
     ]
    },
    {
     "name": "stderr",
     "output_type": "stream",
     "text": [
      "Lossy conversion from float64 to uint8. Range [-2048.0, 1309.0]. Convert image to uint8 prior to saving to suppress this warning.\n",
      "Lossy conversion from float64 to uint8. Range [-2048.0, 1311.0]. Convert image to uint8 prior to saving to suppress this warning.\n"
     ]
    },
    {
     "name": "stdout",
     "output_type": "stream",
     "text": [
      "Saved.\n",
      "Moving image...\n",
      "Moved.\n",
      "Saving image...\n",
      "Saved.\n",
      "Moving image...\n",
      "Moved.\n",
      "Saving image...\n"
     ]
    },
    {
     "name": "stderr",
     "output_type": "stream",
     "text": [
      "Lossy conversion from float64 to uint8. Range [-2048.0, 1302.0]. Convert image to uint8 prior to saving to suppress this warning.\n",
      "Lossy conversion from float64 to uint8. Range [-2048.0, 1318.0]. Convert image to uint8 prior to saving to suppress this warning.\n"
     ]
    },
    {
     "name": "stdout",
     "output_type": "stream",
     "text": [
      "Saved.\n",
      "Moving image...\n",
      "Moved.\n",
      "Saving image...\n",
      "Saved.\n",
      "Moving image...\n",
      "Moved.\n",
      "Saving image...\n"
     ]
    },
    {
     "name": "stderr",
     "output_type": "stream",
     "text": [
      "Lossy conversion from float64 to uint8. Range [-2048.0, 1319.0]. Convert image to uint8 prior to saving to suppress this warning.\n"
     ]
    },
    {
     "name": "stdout",
     "output_type": "stream",
     "text": [
      "Saved.\n",
      "Moving image...\n",
      "Moved.\n",
      "Saving image...\n",
      "Saved.\n",
      "Moving image...\n"
     ]
    },
    {
     "name": "stderr",
     "output_type": "stream",
     "text": [
      "Lossy conversion from float64 to uint8. Range [-2048.0, 1381.0]. Convert image to uint8 prior to saving to suppress this warning.\n",
      "Lossy conversion from float64 to uint8. Range [-2048.0, 1356.0]. Convert image to uint8 prior to saving to suppress this warning.\n"
     ]
    },
    {
     "name": "stdout",
     "output_type": "stream",
     "text": [
      "Moved.\n",
      "Saving image...\n",
      "Saved.\n",
      "Moving image...\n",
      "Moved.\n",
      "Saving image...\n"
     ]
    },
    {
     "name": "stderr",
     "output_type": "stream",
     "text": [
      "Lossy conversion from float64 to uint8. Range [-2048.0, 1319.0]. Convert image to uint8 prior to saving to suppress this warning.\n",
      "Lossy conversion from float64 to uint8. Range [-2048.0, 1334.0]. Convert image to uint8 prior to saving to suppress this warning.\n"
     ]
    },
    {
     "name": "stdout",
     "output_type": "stream",
     "text": [
      "Saved.\n",
      "Moving image...\n",
      "Moved.\n",
      "Saving image...\n",
      "Saved.\n",
      "Moving image...\n",
      "Moved.\n",
      "Saving image...\n"
     ]
    },
    {
     "name": "stderr",
     "output_type": "stream",
     "text": [
      "Lossy conversion from float64 to uint8. Range [-2048.0, 1340.0]. Convert image to uint8 prior to saving to suppress this warning.\n",
      "Lossy conversion from float64 to uint8. Range [-2048.0, 1356.0]. Convert image to uint8 prior to saving to suppress this warning.\n"
     ]
    },
    {
     "name": "stdout",
     "output_type": "stream",
     "text": [
      "Saved.\n",
      "Moving image...\n",
      "Moved.\n",
      "Saving image...\n",
      "Saved.\n",
      "Moving image...\n",
      "Moved.\n",
      "Saving image...\n"
     ]
    },
    {
     "name": "stderr",
     "output_type": "stream",
     "text": [
      "Lossy conversion from float64 to uint8. Range [-2048.0, 1360.0]. Convert image to uint8 prior to saving to suppress this warning.\n",
      "Lossy conversion from float64 to uint8. Range [-2048.0, 1415.0]. Convert image to uint8 prior to saving to suppress this warning.\n"
     ]
    },
    {
     "name": "stdout",
     "output_type": "stream",
     "text": [
      "Saved.\n",
      "Moving image...\n",
      "Moved.\n",
      "Saving image...\n",
      "Saved.\n",
      "Moving image...\n",
      "Moved.\n",
      "Saving image...\n"
     ]
    },
    {
     "name": "stderr",
     "output_type": "stream",
     "text": [
      "Lossy conversion from float64 to uint8. Range [-2048.0, 1387.0]. Convert image to uint8 prior to saving to suppress this warning.\n"
     ]
    },
    {
     "name": "stdout",
     "output_type": "stream",
     "text": [
      "Saved.\n",
      "Moving image...\n",
      "Moved.\n",
      "Saving image...\n",
      "Saved.\n",
      "Moving image...\n",
      "Moved.\n",
      "Saving image...\n"
     ]
    },
    {
     "name": "stderr",
     "output_type": "stream",
     "text": [
      "Lossy conversion from float64 to uint8. Range [-2048.0, 1384.0]. Convert image to uint8 prior to saving to suppress this warning.\n",
      "Lossy conversion from float64 to uint8. Range [-2048.0, 1423.0]. Convert image to uint8 prior to saving to suppress this warning.\n",
      "Lossy conversion from float64 to uint8. Range [-2048.0, 1436.0]. Convert image to uint8 prior to saving to suppress this warning.\n"
     ]
    },
    {
     "name": "stdout",
     "output_type": "stream",
     "text": [
      "Saved.\n",
      "Moving image...\n",
      "Moved.\n",
      "Saving image...\n",
      "Saved.\n",
      "Moving image...\n",
      "Moved.\n",
      "Saving image...\n"
     ]
    },
    {
     "name": "stderr",
     "output_type": "stream",
     "text": [
      "Lossy conversion from float64 to uint8. Range [-2048.0, 1448.0]. Convert image to uint8 prior to saving to suppress this warning.\n",
      "Lossy conversion from float64 to uint8. Range [-2048.0, 1470.0]. Convert image to uint8 prior to saving to suppress this warning.\n"
     ]
    },
    {
     "name": "stdout",
     "output_type": "stream",
     "text": [
      "Saved.\n",
      "Moving image...\n",
      "Moved.\n",
      "Saving image...\n",
      "Saved.\n",
      "Moving image...\n",
      "Moved.\n",
      "Saving image...\n"
     ]
    },
    {
     "name": "stderr",
     "output_type": "stream",
     "text": [
      "Lossy conversion from float64 to uint8. Range [-2048.0, 1461.0]. Convert image to uint8 prior to saving to suppress this warning.\n"
     ]
    },
    {
     "name": "stdout",
     "output_type": "stream",
     "text": [
      "Saved.\n",
      "Moving image...\n",
      "Moved.\n",
      "Saving image...\n",
      "Saved.\n",
      "Moving image...\n"
     ]
    },
    {
     "name": "stderr",
     "output_type": "stream",
     "text": [
      "Lossy conversion from float64 to uint8. Range [-2048.0, 1430.0]. Convert image to uint8 prior to saving to suppress this warning.\n",
      "Lossy conversion from float64 to uint8. Range [-2048.0, 1436.0]. Convert image to uint8 prior to saving to suppress this warning.\n"
     ]
    },
    {
     "name": "stdout",
     "output_type": "stream",
     "text": [
      "Moved.\n",
      "Saving image...\n",
      "Saved.\n",
      "Moving image...\n",
      "Moved.\n",
      "Saving image...\n"
     ]
    },
    {
     "name": "stderr",
     "output_type": "stream",
     "text": [
      "Lossy conversion from float64 to uint8. Range [-2048.0, 1412.0]. Convert image to uint8 prior to saving to suppress this warning.\n"
     ]
    },
    {
     "name": "stdout",
     "output_type": "stream",
     "text": [
      "Saved.\n",
      "Moving image...\n",
      "Moved.\n",
      "Saving image...\n",
      "Saved.\n",
      "Moving image...\n"
     ]
    },
    {
     "name": "stderr",
     "output_type": "stream",
     "text": [
      "Lossy conversion from float64 to uint8. Range [-2048.0, 1461.0]. Convert image to uint8 prior to saving to suppress this warning.\n"
     ]
    },
    {
     "name": "stdout",
     "output_type": "stream",
     "text": [
      "Moved.\n",
      "Saving image...\n",
      "Saved.\n",
      "Moving image...\n"
     ]
    },
    {
     "name": "stderr",
     "output_type": "stream",
     "text": [
      "Lossy conversion from float64 to uint8. Range [-2048.0, 1450.0]. Convert image to uint8 prior to saving to suppress this warning.\n"
     ]
    },
    {
     "name": "stdout",
     "output_type": "stream",
     "text": [
      "Moved.\n",
      "Saving image...\n",
      "Saved.\n",
      "Moving image...\n"
     ]
    },
    {
     "name": "stderr",
     "output_type": "stream",
     "text": [
      "Lossy conversion from float64 to uint8. Range [-2048.0, 1419.0]. Convert image to uint8 prior to saving to suppress this warning.\n"
     ]
    },
    {
     "name": "stdout",
     "output_type": "stream",
     "text": [
      "Moved.\n",
      "Saving image...\n",
      "Saved.\n",
      "Moving image...\n"
     ]
    },
    {
     "name": "stderr",
     "output_type": "stream",
     "text": [
      "Lossy conversion from float64 to uint8. Range [-2048.0, 1419.0]. Convert image to uint8 prior to saving to suppress this warning.\n"
     ]
    },
    {
     "name": "stdout",
     "output_type": "stream",
     "text": [
      "Moved.\n",
      "Saving image...\n",
      "Saved.\n",
      "Moving image...\n"
     ]
    },
    {
     "name": "stderr",
     "output_type": "stream",
     "text": [
      "Lossy conversion from float64 to uint8. Range [-2048.0, 1419.0]. Convert image to uint8 prior to saving to suppress this warning.\n"
     ]
    },
    {
     "name": "stdout",
     "output_type": "stream",
     "text": [
      "Moved.\n",
      "Saving image...\n",
      "Saved.\n",
      "Moving image...\n",
      "Moved.\n",
      "Saving image..."
     ]
    },
    {
     "name": "stderr",
     "output_type": "stream",
     "text": [
      "Lossy conversion from float64 to uint8. Range [-2048.0, 1428.0]. Convert image to uint8 prior to saving to suppress this warning.\n",
      "Lossy conversion from float64 to uint8. Range [-2048.0, 1413.0]. Convert image to uint8 prior to saving to suppress this warning.\n"
     ]
    },
    {
     "name": "stdout",
     "output_type": "stream",
     "text": [
      "\n",
      "Saved.\n",
      "Moving image...\n",
      "Moved.\n",
      "Saving image...\n"
     ]
    },
    {
     "name": "stderr",
     "output_type": "stream",
     "text": [
      "Lossy conversion from float64 to uint8. Range [-2048.0, 1408.0]. Convert image to uint8 prior to saving to suppress this warning.\n"
     ]
    },
    {
     "name": "stdout",
     "output_type": "stream",
     "text": [
      "Saved.\n",
      "Moving image...\n",
      "Moved.\n",
      "Saving image...\n",
      "Saved.\n",
      "Moving image...\n"
     ]
    },
    {
     "name": "stderr",
     "output_type": "stream",
     "text": [
      "Lossy conversion from float64 to uint8. Range [-2048.0, 1390.0]. Convert image to uint8 prior to saving to suppress this warning.\n",
      "Lossy conversion from float64 to uint8. Range [-2048.0, 1433.0]. Convert image to uint8 prior to saving to suppress this warning.\n"
     ]
    },
    {
     "name": "stdout",
     "output_type": "stream",
     "text": [
      "Moved.\n",
      "Saving image...\n",
      "Saved.\n",
      "Moving image...\n",
      "Moved.\n",
      "Saving image...\n"
     ]
    },
    {
     "name": "stderr",
     "output_type": "stream",
     "text": [
      "Lossy conversion from float64 to uint8. Range [-2048.0, 1419.0]. Convert image to uint8 prior to saving to suppress this warning.\n"
     ]
    },
    {
     "name": "stdout",
     "output_type": "stream",
     "text": [
      "Saved.\n",
      "Moving image...\n",
      "Moved.\n",
      "Saving image...\n",
      "Saved.\n",
      "Moving image...\n"
     ]
    },
    {
     "name": "stderr",
     "output_type": "stream",
     "text": [
      "Lossy conversion from float64 to uint8. Range [-2048.0, 1418.0]. Convert image to uint8 prior to saving to suppress this warning.\n",
      "Lossy conversion from float64 to uint8. Range [-2048.0, 1449.0]. Convert image to uint8 prior to saving to suppress this warning.\n"
     ]
    },
    {
     "name": "stdout",
     "output_type": "stream",
     "text": [
      "Moved.\n",
      "Saving image...\n",
      "Saved.\n",
      "Moving image...\n",
      "Moved.\n",
      "Saving image...\n"
     ]
    },
    {
     "name": "stderr",
     "output_type": "stream",
     "text": [
      "Lossy conversion from float64 to uint8. Range [-2048.0, 1414.0]. Convert image to uint8 prior to saving to suppress this warning.\n"
     ]
    },
    {
     "name": "stdout",
     "output_type": "stream",
     "text": [
      "Saved.\n",
      "Moving image...\n",
      "Moved.\n",
      "Saving image...\n",
      "Saved.\n",
      "Moving image...\n"
     ]
    },
    {
     "name": "stderr",
     "output_type": "stream",
     "text": [
      "Lossy conversion from float64 to uint8. Range [-2048.0, 1396.0]. Convert image to uint8 prior to saving to suppress this warning.\n",
      "Lossy conversion from float64 to uint8. Range [-2048.0, 1397.0]. Convert image to uint8 prior to saving to suppress this warning.\n"
     ]
    },
    {
     "name": "stdout",
     "output_type": "stream",
     "text": [
      "Moved.\n",
      "Saving image...\n",
      "Saved.\n",
      "Moving image...\n",
      "Moved.\n",
      "Saving image...\n"
     ]
    },
    {
     "name": "stderr",
     "output_type": "stream",
     "text": [
      "Lossy conversion from float64 to uint8. Range [-2048.0, 1397.0]. Convert image to uint8 prior to saving to suppress this warning.\n"
     ]
    },
    {
     "name": "stdout",
     "output_type": "stream",
     "text": [
      "Saved.\n",
      "Moving image...\n",
      "Moved.\n",
      "Saving image...\n",
      "Saved."
     ]
    },
    {
     "name": "stderr",
     "output_type": "stream",
     "text": [
      "Lossy conversion from float64 to uint8. Range [-2048.0, 1463.0]. Convert image to uint8 prior to saving to suppress this warning.\n"
     ]
    },
    {
     "name": "stdout",
     "output_type": "stream",
     "text": [
      "\n",
      "Moving image...\n",
      "Moved.\n",
      "Saving image...\n",
      "Saved.\n",
      "Moving image...\n"
     ]
    },
    {
     "name": "stderr",
     "output_type": "stream",
     "text": [
      "Lossy conversion from float64 to uint8. Range [-2048.0, 1438.0]. Convert image to uint8 prior to saving to suppress this warning.\n"
     ]
    },
    {
     "name": "stdout",
     "output_type": "stream",
     "text": [
      "Moved.\n",
      "Saving image...\n",
      "Saved.\n",
      "Moving image...\n",
      "Moved."
     ]
    },
    {
     "name": "stderr",
     "output_type": "stream",
     "text": [
      "Lossy conversion from float64 to uint8. Range [-2048.0, 1415.0]. Convert image to uint8 prior to saving to suppress this warning.\n"
     ]
    },
    {
     "name": "stdout",
     "output_type": "stream",
     "text": [
      "\n",
      "Saving image...\n",
      "Saved.\n",
      "Moving image...\n",
      "Moved.\n",
      "Saving image...\n"
     ]
    },
    {
     "name": "stderr",
     "output_type": "stream",
     "text": [
      "Lossy conversion from float64 to uint8. Range [-2048.0, 1405.0]. Convert image to uint8 prior to saving to suppress this warning.\n",
      "Lossy conversion from float64 to uint8. Range [-2048.0, 1431.0]. Convert image to uint8 prior to saving to suppress this warning.\n"
     ]
    },
    {
     "name": "stdout",
     "output_type": "stream",
     "text": [
      "Saved.\n",
      "Moving image...\n",
      "Moved.\n",
      "Saving image...\n",
      "Saved.\n",
      "Moving image...\n"
     ]
    },
    {
     "name": "stderr",
     "output_type": "stream",
     "text": [
      "Lossy conversion from float64 to uint8. Range [-2048.0, 1416.0]. Convert image to uint8 prior to saving to suppress this warning.\n"
     ]
    },
    {
     "name": "stdout",
     "output_type": "stream",
     "text": [
      "Moved.\n",
      "Saving image...\n",
      "Saved.\n",
      "Moving image...\n",
      "Moved.\n",
      "Saving image...\n"
     ]
    },
    {
     "name": "stderr",
     "output_type": "stream",
     "text": [
      "Lossy conversion from float64 to uint8. Range [-2048.0, 1438.0]. Convert image to uint8 prior to saving to suppress this warning.\n",
      "Lossy conversion from float64 to uint8. Range [-2048.0, 1412.0]. Convert image to uint8 prior to saving to suppress this warning.\n"
     ]
    },
    {
     "name": "stdout",
     "output_type": "stream",
     "text": [
      "Saved.\n",
      "Moving image...\n",
      "Moved.\n",
      "Saving image...\n",
      "Saved.\n",
      "Moving image...\n"
     ]
    },
    {
     "name": "stderr",
     "output_type": "stream",
     "text": [
      "Lossy conversion from float64 to uint8. Range [-2048.0, 1416.0]. Convert image to uint8 prior to saving to suppress this warning.\n"
     ]
    },
    {
     "name": "stdout",
     "output_type": "stream",
     "text": [
      "Moved.\n",
      "Saving image...\n",
      "Saved.\n",
      "Moving image...\n"
     ]
    },
    {
     "name": "stderr",
     "output_type": "stream",
     "text": [
      "Lossy conversion from float64 to uint8. Range [-2048.0, 1396.0]. Convert image to uint8 prior to saving to suppress this warning.\n",
      "Lossy conversion from float64 to uint8. Range [-2048.0, 1422.0]. Convert image to uint8 prior to saving to suppress this warning.\n"
     ]
    },
    {
     "name": "stdout",
     "output_type": "stream",
     "text": [
      "Moved.\n",
      "Saving image...\n",
      "Saved.\n",
      "Moving image...\n",
      "Moved.\n",
      "Saving image...\n"
     ]
    },
    {
     "name": "stderr",
     "output_type": "stream",
     "text": [
      "Lossy conversion from float64 to uint8. Range [-2048.0, 1406.0]. Convert image to uint8 prior to saving to suppress this warning.\n",
      "Lossy conversion from float64 to uint8. Range [-2048.0, 1425.0]. Convert image to uint8 prior to saving to suppress this warning.\n"
     ]
    },
    {
     "name": "stdout",
     "output_type": "stream",
     "text": [
      "Saved.\n",
      "Moving image...\n",
      "Moved.\n",
      "Saving image...\n",
      "Saved.\n",
      "Moving image...\n",
      "Moved.\n",
      "Saving image...\n"
     ]
    },
    {
     "name": "stderr",
     "output_type": "stream",
     "text": [
      "Lossy conversion from float64 to uint8. Range [-2048.0, 1410.0]. Convert image to uint8 prior to saving to suppress this warning.\n"
     ]
    },
    {
     "name": "stdout",
     "output_type": "stream",
     "text": [
      "Saved.\n",
      "Moving image...\n",
      "Moved.\n",
      "Saving image...\n",
      "Saved.\n",
      "Moving image...\n"
     ]
    },
    {
     "name": "stderr",
     "output_type": "stream",
     "text": [
      "Lossy conversion from float64 to uint8. Range [-2048.0, 1427.0]. Convert image to uint8 prior to saving to suppress this warning.\n"
     ]
    },
    {
     "name": "stdout",
     "output_type": "stream",
     "text": [
      "Moved.\n",
      "Saving image...\n",
      "Saved.\n",
      "Moving image...\n",
      "Moved.\n",
      "Saving image...\n"
     ]
    },
    {
     "name": "stderr",
     "output_type": "stream",
     "text": [
      "Lossy conversion from float64 to uint8. Range [-2048.0, 1406.0]. Convert image to uint8 prior to saving to suppress this warning.\n",
      "Lossy conversion from float64 to uint8. Range [-2048.0, 1436.0]. Convert image to uint8 prior to saving to suppress this warning.\n"
     ]
    },
    {
     "name": "stdout",
     "output_type": "stream",
     "text": [
      "Saved.\n",
      "Moving image...\n",
      "Moved.\n",
      "Saving image...\n",
      "Saved.\n",
      "Moving image...\n"
     ]
    },
    {
     "name": "stderr",
     "output_type": "stream",
     "text": [
      "Lossy conversion from float64 to uint8. Range [-2048.0, 1381.0]. Convert image to uint8 prior to saving to suppress this warning.\n"
     ]
    },
    {
     "name": "stdout",
     "output_type": "stream",
     "text": [
      "Moved.\n",
      "Saving image...\n",
      "Saved.\n",
      "Moving image...\n",
      "Moved.\n",
      "Saving image...\n"
     ]
    },
    {
     "name": "stderr",
     "output_type": "stream",
     "text": [
      "Lossy conversion from float64 to uint8. Range [-2048.0, 1393.0]. Convert image to uint8 prior to saving to suppress this warning.\n",
      "Lossy conversion from float64 to uint8. Range [-2048.0, 1384.0]. Convert image to uint8 prior to saving to suppress this warning.\n"
     ]
    },
    {
     "name": "stdout",
     "output_type": "stream",
     "text": [
      "Saved.\n",
      "Moving image...\n",
      "Moved.\n",
      "Saving image...\n",
      "Saved.\n",
      "Moving image...\n"
     ]
    },
    {
     "name": "stderr",
     "output_type": "stream",
     "text": [
      "Lossy conversion from float64 to uint8. Range [-2048.0, 1370.0]. Convert image to uint8 prior to saving to suppress this warning.\n"
     ]
    },
    {
     "name": "stdout",
     "output_type": "stream",
     "text": [
      "Moved.\n",
      "Saving image...\n",
      "Saved."
     ]
    },
    {
     "name": "stderr",
     "output_type": "stream",
     "text": [
      "Lossy conversion from float64 to uint8. Range [-2048.0, 1367.0]. Convert image to uint8 prior to saving to suppress this warning.\n"
     ]
    },
    {
     "name": "stdout",
     "output_type": "stream",
     "text": [
      "\n",
      "Moving image...\n",
      "Moved.\n",
      "Saving image...\n",
      "Saved.\n",
      "Moving image...\n"
     ]
    },
    {
     "name": "stderr",
     "output_type": "stream",
     "text": [
      "Lossy conversion from float64 to uint8. Range [-2048.0, 1347.0]. Convert image to uint8 prior to saving to suppress this warning.\n"
     ]
    },
    {
     "name": "stdout",
     "output_type": "stream",
     "text": [
      "Moved.\n",
      "Saving image...\n",
      "Saved.\n",
      "Moving image...\n",
      "Moved."
     ]
    },
    {
     "name": "stderr",
     "output_type": "stream",
     "text": [
      "Lossy conversion from float64 to uint8. Range [-2048.0, 1326.0]. Convert image to uint8 prior to saving to suppress this warning.\n",
      "Lossy conversion from float64 to uint8. Range [-2048.0, 1370.0]. Convert image to uint8 prior to saving to suppress this warning.\n"
     ]
    },
    {
     "name": "stdout",
     "output_type": "stream",
     "text": [
      "\n",
      "Saving image...\n",
      "Saved.\n",
      "Moving image...\n",
      "Moved.\n",
      "Saving image...\n"
     ]
    },
    {
     "name": "stderr",
     "output_type": "stream",
     "text": [
      "Lossy conversion from float64 to uint8. Range [-2048.0, 1402.0]. Convert image to uint8 prior to saving to suppress this warning.\n",
      "Lossy conversion from float64 to uint8. Range [-2048.0, 1404.0]. Convert image to uint8 prior to saving to suppress this warning.\n"
     ]
    },
    {
     "name": "stdout",
     "output_type": "stream",
     "text": [
      "Saved.\n",
      "Moving image...\n",
      "Moved.\n",
      "Saving image...\n",
      "Saved.\n",
      "Moving image...\n",
      "Moved.\n",
      "Saving image...\n"
     ]
    },
    {
     "name": "stderr",
     "output_type": "stream",
     "text": [
      "Lossy conversion from float64 to uint8. Range [-2048.0, 1385.0]. Convert image to uint8 prior to saving to suppress this warning.\n",
      "Lossy conversion from float64 to uint8. Range [-2048.0, 1406.0]. Convert image to uint8 prior to saving to suppress this warning.\n"
     ]
    },
    {
     "name": "stdout",
     "output_type": "stream",
     "text": [
      "Saved.\n",
      "Moving image...\n",
      "Moved.\n",
      "Saving image...\n",
      "Saved.\n",
      "Moving image...\n",
      "Moved.\n",
      "Saving image...\n"
     ]
    },
    {
     "name": "stderr",
     "output_type": "stream",
     "text": [
      "Lossy conversion from float64 to uint8. Range [-2048.0, 1363.0]. Convert image to uint8 prior to saving to suppress this warning.\n",
      "Lossy conversion from float64 to uint8. Range [-2048.0, 1483.0]. Convert image to uint8 prior to saving to suppress this warning.\n"
     ]
    },
    {
     "name": "stdout",
     "output_type": "stream",
     "text": [
      "Saved.\n",
      "Moving image...\n",
      "Moved.\n",
      "Saving image...\n",
      "Saved.\n",
      "Moving image...\n",
      "Moved.\n",
      "Saving image...\n"
     ]
    },
    {
     "name": "stderr",
     "output_type": "stream",
     "text": [
      "Lossy conversion from float64 to uint8. Range [-2048.0, 1386.0]. Convert image to uint8 prior to saving to suppress this warning.\n",
      "Lossy conversion from float64 to uint8. Range [-2048.0, 1445.0]. Convert image to uint8 prior to saving to suppress this warning.\n"
     ]
    },
    {
     "name": "stdout",
     "output_type": "stream",
     "text": [
      "Saved.\n",
      "Moving image...\n",
      "Moved.\n",
      "Saving image...\n",
      "Saved.\n",
      "Moving image...\n",
      "Moved.\n",
      "Saving image...\n"
     ]
    },
    {
     "name": "stderr",
     "output_type": "stream",
     "text": [
      "Lossy conversion from float64 to uint8. Range [-2048.0, 1512.0]. Convert image to uint8 prior to saving to suppress this warning.\n"
     ]
    },
    {
     "name": "stdout",
     "output_type": "stream",
     "text": [
      "Saved.\n",
      "Moving image...\n",
      "Moved.\n",
      "Saving image...\n",
      "Saved.\n",
      "Moving image...\n"
     ]
    },
    {
     "name": "stderr",
     "output_type": "stream",
     "text": [
      "Lossy conversion from float64 to uint8. Range [-2048.0, 1530.0]. Convert image to uint8 prior to saving to suppress this warning.\n"
     ]
    },
    {
     "name": "stdout",
     "output_type": "stream",
     "text": [
      "Moved.\n",
      "Saving image...\n",
      "Saved.\n",
      "Moving image...\n",
      "Moved."
     ]
    },
    {
     "name": "stderr",
     "output_type": "stream",
     "text": [
      "Lossy conversion from float64 to uint8. Range [-2048.0, 1553.0]. Convert image to uint8 prior to saving to suppress this warning.\n"
     ]
    },
    {
     "name": "stdout",
     "output_type": "stream",
     "text": [
      "\n",
      "Saving image...\n"
     ]
    },
    {
     "name": "stderr",
     "output_type": "stream",
     "text": [
      "Lossy conversion from float64 to uint8. Range [-2048.0, 1542.0]. Convert image to uint8 prior to saving to suppress this warning.\n"
     ]
    },
    {
     "name": "stdout",
     "output_type": "stream",
     "text": [
      "Saved.\n",
      "Moving image...\n",
      "Moved.\n",
      "Saving image...\n",
      "Saved.\n",
      "Moving image...\n"
     ]
    },
    {
     "name": "stderr",
     "output_type": "stream",
     "text": [
      "Lossy conversion from float64 to uint8. Range [-2048.0, 1543.0]. Convert image to uint8 prior to saving to suppress this warning.\n"
     ]
    },
    {
     "name": "stdout",
     "output_type": "stream",
     "text": [
      "Moved.\n",
      "Saving image...\n",
      "Saved.\n",
      "Moving image...\n"
     ]
    },
    {
     "name": "stderr",
     "output_type": "stream",
     "text": [
      "Lossy conversion from float64 to uint8. Range [-2048.0, 1546.0]. Convert image to uint8 prior to saving to suppress this warning.\n"
     ]
    },
    {
     "name": "stdout",
     "output_type": "stream",
     "text": [
      "Moved.\n",
      "Saving image...\n",
      "Saved.\n",
      "Moving image...\n"
     ]
    },
    {
     "name": "stderr",
     "output_type": "stream",
     "text": [
      "Lossy conversion from float64 to uint8. Range [-2048.0, 1551.0]. Convert image to uint8 prior to saving to suppress this warning.\n"
     ]
    },
    {
     "name": "stdout",
     "output_type": "stream",
     "text": [
      "Moved.\n",
      "Saving image...\n",
      "Saved.\n",
      "Moving image...\n"
     ]
    },
    {
     "name": "stderr",
     "output_type": "stream",
     "text": [
      "Lossy conversion from float64 to uint8. Range [-2048.0, 1585.0]. Convert image to uint8 prior to saving to suppress this warning.\n"
     ]
    },
    {
     "name": "stdout",
     "output_type": "stream",
     "text": [
      "Moved.\n",
      "Saving image...\n"
     ]
    },
    {
     "name": "stderr",
     "output_type": "stream",
     "text": [
      "Lossy conversion from float64 to uint8. Range [-2048.0, 1563.0]. Convert image to uint8 prior to saving to suppress this warning.\n"
     ]
    },
    {
     "name": "stdout",
     "output_type": "stream",
     "text": [
      "Saved.\n",
      "Moving image...\n",
      "Moved.\n",
      "Saving image...\n"
     ]
    },
    {
     "name": "stderr",
     "output_type": "stream",
     "text": [
      "Lossy conversion from float64 to uint8. Range [-2048.0, 1611.0]. Convert image to uint8 prior to saving to suppress this warning.\n"
     ]
    },
    {
     "name": "stdout",
     "output_type": "stream",
     "text": [
      "Saved.\n",
      "Moving image...\n",
      "Moved.\n",
      "Saving image...\n",
      "Saved.\n",
      "Moving image...\n"
     ]
    },
    {
     "name": "stderr",
     "output_type": "stream",
     "text": [
      "Lossy conversion from float64 to uint8. Range [-2048.0, 1576.0]. Convert image to uint8 prior to saving to suppress this warning.\n"
     ]
    },
    {
     "name": "stdout",
     "output_type": "stream",
     "text": [
      "Moved.\n",
      "Saving image...\n"
     ]
    },
    {
     "name": "stderr",
     "output_type": "stream",
     "text": [
      "Lossy conversion from float64 to uint8. Range [-2048.0, 1550.0]. Convert image to uint8 prior to saving to suppress this warning.\n"
     ]
    },
    {
     "name": "stdout",
     "output_type": "stream",
     "text": [
      "Saved.\n",
      "Moving image...\n",
      "Moved.\n",
      "Saving image...\n"
     ]
    },
    {
     "name": "stderr",
     "output_type": "stream",
     "text": [
      "Lossy conversion from float64 to uint8. Range [-2048.0, 1545.0]. Convert image to uint8 prior to saving to suppress this warning.\n"
     ]
    },
    {
     "name": "stdout",
     "output_type": "stream",
     "text": [
      "Saved.\n",
      "Moving image...\n",
      "Moved.\n",
      "Saving image...\n",
      "Saved.\n",
      "Moving image...\n"
     ]
    },
    {
     "name": "stderr",
     "output_type": "stream",
     "text": [
      "Lossy conversion from float64 to uint8. Range [-2048.0, 1574.0]. Convert image to uint8 prior to saving to suppress this warning.\n"
     ]
    },
    {
     "name": "stdout",
     "output_type": "stream",
     "text": [
      "Moved.\n",
      "Saving image...\n",
      "Saved."
     ]
    },
    {
     "name": "stderr",
     "output_type": "stream",
     "text": [
      "Lossy conversion from float64 to uint8. Range [-2048.0, 1565.0]. Convert image to uint8 prior to saving to suppress this warning.\n"
     ]
    },
    {
     "name": "stdout",
     "output_type": "stream",
     "text": [
      "\n",
      "Moving image...\n",
      "Moved.\n",
      "Saving image...\n"
     ]
    },
    {
     "name": "stderr",
     "output_type": "stream",
     "text": [
      "Lossy conversion from float64 to uint8. Range [-2048.0, 1554.0]. Convert image to uint8 prior to saving to suppress this warning.\n"
     ]
    },
    {
     "name": "stdout",
     "output_type": "stream",
     "text": [
      "Saved.\n",
      "Moving image...\n",
      "Moved.\n",
      "Saving image...\n"
     ]
    },
    {
     "name": "stderr",
     "output_type": "stream",
     "text": [
      "Lossy conversion from float64 to uint8. Range [-2048.0, 1592.0]. Convert image to uint8 prior to saving to suppress this warning.\n"
     ]
    },
    {
     "name": "stdout",
     "output_type": "stream",
     "text": [
      "Saved.\n",
      "Moving image...\n",
      "Moved.\n",
      "Saving image...\n",
      "Saved.\n",
      "Moving image...\n"
     ]
    },
    {
     "name": "stderr",
     "output_type": "stream",
     "text": [
      "Lossy conversion from float64 to uint8. Range [-2048.0, 1574.0]. Convert image to uint8 prior to saving to suppress this warning.\n"
     ]
    },
    {
     "name": "stdout",
     "output_type": "stream",
     "text": [
      "Moved.\n",
      "Saving image...\n"
     ]
    },
    {
     "name": "stderr",
     "output_type": "stream",
     "text": [
      "Lossy conversion from float64 to uint8. Range [-2048.0, 1567.0]. Convert image to uint8 prior to saving to suppress this warning.\n"
     ]
    },
    {
     "name": "stdout",
     "output_type": "stream",
     "text": [
      "Saved.\n",
      "Moving image...\n",
      "Moved.\n",
      "Saving image...\n",
      "Saved.\n",
      "Moving image...\n"
     ]
    },
    {
     "name": "stderr",
     "output_type": "stream",
     "text": [
      "Lossy conversion from float64 to uint8. Range [-2048.0, 1588.0]. Convert image to uint8 prior to saving to suppress this warning.\n"
     ]
    },
    {
     "name": "stdout",
     "output_type": "stream",
     "text": [
      "Moved.\n",
      "Saving image...\n",
      "Saved.\n",
      "Moving image...\n"
     ]
    },
    {
     "name": "stderr",
     "output_type": "stream",
     "text": [
      "Lossy conversion from float64 to uint8. Range [-2048.0, 1537.0]. Convert image to uint8 prior to saving to suppress this warning.\n"
     ]
    },
    {
     "name": "stdout",
     "output_type": "stream",
     "text": [
      "Moved.\n",
      "Saving image...\n"
     ]
    },
    {
     "name": "stderr",
     "output_type": "stream",
     "text": [
      "Lossy conversion from float64 to uint8. Range [-2048.0, 1554.0]. Convert image to uint8 prior to saving to suppress this warning.\n"
     ]
    },
    {
     "name": "stdout",
     "output_type": "stream",
     "text": [
      "Saved.\n",
      "Moving image...\n",
      "Moved.\n",
      "Saving image...\n"
     ]
    },
    {
     "name": "stderr",
     "output_type": "stream",
     "text": [
      "Lossy conversion from float64 to uint8. Range [-2048.0, 1574.0]. Convert image to uint8 prior to saving to suppress this warning.\n"
     ]
    },
    {
     "name": "stdout",
     "output_type": "stream",
     "text": [
      "Saved.\n",
      "Moving image...\n",
      "Moved.\n",
      "Saving image...\n"
     ]
    },
    {
     "name": "stderr",
     "output_type": "stream",
     "text": [
      "Lossy conversion from float64 to uint8. Range [-2048.0, 1584.0]. Convert image to uint8 prior to saving to suppress this warning.\n"
     ]
    },
    {
     "name": "stdout",
     "output_type": "stream",
     "text": [
      "Saved.\n",
      "Moving image...\n",
      "Moved.\n",
      "Saving image...\n",
      "Saved."
     ]
    },
    {
     "name": "stderr",
     "output_type": "stream",
     "text": [
      "Lossy conversion from float64 to uint8. Range [-2048.0, 1542.0]. Convert image to uint8 prior to saving to suppress this warning.\n"
     ]
    },
    {
     "name": "stdout",
     "output_type": "stream",
     "text": [
      "\n",
      "Moving image...\n",
      "Moved.\n",
      "Saving image...\n",
      "Saved.\n",
      "Moving image...\n"
     ]
    },
    {
     "name": "stderr",
     "output_type": "stream",
     "text": [
      "Lossy conversion from float64 to uint8. Range [-2048.0, 1522.0]. Convert image to uint8 prior to saving to suppress this warning.\n"
     ]
    },
    {
     "name": "stdout",
     "output_type": "stream",
     "text": [
      "Moved.\n",
      "Saving image...\n",
      "Saved.\n",
      "Moving image...\n"
     ]
    },
    {
     "name": "stderr",
     "output_type": "stream",
     "text": [
      "Lossy conversion from float64 to uint8. Range [-2048.0, 1576.0]. Convert image to uint8 prior to saving to suppress this warning.\n"
     ]
    },
    {
     "name": "stdout",
     "output_type": "stream",
     "text": [
      "Moved.\n",
      "Saving image...\n",
      "Saved.\n",
      "Moving image...\n"
     ]
    },
    {
     "name": "stderr",
     "output_type": "stream",
     "text": [
      "Lossy conversion from float64 to uint8. Range [-2048.0, 1505.0]. Convert image to uint8 prior to saving to suppress this warning.\n"
     ]
    },
    {
     "name": "stdout",
     "output_type": "stream",
     "text": [
      "Moved.\n",
      "Saving image...\n",
      "Saved.\n",
      "Moving image...\n"
     ]
    },
    {
     "name": "stderr",
     "output_type": "stream",
     "text": [
      "Lossy conversion from float64 to uint8. Range [-2048.0, 1555.0]. Convert image to uint8 prior to saving to suppress this warning.\n"
     ]
    },
    {
     "name": "stdout",
     "output_type": "stream",
     "text": [
      "Moved.\n",
      "Saving image...\n",
      "Saved.\n",
      "Moving image...\n"
     ]
    },
    {
     "name": "stderr",
     "output_type": "stream",
     "text": [
      "Lossy conversion from float64 to uint8. Range [-2048.0, 1451.0]. Convert image to uint8 prior to saving to suppress this warning.\n"
     ]
    },
    {
     "name": "stdout",
     "output_type": "stream",
     "text": [
      "Moved.\n",
      "Saving image...\n",
      "Saved.\n",
      "Moving image...\n",
      "Moved."
     ]
    },
    {
     "name": "stderr",
     "output_type": "stream",
     "text": [
      "Lossy conversion from float64 to uint8. Range [-2048.0, 1464.0]. Convert image to uint8 prior to saving to suppress this warning.\n"
     ]
    },
    {
     "name": "stdout",
     "output_type": "stream",
     "text": [
      "\n",
      "Saving image...\n",
      "Saved.\n",
      "Moving image...\n"
     ]
    },
    {
     "name": "stderr",
     "output_type": "stream",
     "text": [
      "Lossy conversion from float64 to uint8. Range [-2048.0, 1457.0]. Convert image to uint8 prior to saving to suppress this warning.\n"
     ]
    },
    {
     "name": "stdout",
     "output_type": "stream",
     "text": [
      "Moved.\n",
      "Saving image...\n",
      "Saved.\n",
      "Moving image...\n"
     ]
    },
    {
     "name": "stderr",
     "output_type": "stream",
     "text": [
      "Lossy conversion from float64 to uint8. Range [-2048.0, 1407.0]. Convert image to uint8 prior to saving to suppress this warning.\n"
     ]
    },
    {
     "name": "stdout",
     "output_type": "stream",
     "text": [
      "Moved.\n",
      "Saving image...\n",
      "Saved."
     ]
    },
    {
     "name": "stderr",
     "output_type": "stream",
     "text": [
      "Lossy conversion from float64 to uint8. Range [-2048.0, 1397.0]. Convert image to uint8 prior to saving to suppress this warning.\n"
     ]
    },
    {
     "name": "stdout",
     "output_type": "stream",
     "text": [
      "\n",
      "Moving image...\n",
      "Moved.\n",
      "Saving image...\n",
      "Saved.\n",
      "Moving image...\n"
     ]
    },
    {
     "name": "stderr",
     "output_type": "stream",
     "text": [
      "Lossy conversion from float64 to uint8. Range [-2048.0, 1429.0]. Convert image to uint8 prior to saving to suppress this warning.\n",
      "Lossy conversion from float64 to uint8. Range [-2048.0, 1466.0]. Convert image to uint8 prior to saving to suppress this warning.\n"
     ]
    },
    {
     "name": "stdout",
     "output_type": "stream",
     "text": [
      "Moved.\n",
      "Saving image...\n",
      "Saved.\n",
      "Moving image...\n",
      "Moved.\n",
      "Saving image...\n"
     ]
    },
    {
     "name": "stderr",
     "output_type": "stream",
     "text": [
      "Lossy conversion from float64 to uint8. Range [-2048.0, 1429.0]. Convert image to uint8 prior to saving to suppress this warning.\n"
     ]
    },
    {
     "name": "stdout",
     "output_type": "stream",
     "text": [
      "Saved.\n",
      "Moving image...\n",
      "Moved.\n",
      "Saving image...\n",
      "Saved.\n",
      "Moving image...\n"
     ]
    },
    {
     "name": "stderr",
     "output_type": "stream",
     "text": [
      "Lossy conversion from float64 to uint8. Range [-2048.0, 1513.0]. Convert image to uint8 prior to saving to suppress this warning.\n"
     ]
    },
    {
     "name": "stdout",
     "output_type": "stream",
     "text": [
      "Moved.\n",
      "Saving image...\n"
     ]
    },
    {
     "name": "stderr",
     "output_type": "stream",
     "text": [
      "Lossy conversion from float64 to uint8. Range [-2048.0, 1550.0]. Convert image to uint8 prior to saving to suppress this warning.\n"
     ]
    },
    {
     "name": "stdout",
     "output_type": "stream",
     "text": [
      "Saved.\n",
      "Moving image...\n",
      "Moved.\n",
      "Saving image...\n"
     ]
    },
    {
     "name": "stderr",
     "output_type": "stream",
     "text": [
      "Lossy conversion from float64 to uint8. Range [-2048.0, 1588.0]. Convert image to uint8 prior to saving to suppress this warning.\n"
     ]
    },
    {
     "name": "stdout",
     "output_type": "stream",
     "text": [
      "Saved.\n",
      "Moving image...\n",
      "Moved.\n",
      "Saving image...\n"
     ]
    },
    {
     "name": "stderr",
     "output_type": "stream",
     "text": [
      "Lossy conversion from float64 to uint8. Range [-2048.0, 1612.0]. Convert image to uint8 prior to saving to suppress this warning.\n"
     ]
    },
    {
     "name": "stdout",
     "output_type": "stream",
     "text": [
      "Saved.\n",
      "Moving image...\n",
      "Moved.\n",
      "Saving image...\n"
     ]
    },
    {
     "name": "stderr",
     "output_type": "stream",
     "text": [
      "Lossy conversion from float64 to uint8. Range [-2048.0, 1537.0]. Convert image to uint8 prior to saving to suppress this warning.\n"
     ]
    },
    {
     "name": "stdout",
     "output_type": "stream",
     "text": [
      "Saved.\n",
      "Moving image...\n",
      "Moved.\n",
      "Saving image...\n",
      "Saved."
     ]
    },
    {
     "name": "stderr",
     "output_type": "stream",
     "text": [
      "Lossy conversion from float64 to uint8. Range [-2048.0, 1499.0]. Convert image to uint8 prior to saving to suppress this warning.\n"
     ]
    },
    {
     "name": "stdout",
     "output_type": "stream",
     "text": [
      "\n",
      "Moving image...\n",
      "Moved.\n",
      "Saving image...\n"
     ]
    },
    {
     "name": "stderr",
     "output_type": "stream",
     "text": [
      "Lossy conversion from float64 to uint8. Range [-2048.0, 1516.0]. Convert image to uint8 prior to saving to suppress this warning.\n"
     ]
    },
    {
     "name": "stdout",
     "output_type": "stream",
     "text": [
      "Saved.\n",
      "Moving image...\n",
      "Moved.\n",
      "Saving image...\n"
     ]
    },
    {
     "name": "stderr",
     "output_type": "stream",
     "text": [
      "Lossy conversion from float64 to uint8. Range [-2048.0, 1516.0]. Convert image to uint8 prior to saving to suppress this warning.\n"
     ]
    },
    {
     "name": "stdout",
     "output_type": "stream",
     "text": [
      "Saved.\n",
      "Moving image...\n",
      "Moved.\n",
      "Saving image...\n"
     ]
    },
    {
     "name": "stderr",
     "output_type": "stream",
     "text": [
      "Lossy conversion from float64 to uint8. Range [-2048.0, 1493.0]. Convert image to uint8 prior to saving to suppress this warning.\n"
     ]
    },
    {
     "name": "stdout",
     "output_type": "stream",
     "text": [
      "Saved.\n",
      "Moving image...\n",
      "Moved.\n",
      "Saving image...\n"
     ]
    },
    {
     "name": "stderr",
     "output_type": "stream",
     "text": [
      "Lossy conversion from float64 to uint8. Range [-2048.0, 1498.0]. Convert image to uint8 prior to saving to suppress this warning.\n"
     ]
    },
    {
     "name": "stdout",
     "output_type": "stream",
     "text": [
      "Saved.\n",
      "Moving image...\n",
      "Moved.\n",
      "Saving image...\n"
     ]
    },
    {
     "name": "stderr",
     "output_type": "stream",
     "text": [
      "Lossy conversion from float64 to uint8. Range [-2048.0, 1527.0]. Convert image to uint8 prior to saving to suppress this warning.\n"
     ]
    },
    {
     "name": "stdout",
     "output_type": "stream",
     "text": [
      "Saved.\n",
      "Moving image...\n",
      "Moved.\n",
      "Saving image...\n"
     ]
    },
    {
     "name": "stderr",
     "output_type": "stream",
     "text": [
      "Lossy conversion from float64 to uint8. Range [-2048.0, 1565.0]. Convert image to uint8 prior to saving to suppress this warning.\n"
     ]
    },
    {
     "name": "stdout",
     "output_type": "stream",
     "text": [
      "Saved.\n",
      "Moving image...\n",
      "Moved.\n",
      "Saving image...\n",
      "Saved.\n",
      "Moving image...\n"
     ]
    },
    {
     "name": "stderr",
     "output_type": "stream",
     "text": [
      "Lossy conversion from float64 to uint8. Range [-2048.0, 1516.0]. Convert image to uint8 prior to saving to suppress this warning.\n"
     ]
    },
    {
     "name": "stdout",
     "output_type": "stream",
     "text": [
      "Moved.\n",
      "Saving image...\n"
     ]
    },
    {
     "name": "stderr",
     "output_type": "stream",
     "text": [
      "Lossy conversion from float64 to uint8. Range [-2048.0, 1523.0]. Convert image to uint8 prior to saving to suppress this warning.\n"
     ]
    },
    {
     "name": "stdout",
     "output_type": "stream",
     "text": [
      "Saved.\n",
      "Moving image...\n",
      "Moved.\n",
      "Saving image...\n"
     ]
    },
    {
     "name": "stderr",
     "output_type": "stream",
     "text": [
      "Lossy conversion from float64 to uint8. Range [-2048.0, 1520.0]. Convert image to uint8 prior to saving to suppress this warning.\n"
     ]
    },
    {
     "name": "stdout",
     "output_type": "stream",
     "text": [
      "Saved.\n",
      "Moving image...\n",
      "Moved.\n",
      "Saving image...\n",
      "Saved.\n",
      "Moving image...\n"
     ]
    },
    {
     "name": "stderr",
     "output_type": "stream",
     "text": [
      "Lossy conversion from float64 to uint8. Range [-2048.0, 1500.0]. Convert image to uint8 prior to saving to suppress this warning.\n"
     ]
    },
    {
     "name": "stdout",
     "output_type": "stream",
     "text": [
      "Moved.\n",
      "Saving image...\n"
     ]
    },
    {
     "name": "stderr",
     "output_type": "stream",
     "text": [
      "Lossy conversion from float64 to uint8. Range [-2048.0, 1486.0]. Convert image to uint8 prior to saving to suppress this warning.\n"
     ]
    },
    {
     "name": "stdout",
     "output_type": "stream",
     "text": [
      "Saved.\n",
      "Moving image...\n",
      "Moved.\n",
      "Saving image...\n"
     ]
    },
    {
     "name": "stderr",
     "output_type": "stream",
     "text": [
      "Lossy conversion from float64 to uint8. Range [-2048.0, 1502.0]. Convert image to uint8 prior to saving to suppress this warning.\n"
     ]
    },
    {
     "name": "stdout",
     "output_type": "stream",
     "text": [
      "Saved.\n",
      "Moving image...\n",
      "Moved.\n",
      "Saving image...\n"
     ]
    },
    {
     "name": "stderr",
     "output_type": "stream",
     "text": [
      "Lossy conversion from float64 to uint8. Range [-2048.0, 1464.0]. Convert image to uint8 prior to saving to suppress this warning.\n"
     ]
    },
    {
     "name": "stdout",
     "output_type": "stream",
     "text": [
      "Saved.\n",
      "Moving image...\n",
      "Moved.\n",
      "Saving image...\n",
      "Saved.\n",
      "Moving image...\n",
      "Moved.\n",
      "Finished converting images\n"
     ]
    }
   ],
   "source": [
    "convertAndSave(inputfile = SRCNIIDIR+pname+\".nii\",outputfile = OUTIMGDIR)"
   ]
  },
  {
   "cell_type": "code",
   "execution_count": 5,
   "metadata": {},
   "outputs": [
    {
     "name": "stdout",
     "output_type": "stream",
     "text": [
      "Input file is  D:/_DIAG/datasets/sklif/norma/niimasks/P012_mask.nii\n",
      "Output folder is  ./ds_lungseg/masks5/\n"
     ]
    },
    {
     "name": "stderr",
     "output_type": "stream",
     "text": [
      "Lossy conversion from float64 to uint8. Range [0, 1]. Convert image to uint8 prior to saving to suppress this warning.\n",
      "Lossy conversion from float64 to uint8. Range [0, 1]. Convert image to uint8 prior to saving to suppress this warning.\n",
      "Lossy conversion from float64 to uint8. Range [0, 1]. Convert image to uint8 prior to saving to suppress this warning.\n",
      "Lossy conversion from float64 to uint8. Range [0, 1]. Convert image to uint8 prior to saving to suppress this warning.\n",
      "Lossy conversion from float64 to uint8. Range [0, 1]. Convert image to uint8 prior to saving to suppress this warning.\n",
      "Lossy conversion from float64 to uint8. Range [0, 1]. Convert image to uint8 prior to saving to suppress this warning.\n",
      "Lossy conversion from float64 to uint8. Range [0, 1]. Convert image to uint8 prior to saving to suppress this warning.\n",
      "Lossy conversion from float64 to uint8. Range [0, 1]. Convert image to uint8 prior to saving to suppress this warning.\n",
      "Lossy conversion from float64 to uint8. Range [0, 1]. Convert image to uint8 prior to saving to suppress this warning.\n",
      "Lossy conversion from float64 to uint8. Range [0, 1]. Convert image to uint8 prior to saving to suppress this warning.\n",
      "Lossy conversion from float64 to uint8. Range [0, 1]. Convert image to uint8 prior to saving to suppress this warning.\n",
      "Lossy conversion from float64 to uint8. Range [0, 1]. Convert image to uint8 prior to saving to suppress this warning.\n"
     ]
    },
    {
     "name": "stdout",
     "output_type": "stream",
     "text": [
      "3\n",
      "Created ouput directory: ./ds_lungseg/masks5/\n",
      "Reading NIfTI file...\n",
      "Saving image...\n",
      "Saved.\n",
      "Moving image...\n",
      "Moved.\n",
      "Saving image...\n",
      "Saved.\n",
      "Moving image...\n",
      "Moved.\n",
      "Saving image...\n",
      "Saved.\n",
      "Moving image...\n",
      "Moved.\n",
      "Saving image...\n",
      "Saved.\n",
      "Moving image...\n",
      "Moved.\n",
      "Saving image...\n",
      "Saved.\n",
      "Moving image...\n",
      "Moved.\n",
      "Saving image...\n",
      "Saved.\n",
      "Moving image...\n",
      "Moved.\n",
      "Saving image...\n",
      "Saved.\n",
      "Moving image...\n",
      "Moved.\n",
      "Saving image...\n",
      "Saved.\n",
      "Moving image...\n",
      "Moved.\n",
      "Saving image...\n",
      "Saved.\n",
      "Moving image...\n",
      "Moved.\n",
      "Saving image...\n",
      "Saved.\n",
      "Moving image...\n",
      "Moved.\n",
      "Saving image...\n",
      "Saved.\n",
      "Moving image...\n",
      "Moved.\n",
      "Saving image...\n",
      "Saved.\n",
      "Moving image...\n"
     ]
    },
    {
     "name": "stderr",
     "output_type": "stream",
     "text": [
      "Lossy conversion from float64 to uint8. Range [0, 1]. Convert image to uint8 prior to saving to suppress this warning.\n",
      "Lossy conversion from float64 to uint8. Range [0, 1]. Convert image to uint8 prior to saving to suppress this warning.\n",
      "Lossy conversion from float64 to uint8. Range [0, 1]. Convert image to uint8 prior to saving to suppress this warning.\n",
      "Lossy conversion from float64 to uint8. Range [0, 1]. Convert image to uint8 prior to saving to suppress this warning.\n",
      "Lossy conversion from float64 to uint8. Range [0, 1]. Convert image to uint8 prior to saving to suppress this warning.\n",
      "Lossy conversion from float64 to uint8. Range [0, 1]. Convert image to uint8 prior to saving to suppress this warning.\n",
      "Lossy conversion from float64 to uint8. Range [0, 1]. Convert image to uint8 prior to saving to suppress this warning.\n",
      "Lossy conversion from float64 to uint8. Range [0, 1]. Convert image to uint8 prior to saving to suppress this warning.\n",
      "Lossy conversion from float64 to uint8. Range [0, 1]. Convert image to uint8 prior to saving to suppress this warning.\n",
      "Lossy conversion from float64 to uint8. Range [0, 1]. Convert image to uint8 prior to saving to suppress this warning.\n",
      "Lossy conversion from float64 to uint8. Range [0, 1]. Convert image to uint8 prior to saving to suppress this warning.\n",
      "Lossy conversion from float64 to uint8. Range [0, 1]. Convert image to uint8 prior to saving to suppress this warning.\n",
      "Lossy conversion from float64 to uint8. Range [0, 1]. Convert image to uint8 prior to saving to suppress this warning.\n"
     ]
    },
    {
     "name": "stdout",
     "output_type": "stream",
     "text": [
      "Moved.\n",
      "Saving image...\n",
      "Saved.\n",
      "Moving image...\n",
      "Moved.\n",
      "Saving image...\n",
      "Saved.\n",
      "Moving image...\n",
      "Moved.\n",
      "Saving image...\n",
      "Saved.\n",
      "Moving image...\n",
      "Moved.\n",
      "Saving image...\n",
      "Saved.\n",
      "Moving image...\n",
      "Moved.\n",
      "Saving image...\n",
      "Saved.\n",
      "Moving image...\n",
      "Moved.\n",
      "Saving image...\n",
      "Saved.\n",
      "Moving image...\n",
      "Moved.\n",
      "Saving image...\n",
      "Saved.\n",
      "Moving image...\n",
      "Moved.\n",
      "Saving image...\n",
      "Saved.\n",
      "Moving image...\n",
      "Moved.\n",
      "Saving image...\n",
      "Saved.\n",
      "Moving image...\n",
      "Moved.\n",
      "Saving image...\n",
      "Saved.\n",
      "Moving image...\n",
      "Moved.\n",
      "Saving image...\n",
      "Saved.\n",
      "Moving image...\n",
      "Moved.\n",
      "Saving image...\n",
      "Saved.\n",
      "Moving image...\n",
      "Moved.\n",
      "Saving image...\n"
     ]
    },
    {
     "name": "stderr",
     "output_type": "stream",
     "text": [
      "Lossy conversion from float64 to uint8. Range [0, 1]. Convert image to uint8 prior to saving to suppress this warning.\n",
      "Lossy conversion from float64 to uint8. Range [0, 1]. Convert image to uint8 prior to saving to suppress this warning.\n",
      "Lossy conversion from float64 to uint8. Range [0, 1]. Convert image to uint8 prior to saving to suppress this warning.\n",
      "Lossy conversion from float64 to uint8. Range [0, 1]. Convert image to uint8 prior to saving to suppress this warning.\n",
      "Lossy conversion from float64 to uint8. Range [0, 1]. Convert image to uint8 prior to saving to suppress this warning.\n",
      "Lossy conversion from float64 to uint8. Range [0, 1]. Convert image to uint8 prior to saving to suppress this warning.\n",
      "Lossy conversion from float64 to uint8. Range [0, 1]. Convert image to uint8 prior to saving to suppress this warning.\n",
      "Lossy conversion from float64 to uint8. Range [0, 1]. Convert image to uint8 prior to saving to suppress this warning.\n",
      "Lossy conversion from float64 to uint8. Range [0, 1]. Convert image to uint8 prior to saving to suppress this warning.\n",
      "Lossy conversion from float64 to uint8. Range [0, 1]. Convert image to uint8 prior to saving to suppress this warning.\n",
      "Lossy conversion from float64 to uint8. Range [0, 1]. Convert image to uint8 prior to saving to suppress this warning.\n",
      "Lossy conversion from float64 to uint8. Range [0, 1]. Convert image to uint8 prior to saving to suppress this warning.\n"
     ]
    },
    {
     "name": "stdout",
     "output_type": "stream",
     "text": [
      "Saved.\n",
      "Moving image...\n",
      "Moved.\n",
      "Saving image...\n",
      "Saved.\n",
      "Moving image...\n",
      "Moved.\n",
      "Saving image...\n",
      "Saved.\n",
      "Moving image...\n",
      "Moved.\n",
      "Saving image...\n",
      "Saved.\n",
      "Moving image...\n",
      "Moved.\n",
      "Saving image...\n",
      "Saved.\n",
      "Moving image...\n",
      "Moved.\n",
      "Saving image...\n",
      "Saved.\n",
      "Moving image...\n",
      "Moved.\n",
      "Saving image...\n",
      "Saved.\n",
      "Moving image...\n",
      "Moved.\n",
      "Saving image...\n",
      "Saved.\n",
      "Moving image...\n",
      "Moved.\n",
      "Saving image...\n",
      "Saved.\n",
      "Moving image...\n",
      "Moved.\n",
      "Saving image...\n",
      "Saved.\n",
      "Moving image...\n",
      "Moved.\n",
      "Saving image...\n",
      "Saved.\n",
      "Moving image...\n",
      "Moved.\n",
      "Saving image...\n",
      "Saved.\n",
      "Moving image...\n",
      "Moved.\n",
      "Saving image...\n",
      "Saved.\n",
      "Moving image...\n"
     ]
    },
    {
     "name": "stderr",
     "output_type": "stream",
     "text": [
      "Lossy conversion from float64 to uint8. Range [0, 1]. Convert image to uint8 prior to saving to suppress this warning.\n",
      "Lossy conversion from float64 to uint8. Range [0, 1]. Convert image to uint8 prior to saving to suppress this warning.\n",
      "Lossy conversion from float64 to uint8. Range [0, 1]. Convert image to uint8 prior to saving to suppress this warning.\n",
      "Lossy conversion from float64 to uint8. Range [0, 1]. Convert image to uint8 prior to saving to suppress this warning.\n",
      "Lossy conversion from float64 to uint8. Range [0, 1]. Convert image to uint8 prior to saving to suppress this warning.\n",
      "Lossy conversion from float64 to uint8. Range [0, 1]. Convert image to uint8 prior to saving to suppress this warning.\n",
      "Lossy conversion from float64 to uint8. Range [0, 1]. Convert image to uint8 prior to saving to suppress this warning.\n",
      "Lossy conversion from float64 to uint8. Range [0, 1]. Convert image to uint8 prior to saving to suppress this warning.\n",
      "Lossy conversion from float64 to uint8. Range [0, 1]. Convert image to uint8 prior to saving to suppress this warning.\n",
      "Lossy conversion from float64 to uint8. Range [0, 1]. Convert image to uint8 prior to saving to suppress this warning.\n",
      "Lossy conversion from float64 to uint8. Range [0, 1]. Convert image to uint8 prior to saving to suppress this warning.\n",
      "Lossy conversion from float64 to uint8. Range [0, 1]. Convert image to uint8 prior to saving to suppress this warning.\n",
      "Lossy conversion from float64 to uint8. Range [0, 1]. Convert image to uint8 prior to saving to suppress this warning.\n"
     ]
    },
    {
     "name": "stdout",
     "output_type": "stream",
     "text": [
      "Moved.\n",
      "Saving image...\n",
      "Saved.\n",
      "Moving image...\n",
      "Moved.\n",
      "Saving image...\n",
      "Saved.\n",
      "Moving image...\n",
      "Moved.\n",
      "Saving image...\n",
      "Saved.\n",
      "Moving image...\n",
      "Moved.\n",
      "Saving image...\n",
      "Saved.\n",
      "Moving image...\n",
      "Moved.\n",
      "Saving image...\n",
      "Saved.\n",
      "Moving image...\n",
      "Moved.\n",
      "Saving image...\n",
      "Saved.\n",
      "Moving image...\n",
      "Moved.\n",
      "Saving image...\n",
      "Saved.\n",
      "Moving image...\n",
      "Moved.\n",
      "Saving image...\n",
      "Saved.\n",
      "Moving image...\n",
      "Moved.\n",
      "Saving image...\n",
      "Saved.\n",
      "Moving image...\n",
      "Moved.\n",
      "Saving image...\n",
      "Saved.\n",
      "Moving image...\n",
      "Moved.\n",
      "Saving image...\n",
      "Saved.\n",
      "Moving image...\n",
      "Moved.\n",
      "Saving image...\n",
      "Saved.\n",
      "Moving image...\n",
      "Moved.\n",
      "Saving image...\n",
      "Saved.\n",
      "Moving image...\n"
     ]
    },
    {
     "name": "stderr",
     "output_type": "stream",
     "text": [
      "Lossy conversion from float64 to uint8. Range [0, 1]. Convert image to uint8 prior to saving to suppress this warning.\n",
      "Lossy conversion from float64 to uint8. Range [0, 1]. Convert image to uint8 prior to saving to suppress this warning.\n",
      "Lossy conversion from float64 to uint8. Range [0, 1]. Convert image to uint8 prior to saving to suppress this warning.\n",
      "Lossy conversion from float64 to uint8. Range [0, 1]. Convert image to uint8 prior to saving to suppress this warning.\n",
      "Lossy conversion from float64 to uint8. Range [0, 1]. Convert image to uint8 prior to saving to suppress this warning.\n",
      "Lossy conversion from float64 to uint8. Range [0, 1]. Convert image to uint8 prior to saving to suppress this warning.\n",
      "Lossy conversion from float64 to uint8. Range [0, 1]. Convert image to uint8 prior to saving to suppress this warning.\n",
      "Lossy conversion from float64 to uint8. Range [0, 1]. Convert image to uint8 prior to saving to suppress this warning.\n",
      "Lossy conversion from float64 to uint8. Range [0, 1]. Convert image to uint8 prior to saving to suppress this warning.\n",
      "Lossy conversion from float64 to uint8. Range [0, 1]. Convert image to uint8 prior to saving to suppress this warning.\n",
      "Lossy conversion from float64 to uint8. Range [0, 1]. Convert image to uint8 prior to saving to suppress this warning.\n",
      "Lossy conversion from float64 to uint8. Range [0, 1]. Convert image to uint8 prior to saving to suppress this warning.\n",
      "Lossy conversion from float64 to uint8. Range [0, 1]. Convert image to uint8 prior to saving to suppress this warning.\n"
     ]
    },
    {
     "name": "stdout",
     "output_type": "stream",
     "text": [
      "Moved.\n",
      "Saving image...\n",
      "Saved.\n",
      "Moving image...\n",
      "Moved.\n",
      "Saving image...\n",
      "Saved.\n",
      "Moving image...\n",
      "Moved.\n",
      "Saving image...\n",
      "Saved.\n",
      "Moving image...\n",
      "Moved.\n",
      "Saving image...\n",
      "Saved.\n",
      "Moving image...\n",
      "Moved.\n",
      "Saving image...\n",
      "Saved.\n",
      "Moving image...\n",
      "Moved.\n",
      "Saving image...\n",
      "Saved.\n",
      "Moving image...\n",
      "Moved.\n",
      "Saving image...\n",
      "Saved.\n",
      "Moving image...\n",
      "Moved.\n",
      "Saving image...\n",
      "Saved.\n",
      "Moving image...\n",
      "Moved.\n",
      "Saving image...\n",
      "Saved.\n",
      "Moving image...\n",
      "Moved.\n",
      "Saving image...\n",
      "Saved.\n",
      "Moving image...\n",
      "Moved.\n",
      "Saving image...\n",
      "Saved.\n",
      "Moving image...\n",
      "Moved.\n",
      "Saving image...\n",
      "Saved.\n",
      "Moving image...\n",
      "Moved.\n",
      "Saving image...\n"
     ]
    },
    {
     "name": "stderr",
     "output_type": "stream",
     "text": [
      "Lossy conversion from float64 to uint8. Range [0, 1]. Convert image to uint8 prior to saving to suppress this warning.\n",
      "Lossy conversion from float64 to uint8. Range [0, 1]. Convert image to uint8 prior to saving to suppress this warning.\n",
      "Lossy conversion from float64 to uint8. Range [0, 1]. Convert image to uint8 prior to saving to suppress this warning.\n",
      "Lossy conversion from float64 to uint8. Range [0, 1]. Convert image to uint8 prior to saving to suppress this warning.\n",
      "Lossy conversion from float64 to uint8. Range [0, 1]. Convert image to uint8 prior to saving to suppress this warning.\n",
      "Lossy conversion from float64 to uint8. Range [0, 1]. Convert image to uint8 prior to saving to suppress this warning.\n",
      "Lossy conversion from float64 to uint8. Range [0, 1]. Convert image to uint8 prior to saving to suppress this warning.\n",
      "Lossy conversion from float64 to uint8. Range [0, 1]. Convert image to uint8 prior to saving to suppress this warning.\n",
      "Lossy conversion from float64 to uint8. Range [0, 1]. Convert image to uint8 prior to saving to suppress this warning.\n",
      "Lossy conversion from float64 to uint8. Range [0, 1]. Convert image to uint8 prior to saving to suppress this warning.\n",
      "Lossy conversion from float64 to uint8. Range [0, 1]. Convert image to uint8 prior to saving to suppress this warning.\n",
      "Lossy conversion from float64 to uint8. Range [0, 1]. Convert image to uint8 prior to saving to suppress this warning.\n"
     ]
    },
    {
     "name": "stdout",
     "output_type": "stream",
     "text": [
      "Saved.\n",
      "Moving image...\n",
      "Moved.\n",
      "Saving image...\n",
      "Saved.\n",
      "Moving image...\n",
      "Moved.\n",
      "Saving image...\n",
      "Saved.\n",
      "Moving image...\n",
      "Moved.\n",
      "Saving image...\n",
      "Saved.\n",
      "Moving image...\n",
      "Moved.\n",
      "Saving image...\n",
      "Saved.\n",
      "Moving image...\n",
      "Moved.\n",
      "Saving image...\n",
      "Saved.\n",
      "Moving image...\n",
      "Moved.\n",
      "Saving image...\n",
      "Saved.\n",
      "Moving image...\n",
      "Moved.\n",
      "Saving image...\n",
      "Saved.\n",
      "Moving image...\n",
      "Moved.\n",
      "Saving image...\n",
      "Saved.\n",
      "Moving image...\n",
      "Moved.\n",
      "Saving image...\n",
      "Saved.\n",
      "Moving image...\n",
      "Moved.\n",
      "Saving image...\n",
      "Saved.\n",
      "Moving image...\n",
      "Moved.\n",
      "Saving image...\n",
      "Saved.\n",
      "Moving image...\n",
      "Moved.\n",
      "Saving image...\n",
      "Saved.\n",
      "Moving image...\n"
     ]
    },
    {
     "name": "stderr",
     "output_type": "stream",
     "text": [
      "Lossy conversion from float64 to uint8. Range [0, 1]. Convert image to uint8 prior to saving to suppress this warning.\n",
      "Lossy conversion from float64 to uint8. Range [0, 1]. Convert image to uint8 prior to saving to suppress this warning.\n",
      "Lossy conversion from float64 to uint8. Range [0, 1]. Convert image to uint8 prior to saving to suppress this warning.\n",
      "Lossy conversion from float64 to uint8. Range [0, 1]. Convert image to uint8 prior to saving to suppress this warning.\n",
      "Lossy conversion from float64 to uint8. Range [0, 1]. Convert image to uint8 prior to saving to suppress this warning.\n",
      "Lossy conversion from float64 to uint8. Range [0, 1]. Convert image to uint8 prior to saving to suppress this warning.\n",
      "Lossy conversion from float64 to uint8. Range [0, 1]. Convert image to uint8 prior to saving to suppress this warning.\n",
      "Lossy conversion from float64 to uint8. Range [0, 1]. Convert image to uint8 prior to saving to suppress this warning.\n"
     ]
    },
    {
     "name": "stdout",
     "output_type": "stream",
     "text": [
      "Moved.\n",
      "Saving image...\n",
      "Saved.\n",
      "Moving image...\n",
      "Moved.\n",
      "Saving image...\n",
      "Saved.\n",
      "Moving image...\n",
      "Moved.\n",
      "Saving image...\n",
      "Saved.\n",
      "Moving image...\n",
      "Moved.\n",
      "Saving image...\n",
      "Saved.\n",
      "Moving image...\n",
      "Moved.\n",
      "Saving image...\n",
      "Saved.\n",
      "Moving image...\n",
      "Moved.\n",
      "Saving image...\n",
      "Saved.\n",
      "Moving image...\n",
      "Moved.\n",
      "Saving image...\n",
      "Saved.\n",
      "Moving image...\n",
      "Moved.\n",
      "Saving image...\n",
      "Saved.\n",
      "Moving image...\n",
      "Moved."
     ]
    },
    {
     "name": "stderr",
     "output_type": "stream",
     "text": [
      "Lossy conversion from float64 to uint8. Range [0, 1]. Convert image to uint8 prior to saving to suppress this warning.\n",
      "Lossy conversion from float64 to uint8. Range [0, 1]. Convert image to uint8 prior to saving to suppress this warning.\n",
      "Lossy conversion from float64 to uint8. Range [0, 1]. Convert image to uint8 prior to saving to suppress this warning.\n",
      "Lossy conversion from float64 to uint8. Range [0, 1]. Convert image to uint8 prior to saving to suppress this warning.\n",
      "Lossy conversion from float64 to uint8. Range [0, 1]. Convert image to uint8 prior to saving to suppress this warning.\n",
      "Lossy conversion from float64 to uint8. Range [0, 1]. Convert image to uint8 prior to saving to suppress this warning.\n",
      "Lossy conversion from float64 to uint8. Range [0, 1]. Convert image to uint8 prior to saving to suppress this warning.\n",
      "Lossy conversion from float64 to uint8. Range [0, 1]. Convert image to uint8 prior to saving to suppress this warning.\n",
      "Lossy conversion from float64 to uint8. Range [0, 1]. Convert image to uint8 prior to saving to suppress this warning.\n"
     ]
    },
    {
     "name": "stdout",
     "output_type": "stream",
     "text": [
      "\n",
      "Saving image...\n",
      "Saved.\n",
      "Moving image...\n",
      "Moved.\n",
      "Saving image...\n",
      "Saved.\n",
      "Moving image...\n",
      "Moved.\n",
      "Saving image...\n",
      "Saved.\n",
      "Moving image...\n",
      "Moved.\n",
      "Saving image...\n",
      "Saved.\n",
      "Moving image...\n",
      "Moved.\n",
      "Saving image...\n",
      "Saved.\n",
      "Moving image...\n",
      "Moved.\n",
      "Saving image...\n",
      "Saved.\n",
      "Moving image...\n",
      "Moved.\n",
      "Saving image...\n",
      "Saved.\n",
      "Moving image...\n",
      "Moved.\n",
      "Saving image...\n",
      "Saved.\n",
      "Moving image...\n",
      "Moved.\n",
      "Saving image...\n",
      "Saved.\n",
      "Moving image...\n"
     ]
    },
    {
     "name": "stderr",
     "output_type": "stream",
     "text": [
      "Lossy conversion from float64 to uint8. Range [0, 1]. Convert image to uint8 prior to saving to suppress this warning.\n",
      "Lossy conversion from float64 to uint8. Range [0, 1]. Convert image to uint8 prior to saving to suppress this warning.\n",
      "Lossy conversion from float64 to uint8. Range [0, 1]. Convert image to uint8 prior to saving to suppress this warning.\n",
      "Lossy conversion from float64 to uint8. Range [0, 1]. Convert image to uint8 prior to saving to suppress this warning.\n",
      "Lossy conversion from float64 to uint8. Range [0, 1]. Convert image to uint8 prior to saving to suppress this warning.\n",
      "Lossy conversion from float64 to uint8. Range [0, 1]. Convert image to uint8 prior to saving to suppress this warning.\n",
      "Lossy conversion from float64 to uint8. Range [0, 1]. Convert image to uint8 prior to saving to suppress this warning.\n",
      "Lossy conversion from float64 to uint8. Range [0, 1]. Convert image to uint8 prior to saving to suppress this warning.\n"
     ]
    },
    {
     "name": "stdout",
     "output_type": "stream",
     "text": [
      "Moved.\n",
      "Saving image...\n",
      "Saved.\n",
      "Moving image...\n",
      "Moved.\n",
      "Saving image...\n",
      "Saved.\n",
      "Moving image...\n",
      "Moved.\n",
      "Saving image...\n",
      "Saved.\n",
      "Moving image...\n",
      "Moved.\n",
      "Saving image...\n",
      "Saved.\n",
      "Moving image...\n",
      "Moved.\n",
      "Saving image...\n",
      "Saved.\n",
      "Moving image...\n",
      "Moved.\n",
      "Saving image...\n",
      "Saved.\n",
      "Moving image...\n",
      "Moved.\n",
      "Saving image...\n",
      "Saved.\n",
      "Moving image...\n",
      "Moved.\n",
      "Saving image...\n",
      "Saved.\n",
      "Moving image...\n"
     ]
    },
    {
     "name": "stderr",
     "output_type": "stream",
     "text": [
      "Lossy conversion from float64 to uint8. Range [0, 1]. Convert image to uint8 prior to saving to suppress this warning.\n",
      "Lossy conversion from float64 to uint8. Range [0, 1]. Convert image to uint8 prior to saving to suppress this warning.\n",
      "Lossy conversion from float64 to uint8. Range [0, 1]. Convert image to uint8 prior to saving to suppress this warning.\n",
      "Lossy conversion from float64 to uint8. Range [0, 1]. Convert image to uint8 prior to saving to suppress this warning.\n",
      "Lossy conversion from float64 to uint8. Range [0, 1]. Convert image to uint8 prior to saving to suppress this warning.\n",
      "Lossy conversion from float64 to uint8. Range [0, 1]. Convert image to uint8 prior to saving to suppress this warning.\n",
      "Lossy conversion from float64 to uint8. Range [0, 1]. Convert image to uint8 prior to saving to suppress this warning.\n"
     ]
    },
    {
     "name": "stdout",
     "output_type": "stream",
     "text": [
      "Moved.\n",
      "Saving image...\n",
      "Saved.\n",
      "Moving image...\n",
      "Moved.\n",
      "Saving image...\n",
      "Saved.\n",
      "Moving image...\n",
      "Moved.\n",
      "Saving image...\n",
      "Saved.\n",
      "Moving image...\n",
      "Moved.\n",
      "Saving image...\n",
      "Saved.\n",
      "Moving image...\n",
      "Moved.\n",
      "Saving image...\n",
      "Saved.\n",
      "Moving image...\n",
      "Moved.\n",
      "Saving image...\n",
      "Saved.\n",
      "Moving image...\n",
      "Moved.\n",
      "Saving image...\n",
      "Saved.\n",
      "Moving image...\n"
     ]
    },
    {
     "name": "stderr",
     "output_type": "stream",
     "text": [
      "Lossy conversion from float64 to uint8. Range [0, 1]. Convert image to uint8 prior to saving to suppress this warning.\n",
      "Lossy conversion from float64 to uint8. Range [0, 1]. Convert image to uint8 prior to saving to suppress this warning.\n",
      "Lossy conversion from float64 to uint8. Range [0, 1]. Convert image to uint8 prior to saving to suppress this warning.\n",
      "Lossy conversion from float64 to uint8. Range [0, 1]. Convert image to uint8 prior to saving to suppress this warning.\n",
      "Lossy conversion from float64 to uint8. Range [0, 1]. Convert image to uint8 prior to saving to suppress this warning.\n",
      "Lossy conversion from float64 to uint8. Range [0, 1]. Convert image to uint8 prior to saving to suppress this warning.\n",
      "Lossy conversion from float64 to uint8. Range [0, 1]. Convert image to uint8 prior to saving to suppress this warning.\n"
     ]
    },
    {
     "name": "stdout",
     "output_type": "stream",
     "text": [
      "Moved.\n",
      "Saving image...\n",
      "Saved.\n",
      "Moving image...\n",
      "Moved.\n",
      "Saving image...\n",
      "Saved.\n",
      "Moving image...\n",
      "Moved.\n",
      "Saving image...\n",
      "Saved.\n",
      "Moving image...\n",
      "Moved.\n",
      "Saving image...\n",
      "Saved.\n",
      "Moving image...\n",
      "Moved.\n",
      "Saving image...\n",
      "Saved.\n",
      "Moving image...\n",
      "Moved.\n",
      "Saving image...\n",
      "Saved.\n",
      "Moving image...\n",
      "Moved.\n",
      "Saving image...\n",
      "Saved.\n",
      "Moving image...\n"
     ]
    },
    {
     "name": "stderr",
     "output_type": "stream",
     "text": [
      "Lossy conversion from float64 to uint8. Range [0, 1]. Convert image to uint8 prior to saving to suppress this warning.\n",
      "Lossy conversion from float64 to uint8. Range [0, 1]. Convert image to uint8 prior to saving to suppress this warning.\n",
      "Lossy conversion from float64 to uint8. Range [0, 1]. Convert image to uint8 prior to saving to suppress this warning.\n",
      "Lossy conversion from float64 to uint8. Range [0, 1]. Convert image to uint8 prior to saving to suppress this warning.\n",
      "Lossy conversion from float64 to uint8. Range [0, 1]. Convert image to uint8 prior to saving to suppress this warning.\n",
      "Lossy conversion from float64 to uint8. Range [0, 1]. Convert image to uint8 prior to saving to suppress this warning.\n",
      "Lossy conversion from float64 to uint8. Range [0, 1]. Convert image to uint8 prior to saving to suppress this warning.\n"
     ]
    },
    {
     "name": "stdout",
     "output_type": "stream",
     "text": [
      "Moved.\n",
      "Saving image...\n",
      "Saved.\n",
      "Moving image...\n",
      "Moved.\n",
      "Saving image...\n",
      "Saved.\n",
      "Moving image...\n",
      "Moved.\n",
      "Saving image...\n",
      "Saved.\n",
      "Moving image...\n",
      "Moved.\n",
      "Saving image...\n",
      "Saved.\n",
      "Moving image...\n",
      "Moved.\n",
      "Saving image...\n",
      "Saved.\n",
      "Moving image...\n",
      "Moved.\n",
      "Saving image...\n",
      "Saved.\n",
      "Moving image...\n",
      "Moved.\n",
      "Saving image...\n",
      "Saved.\n",
      "Moving image...\n"
     ]
    },
    {
     "name": "stderr",
     "output_type": "stream",
     "text": [
      "Lossy conversion from float64 to uint8. Range [0, 1]. Convert image to uint8 prior to saving to suppress this warning.\n",
      "Lossy conversion from float64 to uint8. Range [0, 1]. Convert image to uint8 prior to saving to suppress this warning.\n",
      "Lossy conversion from float64 to uint8. Range [0, 1]. Convert image to uint8 prior to saving to suppress this warning.\n",
      "Lossy conversion from float64 to uint8. Range [0, 1]. Convert image to uint8 prior to saving to suppress this warning.\n",
      "Lossy conversion from float64 to uint8. Range [0, 1]. Convert image to uint8 prior to saving to suppress this warning.\n",
      "Lossy conversion from float64 to uint8. Range [0, 1]. Convert image to uint8 prior to saving to suppress this warning.\n",
      "Lossy conversion from float64 to uint8. Range [0, 1]. Convert image to uint8 prior to saving to suppress this warning.\n"
     ]
    },
    {
     "name": "stdout",
     "output_type": "stream",
     "text": [
      "Moved.\n",
      "Saving image...\n",
      "Saved.\n",
      "Moving image...\n",
      "Moved.\n",
      "Saving image...\n",
      "Saved.\n",
      "Moving image...\n",
      "Moved.\n",
      "Saving image...\n",
      "Saved.\n",
      "Moving image...\n",
      "Moved.\n",
      "Saving image...\n",
      "Saved.\n",
      "Moving image...\n",
      "Moved.\n",
      "Saving image...\n",
      "Saved.\n",
      "Moving image...\n",
      "Moved.\n",
      "Saving image...\n",
      "Saved.\n",
      "Moving image...\n",
      "Moved.\n",
      "Saving image...\n",
      "Saved.\n",
      "Moving image...\n"
     ]
    },
    {
     "name": "stderr",
     "output_type": "stream",
     "text": [
      "Lossy conversion from float64 to uint8. Range [0, 1]. Convert image to uint8 prior to saving to suppress this warning.\n",
      "Lossy conversion from float64 to uint8. Range [0, 1]. Convert image to uint8 prior to saving to suppress this warning.\n",
      "Lossy conversion from float64 to uint8. Range [0, 1]. Convert image to uint8 prior to saving to suppress this warning.\n",
      "Lossy conversion from float64 to uint8. Range [0, 1]. Convert image to uint8 prior to saving to suppress this warning.\n",
      "Lossy conversion from float64 to uint8. Range [0, 1]. Convert image to uint8 prior to saving to suppress this warning.\n",
      "Lossy conversion from float64 to uint8. Range [0, 1]. Convert image to uint8 prior to saving to suppress this warning.\n",
      "Lossy conversion from float64 to uint8. Range [0, 1]. Convert image to uint8 prior to saving to suppress this warning.\n"
     ]
    },
    {
     "name": "stdout",
     "output_type": "stream",
     "text": [
      "Moved.\n",
      "Saving image...\n",
      "Saved.\n",
      "Moving image...\n",
      "Moved.\n",
      "Saving image...\n",
      "Saved.\n",
      "Moving image...\n",
      "Moved.\n",
      "Saving image...\n",
      "Saved.\n",
      "Moving image...\n",
      "Moved.\n",
      "Saving image...\n",
      "Saved.\n",
      "Moving image...\n",
      "Moved.\n",
      "Saving image...\n",
      "Saved.\n",
      "Moving image...\n",
      "Moved.\n",
      "Saving image...\n",
      "Saved.\n",
      "Moving image...\n",
      "Moved.\n",
      "Saving image...\n",
      "Saved.\n",
      "Moving image...\n"
     ]
    },
    {
     "name": "stderr",
     "output_type": "stream",
     "text": [
      "Lossy conversion from float64 to uint8. Range [0, 1]. Convert image to uint8 prior to saving to suppress this warning.\n",
      "Lossy conversion from float64 to uint8. Range [0, 1]. Convert image to uint8 prior to saving to suppress this warning.\n",
      "Lossy conversion from float64 to uint8. Range [0, 1]. Convert image to uint8 prior to saving to suppress this warning.\n",
      "Lossy conversion from float64 to uint8. Range [0, 1]. Convert image to uint8 prior to saving to suppress this warning.\n",
      "Lossy conversion from float64 to uint8. Range [0, 1]. Convert image to uint8 prior to saving to suppress this warning.\n",
      "Lossy conversion from float64 to uint8. Range [0, 1]. Convert image to uint8 prior to saving to suppress this warning.\n",
      "Lossy conversion from float64 to uint8. Range [0, 1]. Convert image to uint8 prior to saving to suppress this warning.\n"
     ]
    },
    {
     "name": "stdout",
     "output_type": "stream",
     "text": [
      "Moved.\n",
      "Saving image...\n",
      "Saved.\n",
      "Moving image...\n",
      "Moved.\n",
      "Saving image...\n",
      "Saved.\n",
      "Moving image...\n",
      "Moved.\n",
      "Saving image...\n",
      "Saved.\n",
      "Moving image...\n",
      "Moved.\n",
      "Saving image...\n",
      "Saved.\n",
      "Moving image...\n",
      "Moved.\n",
      "Saving image...\n",
      "Saved.\n",
      "Moving image...\n",
      "Moved.\n",
      "Saving image...\n",
      "Saved.\n",
      "Moving image...\n",
      "Moved.\n",
      "Saving image...\n",
      "Saved.\n",
      "Moving image...\n"
     ]
    },
    {
     "name": "stderr",
     "output_type": "stream",
     "text": [
      "Lossy conversion from float64 to uint8. Range [0, 1]. Convert image to uint8 prior to saving to suppress this warning.\n",
      "Lossy conversion from float64 to uint8. Range [0, 1]. Convert image to uint8 prior to saving to suppress this warning.\n",
      "Lossy conversion from float64 to uint8. Range [0, 1]. Convert image to uint8 prior to saving to suppress this warning.\n",
      "Lossy conversion from float64 to uint8. Range [0, 1]. Convert image to uint8 prior to saving to suppress this warning.\n",
      "Lossy conversion from float64 to uint8. Range [0, 1]. Convert image to uint8 prior to saving to suppress this warning.\n",
      "Lossy conversion from float64 to uint8. Range [0, 1]. Convert image to uint8 prior to saving to suppress this warning.\n",
      "Lossy conversion from float64 to uint8. Range [0, 1]. Convert image to uint8 prior to saving to suppress this warning.\n"
     ]
    },
    {
     "name": "stdout",
     "output_type": "stream",
     "text": [
      "Moved.\n",
      "Saving image...\n",
      "Saved.\n",
      "Moving image...\n",
      "Moved.\n",
      "Saving image...\n",
      "Saved.\n",
      "Moving image...\n",
      "Moved.\n",
      "Saving image...\n",
      "Saved.\n",
      "Moving image...\n",
      "Moved.\n",
      "Saving image...\n",
      "Saved.\n",
      "Moving image...\n",
      "Moved.\n",
      "Saving image...\n",
      "Saved.\n",
      "Moving image...\n",
      "Moved.\n",
      "Saving image...\n",
      "Saved.\n",
      "Moving image...\n",
      "Moved.\n",
      "Saving image...\n",
      "Saved.\n",
      "Moving image...\n"
     ]
    },
    {
     "name": "stderr",
     "output_type": "stream",
     "text": [
      "Lossy conversion from float64 to uint8. Range [0, 1]. Convert image to uint8 prior to saving to suppress this warning.\n",
      "Lossy conversion from float64 to uint8. Range [0, 1]. Convert image to uint8 prior to saving to suppress this warning.\n",
      "Lossy conversion from float64 to uint8. Range [0, 1]. Convert image to uint8 prior to saving to suppress this warning.\n",
      "Lossy conversion from float64 to uint8. Range [0, 1]. Convert image to uint8 prior to saving to suppress this warning.\n",
      "Lossy conversion from float64 to uint8. Range [0, 1]. Convert image to uint8 prior to saving to suppress this warning.\n",
      "Lossy conversion from float64 to uint8. Range [0, 1]. Convert image to uint8 prior to saving to suppress this warning.\n",
      "Lossy conversion from float64 to uint8. Range [0, 1]. Convert image to uint8 prior to saving to suppress this warning.\n"
     ]
    },
    {
     "name": "stdout",
     "output_type": "stream",
     "text": [
      "Moved.\n",
      "Saving image...\n",
      "Saved.\n",
      "Moving image...\n",
      "Moved.\n",
      "Saving image...\n",
      "Saved.\n",
      "Moving image...\n",
      "Moved.\n",
      "Saving image...\n",
      "Saved.\n",
      "Moving image...\n",
      "Moved.\n",
      "Saving image...\n",
      "Saved.\n",
      "Moving image...\n",
      "Moved.\n",
      "Saving image...\n",
      "Saved.\n",
      "Moving image...\n",
      "Moved.\n",
      "Saving image...\n",
      "Saved.\n",
      "Moving image...\n",
      "Moved.\n",
      "Saving image...\n",
      "Saved.\n",
      "Moving image...\n"
     ]
    },
    {
     "name": "stderr",
     "output_type": "stream",
     "text": [
      "Lossy conversion from float64 to uint8. Range [0, 1]. Convert image to uint8 prior to saving to suppress this warning.\n",
      "Lossy conversion from float64 to uint8. Range [0, 1]. Convert image to uint8 prior to saving to suppress this warning.\n",
      "Lossy conversion from float64 to uint8. Range [0, 1]. Convert image to uint8 prior to saving to suppress this warning.\n",
      "Lossy conversion from float64 to uint8. Range [0, 1]. Convert image to uint8 prior to saving to suppress this warning.\n",
      "Lossy conversion from float64 to uint8. Range [0, 1]. Convert image to uint8 prior to saving to suppress this warning.\n",
      "Lossy conversion from float64 to uint8. Range [0, 1]. Convert image to uint8 prior to saving to suppress this warning.\n",
      "Lossy conversion from float64 to uint8. Range [0, 1]. Convert image to uint8 prior to saving to suppress this warning.\n"
     ]
    },
    {
     "name": "stdout",
     "output_type": "stream",
     "text": [
      "Moved.\n",
      "Saving image...\n",
      "Saved.\n",
      "Moving image...\n",
      "Moved.\n",
      "Saving image...\n",
      "Saved.\n",
      "Moving image...\n",
      "Moved.\n",
      "Saving image...\n",
      "Saved.\n",
      "Moving image...\n",
      "Moved.\n",
      "Saving image...\n",
      "Saved.\n",
      "Moving image...\n",
      "Moved.\n",
      "Saving image...\n",
      "Saved.\n",
      "Moving image...\n",
      "Moved.\n",
      "Saving image...\n",
      "Saved.\n",
      "Moving image...\n",
      "Moved.\n",
      "Saving image...\n",
      "Saved.\n",
      "Moving image...\n"
     ]
    },
    {
     "name": "stderr",
     "output_type": "stream",
     "text": [
      "Lossy conversion from float64 to uint8. Range [0, 1]. Convert image to uint8 prior to saving to suppress this warning.\n",
      "Lossy conversion from float64 to uint8. Range [0, 1]. Convert image to uint8 prior to saving to suppress this warning.\n",
      "Lossy conversion from float64 to uint8. Range [0, 1]. Convert image to uint8 prior to saving to suppress this warning.\n",
      "Lossy conversion from float64 to uint8. Range [0, 1]. Convert image to uint8 prior to saving to suppress this warning.\n",
      "Lossy conversion from float64 to uint8. Range [0, 1]. Convert image to uint8 prior to saving to suppress this warning.\n",
      "Lossy conversion from float64 to uint8. Range [0, 1]. Convert image to uint8 prior to saving to suppress this warning.\n",
      "Lossy conversion from float64 to uint8. Range [0, 1]. Convert image to uint8 prior to saving to suppress this warning.\n"
     ]
    },
    {
     "name": "stdout",
     "output_type": "stream",
     "text": [
      "Moved.\n",
      "Saving image...\n",
      "Saved.\n",
      "Moving image...\n",
      "Moved.\n",
      "Saving image...\n",
      "Saved.\n",
      "Moving image...\n",
      "Moved.\n",
      "Saving image...\n",
      "Saved.\n",
      "Moving image...\n",
      "Moved.\n",
      "Saving image...\n",
      "Saved.\n",
      "Moving image...\n",
      "Moved.\n",
      "Saving image...\n",
      "Saved.\n",
      "Moving image...\n",
      "Moved.\n",
      "Saving image...\n",
      "Saved.\n",
      "Moving image...\n",
      "Moved.\n",
      "Saving image...\n",
      "Saved.\n",
      "Moving image...\n",
      "Moved."
     ]
    },
    {
     "name": "stderr",
     "output_type": "stream",
     "text": [
      "Lossy conversion from float64 to uint8. Range [0, 1]. Convert image to uint8 prior to saving to suppress this warning.\n",
      "Lossy conversion from float64 to uint8. Range [0, 1]. Convert image to uint8 prior to saving to suppress this warning.\n",
      "Lossy conversion from float64 to uint8. Range [0, 1]. Convert image to uint8 prior to saving to suppress this warning.\n",
      "Lossy conversion from float64 to uint8. Range [0, 1]. Convert image to uint8 prior to saving to suppress this warning.\n",
      "Lossy conversion from float64 to uint8. Range [0, 1]. Convert image to uint8 prior to saving to suppress this warning.\n",
      "Lossy conversion from float64 to uint8. Range [0, 1]. Convert image to uint8 prior to saving to suppress this warning.\n",
      "Lossy conversion from float64 to uint8. Range [0, 1]. Convert image to uint8 prior to saving to suppress this warning.\n"
     ]
    },
    {
     "name": "stdout",
     "output_type": "stream",
     "text": [
      "\n",
      "Saving image...\n",
      "Saved.\n",
      "Moving image...\n",
      "Moved.\n",
      "Saving image...\n",
      "Saved.\n",
      "Moving image...\n",
      "Moved.\n",
      "Saving image...\n",
      "Saved.\n",
      "Moving image...\n",
      "Moved.\n",
      "Saving image...\n",
      "Saved.\n",
      "Moving image...\n",
      "Moved.\n",
      "Saving image...\n",
      "Saved.\n",
      "Moving image...\n",
      "Moved.\n",
      "Saving image...\n",
      "Saved.\n",
      "Moving image...\n",
      "Moved.\n",
      "Saving image...\n",
      "Saved.\n",
      "Moving image...\n",
      "Moved."
     ]
    },
    {
     "name": "stderr",
     "output_type": "stream",
     "text": [
      "Lossy conversion from float64 to uint8. Range [0, 1]. Convert image to uint8 prior to saving to suppress this warning.\n",
      "Lossy conversion from float64 to uint8. Range [0, 1]. Convert image to uint8 prior to saving to suppress this warning.\n",
      "Lossy conversion from float64 to uint8. Range [0, 1]. Convert image to uint8 prior to saving to suppress this warning.\n",
      "Lossy conversion from float64 to uint8. Range [0, 1]. Convert image to uint8 prior to saving to suppress this warning.\n",
      "Lossy conversion from float64 to uint8. Range [0, 1]. Convert image to uint8 prior to saving to suppress this warning.\n",
      "Lossy conversion from float64 to uint8. Range [0, 1]. Convert image to uint8 prior to saving to suppress this warning.\n",
      "Lossy conversion from float64 to uint8. Range [0, 1]. Convert image to uint8 prior to saving to suppress this warning.\n",
      "Lossy conversion from float64 to uint8. Range [0, 1]. Convert image to uint8 prior to saving to suppress this warning.\n"
     ]
    },
    {
     "name": "stdout",
     "output_type": "stream",
     "text": [
      "\n",
      "Saving image...\n",
      "Saved.\n",
      "Moving image...\n",
      "Moved.\n",
      "Saving image...\n",
      "Saved.\n",
      "Moving image...\n",
      "Moved.\n",
      "Saving image...\n",
      "Saved.\n",
      "Moving image...\n",
      "Moved.\n",
      "Saving image...\n",
      "Saved.\n",
      "Moving image...\n",
      "Moved.\n",
      "Saving image...\n",
      "Saved.\n",
      "Moving image...\n",
      "Moved.\n",
      "Saving image...\n",
      "Saved.\n",
      "Moving image...\n",
      "Moved.\n",
      "Saving image...\n",
      "Saved.\n",
      "Moving image...\n",
      "Moved.\n",
      "Saving image...\n",
      "Saved."
     ]
    },
    {
     "name": "stderr",
     "output_type": "stream",
     "text": [
      "Lossy conversion from float64 to uint8. Range [0, 1]. Convert image to uint8 prior to saving to suppress this warning.\n",
      "Lossy conversion from float64 to uint8. Range [0, 1]. Convert image to uint8 prior to saving to suppress this warning.\n",
      "Lossy conversion from float64 to uint8. Range [0, 1]. Convert image to uint8 prior to saving to suppress this warning.\n",
      "Lossy conversion from float64 to uint8. Range [0, 1]. Convert image to uint8 prior to saving to suppress this warning.\n",
      "Lossy conversion from float64 to uint8. Range [0, 1]. Convert image to uint8 prior to saving to suppress this warning.\n",
      "Lossy conversion from float64 to uint8. Range [0, 1]. Convert image to uint8 prior to saving to suppress this warning.\n",
      "Lossy conversion from float64 to uint8. Range [0, 1]. Convert image to uint8 prior to saving to suppress this warning.\n"
     ]
    },
    {
     "name": "stdout",
     "output_type": "stream",
     "text": [
      "\n",
      "Moving image...\n",
      "Moved.\n",
      "Saving image...\n",
      "Saved.\n",
      "Moving image...\n",
      "Moved.\n",
      "Saving image...\n",
      "Saved.\n",
      "Moving image...\n",
      "Moved.\n",
      "Saving image...\n",
      "Saved.\n",
      "Moving image...\n",
      "Moved.\n",
      "Saving image...\n",
      "Saved.\n",
      "Moving image...\n",
      "Moved.\n",
      "Saving image...\n",
      "Saved.\n",
      "Moving image...\n",
      "Moved.\n",
      "Saving image...\n",
      "Saved.\n",
      "Moving image...\n",
      "Moved.\n",
      "Saving image...\n",
      "Saved.\n",
      "Moving image...\n"
     ]
    },
    {
     "name": "stderr",
     "output_type": "stream",
     "text": [
      "Lossy conversion from float64 to uint8. Range [0, 1]. Convert image to uint8 prior to saving to suppress this warning.\n",
      "Lossy conversion from float64 to uint8. Range [0, 1]. Convert image to uint8 prior to saving to suppress this warning.\n",
      "Lossy conversion from float64 to uint8. Range [0, 1]. Convert image to uint8 prior to saving to suppress this warning.\n",
      "Lossy conversion from float64 to uint8. Range [0, 1]. Convert image to uint8 prior to saving to suppress this warning.\n",
      "Lossy conversion from float64 to uint8. Range [0, 1]. Convert image to uint8 prior to saving to suppress this warning.\n",
      "Lossy conversion from float64 to uint8. Range [0, 1]. Convert image to uint8 prior to saving to suppress this warning.\n",
      "Lossy conversion from float64 to uint8. Range [0, 1]. Convert image to uint8 prior to saving to suppress this warning.\n"
     ]
    },
    {
     "name": "stdout",
     "output_type": "stream",
     "text": [
      "Moved.\n",
      "Saving image...\n",
      "Saved.\n",
      "Moving image...\n",
      "Moved.\n",
      "Saving image...\n",
      "Saved.\n",
      "Moving image...\n",
      "Moved.\n",
      "Saving image...\n",
      "Saved.\n",
      "Moving image...\n",
      "Moved.\n",
      "Saving image...\n",
      "Saved.\n",
      "Moving image...\n",
      "Moved.\n",
      "Saving image...\n",
      "Saved.\n",
      "Moving image...\n",
      "Moved.\n",
      "Saving image...\n",
      "Saved.\n",
      "Moving image...\n",
      "Moved.\n",
      "Saving image...\n",
      "Saved.\n",
      "Moving image...\n"
     ]
    },
    {
     "name": "stderr",
     "output_type": "stream",
     "text": [
      "Lossy conversion from float64 to uint8. Range [0, 1]. Convert image to uint8 prior to saving to suppress this warning.\n",
      "Lossy conversion from float64 to uint8. Range [0, 1]. Convert image to uint8 prior to saving to suppress this warning.\n",
      "Lossy conversion from float64 to uint8. Range [0, 1]. Convert image to uint8 prior to saving to suppress this warning.\n",
      "Lossy conversion from float64 to uint8. Range [0, 1]. Convert image to uint8 prior to saving to suppress this warning.\n",
      "Lossy conversion from float64 to uint8. Range [0, 1]. Convert image to uint8 prior to saving to suppress this warning.\n",
      "Lossy conversion from float64 to uint8. Range [0, 1]. Convert image to uint8 prior to saving to suppress this warning.\n",
      "Lossy conversion from float64 to uint8. Range [0, 1]. Convert image to uint8 prior to saving to suppress this warning.\n"
     ]
    },
    {
     "name": "stdout",
     "output_type": "stream",
     "text": [
      "Moved.\n",
      "Saving image...\n",
      "Saved.\n",
      "Moving image...\n",
      "Moved.\n",
      "Saving image...\n",
      "Saved.\n",
      "Moving image...\n",
      "Moved.\n",
      "Saving image...\n",
      "Saved.\n",
      "Moving image...\n",
      "Moved.\n",
      "Saving image...\n",
      "Saved.\n",
      "Moving image...\n",
      "Moved.\n",
      "Saving image...\n",
      "Saved.\n",
      "Moving image...\n",
      "Moved.\n",
      "Saving image...\n",
      "Saved.\n",
      "Moving image...\n",
      "Moved.\n",
      "Saving image...\n",
      "Saved.\n",
      "Moving image...\n"
     ]
    },
    {
     "name": "stderr",
     "output_type": "stream",
     "text": [
      "Lossy conversion from float64 to uint8. Range [0, 1]. Convert image to uint8 prior to saving to suppress this warning.\n",
      "Lossy conversion from float64 to uint8. Range [0, 1]. Convert image to uint8 prior to saving to suppress this warning.\n",
      "Lossy conversion from float64 to uint8. Range [0, 1]. Convert image to uint8 prior to saving to suppress this warning.\n",
      "Lossy conversion from float64 to uint8. Range [0, 1]. Convert image to uint8 prior to saving to suppress this warning.\n",
      "Lossy conversion from float64 to uint8. Range [0, 1]. Convert image to uint8 prior to saving to suppress this warning.\n",
      "Lossy conversion from float64 to uint8. Range [0, 1]. Convert image to uint8 prior to saving to suppress this warning.\n",
      "Lossy conversion from float64 to uint8. Range [0, 1]. Convert image to uint8 prior to saving to suppress this warning.\n",
      "Lossy conversion from float64 to uint8. Range [0, 1]. Convert image to uint8 prior to saving to suppress this warning.\n"
     ]
    },
    {
     "name": "stdout",
     "output_type": "stream",
     "text": [
      "Moved.\n",
      "Saving image...\n",
      "Saved.\n",
      "Moving image...\n",
      "Moved.\n",
      "Saving image...\n",
      "Saved.\n",
      "Moving image...\n",
      "Moved.\n",
      "Saving image...\n",
      "Saved.\n",
      "Moving image...\n",
      "Moved.\n",
      "Saving image...\n",
      "Saved.\n",
      "Moving image...\n",
      "Moved.\n",
      "Saving image...\n",
      "Saved.\n",
      "Moving image...\n",
      "Moved.\n",
      "Saving image...\n",
      "Saved.\n",
      "Moving image...\n",
      "Moved.\n",
      "Saving image...\n",
      "Saved.\n",
      "Moving image...\n",
      "Moved.\n",
      "Saving image...\n"
     ]
    },
    {
     "name": "stderr",
     "output_type": "stream",
     "text": [
      "Lossy conversion from float64 to uint8. Range [0, 1]. Convert image to uint8 prior to saving to suppress this warning.\n",
      "Lossy conversion from float64 to uint8. Range [0, 1]. Convert image to uint8 prior to saving to suppress this warning.\n",
      "Lossy conversion from float64 to uint8. Range [0, 1]. Convert image to uint8 prior to saving to suppress this warning.\n",
      "Lossy conversion from float64 to uint8. Range [0, 1]. Convert image to uint8 prior to saving to suppress this warning.\n",
      "Lossy conversion from float64 to uint8. Range [0, 1]. Convert image to uint8 prior to saving to suppress this warning.\n",
      "Lossy conversion from float64 to uint8. Range [0, 1]. Convert image to uint8 prior to saving to suppress this warning.\n",
      "Lossy conversion from float64 to uint8. Range [0, 1]. Convert image to uint8 prior to saving to suppress this warning.\n",
      "Lossy conversion from float64 to uint8. Range [0, 1]. Convert image to uint8 prior to saving to suppress this warning.\n"
     ]
    },
    {
     "name": "stdout",
     "output_type": "stream",
     "text": [
      "Saved.\n",
      "Moving image...\n",
      "Moved.\n",
      "Saving image...\n",
      "Saved.\n",
      "Moving image...\n",
      "Moved.\n",
      "Saving image...\n",
      "Saved.\n",
      "Moving image...\n",
      "Moved.\n",
      "Saving image...\n",
      "Saved.\n",
      "Moving image...\n",
      "Moved.\n",
      "Saving image...\n",
      "Saved.\n",
      "Moving image...\n",
      "Moved.\n",
      "Saving image...\n",
      "Saved.\n",
      "Moving image...\n",
      "Moved.\n",
      "Saving image...\n",
      "Saved.\n",
      "Moving image...\n",
      "Moved.\n",
      "Saving image...\n",
      "Saved.\n",
      "Moving image...\n",
      "Moved.\n",
      "Saving image...\n",
      "Saved.\n",
      "Moving image...\n"
     ]
    },
    {
     "name": "stderr",
     "output_type": "stream",
     "text": [
      "Lossy conversion from float64 to uint8. Range [0, 1]. Convert image to uint8 prior to saving to suppress this warning.\n",
      "Lossy conversion from float64 to uint8. Range [0, 1]. Convert image to uint8 prior to saving to suppress this warning.\n",
      "Lossy conversion from float64 to uint8. Range [0, 1]. Convert image to uint8 prior to saving to suppress this warning.\n",
      "Lossy conversion from float64 to uint8. Range [0, 1]. Convert image to uint8 prior to saving to suppress this warning.\n",
      "Lossy conversion from float64 to uint8. Range [0, 1]. Convert image to uint8 prior to saving to suppress this warning.\n",
      "Lossy conversion from float64 to uint8. Range [0, 1]. Convert image to uint8 prior to saving to suppress this warning.\n",
      "Lossy conversion from float64 to uint8. Range [0, 1]. Convert image to uint8 prior to saving to suppress this warning.\n",
      "Lossy conversion from float64 to uint8. Range [0, 1]. Convert image to uint8 prior to saving to suppress this warning.\n"
     ]
    },
    {
     "name": "stdout",
     "output_type": "stream",
     "text": [
      "Moved.\n",
      "Saving image...\n",
      "Saved.\n",
      "Moving image...\n",
      "Moved.\n",
      "Saving image...\n",
      "Saved.\n",
      "Moving image...\n",
      "Moved.\n",
      "Saving image...\n",
      "Saved.\n",
      "Moving image...\n",
      "Moved.\n",
      "Saving image...\n",
      "Saved.\n",
      "Moving image...\n",
      "Moved.\n",
      "Saving image...\n",
      "Saved.\n",
      "Moving image...\n",
      "Moved.\n",
      "Saving image...\n",
      "Saved.\n",
      "Moving image...\n",
      "Moved.\n",
      "Saving image...\n",
      "Saved.\n",
      "Moving image...\n",
      "Moved.\n",
      "Saving image...\n",
      "Saved.\n",
      "Moving image...\n"
     ]
    },
    {
     "name": "stderr",
     "output_type": "stream",
     "text": [
      "Lossy conversion from float64 to uint8. Range [0, 1]. Convert image to uint8 prior to saving to suppress this warning.\n",
      "Lossy conversion from float64 to uint8. Range [0, 1]. Convert image to uint8 prior to saving to suppress this warning.\n",
      "Lossy conversion from float64 to uint8. Range [0, 1]. Convert image to uint8 prior to saving to suppress this warning.\n",
      "Lossy conversion from float64 to uint8. Range [0, 1]. Convert image to uint8 prior to saving to suppress this warning.\n",
      "Lossy conversion from float64 to uint8. Range [0, 1]. Convert image to uint8 prior to saving to suppress this warning.\n",
      "Lossy conversion from float64 to uint8. Range [0, 1]. Convert image to uint8 prior to saving to suppress this warning.\n",
      "Lossy conversion from float64 to uint8. Range [0, 1]. Convert image to uint8 prior to saving to suppress this warning.\n"
     ]
    },
    {
     "name": "stdout",
     "output_type": "stream",
     "text": [
      "Moved.\n",
      "Saving image...\n",
      "Saved.\n",
      "Moving image...\n",
      "Moved.\n",
      "Saving image...\n",
      "Saved.\n",
      "Moving image...\n",
      "Moved.\n",
      "Saving image...\n",
      "Saved.\n",
      "Moving image...\n",
      "Moved.\n",
      "Saving image...\n",
      "Saved.\n",
      "Moving image...\n",
      "Moved.\n",
      "Saving image...\n",
      "Saved.\n",
      "Moving image...\n",
      "Moved.\n",
      "Saving image...\n",
      "Saved.\n",
      "Moving image...\n",
      "Moved.\n",
      "Saving image...\n",
      "Saved.\n",
      "Moving image...\n"
     ]
    },
    {
     "name": "stderr",
     "output_type": "stream",
     "text": [
      "Lossy conversion from float64 to uint8. Range [0, 1]. Convert image to uint8 prior to saving to suppress this warning.\n",
      "Lossy conversion from float64 to uint8. Range [0, 1]. Convert image to uint8 prior to saving to suppress this warning.\n",
      "Lossy conversion from float64 to uint8. Range [0, 1]. Convert image to uint8 prior to saving to suppress this warning.\n",
      "Lossy conversion from float64 to uint8. Range [0, 1]. Convert image to uint8 prior to saving to suppress this warning.\n",
      "Lossy conversion from float64 to uint8. Range [0, 1]. Convert image to uint8 prior to saving to suppress this warning.\n",
      "Lossy conversion from float64 to uint8. Range [0, 1]. Convert image to uint8 prior to saving to suppress this warning.\n",
      "Lossy conversion from float64 to uint8. Range [0, 1]. Convert image to uint8 prior to saving to suppress this warning.\n",
      "Lossy conversion from float64 to uint8. Range [0, 1]. Convert image to uint8 prior to saving to suppress this warning.\n"
     ]
    },
    {
     "name": "stdout",
     "output_type": "stream",
     "text": [
      "Moved.\n",
      "Saving image...\n",
      "Saved.\n",
      "Moving image...\n",
      "Moved.\n",
      "Saving image...\n",
      "Saved.\n",
      "Moving image...\n",
      "Moved.\n",
      "Saving image...\n",
      "Saved.\n",
      "Moving image...\n",
      "Moved.\n",
      "Saving image...\n",
      "Saved.\n",
      "Moving image...\n",
      "Moved.\n",
      "Saving image...\n",
      "Saved.\n",
      "Moving image...\n",
      "Moved.\n",
      "Saving image...\n",
      "Saved.\n",
      "Moving image...\n",
      "Moved.\n",
      "Saving image...\n",
      "Saved.\n",
      "Moving image...\n",
      "Moved.\n",
      "Saving image...\n",
      "Saved."
     ]
    },
    {
     "name": "stderr",
     "output_type": "stream",
     "text": [
      "Lossy conversion from float64 to uint8. Range [0, 1]. Convert image to uint8 prior to saving to suppress this warning.\n",
      "Lossy conversion from float64 to uint8. Range [0, 1]. Convert image to uint8 prior to saving to suppress this warning.\n",
      "Lossy conversion from float64 to uint8. Range [0, 1]. Convert image to uint8 prior to saving to suppress this warning.\n",
      "Lossy conversion from float64 to uint8. Range [0, 1]. Convert image to uint8 prior to saving to suppress this warning.\n",
      "Lossy conversion from float64 to uint8. Range [0, 1]. Convert image to uint8 prior to saving to suppress this warning.\n",
      "Lossy conversion from float64 to uint8. Range [0, 1]. Convert image to uint8 prior to saving to suppress this warning.\n",
      "Lossy conversion from float64 to uint8. Range [0, 1]. Convert image to uint8 prior to saving to suppress this warning.\n",
      "Lossy conversion from float64 to uint8. Range [0, 1]. Convert image to uint8 prior to saving to suppress this warning.\n"
     ]
    },
    {
     "name": "stdout",
     "output_type": "stream",
     "text": [
      "\n",
      "Moving image...\n",
      "Moved.\n",
      "Saving image...\n",
      "Saved.\n",
      "Moving image...\n",
      "Moved.\n",
      "Saving image...\n",
      "Saved.\n",
      "Moving image...\n",
      "Moved.\n",
      "Saving image...\n",
      "Saved.\n",
      "Moving image...\n",
      "Moved.\n",
      "Saving image...\n",
      "Saved.\n",
      "Moving image...\n",
      "Moved.\n",
      "Saving image...\n",
      "Saved.\n",
      "Moving image...\n",
      "Moved.\n",
      "Saving image...\n",
      "Saved.\n",
      "Moving image...\n",
      "Moved.\n",
      "Saving image...\n",
      "Saved.\n",
      "Moving image...\n",
      "Moved.\n",
      "Saving image...\n",
      "Saved.\n",
      "Moving image...\n"
     ]
    },
    {
     "name": "stderr",
     "output_type": "stream",
     "text": [
      "Lossy conversion from float64 to uint8. Range [0, 1]. Convert image to uint8 prior to saving to suppress this warning.\n",
      "Lossy conversion from float64 to uint8. Range [0, 1]. Convert image to uint8 prior to saving to suppress this warning.\n",
      "Lossy conversion from float64 to uint8. Range [0, 1]. Convert image to uint8 prior to saving to suppress this warning.\n",
      "Lossy conversion from float64 to uint8. Range [0, 1]. Convert image to uint8 prior to saving to suppress this warning.\n",
      "Lossy conversion from float64 to uint8. Range [0, 1]. Convert image to uint8 prior to saving to suppress this warning.\n",
      "Lossy conversion from float64 to uint8. Range [0, 1]. Convert image to uint8 prior to saving to suppress this warning.\n",
      "Lossy conversion from float64 to uint8. Range [0, 1]. Convert image to uint8 prior to saving to suppress this warning.\n",
      "Lossy conversion from float64 to uint8. Range [0, 1]. Convert image to uint8 prior to saving to suppress this warning.\n"
     ]
    },
    {
     "name": "stdout",
     "output_type": "stream",
     "text": [
      "Moved.\n",
      "Saving image...\n",
      "Saved.\n",
      "Moving image...\n",
      "Moved.\n",
      "Saving image...\n",
      "Saved.\n",
      "Moving image...\n",
      "Moved.\n",
      "Saving image...\n",
      "Saved.\n",
      "Moving image...\n",
      "Moved.\n",
      "Saving image...\n",
      "Saved.\n",
      "Moving image...\n",
      "Moved.\n",
      "Saving image...\n",
      "Saved.\n",
      "Moving image...\n",
      "Moved.\n",
      "Saving image...\n",
      "Saved.\n",
      "Moving image...\n",
      "Moved.\n",
      "Saving image...\n",
      "Saved.\n",
      "Moving image...\n",
      "Moved.\n",
      "Saving image...\n",
      "Saved.\n",
      "Moving image...\n"
     ]
    },
    {
     "name": "stderr",
     "output_type": "stream",
     "text": [
      "Lossy conversion from float64 to uint8. Range [0, 1]. Convert image to uint8 prior to saving to suppress this warning.\n",
      "Lossy conversion from float64 to uint8. Range [0, 1]. Convert image to uint8 prior to saving to suppress this warning.\n",
      "Lossy conversion from float64 to uint8. Range [0, 1]. Convert image to uint8 prior to saving to suppress this warning.\n",
      "Lossy conversion from float64 to uint8. Range [0, 1]. Convert image to uint8 prior to saving to suppress this warning.\n",
      "Lossy conversion from float64 to uint8. Range [0, 1]. Convert image to uint8 prior to saving to suppress this warning.\n",
      "Lossy conversion from float64 to uint8. Range [0, 1]. Convert image to uint8 prior to saving to suppress this warning.\n",
      "Lossy conversion from float64 to uint8. Range [0, 1]. Convert image to uint8 prior to saving to suppress this warning.\n",
      "Lossy conversion from float64 to uint8. Range [0, 1]. Convert image to uint8 prior to saving to suppress this warning.\n"
     ]
    },
    {
     "name": "stdout",
     "output_type": "stream",
     "text": [
      "Moved.\n",
      "Saving image...\n",
      "Saved.\n",
      "Moving image...\n",
      "Moved.\n",
      "Saving image...\n",
      "Saved.\n",
      "Moving image...\n",
      "Moved.\n",
      "Saving image...\n",
      "Saved.\n",
      "Moving image...\n",
      "Moved.\n",
      "Saving image...\n",
      "Saved.\n",
      "Moving image...\n",
      "Moved.\n",
      "Saving image...\n",
      "Saved.\n",
      "Moving image...\n",
      "Moved.\n",
      "Saving image...\n",
      "Saved.\n",
      "Moving image...\n",
      "Moved.\n",
      "Saving image...\n",
      "Saved.\n",
      "Moving image...\n",
      "Moved.\n",
      "Saving image...\n",
      "Saved.\n",
      "Moving image...\n"
     ]
    },
    {
     "name": "stderr",
     "output_type": "stream",
     "text": [
      "Lossy conversion from float64 to uint8. Range [0, 1]. Convert image to uint8 prior to saving to suppress this warning.\n",
      "Lossy conversion from float64 to uint8. Range [0, 1]. Convert image to uint8 prior to saving to suppress this warning.\n",
      "Lossy conversion from float64 to uint8. Range [0, 1]. Convert image to uint8 prior to saving to suppress this warning.\n",
      "Lossy conversion from float64 to uint8. Range [0, 1]. Convert image to uint8 prior to saving to suppress this warning.\n",
      "Lossy conversion from float64 to uint8. Range [0, 1]. Convert image to uint8 prior to saving to suppress this warning.\n",
      "Lossy conversion from float64 to uint8. Range [0, 1]. Convert image to uint8 prior to saving to suppress this warning.\n",
      "Lossy conversion from float64 to uint8. Range [0, 1]. Convert image to uint8 prior to saving to suppress this warning.\n",
      "Lossy conversion from float64 to uint8. Range [0, 1]. Convert image to uint8 prior to saving to suppress this warning.\n"
     ]
    },
    {
     "name": "stdout",
     "output_type": "stream",
     "text": [
      "Moved.\n",
      "Saving image...\n",
      "Saved.\n",
      "Moving image...\n",
      "Moved.\n",
      "Saving image...\n",
      "Saved.\n",
      "Moving image...\n",
      "Moved.\n",
      "Saving image...\n",
      "Saved.\n",
      "Moving image...\n",
      "Moved.\n",
      "Saving image...\n",
      "Saved.\n",
      "Moving image...\n",
      "Moved.\n",
      "Saving image...\n",
      "Saved.\n",
      "Moving image...\n",
      "Moved.\n",
      "Saving image...\n",
      "Saved.\n",
      "Moving image...\n",
      "Moved.\n",
      "Saving image...\n",
      "Saved.\n",
      "Moving image...\n",
      "Moved.\n",
      "Saving image...\n",
      "Saved.\n",
      "Moving image...\n"
     ]
    },
    {
     "name": "stderr",
     "output_type": "stream",
     "text": [
      "Lossy conversion from float64 to uint8. Range [0, 1]. Convert image to uint8 prior to saving to suppress this warning.\n",
      "Lossy conversion from float64 to uint8. Range [0, 1]. Convert image to uint8 prior to saving to suppress this warning.\n",
      "Lossy conversion from float64 to uint8. Range [0, 1]. Convert image to uint8 prior to saving to suppress this warning.\n",
      "Lossy conversion from float64 to uint8. Range [0, 1]. Convert image to uint8 prior to saving to suppress this warning.\n",
      "Lossy conversion from float64 to uint8. Range [0, 1]. Convert image to uint8 prior to saving to suppress this warning.\n",
      "Lossy conversion from float64 to uint8. Range [0, 1]. Convert image to uint8 prior to saving to suppress this warning.\n",
      "Lossy conversion from float64 to uint8. Range [0, 1]. Convert image to uint8 prior to saving to suppress this warning.\n",
      "Lossy conversion from float64 to uint8. Range [0, 1]. Convert image to uint8 prior to saving to suppress this warning.\n"
     ]
    },
    {
     "name": "stdout",
     "output_type": "stream",
     "text": [
      "Moved.\n",
      "Saving image...\n",
      "Saved.\n",
      "Moving image...\n",
      "Moved.\n",
      "Saving image...\n",
      "Saved.\n",
      "Moving image...\n",
      "Moved.\n",
      "Saving image...\n",
      "Saved.\n",
      "Moving image...\n",
      "Moved.\n",
      "Saving image...\n",
      "Saved.\n",
      "Moving image...\n",
      "Moved.\n",
      "Saving image...\n",
      "Saved.\n",
      "Moving image...\n",
      "Moved.\n",
      "Saving image...\n",
      "Saved.\n",
      "Moving image...\n",
      "Moved.\n",
      "Saving image...\n",
      "Saved.\n",
      "Moving image...\n",
      "Moved.\n",
      "Saving image...\n",
      "Saved.\n",
      "Moving image...\n"
     ]
    },
    {
     "name": "stderr",
     "output_type": "stream",
     "text": [
      "Lossy conversion from float64 to uint8. Range [0, 1]. Convert image to uint8 prior to saving to suppress this warning.\n",
      "Lossy conversion from float64 to uint8. Range [0, 1]. Convert image to uint8 prior to saving to suppress this warning.\n",
      "Lossy conversion from float64 to uint8. Range [0, 1]. Convert image to uint8 prior to saving to suppress this warning.\n",
      "Lossy conversion from float64 to uint8. Range [0, 1]. Convert image to uint8 prior to saving to suppress this warning.\n",
      "Lossy conversion from float64 to uint8. Range [0, 1]. Convert image to uint8 prior to saving to suppress this warning.\n",
      "Lossy conversion from float64 to uint8. Range [0, 1]. Convert image to uint8 prior to saving to suppress this warning.\n",
      "Lossy conversion from float64 to uint8. Range [0, 1]. Convert image to uint8 prior to saving to suppress this warning.\n",
      "Lossy conversion from float64 to uint8. Range [0, 1]. Convert image to uint8 prior to saving to suppress this warning.\n"
     ]
    },
    {
     "name": "stdout",
     "output_type": "stream",
     "text": [
      "Moved.\n",
      "Saving image...\n",
      "Saved.\n",
      "Moving image...\n",
      "Moved.\n",
      "Saving image...\n",
      "Saved.\n",
      "Moving image...\n",
      "Moved.\n",
      "Saving image...\n",
      "Saved.\n",
      "Moving image...\n",
      "Moved.\n",
      "Saving image...\n",
      "Saved.\n",
      "Moving image...\n",
      "Moved.\n",
      "Saving image...\n",
      "Saved.\n",
      "Moving image...\n",
      "Moved.\n",
      "Saving image...\n",
      "Saved.\n",
      "Moving image...\n",
      "Moved.\n",
      "Saving image...\n",
      "Saved.\n",
      "Moving image...\n",
      "Moved.\n",
      "Saving image...\n",
      "Saved.\n",
      "Moving image...\n"
     ]
    },
    {
     "name": "stderr",
     "output_type": "stream",
     "text": [
      "Lossy conversion from float64 to uint8. Range [0, 1]. Convert image to uint8 prior to saving to suppress this warning.\n",
      "Lossy conversion from float64 to uint8. Range [0, 1]. Convert image to uint8 prior to saving to suppress this warning.\n",
      "Lossy conversion from float64 to uint8. Range [0, 1]. Convert image to uint8 prior to saving to suppress this warning.\n",
      "Lossy conversion from float64 to uint8. Range [0, 1]. Convert image to uint8 prior to saving to suppress this warning.\n",
      "Lossy conversion from float64 to uint8. Range [0, 1]. Convert image to uint8 prior to saving to suppress this warning.\n",
      "Lossy conversion from float64 to uint8. Range [0, 1]. Convert image to uint8 prior to saving to suppress this warning.\n",
      "Lossy conversion from float64 to uint8. Range [0, 1]. Convert image to uint8 prior to saving to suppress this warning.\n",
      "Lossy conversion from float64 to uint8. Range [0, 1]. Convert image to uint8 prior to saving to suppress this warning.\n"
     ]
    },
    {
     "name": "stdout",
     "output_type": "stream",
     "text": [
      "Moved.\n",
      "Saving image...\n",
      "Saved.\n",
      "Moving image...\n",
      "Moved.\n",
      "Saving image...\n",
      "Saved.\n",
      "Moving image...\n",
      "Moved.\n",
      "Saving image...\n",
      "Saved.\n",
      "Moving image...\n",
      "Moved.\n",
      "Saving image...\n",
      "Saved.\n",
      "Moving image...\n",
      "Moved.\n",
      "Saving image...\n",
      "Saved.\n",
      "Moving image...\n",
      "Moved.\n",
      "Saving image...\n",
      "Saved.\n",
      "Moving image...\n",
      "Moved.\n",
      "Saving image...\n",
      "Saved.\n",
      "Moving image...\n",
      "Moved.\n",
      "Saving image...\n",
      "Saved.\n",
      "Moving image...\n"
     ]
    },
    {
     "name": "stderr",
     "output_type": "stream",
     "text": [
      "Lossy conversion from float64 to uint8. Range [0, 1]. Convert image to uint8 prior to saving to suppress this warning.\n",
      "Lossy conversion from float64 to uint8. Range [0, 1]. Convert image to uint8 prior to saving to suppress this warning.\n",
      "Lossy conversion from float64 to uint8. Range [0, 1]. Convert image to uint8 prior to saving to suppress this warning.\n",
      "Lossy conversion from float64 to uint8. Range [0, 1]. Convert image to uint8 prior to saving to suppress this warning.\n",
      "Lossy conversion from float64 to uint8. Range [0, 1]. Convert image to uint8 prior to saving to suppress this warning.\n",
      "Lossy conversion from float64 to uint8. Range [0, 1]. Convert image to uint8 prior to saving to suppress this warning.\n",
      "Lossy conversion from float64 to uint8. Range [0, 1]. Convert image to uint8 prior to saving to suppress this warning.\n",
      "Lossy conversion from float64 to uint8. Range [0, 1]. Convert image to uint8 prior to saving to suppress this warning.\n",
      "Lossy conversion from float64 to uint8. Range [0, 1]. Convert image to uint8 prior to saving to suppress this warning.\n"
     ]
    },
    {
     "name": "stdout",
     "output_type": "stream",
     "text": [
      "Moved.\n",
      "Saving image...\n",
      "Saved.\n",
      "Moving image...\n",
      "Moved.\n",
      "Saving image...\n",
      "Saved.\n",
      "Moving image...\n",
      "Moved.\n",
      "Saving image...\n",
      "Saved.\n",
      "Moving image...\n",
      "Moved.\n",
      "Saving image...\n",
      "Saved.\n",
      "Moving image...\n",
      "Moved.\n",
      "Saving image...\n",
      "Saved.\n",
      "Moving image...\n",
      "Moved.\n",
      "Saving image...\n",
      "Saved.\n",
      "Moving image...\n",
      "Moved.\n",
      "Saving image...\n",
      "Saved.\n",
      "Moving image...\n",
      "Moved.\n",
      "Saving image...\n",
      "Saved.\n",
      "Moving image...\n",
      "Moved.\n",
      "Saving image...\n",
      "Saved.\n",
      "Moving image...\n"
     ]
    },
    {
     "name": "stderr",
     "output_type": "stream",
     "text": [
      "Lossy conversion from float64 to uint8. Range [0, 1]. Convert image to uint8 prior to saving to suppress this warning.\n",
      "Lossy conversion from float64 to uint8. Range [0, 1]. Convert image to uint8 prior to saving to suppress this warning.\n",
      "Lossy conversion from float64 to uint8. Range [0, 1]. Convert image to uint8 prior to saving to suppress this warning.\n",
      "Lossy conversion from float64 to uint8. Range [0, 1]. Convert image to uint8 prior to saving to suppress this warning.\n",
      "Lossy conversion from float64 to uint8. Range [0, 1]. Convert image to uint8 prior to saving to suppress this warning.\n",
      "Lossy conversion from float64 to uint8. Range [0, 1]. Convert image to uint8 prior to saving to suppress this warning.\n",
      "Lossy conversion from float64 to uint8. Range [0, 1]. Convert image to uint8 prior to saving to suppress this warning.\n",
      "Lossy conversion from float64 to uint8. Range [0, 1]. Convert image to uint8 prior to saving to suppress this warning.\n",
      "Lossy conversion from float64 to uint8. Range [0, 1]. Convert image to uint8 prior to saving to suppress this warning.\n"
     ]
    },
    {
     "name": "stdout",
     "output_type": "stream",
     "text": [
      "Moved.\n",
      "Saving image...\n",
      "Saved.\n",
      "Moving image...\n",
      "Moved.\n",
      "Saving image...\n",
      "Saved.\n",
      "Moving image...\n",
      "Moved.\n",
      "Saving image...\n",
      "Saved.\n",
      "Moving image...\n",
      "Moved.\n",
      "Saving image...\n",
      "Saved.\n",
      "Moving image...\n",
      "Moved.\n",
      "Saving image...\n",
      "Saved.\n",
      "Moving image...\n",
      "Moved.\n",
      "Saving image...\n",
      "Saved.\n",
      "Moving image...\n",
      "Moved.\n",
      "Saving image...\n",
      "Saved.\n",
      "Moving image...\n",
      "Moved.\n",
      "Saving image...\n",
      "Saved.\n",
      "Moving image...\n",
      "Moved.\n",
      "Saving image...\n",
      "Saved."
     ]
    },
    {
     "name": "stderr",
     "output_type": "stream",
     "text": [
      "Lossy conversion from float64 to uint8. Range [0, 1]. Convert image to uint8 prior to saving to suppress this warning.\n",
      "Lossy conversion from float64 to uint8. Range [0, 1]. Convert image to uint8 prior to saving to suppress this warning.\n",
      "Lossy conversion from float64 to uint8. Range [0, 1]. Convert image to uint8 prior to saving to suppress this warning.\n",
      "Lossy conversion from float64 to uint8. Range [0, 1]. Convert image to uint8 prior to saving to suppress this warning.\n",
      "Lossy conversion from float64 to uint8. Range [0, 1]. Convert image to uint8 prior to saving to suppress this warning.\n",
      "Lossy conversion from float64 to uint8. Range [0, 1]. Convert image to uint8 prior to saving to suppress this warning.\n",
      "Lossy conversion from float64 to uint8. Range [0, 1]. Convert image to uint8 prior to saving to suppress this warning.\n",
      "Lossy conversion from float64 to uint8. Range [0, 1]. Convert image to uint8 prior to saving to suppress this warning.\n",
      "Lossy conversion from float64 to uint8. Range [0, 1]. Convert image to uint8 prior to saving to suppress this warning.\n"
     ]
    },
    {
     "name": "stdout",
     "output_type": "stream",
     "text": [
      "\n",
      "Moving image...\n",
      "Moved.\n",
      "Saving image...\n",
      "Saved.\n",
      "Moving image...\n",
      "Moved.\n",
      "Saving image...\n",
      "Saved.\n",
      "Moving image...\n",
      "Moved.\n",
      "Saving image...\n",
      "Saved.\n",
      "Moving image...\n",
      "Moved.\n",
      "Saving image...\n",
      "Saved.\n",
      "Moving image...\n",
      "Moved.\n",
      "Saving image...\n",
      "Saved.\n",
      "Moving image...\n",
      "Moved.\n",
      "Saving image...\n",
      "Saved.\n",
      "Moving image...\n",
      "Moved.\n",
      "Saving image...\n",
      "Saved.\n",
      "Moving image...\n",
      "Moved.\n",
      "Saving image...\n",
      "Saved.\n",
      "Moving image...\n",
      "Moved.\n",
      "Saving image...\n",
      "Saved.\n",
      "Moving image...\n"
     ]
    },
    {
     "name": "stderr",
     "output_type": "stream",
     "text": [
      "Lossy conversion from float64 to uint8. Range [0, 1]. Convert image to uint8 prior to saving to suppress this warning.\n",
      "Lossy conversion from float64 to uint8. Range [0, 1]. Convert image to uint8 prior to saving to suppress this warning.\n",
      "Lossy conversion from float64 to uint8. Range [0, 1]. Convert image to uint8 prior to saving to suppress this warning.\n",
      "Lossy conversion from float64 to uint8. Range [0, 1]. Convert image to uint8 prior to saving to suppress this warning.\n",
      "Lossy conversion from float64 to uint8. Range [0, 1]. Convert image to uint8 prior to saving to suppress this warning.\n",
      "Lossy conversion from float64 to uint8. Range [0, 1]. Convert image to uint8 prior to saving to suppress this warning.\n",
      "Lossy conversion from float64 to uint8. Range [0, 1]. Convert image to uint8 prior to saving to suppress this warning.\n",
      "Lossy conversion from float64 to uint8. Range [0, 1]. Convert image to uint8 prior to saving to suppress this warning.\n",
      "Lossy conversion from float64 to uint8. Range [0, 1]. Convert image to uint8 prior to saving to suppress this warning.\n"
     ]
    },
    {
     "name": "stdout",
     "output_type": "stream",
     "text": [
      "Moved.\n",
      "Saving image...\n",
      "Saved.\n",
      "Moving image...\n",
      "Moved.\n",
      "Saving image...\n",
      "Saved.\n",
      "Moving image...\n",
      "Moved.\n",
      "Saving image...\n",
      "Saved.\n",
      "Moving image...\n",
      "Moved.\n",
      "Saving image...\n",
      "Saved.\n",
      "Moving image...\n",
      "Moved.\n",
      "Saving image...\n",
      "Saved.\n",
      "Moving image...\n",
      "Moved.\n",
      "Saving image...\n",
      "Saved.\n",
      "Moving image...\n",
      "Moved.\n",
      "Saving image...\n",
      "Saved.\n",
      "Moving image...\n",
      "Moved.\n",
      "Saving image...\n",
      "Saved.\n",
      "Moving image...\n",
      "Moved.\n",
      "Saving image...\n",
      "Saved.\n",
      "Moving image...\n"
     ]
    },
    {
     "name": "stderr",
     "output_type": "stream",
     "text": [
      "Lossy conversion from float64 to uint8. Range [0, 1]. Convert image to uint8 prior to saving to suppress this warning.\n",
      "Lossy conversion from float64 to uint8. Range [0, 1]. Convert image to uint8 prior to saving to suppress this warning.\n",
      "Lossy conversion from float64 to uint8. Range [0, 1]. Convert image to uint8 prior to saving to suppress this warning.\n",
      "Lossy conversion from float64 to uint8. Range [0, 1]. Convert image to uint8 prior to saving to suppress this warning.\n",
      "Lossy conversion from float64 to uint8. Range [0, 1]. Convert image to uint8 prior to saving to suppress this warning.\n",
      "Lossy conversion from float64 to uint8. Range [0, 1]. Convert image to uint8 prior to saving to suppress this warning.\n",
      "Lossy conversion from float64 to uint8. Range [0, 1]. Convert image to uint8 prior to saving to suppress this warning.\n",
      "Lossy conversion from float64 to uint8. Range [0, 1]. Convert image to uint8 prior to saving to suppress this warning.\n",
      "Lossy conversion from float64 to uint8. Range [0, 1]. Convert image to uint8 prior to saving to suppress this warning.\n",
      "Lossy conversion from float64 to uint8. Range [0, 1]. Convert image to uint8 prior to saving to suppress this warning.\n",
      "Lossy conversion from float64 to uint8. Range [0, 1]. Convert image to uint8 prior to saving to suppress this warning.\n",
      "Lossy conversion from float64 to uint8. Range [0, 1]. Convert image to uint8 prior to saving to suppress this warning.\n"
     ]
    },
    {
     "name": "stdout",
     "output_type": "stream",
     "text": [
      "Moved.\n",
      "Saving image...\n",
      "Saved.\n",
      "Moving image...\n",
      "Moved.\n",
      "Saving image...\n",
      "Saved.\n",
      "Moving image...\n",
      "Moved.\n",
      "Saving image...\n",
      "Saved.\n",
      "Moving image...\n",
      "Moved.\n",
      "Saving image...\n",
      "Saved.\n",
      "Moving image...\n",
      "Moved.\n",
      "Saving image...\n",
      "Saved.\n",
      "Moving image...\n",
      "Moved.\n",
      "Saving image...\n",
      "Saved.\n",
      "Moving image...\n",
      "Moved.\n",
      "Saving image...\n",
      "Saved.\n",
      "Moving image...\n",
      "Moved.\n",
      "Saving image...\n",
      "Saved.\n",
      "Moving image...\n",
      "Moved.\n",
      "Saving image...\n",
      "Saved.\n",
      "Moving image...\n",
      "Moved.\n",
      "Saving image...\n",
      "Saved.\n",
      "Moving image...\n",
      "Moved.\n",
      "Saving image...\n",
      "Saved.\n",
      "Moving image...\n",
      "Moved.\n",
      "Saving image...\n",
      "Saved.\n",
      "Moving image...\n"
     ]
    },
    {
     "name": "stderr",
     "output_type": "stream",
     "text": [
      "Lossy conversion from float64 to uint8. Range [0, 1]. Convert image to uint8 prior to saving to suppress this warning.\n",
      "Lossy conversion from float64 to uint8. Range [0, 1]. Convert image to uint8 prior to saving to suppress this warning.\n",
      "Lossy conversion from float64 to uint8. Range [0, 1]. Convert image to uint8 prior to saving to suppress this warning.\n",
      "Lossy conversion from float64 to uint8. Range [0, 1]. Convert image to uint8 prior to saving to suppress this warning.\n",
      "Lossy conversion from float64 to uint8. Range [0, 1]. Convert image to uint8 prior to saving to suppress this warning.\n",
      "Lossy conversion from float64 to uint8. Range [0, 1]. Convert image to uint8 prior to saving to suppress this warning.\n",
      "Lossy conversion from float64 to uint8. Range [0, 1]. Convert image to uint8 prior to saving to suppress this warning.\n",
      "Lossy conversion from float64 to uint8. Range [0, 1]. Convert image to uint8 prior to saving to suppress this warning.\n",
      "Lossy conversion from float64 to uint8. Range [0, 1]. Convert image to uint8 prior to saving to suppress this warning.\n",
      "Lossy conversion from float64 to uint8. Range [0, 1]. Convert image to uint8 prior to saving to suppress this warning.\n",
      "Lossy conversion from float64 to uint8. Range [0, 1]. Convert image to uint8 prior to saving to suppress this warning.\n",
      "Lossy conversion from float64 to uint8. Range [0, 1]. Convert image to uint8 prior to saving to suppress this warning.\n",
      "Lossy conversion from float64 to uint8. Range [0, 1]. Convert image to uint8 prior to saving to suppress this warning.\n"
     ]
    },
    {
     "name": "stdout",
     "output_type": "stream",
     "text": [
      "Moved.\n",
      "Saving image...\n",
      "Saved.\n",
      "Moving image...\n",
      "Moved.\n",
      "Saving image...\n",
      "Saved.\n",
      "Moving image...\n",
      "Moved.\n",
      "Saving image...\n",
      "Saved.\n",
      "Moving image...\n",
      "Moved.\n",
      "Saving image...\n",
      "Saved.\n",
      "Moving image...\n",
      "Moved.\n",
      "Saving image...\n",
      "Saved.\n",
      "Moving image...\n",
      "Moved.\n",
      "Saving image...\n",
      "Saved.\n",
      "Moving image...\n",
      "Moved.\n",
      "Saving image...\n",
      "Saved.\n",
      "Moving image...\n",
      "Moved.\n",
      "Saving image...\n",
      "Saved.\n",
      "Moving image...\n",
      "Moved.\n",
      "Saving image...\n",
      "Saved.\n",
      "Moving image...\n",
      "Moved.\n",
      "Saving image...\n",
      "Saved.\n",
      "Moving image...\n",
      "Moved.\n",
      "Saving image...\n",
      "Saved.\n",
      "Moving image...\n",
      "Moved.\n",
      "Saving image...\n",
      "Saved.\n",
      "Moving image...\n",
      "Moved.\n",
      "Saving image...\n",
      "Saved.\n",
      "Moving image...\n"
     ]
    },
    {
     "name": "stderr",
     "output_type": "stream",
     "text": [
      "Lossy conversion from float64 to uint8. Range [0, 1]. Convert image to uint8 prior to saving to suppress this warning.\n"
     ]
    },
    {
     "name": "stdout",
     "output_type": "stream",
     "text": [
      "Moved.\n",
      "Saving image...\n",
      "Saved.\n",
      "Moving image...\n",
      "Moved.\n",
      "Finished converting images\n"
     ]
    }
   ],
   "source": [
    "convertAndSave(inputfile = SRCMASKDIR+pname+\"_mask.nii\",outputfile = OUTMASKDIR)"
   ]
  },
  {
   "cell_type": "code",
   "execution_count": null,
   "metadata": {},
   "outputs": [],
   "source": []
  }
 ],
 "metadata": {
  "kernelspec": {
   "display_name": "Python 3",
   "language": "python",
   "name": "python3"
  },
  "language_info": {
   "codemirror_mode": {
    "name": "ipython",
    "version": 3
   },
   "file_extension": ".py",
   "mimetype": "text/x-python",
   "name": "python",
   "nbconvert_exporter": "python",
   "pygments_lexer": "ipython3",
   "version": "3.8.6"
  }
 },
 "nbformat": 4,
 "nbformat_minor": 4
}
